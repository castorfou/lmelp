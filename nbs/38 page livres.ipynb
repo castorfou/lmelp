{
 "cells": [
  {
   "cell_type": "markdown",
   "metadata": {},
   "source": [
    "# sanity check Livre"
   ]
  },
  {
   "cell_type": "code",
   "execution_count": null,
   "metadata": {},
   "outputs": [],
   "source": [
    "from mongo_livre import Livre"
   ]
  },
  {
   "cell_type": "code",
   "execution_count": null,
   "metadata": {},
   "outputs": [
    {
     "name": "stdout",
     "output_type": "stream",
     "text": [
      "\n",
      "        Titre: Germinal\n",
      "        Auteur: Émile Zola\n",
      "        Editeur: Le Livre de Poche\n",
      "        \n",
      "\n",
      "        Titre: Le Rouge et le Noir\n",
      "        Auteur: Stendhal\n",
      "        Editeur: None\n",
      "        \n"
     ]
    }
   ],
   "source": [
    "for livre in Livre.get_entries():\n",
    "    print(livre)"
   ]
  },
  {
   "cell_type": "markdown",
   "metadata": {},
   "source": [
    "# add_book"
   ]
  },
  {
   "cell_type": "code",
   "execution_count": null,
   "metadata": {},
   "outputs": [],
   "source": [
    "from typing import Optional, Dict\n",
    "from mongo_auteur import Auteur, AuthorChecker\n",
    "from mongo_episode import Episode\n",
    "from mongo_livre import Livre\n",
    "from mongo import Editeur\n",
    "from datetime import datetime\n",
    "\n",
    "\n",
    "def add_book(\n",
    "    episode_date: str,\n",
    "    title: str,\n",
    "    author: str,\n",
    "    editor: Optional[str] = None,\n",
    "    verbose: bool = False,\n",
    ") -> Livre:\n",
    "    \"\"\"Adds a book to the database and returns its details.\n",
    "\n",
    "    Adds a book to the database while ensuring that a valid author is provided and that the editor is optional.\n",
    "    The episode corresponding to the given date is verified. If the episode does not exist, or if the author is missing or improperly formatted,\n",
    "    a ValueError is raised.\n",
    "\n",
    "    Args:\n",
    "        episode_date (str): The date of the associated episode. Must follow the format '%d/%m/%Y'.\n",
    "        title (str): The title of the book.\n",
    "        author (str): The author's name.\n",
    "        editor (Optional[str], optional): The editor's name. Defaults to None.\n",
    "        verbose (bool, optional): If True, prints details of the author correction. Defaults to False.\n",
    "\n",
    "    Returns:\n",
    "        Livre: An instance of Livre representing the added book.\n",
    "\n",
    "    Raises:\n",
    "        ValueError: If the author parameter is empty.\n",
    "        ValueError: If there is no episode matching the provided date.\n",
    "    \"\"\"\n",
    "    if not author:\n",
    "        raise ValueError(\"Author parameter must not be empty.\")\n",
    "\n",
    "    episode = Episode.from_date(datetime.strptime(episode_date, \"%d/%m/%Y\"))\n",
    "    if not episode:\n",
    "        raise ValueError(\n",
    "            f\"Episode with date {episode_date} does not exist in the database.\"\n",
    "        )\n",
    "    editeur_inst = Editeur(editor) if editor else None\n",
    "\n",
    "    ac = AuthorChecker(episode)\n",
    "\n",
    "    auteur_corrige_dict = ac.check_author(author, return_details=False, verbose=verbose)\n",
    "    if not auteur_corrige_dict:\n",
    "        raise ValueError(f\"Corrected Author empty starting from Author {author}.\")\n",
    "    auteur_inst = Auteur(auteur_corrige_dict)\n",
    "    auteur_inst.keep()\n",
    "    livre = Livre.with_details(titre=title, auteur=auteur_inst, editeur=editeur_inst)\n",
    "    livre.keep()\n",
    "\n",
    "    return livre"
   ]
  },
  {
   "cell_type": "code",
   "execution_count": null,
   "metadata": {},
   "outputs": [
    {
     "data": {
      "text/plain": [
       "_oid: 679649e267b093aaae847524\n",
       "Date: 26 Jan 2025 10:59\n",
       "Titre: Les nouveaux romans de Leïla Slimani, Pierre Lemaître, Jeanne Rivière, Nathalie Azoulai, Milena Agus\n",
       "Description: durée : 00:47:56 - Le Masque et la Plume - par : Rebecca Manzoni - Une saga familiale à travers trois générations de femmes, entre le Maroc et la France ; une histoire d'amour et une réflexion sur la judéité ; un roman filial et d'espionnage dans la Guerre Froide ; amitié, désir, musique punk sans les années 90 ; littérature et amour en Sardaigne. - invités : Arnaud Viviant, Laurent CHALUMEAU, Patricia Martin, Elisabeth Philippe - Arnaud Viviant : Critique littéraire (Revue Regards), Laurent Chalumeau : Journaliste rock, scénariste, dialoguiste, romancier, Patricia Martin : Journaliste, critique littéraire et productrice chez France Inter, Elisabeth Philippe : Critique littéraire (L'Obs) - réalisé par : Guillaume Girault\n",
       "URL de téléchargement: https://rf.proxycast.org/f421bbf9-5e6e-4411-85a6-7c6a318d2073/14007-26.01.2025-ITEMA_24008377-2025F4007S0026-NET_MFI_1EBC23A2-31A4-4066-BC10-C8067ADD259C-22.mp3\n",
       "Fichier audio: 2025/14007-26.01.2025-ITEMA_24008377-2025F4007S0026-NET_MFI_1EBC23A2-31A4-4066-BC10-C8067ADD259C-22.mp3\n",
       "Duree: 2876 en secondes (00:47:56)\n",
       "Transcription:  France Inter Le masque et la plume Le sommaire du jour continue de défricher la copieuse rentrée li..."
      ]
     },
     "execution_count": null,
     "metadata": {},
     "output_type": "execute_result"
    }
   ],
   "source": [
    "from mongo_episode import Episodes\n",
    "\n",
    "episodes = Episodes()\n",
    "episodes.get_entries(limit=2)\n",
    "last_episode = episodes[0]\n",
    "last_episode"
   ]
  },
  {
   "cell_type": "code",
   "execution_count": null,
   "metadata": {},
   "outputs": [
    {
     "name": "stdout",
     "output_type": "stream",
     "text": [
      "Trouvé avec mongodb:auteurs: J.R.R Tolkien\n"
     ]
    },
    {
     "data": {
      "text/plain": [
       "Le Seigneur des Anneaux"
      ]
     },
     "execution_count": null,
     "metadata": {},
     "output_type": "execute_result"
    }
   ],
   "source": [
    "titre = \"Le Seigneur des Anneaux\"\n",
    "auteur = \"J.R. Tolkien\"\n",
    "date_episode = \"26/01/2025\"\n",
    "\n",
    "add_book(date_episode, title=titre, author=auteur, verbose=True)"
   ]
  },
  {
   "cell_type": "code",
   "execution_count": null,
   "metadata": {},
   "outputs": [
    {
     "name": "stdout",
     "output_type": "stream",
     "text": [
      "Score insuffisant 0 avec web search: La requête Google ne fournit aucune information indiquant que Guillaume Ramelet-Caffeau est un auteur de livres. Les résultats sont principalement liés à des arbres généalogiques et des archives, sans mention de publications littéraires ou d'activités d'écriture. Par conséquent, il est peu probable que Guillaume Ramelet-Caffeau soit un auteur de livres.\n"
     ]
    },
    {
     "ename": "ValueError",
     "evalue": "Corrected Author empty starting from Author Guillaume Ramelet-Caffeau.",
     "output_type": "error",
     "traceback": [
      "\u001b[0;31m---------------------------------------------------------------------------\u001b[0m",
      "\u001b[0;31mValueError\u001b[0m                                Traceback (most recent call last)",
      "Cell \u001b[0;32mIn[39], line 5\u001b[0m\n\u001b[1;32m      2\u001b[0m auteur \u001b[38;5;241m=\u001b[39m \u001b[38;5;124m\"\u001b[39m\u001b[38;5;124mGuillaume Ramelet-Caffeau\u001b[39m\u001b[38;5;124m\"\u001b[39m\n\u001b[1;32m      3\u001b[0m date_episode \u001b[38;5;241m=\u001b[39m \u001b[38;5;124m'\u001b[39m\u001b[38;5;124m26/01/2025\u001b[39m\u001b[38;5;124m'\u001b[39m\n\u001b[0;32m----> 5\u001b[0m \u001b[43madd_book\u001b[49m\u001b[43m(\u001b[49m\u001b[43mdate_episode\u001b[49m\u001b[43m,\u001b[49m\u001b[43m \u001b[49m\u001b[43mtitle\u001b[49m\u001b[38;5;241;43m=\u001b[39;49m\u001b[43mtitre\u001b[49m\u001b[43m,\u001b[49m\u001b[43m \u001b[49m\u001b[43mauthor\u001b[49m\u001b[38;5;241;43m=\u001b[39;49m\u001b[43mauteur\u001b[49m\u001b[43m,\u001b[49m\u001b[43m \u001b[49m\u001b[43mverbose\u001b[49m\u001b[38;5;241;43m=\u001b[39;49m\u001b[38;5;28;43;01mTrue\u001b[39;49;00m\u001b[43m)\u001b[49m\n",
      "Cell \u001b[0;32mIn[36], line 41\u001b[0m, in \u001b[0;36madd_book\u001b[0;34m(episode_date, title, author, editor, verbose)\u001b[0m\n\u001b[1;32m     39\u001b[0m auteur_corrige_dict \u001b[38;5;241m=\u001b[39m ac\u001b[38;5;241m.\u001b[39mcheck_author(author, return_details\u001b[38;5;241m=\u001b[39m\u001b[38;5;28;01mFalse\u001b[39;00m, verbose\u001b[38;5;241m=\u001b[39mverbose)\n\u001b[1;32m     40\u001b[0m \u001b[38;5;28;01mif\u001b[39;00m \u001b[38;5;129;01mnot\u001b[39;00m auteur_corrige_dict:\n\u001b[0;32m---> 41\u001b[0m     \u001b[38;5;28;01mraise\u001b[39;00m \u001b[38;5;167;01mValueError\u001b[39;00m(\u001b[38;5;124mf\u001b[39m\u001b[38;5;124m\"\u001b[39m\u001b[38;5;124mCorrected Author empty starting from Author \u001b[39m\u001b[38;5;132;01m{\u001b[39;00mauthor\u001b[38;5;132;01m}\u001b[39;00m\u001b[38;5;124m.\u001b[39m\u001b[38;5;124m\"\u001b[39m)    \n\u001b[1;32m     42\u001b[0m auteur_inst \u001b[38;5;241m=\u001b[39m Auteur(auteur_corrige_dict)\n\u001b[1;32m     43\u001b[0m auteur_inst\u001b[38;5;241m.\u001b[39mkeep()\n",
      "\u001b[0;31mValueError\u001b[0m: Corrected Author empty starting from Author Guillaume Ramelet-Caffeau."
     ]
    }
   ],
   "source": [
    "titre = \"Un titre et auteur farfeulu\"\n",
    "auteur = \"Guillaume Ramelet-Caffeau\"\n",
    "date_episode = \"26/01/2025\"\n",
    "\n",
    "add_book(date_episode, title=titre, author=auteur, verbose=True)"
   ]
  },
  {
   "cell_type": "code",
   "execution_count": null,
   "metadata": {},
   "outputs": [],
   "source": []
  }
 ],
 "metadata": {
  "kernelspec": {
   "display_name": "python3",
   "language": "python",
   "name": "python3"
  }
 },
 "nbformat": 4,
 "nbformat_minor": 2
}
