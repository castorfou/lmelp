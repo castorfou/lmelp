{
 "cells": [
  {
   "cell_type": "code",
   "execution_count": null,
   "metadata": {},
   "outputs": [],
   "source": [
    "# |default_exp rss"
   ]
  },
  {
   "cell_type": "markdown",
   "metadata": {},
   "source": [
    "# RSS variable"
   ]
  },
  {
   "cell_type": "code",
   "execution_count": null,
   "metadata": {},
   "outputs": [],
   "source": [
    "# |export\n",
    "\n",
    "from dotenv import load_dotenv, find_dotenv\n",
    "import os\n",
    "\n",
    "\n",
    "def load_env():\n",
    "    _ = load_dotenv(find_dotenv())\n",
    "\n",
    "\n",
    "def get_RSS_URL():\n",
    "    load_env()\n",
    "    RSS_LMELP_URL = os.getenv(\"RSS_LMELP_URL\")\n",
    "    if RSS_LMELP_URL is None:\n",
    "        RSS_LMELP_URL = \"https://radiofrance-podcast.net/podcast09/rss_14007.xml\"\n",
    "    return RSS_LMELP_URL"
   ]
  },
  {
   "cell_type": "code",
   "execution_count": null,
   "metadata": {},
   "outputs": [
    {
     "data": {
      "text/plain": [
       "'https://radiofrance-podcast.net/podcast09/rss_14007.xml'"
      ]
     },
     "execution_count": null,
     "metadata": {},
     "output_type": "execute_result"
    }
   ],
   "source": [
    "get_RSS_URL()"
   ]
  },
  {
   "cell_type": "markdown",
   "metadata": {},
   "source": [
    "# extraire_urls"
   ]
  },
  {
   "cell_type": "code",
   "execution_count": null,
   "metadata": {},
   "outputs": [],
   "source": [
    "# |export\n",
    "\n",
    "import feedparser\n",
    "import re\n",
    "\n",
    "\n",
    "def extraire_dureesummary(summary):\n",
    "    \"\"\"Extrait la durée d un episode du masque.\n",
    "    Returns:\n",
    "    Le nombre de secondes correspondant à la durée d'un episode.\n",
    "    -1 si la durée n'est pas trouvée.\n",
    "    \"\"\"\n",
    "\n",
    "    # Expression régulière pour extraire la durée\n",
    "    pattern_duree = r\"durée\\s*:\\s*(\\d{2}:\\d{2}:\\d{2})\"\n",
    "\n",
    "    # Recherche de la durée dans le texte\n",
    "    match = re.search(pattern_duree, summary)\n",
    "\n",
    "    if match:\n",
    "        duree_str = match.group(1)\n",
    "        heures, minutes, secondes = map(int, duree_str.split(\":\"))\n",
    "        return heures * 3600 + minutes * 60 + secondes\n",
    "    else:\n",
    "        return -1\n",
    "\n",
    "\n",
    "def extraire_urls_rss(duree_mini_minutes=15):\n",
    "    \"\"\"Extrait les URLs des balises `enclosure` d'un flux RSS des episodes durant plus de duree_mini_minutes minutes\n",
    "\n",
    "    Args:\n",
    "      duree_mini_minutes: la duree mini en minutes des episodes du flux\n",
    "\n",
    "    Returns:\n",
    "      Une liste d'URLs.\n",
    "    \"\"\"\n",
    "\n",
    "    url_flux = get_RSS_URL()\n",
    "\n",
    "    flux = feedparser.parse(url_flux)\n",
    "    urls = []\n",
    "    for entree in flux.entries:\n",
    "        for link in entree.links:\n",
    "            if link.type == \"audio/mpeg\":\n",
    "                if (\n",
    "                    extraire_dureesummary(entree.summary) > duree_mini_minutes * 60\n",
    "                ):  # 15 minutes\n",
    "                    urls.append(link.href)\n",
    "    return urls"
   ]
  },
  {
   "cell_type": "code",
   "execution_count": null,
   "metadata": {},
   "outputs": [
    {
     "data": {
      "text/plain": [
       "['https://rf.proxycast.org/a9ea02c4-09a0-4a95-a86b-269c571baf8a/14007-29.12.2024-ITEMA_23978947-2024F4007S0364-22.mp3',\n",
       " 'https://rf.proxycast.org/7e653bf4-87a5-42f4-864b-9208e206a295/14007-22.12.2024-ITEMA_23973143-2024F4007S0357-22.mp3',\n",
       " 'https://rf.proxycast.org/7f3818f7-cc2e-44f5-a5f0-69dde19127b7/14007-15.12.2024-ITEMA_23965603-2024F4007S0350-22.mp3',\n",
       " 'https://rf.proxycast.org/aeffdd33-8ec9-43f0-8168-09cd6d2ed539/14007-08.12.2024-ITEMA_23954487-2024F4007S0343-22.mp3',\n",
       " 'https://rf.proxycast.org/7502dbc2-c937-4a70-b60d-c5a89f5b5da4/14007-01.12.2024-ITEMA_23942372-2024F4007S0336-22.mp3',\n",
       " 'https://rf.proxycast.org/92889ad9-ba53-4510-9b2d-659d5f62b5e9/14007-24.11.2024-ITEMA_23935099-2024F4007S0329-22.mp3',\n",
       " 'https://rf.proxycast.org/d0d34b20-d05d-417f-b051-b42f1901ad3a/14007-17.11.2024-ITEMA_23927961-2024F4007S0322-22.mp3',\n",
       " 'https://rf.proxycast.org/f5779476-9d52-4bfb-a839-bf82751eaebb/14007-10.11.2024-ITEMA_23920569-2024F4007S0315-22.mp3',\n",
       " 'https://rf.proxycast.org/25ab61e5-5852-420e-9ec9-21bfa17ea73b/14007-03.11.2024-ITEMA_23913276-2024F4007S0308-22.mp3']"
      ]
     },
     "execution_count": null,
     "metadata": {},
     "output_type": "execute_result"
    }
   ],
   "source": [
    "urls = extraire_urls_rss()\n",
    "urls"
   ]
  },
  {
   "cell_type": "code",
   "execution_count": null,
   "metadata": {},
   "outputs": [],
   "source": []
  },
  {
   "cell_type": "markdown",
   "metadata": {},
   "source": [
    "# extract py"
   ]
  },
  {
   "cell_type": "code",
   "execution_count": null,
   "metadata": {},
   "outputs": [],
   "source": [
    "from nbdev.export import nb_export\n",
    "\n",
    "nb_export(\"py rss helper.ipynb\", \".\")"
   ]
  }
 ],
 "metadata": {
  "kernelspec": {
   "display_name": "python3",
   "language": "python",
   "name": "python3"
  }
 },
 "nbformat": 4,
 "nbformat_minor": 2
}
