{
 "cells": [
  {
   "cell_type": "code",
   "execution_count": null,
   "metadata": {},
   "outputs": [],
   "source": [
    "# |default_exp rss"
   ]
  },
  {
   "cell_type": "markdown",
   "metadata": {},
   "source": [
    "# RSS variable"
   ]
  },
  {
   "cell_type": "code",
   "execution_count": null,
   "metadata": {},
   "outputs": [],
   "source": [
    "# |export\n",
    "\n",
    "from dotenv import load_dotenv, find_dotenv\n",
    "import os\n",
    "\n",
    "\n",
    "def load_env():\n",
    "    _ = load_dotenv(find_dotenv())\n",
    "\n",
    "\n",
    "def get_RSS_URL():\n",
    "    load_env()\n",
    "    RSS_LMELP_URL = os.getenv(\"RSS_LMELP_URL\")\n",
    "    if RSS_LMELP_URL is None:\n",
    "        RSS_LMELP_URL = \"https://radiofrance-podcast.net/podcast09/rss_14007.xml\"\n",
    "    return RSS_LMELP_URL"
   ]
  },
  {
   "cell_type": "code",
   "execution_count": null,
   "metadata": {},
   "outputs": [
    {
     "data": {
      "text/plain": [
       "'https://radiofrance-podcast.net/podcast09/rss_14007.xml'"
      ]
     },
     "execution_count": null,
     "metadata": {},
     "output_type": "execute_result"
    }
   ],
   "source": [
    "get_RSS_URL()"
   ]
  },
  {
   "cell_type": "markdown",
   "metadata": {},
   "source": [
    "# extraire_urls"
   ]
  },
  {
   "cell_type": "code",
   "execution_count": null,
   "metadata": {},
   "outputs": [],
   "source": [
    "# |export\n",
    "\n",
    "import feedparser\n",
    "import re\n",
    "\n",
    "\n",
    "def extraire_dureesummary(summary):\n",
    "    \"\"\"Extrait la durée d un episode du masque.\n",
    "    Returns:\n",
    "    Le nombre de secondes correspondant à la durée d'un episode.\n",
    "    -1 si la durée n'est pas trouvée.\n",
    "    \"\"\"\n",
    "\n",
    "    # Expression régulière pour extraire la durée\n",
    "    pattern_duree = r\"durée\\s*:\\s*(\\d{2}:\\d{2}:\\d{2})\"\n",
    "\n",
    "    # Recherche de la durée dans le texte\n",
    "    match = re.search(pattern_duree, summary)\n",
    "\n",
    "    if match:\n",
    "        duree_str = match.group(1)\n",
    "        heures, minutes, secondes = map(int, duree_str.split(\":\"))\n",
    "        return heures * 3600 + minutes * 60 + secondes\n",
    "    else:\n",
    "        return -1\n",
    "\n",
    "\n",
    "def extraire_urls_rss(duree_mini_minutes=15):\n",
    "    \"\"\"Extrait les URLs des balises `enclosure` d'un flux RSS des episodes durant plus de duree_mini_minutes minutes\n",
    "\n",
    "    Args:\n",
    "      duree_mini_minutes: la duree mini en minutes des episodes du flux\n",
    "\n",
    "    Returns:\n",
    "      Une liste d'URLs.\n",
    "    \"\"\"\n",
    "\n",
    "    url_flux = get_RSS_URL()\n",
    "\n",
    "    flux = feedparser.parse(url_flux)\n",
    "    urls = []\n",
    "    for entree in flux.entries:\n",
    "        for link in entree.links:\n",
    "            if link.type == \"audio/mpeg\":\n",
    "                if (\n",
    "                    extraire_dureesummary(entree.summary) > duree_mini_minutes * 60\n",
    "                ):  # 15 minutes\n",
    "                    urls.append(link.href)\n",
    "    return urls"
   ]
  },
  {
   "cell_type": "code",
   "execution_count": null,
   "metadata": {},
   "outputs": [
    {
     "data": {
      "text/plain": [
       "['https://rf.proxycast.org/ad97aa2e-ebfc-4d00-8739-4ca72192e726/14007-12.01.2025-ITEMA_23993269-2025F4007S0012-22.mp3',\n",
       " 'https://rf.proxycast.org/a3082fcd-8ed2-49eb-883c-29b32a1f7b2b/14007-05.01.2025-ITEMA_23985183-2025F4007S0005-22.mp3',\n",
       " 'https://rf.proxycast.org/a9ea02c4-09a0-4a95-a86b-269c571baf8a/14007-29.12.2024-ITEMA_23978947-2024F4007S0364-22.mp3',\n",
       " 'https://rf.proxycast.org/7e653bf4-87a5-42f4-864b-9208e206a295/14007-22.12.2024-ITEMA_23973143-2024F4007S0357-22.mp3',\n",
       " 'https://rf.proxycast.org/7f3818f7-cc2e-44f5-a5f0-69dde19127b7/14007-15.12.2024-ITEMA_23965603-2024F4007S0350-22.mp3',\n",
       " 'https://rf.proxycast.org/aeffdd33-8ec9-43f0-8168-09cd6d2ed539/14007-08.12.2024-ITEMA_23954487-2024F4007S0343-22.mp3',\n",
       " 'https://rf.proxycast.org/7502dbc2-c937-4a70-b60d-c5a89f5b5da4/14007-01.12.2024-ITEMA_23942372-2024F4007S0336-22.mp3',\n",
       " 'https://rf.proxycast.org/92889ad9-ba53-4510-9b2d-659d5f62b5e9/14007-24.11.2024-ITEMA_23935099-2024F4007S0329-22.mp3',\n",
       " 'https://rf.proxycast.org/d0d34b20-d05d-417f-b051-b42f1901ad3a/14007-17.11.2024-ITEMA_23927961-2024F4007S0322-22.mp3']"
      ]
     },
     "execution_count": null,
     "metadata": {},
     "output_type": "execute_result"
    }
   ],
   "source": [
    "urls = extraire_urls_rss()\n",
    "urls"
   ]
  },
  {
   "cell_type": "markdown",
   "metadata": {},
   "source": [
    "# podcast"
   ]
  },
  {
   "cell_type": "code",
   "execution_count": null,
   "metadata": {},
   "outputs": [],
   "source": [
    "# |export\n",
    "\n",
    "import feedparser\n",
    "from mongo import get_collection, get_DB_VARS\n",
    "from datetime import datetime\n",
    "from typing import List\n",
    "from feedparser.util import FeedParserDict\n",
    "from mongo_episode import RSS_episode\n",
    "import pytz\n",
    "\n",
    "RSS_DATE_FORMAT = \"%a, %d %b %Y %H:%M:%S %z\"  # \"Sun, 29 Dec 2024 10:59:39 +0100\"\n",
    "\n",
    "\n",
    "class Podcast:\n",
    "    def __init__(self):\n",
    "        self.parsed_flow = feedparser.parse(get_RSS_URL())\n",
    "        DB_HOST, DB_NAME, _ = get_DB_VARS()\n",
    "        self.collection = get_collection(\n",
    "            target_db=DB_HOST, client_name=DB_NAME, collection_name=\"episodes\"\n",
    "        )\n",
    "\n",
    "    def get_most_recent_episode_from_DB(self) -> datetime:\n",
    "        \"\"\"\n",
    "        on recupere la date la plus recente des episodes stockes\n",
    "        \"\"\"\n",
    "        most_recent_document = self.collection.find().sort({\"date\": -1}).limit(1)\n",
    "        # Extraire la date du document\n",
    "        most_recent_date = None\n",
    "        for doc in most_recent_document:\n",
    "            most_recent_date = doc[\"date\"].replace(tzinfo=pytz.timezone(\"Europe/Paris\"))\n",
    "        return most_recent_date\n",
    "\n",
    "    def list_last_large_episodes(\n",
    "        self, duree_mini_minutes: int = 15\n",
    "    ) -> List[FeedParserDict]:\n",
    "        \"\"\"\n",
    "        list RSS documents that are\n",
    "        - newer than get_most_recent_episode_from_DB(self)\n",
    "        - longer than duree_mini_minutes=15\n",
    "        \"\"\"\n",
    "        last_large_episodes = []\n",
    "        for entry in self.parsed_flow.entries:\n",
    "            date_rss = datetime.strptime(entry.published, RSS_DATE_FORMAT)\n",
    "            date_db = self.get_most_recent_episode_from_DB()\n",
    "            if date_rss > date_db:\n",
    "                if (\n",
    "                    RSS_episode.get_duree_in_seconds(entry.itunes_duration)\n",
    "                    > duree_mini_minutes * 60\n",
    "                ):\n",
    "                    last_large_episodes.append(entry)\n",
    "        return last_large_episodes\n",
    "\n",
    "    def store_last_large_episodes(self, duree_mini_minutes: int = 15):\n",
    "        \"\"\"\n",
    "        loop through list_last_large_episodes\n",
    "        instantiate RSS_episode and keep them\n",
    "        print the nu;ber of successful updates in DB\n",
    "        \"\"\"\n",
    "        updates = 0\n",
    "        last_large_episodes = self.list_last_large_episodes(duree_mini_minutes)\n",
    "        for entry in last_large_episodes:\n",
    "            rss_entry = RSS_episode.from_feed_entry(entry)\n",
    "            updates += rss_entry.keep()\n",
    "        print(f\"Updated episodes: {updates}\")"
   ]
  },
  {
   "cell_type": "code",
   "execution_count": null,
   "metadata": {},
   "outputs": [
    {
     "data": {
      "text/plain": [
       "datetime.datetime(2025, 1, 12, 9, 59, 39, tzinfo=<DstTzInfo 'Europe/Paris' LMT+0:09:00 STD>)"
      ]
     },
     "execution_count": null,
     "metadata": {},
     "output_type": "execute_result"
    }
   ],
   "source": [
    "podcast = Podcast()\n",
    "podcast.get_most_recent_episode_from_DB()"
   ]
  },
  {
   "cell_type": "code",
   "execution_count": null,
   "metadata": {},
   "outputs": [
    {
     "data": {
      "text/plain": [
       "1"
      ]
     },
     "execution_count": null,
     "metadata": {},
     "output_type": "execute_result"
    }
   ],
   "source": [
    "len(podcast.list_last_large_episodes())"
   ]
  },
  {
   "cell_type": "code",
   "execution_count": null,
   "metadata": {},
   "outputs": [
    {
     "name": "stderr",
     "output_type": "stream",
     "text": [
      "Device set to use cpu\n"
     ]
    },
    {
     "name": "stdout",
     "output_type": "stream",
     "text": [
      "Le fichier /home/guillaume/git/lmelp/audios/2025/14007-12.01.2025-ITEMA_23993269-2025F4007S0012-22.mp3 existe déjà. Ignoré.\n"
     ]
    },
    {
     "name": "stderr",
     "output_type": "stream",
     "text": [
      "Device set to use cpu\n"
     ]
    },
    {
     "name": "stdout",
     "output_type": "stream",
     "text": [
      "Episode du 05 Jan 2025 10:59 ignored: Duree: 2898, Type: films\n"
     ]
    },
    {
     "name": "stderr",
     "output_type": "stream",
     "text": [
      "Device set to use cpu\n"
     ]
    },
    {
     "name": "stdout",
     "output_type": "stream",
     "text": [
      "Episode du 29 Dec 2024 10:59 ignored: Duree: 2988, Type: films\n"
     ]
    },
    {
     "name": "stderr",
     "output_type": "stream",
     "text": [
      "Device set to use cpu\n"
     ]
    },
    {
     "name": "stdout",
     "output_type": "stream",
     "text": [
      "Updated episodes: 1\n"
     ]
    }
   ],
   "source": [
    "podcast.store_last_large_episodes()"
   ]
  },
  {
   "cell_type": "markdown",
   "metadata": {},
   "source": [
    "# extract py"
   ]
  },
  {
   "cell_type": "code",
   "execution_count": null,
   "metadata": {},
   "outputs": [],
   "source": [
    "from nbdev.export import nb_export\n",
    "\n",
    "nb_export(\"py rss helper.ipynb\", \".\")"
   ]
  },
  {
   "cell_type": "code",
   "execution_count": null,
   "metadata": {},
   "outputs": [],
   "source": []
  }
 ],
 "metadata": {
  "kernelspec": {
   "display_name": "python3",
   "language": "python",
   "name": "python3"
  }
 },
 "nbformat": 4,
 "nbformat_minor": 2
}
