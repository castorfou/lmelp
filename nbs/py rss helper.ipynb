{
 "cells": [
  {
   "cell_type": "code",
   "execution_count": null,
   "metadata": {},
   "outputs": [],
   "source": [
    "# |default_exp rss"
   ]
  },
  {
   "cell_type": "code",
   "execution_count": null,
   "metadata": {},
   "outputs": [
    {
     "data": {
      "text/plain": [
       "'https://radiofrance-podcast.net/podcast09/rss_14007.xml'"
      ]
     },
     "execution_count": null,
     "metadata": {},
     "output_type": "execute_result"
    }
   ],
   "source": [
    "from config import get_RSS_URL\n",
    "\n",
    "get_RSS_URL()"
   ]
  },
  {
   "cell_type": "markdown",
   "metadata": {},
   "source": [
    "# extraire_urls"
   ]
  },
  {
   "cell_type": "code",
   "execution_count": null,
   "metadata": {},
   "outputs": [],
   "source": [
    "# |export\n",
    "\n",
    "import feedparser\n",
    "import re\n",
    "from typing import List\n",
    "from config import get_RSS_URL\n",
    "\n",
    "\n",
    "def extraire_dureesummary(summary: str) -> int:\n",
    "    \"\"\"\n",
    "    Extrait la durée d'un épisode du masque.\n",
    "\n",
    "    Args:\n",
    "        summary (str): Le résumé de l'épisode contenant la durée.\n",
    "\n",
    "    Returns:\n",
    "        int: Le nombre de secondes correspondant à la durée d'un épisode.\n",
    "        Retourne -1 si la durée n'est pas trouvée.\n",
    "    \"\"\"\n",
    "    # Expression régulière pour extraire la durée\n",
    "    pattern_duree = r\"durée\\s*:\\s*(\\d{2}:\\d{2}:\\d{2})\"\n",
    "\n",
    "    # Recherche de la durée dans le texte\n",
    "    match = re.search(pattern_duree, summary)\n",
    "\n",
    "    if match:\n",
    "        duree_str = match.group(1)\n",
    "        heures, minutes, secondes = map(int, duree_str.split(\":\"))\n",
    "        return heures * 3600 + minutes * 60 + secondes\n",
    "    else:\n",
    "        return -1\n",
    "\n",
    "\n",
    "def extraire_urls_rss(duree_mini_minutes: int = 15) -> List[str]:\n",
    "    \"\"\"\n",
    "    Extrait les URLs des balises `enclosure` d'un flux RSS des épisodes durant plus de `duree_mini_minutes` minutes.\n",
    "\n",
    "    Args:\n",
    "        duree_mini_minutes (int): La durée minimale en minutes des épisodes du flux.\n",
    "\n",
    "    Returns:\n",
    "        List[str]: Une liste d'URLs.\n",
    "    \"\"\"\n",
    "    url_flux = get_RSS_URL()\n",
    "\n",
    "    flux = feedparser.parse(url_flux)\n",
    "    urls = []\n",
    "    for entree in flux.entries:\n",
    "        for link in entree.links:\n",
    "            if link.type == \"audio/mpeg\":\n",
    "                if extraire_dureesummary(entree.summary) > duree_mini_minutes * 60:\n",
    "                    urls.append(link.href)\n",
    "    return urls"
   ]
  },
  {
   "cell_type": "code",
   "execution_count": null,
   "metadata": {},
   "outputs": [
    {
     "data": {
      "text/plain": [
       "['https://rf.proxycast.org/87a61bc1-2fa4-4f27-9eee-521c54c34844/14007-09.02.2025-ITEMA_24023310-2025F4007S0040-NET_MFI_3BC0392B-ACF3-4C53-8749-67830363DCB0-22.mp3',\n",
       " 'https://rf.proxycast.org/ac4e31c0-fe10-40d0-83ce-d52cd6b370e9/14007-02.02.2025-ITEMA_24015816-2025F4007S0033-NET_MFI_86F6DBE0-8737-48DC-A1A4-8BF55BF89BC1-22.mp3',\n",
       " 'https://rf.proxycast.org/f421bbf9-5e6e-4411-85a6-7c6a318d2073/14007-26.01.2025-ITEMA_24008377-2025F4007S0026-NET_MFI_1EBC23A2-31A4-4066-BC10-C8067ADD259C-22.mp3',\n",
       " 'https://rf.proxycast.org/881d7c53-ef7e-44bd-a5b4-e6e3bbe6aa58/14007-19.01.2025-ITEMA_24000708-2025F4007S0019-22.mp3',\n",
       " 'https://rf.proxycast.org/ad97aa2e-ebfc-4d00-8739-4ca72192e726/14007-12.01.2025-ITEMA_23993269-2025F4007S0012-22.mp3',\n",
       " 'https://rf.proxycast.org/a3082fcd-8ed2-49eb-883c-29b32a1f7b2b/14007-05.01.2025-ITEMA_23985183-2025F4007S0005-22.mp3',\n",
       " 'https://rf.proxycast.org/a9ea02c4-09a0-4a95-a86b-269c571baf8a/14007-29.12.2024-ITEMA_23978947-2024F4007S0364-22.mp3',\n",
       " 'https://rf.proxycast.org/7e653bf4-87a5-42f4-864b-9208e206a295/14007-22.12.2024-ITEMA_23973143-2024F4007S0357-22.mp3',\n",
       " 'https://rf.proxycast.org/7f3818f7-cc2e-44f5-a5f0-69dde19127b7/14007-15.12.2024-ITEMA_23965603-2024F4007S0350-22.mp3']"
      ]
     },
     "execution_count": null,
     "metadata": {},
     "output_type": "execute_result"
    }
   ],
   "source": [
    "urls = extraire_urls_rss()\n",
    "urls"
   ]
  },
  {
   "cell_type": "markdown",
   "metadata": {},
   "source": [
    "# podcast"
   ]
  },
  {
   "cell_type": "code",
   "execution_count": null,
   "metadata": {},
   "outputs": [],
   "source": [
    "# |export\n",
    "\n",
    "import feedparser\n",
    "from mongo import get_collection, get_DB_VARS\n",
    "from datetime import datetime\n",
    "from typing import List, Optional\n",
    "from feedparser.util import FeedParserDict\n",
    "from mongo_episode import RSS_episode\n",
    "import pytz\n",
    "\n",
    "RSS_DATE_FORMAT = \"%a, %d %b %Y %H:%M:%S %z\"  # \"Sun, 29 Dec 2024 10:59:39 +0100\"\n",
    "\n",
    "\n",
    "class Podcast:\n",
    "    def __init__(self):\n",
    "        \"\"\"\n",
    "        Initialise la classe Podcast en analysant le flux RSS et en obtenant la collection MongoDB.\n",
    "        \"\"\"\n",
    "        self.parsed_flow = feedparser.parse(get_RSS_URL())\n",
    "        DB_HOST, DB_NAME, _ = get_DB_VARS()\n",
    "        self.collection = get_collection(\n",
    "            target_db=DB_HOST, client_name=DB_NAME, collection_name=\"episodes\"\n",
    "        )\n",
    "\n",
    "    def get_most_recent_episode_from_DB(self) -> Optional[datetime]:\n",
    "        \"\"\"\n",
    "        Récupère la date la plus récente des épisodes stockés dans la base de données.\n",
    "\n",
    "        Returns:\n",
    "            Optional[datetime]: La date la plus récente des épisodes stockés, ou None si aucun épisode n'est trouvé.\n",
    "        \"\"\"\n",
    "        most_recent_document = self.collection.find().sort({\"date\": -1}).limit(1)\n",
    "        most_recent_date = None\n",
    "        for doc in most_recent_document:\n",
    "            most_recent_date = doc[\"date\"].replace(tzinfo=pytz.timezone(\"Europe/Paris\"))\n",
    "        return most_recent_date\n",
    "\n",
    "    def list_last_large_episodes(\n",
    "        self, duree_mini_minutes: int = 15\n",
    "    ) -> List[FeedParserDict]:\n",
    "        \"\"\"\n",
    "        Liste les épisodes RSS qui sont plus récents que le plus récent épisode stocké dans la base de données\n",
    "        et qui durent plus de `duree_mini_minutes` minutes.\n",
    "\n",
    "        Args:\n",
    "            duree_mini_minutes (int): La durée minimale en minutes des épisodes à lister. Par défaut à 15 minutes.\n",
    "\n",
    "        Returns:\n",
    "            List[FeedParserDict]: Une liste d'entrées RSS correspondant aux critères.\n",
    "        \"\"\"\n",
    "        last_large_episodes = []\n",
    "        for entry in self.parsed_flow.entries:\n",
    "            date_rss = datetime.strptime(entry.published, RSS_DATE_FORMAT)\n",
    "            date_db = self.get_most_recent_episode_from_DB()\n",
    "            if date_db and date_rss > date_db:\n",
    "                if (\n",
    "                    RSS_episode.get_duree_in_seconds(entry.itunes_duration)\n",
    "                    > duree_mini_minutes * 60\n",
    "                ):\n",
    "                    last_large_episodes.append(entry)\n",
    "        return last_large_episodes\n",
    "\n",
    "    def store_last_large_episodes(self, duree_mini_minutes: int = 15) -> None:\n",
    "        \"\"\"\n",
    "        Parcourt la liste des épisodes longs récents, instancie RSS_episode et les conserve dans la base de données.\n",
    "        Affiche le nombre de mises à jour réussies dans la base de données.\n",
    "\n",
    "        Args:\n",
    "            duree_mini_minutes (int): La durée minimale en minutes des épisodes à stocker. Par défaut à 15 minutes.\n",
    "        \"\"\"\n",
    "        updates = 0\n",
    "        last_large_episodes = self.list_last_large_episodes(duree_mini_minutes)\n",
    "        for entry in last_large_episodes:\n",
    "            rss_entry = RSS_episode.from_feed_entry(entry)\n",
    "            updates += rss_entry.keep()\n",
    "        print(f\"Updated episodes: {updates}\")"
   ]
  },
  {
   "cell_type": "code",
   "execution_count": null,
   "metadata": {},
   "outputs": [
    {
     "data": {
      "text/plain": [
       "datetime.datetime(2025, 1, 26, 10, 59, 39, tzinfo=<DstTzInfo 'Europe/Paris' LMT+0:09:00 STD>)"
      ]
     },
     "execution_count": null,
     "metadata": {},
     "output_type": "execute_result"
    }
   ],
   "source": [
    "podcast = Podcast()\n",
    "podcast.get_most_recent_episode_from_DB()"
   ]
  },
  {
   "cell_type": "code",
   "execution_count": null,
   "metadata": {},
   "outputs": [
    {
     "data": {
      "text/plain": [
       "2"
      ]
     },
     "execution_count": null,
     "metadata": {},
     "output_type": "execute_result"
    }
   ],
   "source": [
    "len(podcast.list_last_large_episodes())"
   ]
  },
  {
   "cell_type": "code",
   "execution_count": null,
   "metadata": {},
   "outputs": [
    {
     "name": "stderr",
     "output_type": "stream",
     "text": [
      "Device set to use cpu\n"
     ]
    },
    {
     "name": "stdout",
     "output_type": "stream",
     "text": [
      "Episode du 09 Feb 2025 10:59 ignored: Duree: 2900, Type: films\n"
     ]
    },
    {
     "name": "stderr",
     "output_type": "stream",
     "text": [
      "Device set to use cpu\n"
     ]
    },
    {
     "name": "stdout",
     "output_type": "stream",
     "text": [
      "Episode du 02 Feb 2025 10:59 ignored: Duree: 2898, Type: films\n",
      "Updated episodes: 0\n"
     ]
    }
   ],
   "source": [
    "podcast.store_last_large_episodes()"
   ]
  },
  {
   "cell_type": "markdown",
   "metadata": {},
   "source": [
    "# extract py"
   ]
  },
  {
   "cell_type": "code",
   "execution_count": null,
   "metadata": {},
   "outputs": [],
   "source": [
    "from nbdev.export import nb_export\n",
    "\n",
    "nb_export(\"py rss helper.ipynb\", \".\")"
   ]
  },
  {
   "cell_type": "code",
   "execution_count": null,
   "metadata": {},
   "outputs": [],
   "source": []
  },
  {
   "cell_type": "code",
   "execution_count": null,
   "metadata": {},
   "outputs": [],
   "source": []
  }
 ],
 "metadata": {
  "kernelspec": {
   "display_name": "python3",
   "language": "python",
   "name": "python3"
  }
 },
 "nbformat": 4,
 "nbformat_minor": 2
}
