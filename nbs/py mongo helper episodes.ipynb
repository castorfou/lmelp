{
 "cells": [
  {
   "cell_type": "code",
   "execution_count": null,
   "metadata": {},
   "outputs": [],
   "source": [
    "# |default_exp mongo_episode"
   ]
  },
  {
   "cell_type": "code",
   "execution_count": null,
   "metadata": {},
   "outputs": [
    {
     "name": "stdout",
     "output_type": "stream",
     "text": [
      "{'_id': ObjectId('678e93f44a192bbb16e563e4'), 'operation': 'update', 'entite': 'episodes', 'desc': '18 déc. 1958 00:00 - Le Masque et les Goncourt : \"Saint-Germain ou la Négociation\" de Francis Walder, 1958', 'date': datetime.datetime(2025, 1, 20, 19, 20, 36, 888000)}\n",
      "{'_id': ObjectId('678e93ed4a192bbb16e563de'), 'operation': 'delete', 'entite': 'episodes', 'desc': '20 Jan 2025 19:20 - test RSS 1', 'date': datetime.datetime(2025, 1, 20, 19, 20, 29, 188000)}\n",
      "{'_id': ObjectId('678e93ed4a192bbb16e563db'), 'operation': 'insert', 'entite': 'episodes', 'desc': '20 Jan 2025 19:20 - test RSS 1', 'date': datetime.datetime(2025, 1, 20, 19, 20, 29, 169000)}\n",
      "{'_id': ObjectId('678ce0982696c41c464e7b19'), 'operation': 'update', 'entite': 'episodes', 'desc': '18 déc. 1958 00:00 - Le Masque et les Goncourt : \"Saint-Germain ou la Négociation\" de Francis Walder, 1958', 'date': datetime.datetime(2025, 1, 19, 12, 23, 4, 277000)}\n",
      "{'_id': ObjectId('678ce0912696c41c464e7b13'), 'operation': 'delete', 'entite': 'episodes', 'desc': '19 Jan 2025 12:22 - test RSS 1', 'date': datetime.datetime(2025, 1, 19, 12, 22, 57, 963000)}\n"
     ]
    }
   ],
   "source": [
    "from mongo import print_logs\n",
    "\n",
    "print_logs(5)"
   ]
  },
  {
   "cell_type": "markdown",
   "metadata": {},
   "source": [
    "\n",
    "# Episode entity"
   ]
  },
  {
   "cell_type": "code",
   "execution_count": null,
   "metadata": {},
   "outputs": [],
   "source": [
    "# |export\n",
    "\n",
    "import os\n",
    "from git import Repo\n",
    "\n",
    "AUDIO_PATH = \"audios\"\n",
    "\n",
    "\n",
    "def get_audio_path(audio_path=AUDIO_PATH, year: str = \"2024\"):\n",
    "    \"\"\"\n",
    "    audio_path: str\n",
    "        relative path to audio files\n",
    "    will add year as subdirectory\n",
    "    return full audio path and create dir if it doesn t exist\n",
    "    \"\"\"\n",
    "\n",
    "    def get_git_root(path):\n",
    "        git_repo = Repo(path, search_parent_directories=True)\n",
    "        return git_repo.git.rev_parse(\"--show-toplevel\")\n",
    "\n",
    "    project_root = get_git_root(os.getcwd())\n",
    "    full_audio_path = os.path.join(project_root, audio_path, year)\n",
    "\n",
    "    # create dir if it doesn t exist\n",
    "    if not os.path.exists(full_audio_path):\n",
    "        os.makedirs(full_audio_path)\n",
    "\n",
    "    return full_audio_path"
   ]
  },
  {
   "cell_type": "code",
   "execution_count": null,
   "metadata": {},
   "outputs": [
    {
     "data": {
      "text/plain": [
       "'/home/guillaume/git/lmelp/audios/2024'"
      ]
     },
     "execution_count": null,
     "metadata": {},
     "output_type": "execute_result"
    }
   ],
   "source": [
    "get_audio_path(AUDIO_PATH)"
   ]
  },
  {
   "cell_type": "code",
   "execution_count": null,
   "metadata": {},
   "outputs": [
    {
     "data": {
      "text/plain": [
       "'/home/guillaume/git/lmelp/audios/'"
      ]
     },
     "execution_count": null,
     "metadata": {},
     "output_type": "execute_result"
    }
   ],
   "source": [
    "get_audio_path(AUDIO_PATH, year=\"\")"
   ]
  },
  {
   "cell_type": "code",
   "execution_count": null,
   "metadata": {},
   "outputs": [],
   "source": [
    "# |export\n",
    "\n",
    "import torch\n",
    "from transformers import AutoModelForSpeechSeq2Seq, AutoProcessor, pipeline\n",
    "from datasets import load_dataset\n",
    "\n",
    "\n",
    "def extract_whisper(mp3_filename):\n",
    "\n",
    "    device = \"cuda:0\" if torch.cuda.is_available() else \"cpu\"\n",
    "    torch_dtype = torch.float16 if torch.cuda.is_available() else torch.float32\n",
    "\n",
    "    model_id = \"openai/whisper-large-v3-turbo\"\n",
    "\n",
    "    model = AutoModelForSpeechSeq2Seq.from_pretrained(\n",
    "        model_id, torch_dtype=torch_dtype, low_cpu_mem_usage=True, use_safetensors=True\n",
    "    )\n",
    "    model.to(device)\n",
    "\n",
    "    processor = AutoProcessor.from_pretrained(model_id)\n",
    "\n",
    "    pipe = pipeline(\n",
    "        \"automatic-speech-recognition\",\n",
    "        model=model,\n",
    "        tokenizer=processor.tokenizer,\n",
    "        feature_extractor=processor.feature_extractor,\n",
    "        torch_dtype=torch_dtype,\n",
    "        device=device,\n",
    "    )\n",
    "\n",
    "    dataset = load_dataset(\n",
    "        \"distil-whisper/librispeech_long\", \"clean\", split=\"validation\"\n",
    "    )\n",
    "    sample = dataset[0][\"audio\"]\n",
    "\n",
    "    result = pipe(\n",
    "        mp3_filename,\n",
    "        return_timestamps=True,\n",
    "    )\n",
    "\n",
    "    return result[\"text\"]"
   ]
  },
  {
   "cell_type": "code",
   "execution_count": null,
   "metadata": {},
   "outputs": [],
   "source": [
    "# |export\n",
    "\n",
    "from bson import ObjectId\n",
    "from mongo import get_collection, get_DB_VARS, mongolog\n",
    "from datetime import datetime\n",
    "import requests\n",
    "from typing import Dict\n",
    "\n",
    "DATE_FORMAT = \"%Y-%m-%dT%H:%M:%S\"\n",
    "LOG_DATE_FORMAT = \"%d %b %Y %H:%M\"\n",
    "\n",
    "\n",
    "class Episode:\n",
    "    def __init__(self, date: str, titre: str, collection_name: str = \"episodes\"):\n",
    "        \"\"\"\n",
    "        Episode is a class that represents a generic Episode entity in the database.\n",
    "        :param date: The date for this episode at the format \"2024-12-22T09:59:39\" parsed by \"%Y-%m-%dT%H:%M:%S\".\n",
    "        :param titre: The title of this episode.\n",
    "        :param collection_name: The name of the collection. default: \"episodes\".\n",
    "\n",
    "        if this episode already exists in DB, loads it\n",
    "        \"\"\"\n",
    "        DB_HOST, DB_NAME, _ = get_DB_VARS()\n",
    "        self.collection = get_collection(\n",
    "            target_db=DB_HOST, client_name=DB_NAME, collection_name=collection_name\n",
    "        )\n",
    "        self.date = Episode.get_date_from_string(date)\n",
    "        self.titre = titre\n",
    "\n",
    "        if self.exists():\n",
    "            episode = self.collection.find_one({\"titre\": self.titre, \"date\": self.date})\n",
    "            self.description = episode.get(\"description\")\n",
    "            self.url_telechargement = episode.get(\"url\")\n",
    "            self.audio_rel_filename = episode.get(\"audio_rel_filename\")\n",
    "            self.transcription = episode.get(\"transcription\")\n",
    "            self.type = episode.get(\"type\")\n",
    "            self.duree = episode.get(\"duree\")\n",
    "        else:\n",
    "            self.description = None\n",
    "            self.url_telechargement = None\n",
    "            self.audio_rel_filename = None\n",
    "            self.transcription = None\n",
    "            self.type = None\n",
    "            self.duree = -1  # in seconds\n",
    "\n",
    "    @classmethod\n",
    "    def from_oid(cls, oid: ObjectId, collection_name: str = \"episodes\") -> \"Episode\":\n",
    "        \"\"\"\n",
    "        Create an episode from an oid of a mongo entry.\n",
    "        :param oid: oid as ObjectId.\n",
    "        :return: The Eepisode.\n",
    "        \"\"\"\n",
    "\n",
    "        DB_HOST, DB_NAME, _ = get_DB_VARS()\n",
    "        collection = get_collection(\n",
    "            target_db=DB_HOST, client_name=DB_NAME, collection_name=collection_name\n",
    "        )\n",
    "\n",
    "        document = collection.find_one({\"_id\": oid})\n",
    "\n",
    "        date_doc_str = cls.get_string_from_date(document.get(\"date\"), DATE_FORMAT)\n",
    "        inst = cls(date=date_doc_str, titre=document.get(\"titre\"))\n",
    "        return inst\n",
    "\n",
    "    @classmethod\n",
    "    def from_date(cls, date: datetime, collection_name: str = \"episodes\") -> \"Episode\":\n",
    "        \"\"\"\n",
    "        Create an episode from a date of a mongo entry.\n",
    "        :param date: date as datetime.\n",
    "        :return: The Episode.\n",
    "        \"\"\"\n",
    "        DB_HOST, DB_NAME, _ = get_DB_VARS()\n",
    "        collection = get_collection(\n",
    "            target_db=DB_HOST, client_name=DB_NAME, collection_name=collection_name\n",
    "        )\n",
    "\n",
    "        # Convertir la date en début et fin de journée pour la requête\n",
    "        start_date = datetime(date.year, date.month, date.day)\n",
    "        end_date = datetime(date.year, date.month, date.day, 23, 59, 59)\n",
    "\n",
    "        # Rechercher un document dont la date est dans l'intervalle\n",
    "        document = collection.find_one({\"date\": {\"$gte\": start_date, \"$lte\": end_date}})\n",
    "\n",
    "        if document:\n",
    "            date_doc_str = cls.get_string_from_date(document.get(\"date\"), DATE_FORMAT)\n",
    "            inst = cls(date=date_doc_str, titre=document.get(\"titre\"))\n",
    "            return inst\n",
    "        else:\n",
    "            return None\n",
    "\n",
    "    def exists(self) -> bool:\n",
    "        \"\"\"\n",
    "        Check if the episode exists in the database.\n",
    "        :return: True if the episode exists, False otherwise.\n",
    "        \"\"\"\n",
    "        return (\n",
    "            self.collection.find_one({\"titre\": self.titre, \"date\": self.date})\n",
    "            is not None\n",
    "        )\n",
    "\n",
    "    def keep(self) -> int:\n",
    "        \"\"\"\n",
    "        download the audio file if needed\n",
    "        Keep the episode in the database\n",
    "\n",
    "        retourne 1 si 1 entree est creee en base\n",
    "        0 sinon\n",
    "        \"\"\"\n",
    "        message_log = f\"{Episode.get_string_from_date(self.date, format=LOG_DATE_FORMAT)} - {self.titre}\"\n",
    "        if not self.exists():\n",
    "            print(\n",
    "                f\"Episode du {Episode.get_string_from_date(self.date, format=LOG_DATE_FORMAT)} nouveau: Duree: {self.duree}, Type: {self.type}\"\n",
    "            )\n",
    "            mongolog(\"insert\", self.collection.name, message_log)\n",
    "            self.download_audio(verbose=True)\n",
    "            self.collection.insert_one(\n",
    "                {\n",
    "                    \"titre\": self.titre,\n",
    "                    \"date\": self.date,\n",
    "                    \"description\": self.description,\n",
    "                    \"url\": self.url_telechargement,\n",
    "                    \"audio_rel_filename\": self.audio_rel_filename,\n",
    "                    \"transcription\": self.transcription,\n",
    "                    \"type\": self.type,\n",
    "                    \"duree\": self.duree,\n",
    "                }\n",
    "            )\n",
    "            return 1\n",
    "        else:\n",
    "            print(\n",
    "                f\"Episode du {Episode.get_string_from_date(self.date, format=LOG_DATE_FORMAT)} deja existant\"\n",
    "            )\n",
    "            mongolog(\"update\", self.collection.name, message_log)\n",
    "            return 0\n",
    "\n",
    "    def remove(self):\n",
    "        \"\"\"\n",
    "        Remove the episode from the database.\n",
    "        \"\"\"\n",
    "        message_log = f\"{Episode.get_string_from_date(self.date, format=LOG_DATE_FORMAT)} - {self.titre}\"\n",
    "        self.collection.delete_one({\"titre\": self.titre, \"date\": self.date})\n",
    "        mongolog(\"delete\", self.collection.name, message_log)\n",
    "\n",
    "    def get_oid(self) -> ObjectId:\n",
    "        \"\"\"\n",
    "        Get the object id of the episode.\n",
    "        :return: The object id of the episode. (bson.ObjectId)\n",
    "        None if does not exist.\n",
    "        \"\"\"\n",
    "        document = self.collection.find_one({\"titre\": self.titre, \"date\": self.date})\n",
    "        if document:\n",
    "            return document[\"_id\"]\n",
    "        else:\n",
    "            return None\n",
    "\n",
    "    @staticmethod\n",
    "    def get_date_from_string(date: str, DATE_FORMAT: str = DATE_FORMAT) -> datetime:\n",
    "        \"\"\"\n",
    "        Get the datetime object from a string.\n",
    "        :param date: The date string.\n",
    "        :return: The datetime object.\n",
    "        \"\"\"\n",
    "        return datetime.strptime(date, DATE_FORMAT)\n",
    "\n",
    "    @staticmethod\n",
    "    def get_string_from_date(date: datetime, format: str = None) -> str:\n",
    "        \"\"\"\n",
    "        Get the string from a datetime object.\n",
    "        :param date: The datetime object.\n",
    "        :param format: The format of the string. default: None and DATE_FORMAT will be used.\n",
    "        :return: The date string.\n",
    "        \"\"\"\n",
    "        if format is not None:\n",
    "            return date.strftime(format)\n",
    "        else:\n",
    "            return date.strftime(DATE_FORMAT)\n",
    "\n",
    "    @staticmethod\n",
    "    def format_duration(seconds: int) -> str:\n",
    "        \"\"\"Convert duration in seconds to HH:MM:SS format.\"\"\"\n",
    "        if seconds < 0:\n",
    "            return f\"-{Episode.format_duration(seconds*(-1))}\"\n",
    "        hours = seconds // 3600\n",
    "        minutes = (seconds % 3600) // 60\n",
    "        seconds = seconds % 60\n",
    "        return f\"{hours:02}:{minutes:02}:{seconds:02}\"\n",
    "\n",
    "    def __str__(self):\n",
    "        return f\"\"\"\n",
    "        _oid: {self.get_oid()}\n",
    "        Date: {Episode.get_string_from_date(self.date, format=LOG_DATE_FORMAT)}\n",
    "        Titre: {self.titre}\n",
    "        Description: {self.description}\n",
    "        URL de téléchargement: {self.url_telechargement}\n",
    "        Fichier audio: {self.audio_rel_filename}\n",
    "        Duree: {self.duree} en secondes ({Episode.format_duration(self.duree)})\n",
    "        Transcription: {self.transcription[:100] if self.transcription else 'No transcription yet available'}...\n",
    "        \"\"\"\n",
    "\n",
    "    def __repr__(self):\n",
    "        return self.__str__()\n",
    "\n",
    "    def download_audio(self, verbose=False):\n",
    "        \"\"\"\n",
    "        based on url_telechargement\n",
    "        will download audio file and store in AUDIO_PATH/year\n",
    "        \"\"\"\n",
    "        if self.url_telechargement is None:\n",
    "            return\n",
    "        year = str(self.date.year)\n",
    "        full_audio_path = get_audio_path(AUDIO_PATH, year)\n",
    "        full_filename = os.path.join(\n",
    "            full_audio_path, os.path.basename(self.url_telechargement)\n",
    "        )\n",
    "        self.audio_rel_filename = os.path.relpath(\n",
    "            full_filename, get_audio_path(AUDIO_PATH, year=\"\")\n",
    "        )\n",
    "        # Vérification si le fichier existe déjà\n",
    "        if not os.path.exists(full_filename):\n",
    "            if verbose:\n",
    "                print(\n",
    "                    f\"Téléchargement de {self.url_telechargement} vers {full_filename}\"\n",
    "                )\n",
    "            response = requests.get(self.url_telechargement)\n",
    "            with open(full_filename, \"wb\") as file:\n",
    "                file.write(response.content)\n",
    "        else:\n",
    "            if verbose:\n",
    "                print(f\"Le fichier {full_filename} existe déjà. Ignoré.\")\n",
    "\n",
    "    def set_transcription(self, verbose=False):\n",
    "        \"\"\"\n",
    "        based on audio file, use whisper model to get transcription\n",
    "        if transcription already exists, do nothing\n",
    "        if cache transcription (meaning a txt file aside audio file, same stem name), read it and store in DB\n",
    "        if audio file does not exist, do nothing\n",
    "        save transcription in DB\n",
    "        \"\"\"\n",
    "        if self.transcription is not None:\n",
    "            if verbose:\n",
    "                print(\"Transcription existe deja\")\n",
    "            return\n",
    "        mp3_fullfilename = get_audio_path(AUDIO_PATH, year=\"\") + self.audio_rel_filename\n",
    "        cache_transcription_filename = f\"{os.path.splitext(mp3_fullfilename)[0]}.txt\"\n",
    "        # check if cache_transcription_file exists\n",
    "        if os.path.exists(cache_transcription_filename):\n",
    "            if verbose:\n",
    "                print(f\"Transcription cachee trouvee: {cache_transcription_filename}\")\n",
    "            with open(cache_transcription_filename, \"r\") as file:\n",
    "                self.transcription = file.read()\n",
    "            self.collection.update_one(\n",
    "                {\"_id\": self.get_oid()},\n",
    "                {\"$set\": {\"transcription\": self.transcription}},\n",
    "            )\n",
    "            return\n",
    "\n",
    "        self.transcription = extract_whisper(mp3_fullfilename)\n",
    "        self.collection.update_one(\n",
    "            {\"_id\": self.get_oid()}, {\"$set\": {\"transcription\": self.transcription}}\n",
    "        )\n",
    "\n",
    "    def to_dict(self) -> Dict[str, str]:\n",
    "        \"\"\"\n",
    "        return episode as a dictionnary\n",
    "        keys are ['date', 'titre', 'description', 'url_telechargement', 'audio_rel_filename', 'transcription', 'type', 'duree']\n",
    "        \"\"\"\n",
    "        return {\n",
    "            \"date\": self.date,\n",
    "            \"titre\": self.titre,\n",
    "            \"description\": self.description,\n",
    "            \"url_telechargement\": self.url_telechargement,\n",
    "            \"audio_rel_filename\": self.audio_rel_filename,\n",
    "            \"transcription\": self.transcription,\n",
    "            \"type\": self.type,\n",
    "            \"duree\": self.duree,\n",
    "        }"
   ]
  },
  {
   "cell_type": "code",
   "execution_count": null,
   "metadata": {},
   "outputs": [
    {
     "data": {
      "text/plain": [
       "\n",
       "        _oid: None\n",
       "        Date: 12 Jan 2025 08:59\n",
       "        Titre: Les nouvelles pages de Vanessa Springora, Haruki Murakami, Jean Echenoz, Amanda Sthers...\n",
       "        Description: None\n",
       "        URL de téléchargement: None\n",
       "        Fichier audio: None\n",
       "        Duree: -1 en secondes (-00:00:01)\n",
       "        Transcription: No transcription yet available...\n",
       "        "
      ]
     },
     "execution_count": null,
     "metadata": {},
     "output_type": "execute_result"
    }
   ],
   "source": [
    "episode = Episode(\n",
    "    date=\"2025-01-12T08:59:39\",\n",
    "    titre=\"Les nouvelles pages de Vanessa Springora, Haruki Murakami, Jean Echenoz, Amanda Sthers...\",\n",
    ")\n",
    "episode"
   ]
  },
  {
   "cell_type": "code",
   "execution_count": null,
   "metadata": {},
   "outputs": [
    {
     "data": {
      "text/plain": [
       "{'date': datetime.datetime(2025, 1, 12, 8, 59, 39),\n",
       " 'titre': 'Les nouvelles pages de Vanessa Springora, Haruki Murakami, Jean Echenoz, Amanda Sthers...',\n",
       " 'description': None,\n",
       " 'url_telechargement': None,\n",
       " 'audio_rel_filename': None,\n",
       " 'transcription': None,\n",
       " 'type': None,\n",
       " 'duree': -1}"
      ]
     },
     "execution_count": null,
     "metadata": {},
     "output_type": "execute_result"
    }
   ],
   "source": [
    "episode.to_dict()"
   ]
  },
  {
   "cell_type": "code",
   "execution_count": null,
   "metadata": {},
   "outputs": [
    {
     "data": {
      "text/plain": [
       "\n",
       "        _oid: 678586de9ff0dfcda11eacf8\n",
       "        Date: 22 Dec 2024 09:59\n",
       "        Titre: Les nouvelles pages de Marc Dugain, Emmanuelle Lambert, Emil Ferris, Fabrice Caro et Mathieu Palain\n",
       "        Description: durée : 00:47:52 - Le Masque et la Plume - par : Rebecca Manzoni - Il est encore temps d'ajouter quelques livres sous le sapin - invités : Raphaelle Leyris, Jean-Marc Proust, Patricia Martin, Laurent CHALUMEAU - Raphaëlle Leyris : Journaliste au Monde, critique littéraire, Jean-Marc Proust : Auteur et critique (Slate), Patricia Martin : Journaliste, critique littéraire et productrice chez France Inter, Laurent Chalumeau : Journaliste rock, scénariste, dialoguiste, romancier - réalisé par : Guillaume Girault\n",
       "        URL de téléchargement: https://rf.proxycast.org/7e653bf4-87a5-42f4-864b-9208e206a295/14007-22.12.2024-ITEMA_23973143-2024F4007S0357-22.mp3\n",
       "        Fichier audio: 2024/14007-22.12.2024-ITEMA_23973143-2024F4007S0357-22.mp3\n",
       "        Duree: 2872 en secondes (00:47:52)\n",
       "        Transcription:  France Inter Le masque et la plume Cinq romans sont à l'affiche du masque de ce jour avec une louve...\n",
       "        "
      ]
     },
     "execution_count": null,
     "metadata": {},
     "output_type": "execute_result"
    }
   ],
   "source": [
    "episode = Episode.from_oid(ObjectId(\"678586de9ff0dfcda11eacf8\"))\n",
    "episode"
   ]
  },
  {
   "cell_type": "code",
   "execution_count": null,
   "metadata": {},
   "outputs": [
    {
     "data": {
      "text/plain": [
       "\n",
       "        _oid: 678ad2ff9010ec6dc606dce9\n",
       "        Date: 12 Jan 2025 10:59\n",
       "        Titre: Les nouvelles pages de Vanessa Springora, Haruki Murakami, Jean Echenoz, Amanda Sthers...\n",
       "        Description: durée : 00:48:41 - Le Masque et la Plume - par : Rebecca Manzoni - Un passé nazi qui refait surface ; une cité magique abrite un amour perdu ; un cinéaste entre un tournage en Afrique et la chute d'un homme nu ; un danseur offre à son fils adoptif la quête d'un héritage familial mouvementé ; un jeune père se confronte à son propre passé douloureux. - invités : Raphaelle Leyris, Hubert ARTUS, Jean-Marc Proust, Elisabeth Philippe - Raphaëlle Leyris : Journaliste au Monde, critique littéraire, Hubert Artus : Journaliste et chroniqueur littéraire, Jean-Marc Proust : Auteur et critique (Slate), Elisabeth Philippe : Critique littéraire (L'Obs) - réalisé par : Guillaume Girault\n",
       "        URL de téléchargement: https://rf.proxycast.org/ad97aa2e-ebfc-4d00-8739-4ca72192e726/14007-12.01.2025-ITEMA_23993269-2025F4007S0012-22.mp3\n",
       "        Fichier audio: 2025/14007-12.01.2025-ITEMA_23993269-2025F4007S0012-22.mp3\n",
       "        Duree: 2921 en secondes (00:48:41)\n",
       "        Transcription:  France Inter Le masque et la plume Premier masque livre de cette année 2025 où nous allons débattre...\n",
       "        "
      ]
     },
     "execution_count": null,
     "metadata": {},
     "output_type": "execute_result"
    }
   ],
   "source": [
    "episode = Episode.from_date(datetime(2025, 1, 12))\n",
    "episode"
   ]
  },
  {
   "cell_type": "markdown",
   "metadata": {},
   "source": [
    "# RSS_episode"
   ]
  },
  {
   "cell_type": "code",
   "execution_count": null,
   "metadata": {},
   "outputs": [],
   "source": [
    "# |export\n",
    "\n",
    "from feedparser.util import FeedParserDict\n",
    "from transformers import pipeline\n",
    "\n",
    "RSS_DUREE_MINI_MINUTES = 15\n",
    "RSS_DATE_FORMAT = \"%a, %d %b %Y %H:%M:%S %z\"  # \"Sun, 29 Dec 2024 10:59:39 +0100\"\n",
    "\n",
    "\n",
    "class RSS_episode(Episode):\n",
    "    def __init__(self, date: str, titre: str):\n",
    "        \"\"\"\n",
    "        RSS_episode is a class that represents an RSS episode in the database episodes.\n",
    "        :param date: The date for this episode at the format \"2024-12-22T09:59:39\" parsed by \"%Y-%m-%dT%H:%M:%S\".\n",
    "        :param titre: The title of this episode.\n",
    "        \"\"\"\n",
    "        super().__init__(date, titre)\n",
    "\n",
    "    @classmethod\n",
    "    def from_feed_entry(cls, feed_entry: FeedParserDict) -> \"RSS_episode\":\n",
    "        \"\"\"\n",
    "        Create an RSS episode from a feed entry.\n",
    "        :param feed_entry: The feed entry.\n",
    "        :return: The RSS episode.\n",
    "        \"\"\"\n",
    "\n",
    "        date_rss = datetime.strptime(feed_entry.published, RSS_DATE_FORMAT)\n",
    "        date_rss_str = cls.get_string_from_date(date_rss, DATE_FORMAT)\n",
    "        inst = cls(\n",
    "            date=date_rss_str,\n",
    "            titre=feed_entry.title,\n",
    "        )\n",
    "        inst.description = feed_entry.summary\n",
    "\n",
    "        for link in feed_entry.links:\n",
    "            if link.type == \"audio/mpeg\":\n",
    "                inst.url_telechargement = link.href\n",
    "                break\n",
    "\n",
    "        # self.audio_rel_filename = None\n",
    "        # self.transcription = None\n",
    "        inst.type = cls.set_titre(inst.titre + \" \" + inst.description)\n",
    "        inst.duree = cls.get_duree_in_seconds(feed_entry.itunes_duration)  # in seconds\n",
    "\n",
    "        return inst\n",
    "\n",
    "    @staticmethod\n",
    "    def get_duree_in_seconds(duree: str) -> int:\n",
    "        \"\"\"\n",
    "        Get the duration in seconds from a string.\n",
    "        :param duree: The duration string at the format \"HH:MM:SS\" or \"HH:MM\".\n",
    "        :return: The duration in seconds.\n",
    "        \"\"\"\n",
    "        duree = duree.split(\":\")\n",
    "        if len(duree) == 3:\n",
    "            return int(duree[0]) * 3600 + int(duree[1]) * 60 + int(duree[2])\n",
    "        elif len(duree) == 2:\n",
    "            return int(duree[0]) * 60 + int(duree[1])\n",
    "        else:\n",
    "            return int(duree[0])\n",
    "\n",
    "    def keep(self) -> int:\n",
    "        \"\"\"\n",
    "        Keep the episode in the database.\n",
    "        only if duration > RSS_DUREE_MINI_MINUTES * 60\n",
    "        only if type == livres\n",
    "\n",
    "        retourne 1 si 1 entree est creee en base\n",
    "        0 sinon\n",
    "        \"\"\"\n",
    "        if (self.duree > RSS_DUREE_MINI_MINUTES * 60) & (self.type == \"livres\"):\n",
    "            return super().keep()\n",
    "        else:\n",
    "            print(\n",
    "                f\"Episode du {Episode.get_string_from_date(self.date, format=LOG_DATE_FORMAT)} ignored: Duree: {self.duree}, Type: {self.type}\"\n",
    "            )\n",
    "            return 0\n",
    "\n",
    "    @staticmethod\n",
    "    def set_titre(description: str) -> str:\n",
    "        \"\"\"\n",
    "        use bart meta model from huggingface to classify episodes from\n",
    "        [\"livres\", \"films\", \"pièces de théâtre\"]\n",
    "        \"\"\"\n",
    "        # Charger le pipeline de classification de texte\n",
    "        classifier = pipeline(\n",
    "            \"zero-shot-classification\", model=\"facebook/bart-large-mnli\"\n",
    "        )\n",
    "        # Labels possibles\n",
    "        labels = [\"livres\", \"films\", \"pièces de théâtre\"]\n",
    "\n",
    "        result = classifier(description, labels)\n",
    "        return result[\"labels\"][0]"
   ]
  },
  {
   "cell_type": "code",
   "execution_count": null,
   "metadata": {},
   "outputs": [
    {
     "name": "stdout",
     "output_type": "stream",
     "text": [
      "Est-ce que l episode existe ? False\n",
      "Episode du 25 Jan 2025 10:48 nouveau: Duree: 4000, Type: livres\n",
      "et maintenant, st-ce que rss1 existe ? True\n",
      "et voici l'id de rss1 : 6794b3866b85517cff46dc62\n",
      "après nettoyage, est-ce que rss1 existe ? False\n",
      "et son oid : None\n"
     ]
    }
   ],
   "source": [
    "from datetime import datetime\n",
    "import pytz\n",
    "\n",
    "now = datetime.now(tz=pytz.timezone(\"Europe/Paris\"))\n",
    "\n",
    "rss1 = RSS_episode(RSS_episode.get_string_from_date(now), \"test RSS 1\")\n",
    "print(f\"Est-ce que l episode existe ? {rss1.exists()}\")\n",
    "\n",
    "rss1.duree = 4000\n",
    "rss1.type = \"livres\"\n",
    "rss1.keep()\n",
    "print(f\"et maintenant, st-ce que rss1 existe ? {rss1.exists()}\")\n",
    "print(f\"et voici l'id de rss1 : {rss1.get_oid()}\")\n",
    "\n",
    "rss1.remove()\n",
    "print(f\"après nettoyage, est-ce que rss1 existe ? {rss1.exists()}\")\n",
    "print(f\"et son oid : {rss1.get_oid()}\")"
   ]
  },
  {
   "cell_type": "code",
   "execution_count": null,
   "metadata": {},
   "outputs": [
    {
     "name": "stderr",
     "output_type": "stream",
     "text": [
      "Device set to use cpu\n"
     ]
    },
    {
     "data": {
      "text/plain": [
       "\n",
       "        _oid: None\n",
       "        Date: 19 Jan 2025 10:59\n",
       "        Titre: Pedro Almodovar, Halina Reijn, Jia Zhang Khe, David Oelhoffen, Walter Salles à l'affiche !\n",
       "        Description: durée : 00:51:41 - Le Masque et la Plume - par : Rebecca Manzoni - Les critiques du Masque & la plume sont allés voir \"La chambre d’à côté\" de Pedro Almodovar, \"Babygirl\" d'Halina Reijn, \"Les feux sauvages\" de Jia Zhang Khe, \"Le Quatrième mur\" de David Oelhoffen et \"Je suis toujours là\" de Walter Salles. Quel est leur verdict ? - invités : Xavier Leherpeur, Florence COLOMBANI, Pierre Murat, Ariane Allard - Xavier Leherpeur : Chroniqueur et critique de cinéma (7e Obsession), Florence Colombani : Journaliste et critique cinéma (Le Point), Pierre Murat : Rédacteur en chef adjoint de Télérama, Ariane Allard : Critique de cinéma (Causette) - réalisé par : Guillaume Girault\n",
       "        URL de téléchargement: https://rf.proxycast.org/881d7c53-ef7e-44bd-a5b4-e6e3bbe6aa58/14007-19.01.2025-ITEMA_24000708-2025F4007S0019-22.mp3\n",
       "        Fichier audio: None\n",
       "        Duree: 3101 en secondes (00:51:41)\n",
       "        Transcription: No transcription yet available...\n",
       "        "
      ]
     },
     "execution_count": null,
     "metadata": {},
     "output_type": "execute_result"
    }
   ],
   "source": [
    "import feedparser\n",
    "from rss import get_RSS_URL\n",
    "\n",
    "parsed_flow = feedparser.parse(get_RSS_URL())\n",
    "\n",
    "rss2 = RSS_episode.from_feed_entry(parsed_flow.entries[0])\n",
    "rss2"
   ]
  },
  {
   "cell_type": "code",
   "execution_count": null,
   "metadata": {},
   "outputs": [
    {
     "name": "stdout",
     "output_type": "stream",
     "text": [
      "Episode du 19 Jan 2025 10:59 ignored: Duree: 3101, Type: films\n"
     ]
    },
    {
     "data": {
      "text/plain": [
       "False"
      ]
     },
     "execution_count": null,
     "metadata": {},
     "output_type": "execute_result"
    }
   ],
   "source": [
    "rss2.keep()\n",
    "rss2.exists()"
   ]
  },
  {
   "cell_type": "code",
   "execution_count": null,
   "metadata": {},
   "outputs": [],
   "source": [
    "# rss2.remove()"
   ]
  },
  {
   "cell_type": "code",
   "execution_count": null,
   "metadata": {},
   "outputs": [
    {
     "name": "stdout",
     "output_type": "stream",
     "text": [
      "{'_id': ObjectId('6794b3866b85517cff46dc64'), 'operation': 'delete', 'entite': 'episodes', 'desc': '25 Jan 2025 10:48 - test RSS 1', 'date': datetime.datetime(2025, 1, 25, 10, 48, 54, 31000)}\n",
      "{'_id': ObjectId('6794b3866b85517cff46dc61'), 'operation': 'insert', 'entite': 'episodes', 'desc': '25 Jan 2025 10:48 - test RSS 1', 'date': datetime.datetime(2025, 1, 25, 10, 48, 54, 16000)}\n",
      "{'_id': ObjectId('678e93f44a192bbb16e563e4'), 'operation': 'update', 'entite': 'episodes', 'desc': '18 déc. 1958 00:00 - Le Masque et les Goncourt : \"Saint-Germain ou la Négociation\" de Francis Walder, 1958', 'date': datetime.datetime(2025, 1, 20, 19, 20, 36, 888000)}\n",
      "{'_id': ObjectId('678e93ed4a192bbb16e563de'), 'operation': 'delete', 'entite': 'episodes', 'desc': '20 Jan 2025 19:20 - test RSS 1', 'date': datetime.datetime(2025, 1, 20, 19, 20, 29, 188000)}\n",
      "{'_id': ObjectId('678e93ed4a192bbb16e563db'), 'operation': 'insert', 'entite': 'episodes', 'desc': '20 Jan 2025 19:20 - test RSS 1', 'date': datetime.datetime(2025, 1, 20, 19, 20, 29, 169000)}\n"
     ]
    }
   ],
   "source": [
    "print_logs(5)"
   ]
  },
  {
   "cell_type": "code",
   "execution_count": null,
   "metadata": {},
   "outputs": [
    {
     "data": {
      "text/plain": [
       "\n",
       "        _oid: 6773e32258fc5717f3516b9f\n",
       "        Date: 10 Nov 2024 09:59\n",
       "        Titre: La foire du livre de Brive : les romans de Daniel Pennac, Colson Whitehead, Olivier Norek, Miguel Bonnefoy...\n",
       "        Description: durée : 00:46:03 - Le Masque et la Plume - par : Rebecca Manzoni - En direct de la 42ᵉ édition de la Foire du livre de Brive-la-Gaillarde, nos critiques vous disent ce qu'ils ont pensé de \"Mon assassin\" de Daniel Pennac, \"Le rêve du jaguar\" de Miguel Bonnefoy, \"Les guerriers de l’hiver\" d’Olivier Norek, \"La règle du crime\" de Colson Whitehead...\n",
       " - invités : Arnaud Viviant, Elisabeth Philippe, Jean-Marc Proust, Patricia Martin - Arnaud Viviant : Critique littéraire (Revue Regards), Elisabeth Philippe : Critique littéraire (L'Obs), Jean-Marc Proust : Auteur et critique (Slate), Patricia Martin : Journaliste, critique littéraire et productrice chez France Inter - réalisé par : Guillaume Girault\n",
       "        URL de téléchargement: https://rf.proxycast.org/f5779476-9d52-4bfb-a839-bf82751eaebb/14007-10.11.2024-ITEMA_23920569-2024F4007S0315-22.mp3\n",
       "        Fichier audio: 2024/14007-10.11.2024-ITEMA_23920569-2024F4007S0315-22.mp3\n",
       "        Duree: 2763 en secondes (00:46:03)\n",
       "        Transcription:  France Inter Le masque et la plume Bienvenue à Brive la Gaillarde, où se tient la 42e foire du livr...\n",
       "        "
      ]
     },
     "execution_count": null,
     "metadata": {},
     "output_type": "execute_result"
    }
   ],
   "source": [
    "episode3 = Episode(\n",
    "    date=\"2024-11-10T09:59:39\",\n",
    "    titre=\"La foire du livre de Brive : les romans de Daniel Pennac, Colson Whitehead, Olivier Norek, Miguel Bonnefoy...\",\n",
    ")\n",
    "episode3"
   ]
  },
  {
   "cell_type": "code",
   "execution_count": null,
   "metadata": {},
   "outputs": [
    {
     "data": {
      "text/plain": [
       "\n",
       "        _oid: 6773e32258fc5717f3516b9f\n",
       "        Date: 10 Nov 2024 09:59\n",
       "        Titre: La foire du livre de Brive : les romans de Daniel Pennac, Colson Whitehead, Olivier Norek, Miguel Bonnefoy...\n",
       "        Description: durée : 00:46:03 - Le Masque et la Plume - par : Rebecca Manzoni - En direct de la 42ᵉ édition de la Foire du livre de Brive-la-Gaillarde, nos critiques vous disent ce qu'ils ont pensé de \"Mon assassin\" de Daniel Pennac, \"Le rêve du jaguar\" de Miguel Bonnefoy, \"Les guerriers de l’hiver\" d’Olivier Norek, \"La règle du crime\" de Colson Whitehead...\n",
       " - invités : Arnaud Viviant, Elisabeth Philippe, Jean-Marc Proust, Patricia Martin - Arnaud Viviant : Critique littéraire (Revue Regards), Elisabeth Philippe : Critique littéraire (L'Obs), Jean-Marc Proust : Auteur et critique (Slate), Patricia Martin : Journaliste, critique littéraire et productrice chez France Inter - réalisé par : Guillaume Girault\n",
       "        URL de téléchargement: https://rf.proxycast.org/f5779476-9d52-4bfb-a839-bf82751eaebb/14007-10.11.2024-ITEMA_23920569-2024F4007S0315-22.mp3\n",
       "        Fichier audio: 2024/14007-10.11.2024-ITEMA_23920569-2024F4007S0315-22.mp3\n",
       "        Duree: 2763 en secondes (00:46:03)\n",
       "        Transcription:  France Inter Le masque et la plume Bienvenue à Brive la Gaillarde, où se tient la 42e foire du livr...\n",
       "        "
      ]
     },
     "execution_count": null,
     "metadata": {},
     "output_type": "execute_result"
    }
   ],
   "source": [
    "episode4 = Episode.from_date(Episode.get_date_from_string(\"10/11/2024\", \"%d/%m/%Y\"))\n",
    "episode4"
   ]
  },
  {
   "cell_type": "code",
   "execution_count": null,
   "metadata": {},
   "outputs": [],
   "source": [
    "episode4.transcription = None"
   ]
  },
  {
   "cell_type": "code",
   "execution_count": null,
   "metadata": {},
   "outputs": [
    {
     "name": "stdout",
     "output_type": "stream",
     "text": [
      "Transcription cachee trouvee: /home/guillaume/git/lmelp/audios/2024/14007-10.11.2024-ITEMA_23920569-2024F4007S0315-22.txt\n"
     ]
    }
   ],
   "source": [
    "import dbus\n",
    "import time\n",
    "\n",
    "# Connexion au bus D-Bus\n",
    "bus = dbus.SessionBus()\n",
    "proxy = bus.get_object(\"org.freedesktop.ScreenSaver\", \"/org/freedesktop/ScreenSaver\")\n",
    "interface = dbus.Interface(proxy, \"org.freedesktop.ScreenSaver\")\n",
    "\n",
    "# Prévenir la mise en veille\n",
    "cookie = interface.Inhibit(\"my_script\", \"Long running process\")\n",
    "\n",
    "try:\n",
    "    # Votre traitement long ici\n",
    "    episode4.set_transcription(verbose=True)\n",
    "finally:\n",
    "    # Réactiver la mise en veille normale\n",
    "    interface.UnInhibit(cookie)"
   ]
  },
  {
   "cell_type": "code",
   "execution_count": null,
   "metadata": {},
   "outputs": [
    {
     "data": {
      "text/plain": [
       "' France Inter Le masque et la plume Bienvenue à Brive la Gaillarde, où se tient la 42e foire du livr'"
      ]
     },
     "execution_count": null,
     "metadata": {},
     "output_type": "execute_result"
    }
   ],
   "source": [
    "episode4.transcription[:100]"
   ]
  },
  {
   "cell_type": "markdown",
   "metadata": {},
   "source": [
    "# WEB_episode"
   ]
  },
  {
   "cell_type": "code",
   "execution_count": null,
   "metadata": {},
   "outputs": [],
   "source": [
    "# |export\n",
    "\n",
    "import requests\n",
    "from bs4 import BeautifulSoup\n",
    "import json\n",
    "import locale\n",
    "\n",
    "\n",
    "WEB_DATE_FORMAT = \"%d %b %Y\"  # '26 août 2024', '20 oct. 2024', '22 sept. 2024', '8 sept. 2024', '25 août 2024', '4 août 2024', '23 juin 2024', '19 mai 2024', '5 mai 2024',\n",
    "\n",
    "\n",
    "class WEB_episode(Episode):\n",
    "    def __init__(self, date: str, titre: str):\n",
    "        \"\"\"\n",
    "        WEB_episode is a class that represents an historical episode (legacy, not available anymore as RSS) in the database episodes.\n",
    "        :param date: The date for this episode at the format \"2024-12-22T09:59:39\" parsed by \"%Y-%m-%dT%H:%M:%S\".\n",
    "        :param titre: The title of this episode.\n",
    "        \"\"\"\n",
    "        super().__init__(date, titre)\n",
    "\n",
    "    @staticmethod\n",
    "    def parse_web_date(web_date: str, web_date_format=WEB_DATE_FORMAT) -> datetime:\n",
    "        \"\"\"Convertit une date en français dans la page de masque sous forme de chaîne de caractères en un objet datetime.\n",
    "        la page du masque utilise des abreviations non standards pour fev et juil\n",
    "        \"\"\"\n",
    "\n",
    "        locale.setlocale(locale.LC_TIME, \"fr_FR.UTF-8\")\n",
    "\n",
    "        def corrige_date(date_str):\n",
    "            # Dictionnaire de remplacement pour corriger les abréviations des mois\n",
    "            month_replacements = {\n",
    "                \"fév.\": \"févr.\",\n",
    "                \"juill.\": \"juil.\",\n",
    "            }\n",
    "            for fr_month, fr_month_norm in month_replacements.items():\n",
    "                date_str = date_str.replace(fr_month, fr_month_norm)\n",
    "            return date_str\n",
    "\n",
    "        # Convertir la date normalisée en objet datetime\n",
    "        try:\n",
    "            dt = datetime.strptime(corrige_date(web_date), web_date_format)\n",
    "            return dt\n",
    "        except ValueError as e:\n",
    "            print(f\"Erreur de conversion pour la date '{web_date}': {e}\")\n",
    "            return None\n",
    "\n",
    "    @staticmethod\n",
    "    def get_audio_url(url):\n",
    "        \"\"\"\n",
    "        Prend l'url d'un épisode du masque en entrée et retourne l'URL vers le fichier audio .m4a ou .mp3.\n",
    "        \"\"\"\n",
    "\n",
    "        try:\n",
    "            # Faire une requête HTTP pour obtenir le contenu de la page\n",
    "            response = requests.get(url)\n",
    "            response.raise_for_status()  # Vérifier que la requête a réussi\n",
    "        except requests.RequestException as e:\n",
    "            print(f\"Erreur lors de la requête HTTP: {e}\")\n",
    "            return None\n",
    "\n",
    "        # Analyser le contenu HTML avec BeautifulSoup\n",
    "        soup = BeautifulSoup(response.content, \"html.parser\")\n",
    "\n",
    "        # Rechercher la balise <script> contenant l'objet JSON\n",
    "        script_tag = soup.find(\"script\", string=lambda t: t and \"contentUrl\" in t)\n",
    "\n",
    "        if script_tag:\n",
    "            try:\n",
    "                # Extraire le contenu JSON de la balise <script>\n",
    "                json_text = script_tag.string\n",
    "                json_data = json.loads(json_text)\n",
    "\n",
    "                # Extraire l'URL du fichier audio\n",
    "                audio_url = None\n",
    "                for item in json_data.get(\"@graph\", []):\n",
    "                    if item.get(\"@type\") == \"RadioEpisode\":\n",
    "                        main_entity = item.get(\"mainEntity\", {})\n",
    "                        audio_url = main_entity.get(\"contentUrl\")\n",
    "                        break\n",
    "\n",
    "                return audio_url\n",
    "            except (json.JSONDecodeError, KeyError, TypeError) as e:\n",
    "                print(f\"Erreur lors de l'analyse du JSON: {e}\")\n",
    "                return None\n",
    "\n",
    "        print(\"Balise <script> contenant 'contentUrl' non trouvée\")\n",
    "        return None\n",
    "\n",
    "    @classmethod\n",
    "    def from_webpage_entry(cls, dict_web_episode: dict) -> \"WEB_episode\":\n",
    "        \"\"\"\n",
    "        Create a WEB episode from a dict web episode entry.\n",
    "        :param dict_web_episode: The web episode entry with these keys: ['title', 'url', 'description', 'date', 'duration']\n",
    "        :return: The WEB episode.\n",
    "        \"\"\"\n",
    "\n",
    "        date_web = cls.parse_web_date(dict_web_episode[\"date\"])\n",
    "        date_web_str = cls.get_string_from_date(date_web, DATE_FORMAT)\n",
    "        inst = cls(\n",
    "            date=date_web_str,\n",
    "            titre=dict_web_episode[\"title\"],\n",
    "        )\n",
    "        inst.description = dict_web_episode[\"description\"]\n",
    "        inst.type = \"livres\"\n",
    "        inst.url_telechargement = cls.get_audio_url(dict_web_episode[\"url\"])\n",
    "\n",
    "        # self.audio_rel_filename = None\n",
    "        # self.transcription = None\n",
    "        inst.duree = cls.get_duree_in_seconds(\n",
    "            dict_web_episode[\"duration\"]\n",
    "        )  # in seconds\n",
    "\n",
    "        return inst\n",
    "\n",
    "    @staticmethod\n",
    "    def get_duree_in_seconds(duree: str) -> int:\n",
    "        \"\"\"\n",
    "        Get the duration in seconds from a string.\n",
    "        :param duree: The duration string at the format \"MM min\".\n",
    "        :return: The duration in seconds.\n",
    "        \"\"\"\n",
    "        duree = duree.split(\" \")\n",
    "        if len(duree) == 2:\n",
    "            return int(duree[0]) * 60"
   ]
  },
  {
   "cell_type": "code",
   "execution_count": null,
   "metadata": {},
   "outputs": [
    {
     "data": {
      "text/plain": [
       "{'title': 'Le Masque et les Goncourt : \"Saint-Germain ou la Négociation\" de Francis Walder, 1958',\n",
       " 'url': 'https://www.radiofrance.fr/franceinter/podcasts/le-masque-et-la-plume/francis-walder-saint-germain-ou-la-negociation-2878243',\n",
       " 'description': 'En\\n 1958, les jurés du Prix Goncourt récompensent un écrivain belge, \\nFrancis Walder, pour son roman historique \"Saint-Germain et la \\nnégociation\". Les critiques du \"Masque et la plume\" ont du mal à cacher \\nleur déception.',\n",
       " 'date': '18 déc. 1958',\n",
       " 'duration': '6 min'}"
      ]
     },
     "execution_count": null,
     "metadata": {},
     "output_type": "execute_result"
    }
   ],
   "source": [
    "from web import WebPage\n",
    "\n",
    "legacy_episodes = WebPage()\n",
    "legacy_episodes[-1]"
   ]
  },
  {
   "cell_type": "code",
   "execution_count": null,
   "metadata": {},
   "outputs": [],
   "source": [
    "vieil_episode = WEB_episode.from_webpage_entry(legacy_episodes[-1])"
   ]
  },
  {
   "cell_type": "code",
   "execution_count": null,
   "metadata": {},
   "outputs": [
    {
     "data": {
      "text/plain": [
       "\n",
       "        _oid: 678ccc978ae61760f3ab13b0\n",
       "        Date: 18 déc. 1958 00:00\n",
       "        Titre: Le Masque et les Goncourt : \"Saint-Germain ou la Négociation\" de Francis Walder, 1958\n",
       "        Description: En\n",
       " 1958, les jurés du Prix Goncourt récompensent un écrivain belge, \n",
       "Francis Walder, pour son roman historique \"Saint-Germain et la \n",
       "négociation\". Les critiques du \"Masque et la plume\" ont du mal à cacher \n",
       "leur déception.\n",
       "        URL de téléchargement: https://media.radiofrance-podcast.net/podcast09/14007-18.12.1958-ITEMA_23787915-2024F4007E0108-27.m4a\n",
       "        Fichier audio: 1958/14007-18.12.1958-ITEMA_23787915-2024F4007E0108-27.m4a\n",
       "        Duree: 360 en secondes (00:06:00)\n",
       "        Transcription:  France Inter il est évident que nous l'avons profondément mûri et que nous avons lu avec beaucoup d...\n",
       "        "
      ]
     },
     "execution_count": null,
     "metadata": {},
     "output_type": "execute_result"
    }
   ],
   "source": [
    "vieil_episode"
   ]
  },
  {
   "cell_type": "code",
   "execution_count": null,
   "metadata": {},
   "outputs": [
    {
     "name": "stdout",
     "output_type": "stream",
     "text": [
      "Episode du 18 déc. 1958 00:00 deja existant\n"
     ]
    },
    {
     "data": {
      "text/plain": [
       "0"
      ]
     },
     "execution_count": null,
     "metadata": {},
     "output_type": "execute_result"
    }
   ],
   "source": [
    "vieil_episode.keep()"
   ]
  },
  {
   "cell_type": "code",
   "execution_count": null,
   "metadata": {},
   "outputs": [],
   "source": []
  },
  {
   "cell_type": "markdown",
   "metadata": {},
   "source": [
    "# Episodes entity"
   ]
  },
  {
   "cell_type": "code",
   "execution_count": null,
   "metadata": {},
   "outputs": [],
   "source": [
    "# |export\n",
    "\n",
    "from typing import List, Dict, Any\n",
    "import pymongo\n",
    "\n",
    "\n",
    "class Episodes:\n",
    "    \"\"\"\n",
    "    This is a class that will allow search on episodes to manage quality of data\n",
    "\n",
    "    For example get new transcriptions.\n",
    "    \"\"\"\n",
    "\n",
    "    def __init__(self, collection_name: str = \"episodes\"):\n",
    "        DB_HOST, DB_NAME, _ = get_DB_VARS()\n",
    "        self.collection = get_collection(\n",
    "            target_db=DB_HOST, client_name=DB_NAME, collection_name=collection_name\n",
    "        )\n",
    "        self.episodes = self._load_episodes()\n",
    "\n",
    "    def _load_episodes(self) -> List[Dict[str, Any]]:\n",
    "        \"\"\"\n",
    "        Load episodes from the database and return them as a list of dictionaries.\n",
    "        \"\"\"\n",
    "        result = self.collection.find().sort(\"date\", pymongo.DESCENDING)\n",
    "        episodes = [Episode.from_oid(entry.get(\"_id\")).to_dict() for entry in result]\n",
    "        return episodes\n",
    "\n",
    "    def get_entries(self, request=\"\") -> List[Episode]:\n",
    "        \"\"\"'\n",
    "        retourne le resultat de la requete sous forme d'une liste d'instance de Episode\n",
    "        tries par date decroissante (du plus recent au plus vieux)\n",
    "\n",
    "        par exemple : request={\"$or\": [{\"transcription\": \"\"}, {\"transcription\": None}]}\n",
    "        \"\"\"\n",
    "        result = self.collection.find(request).sort(\"date\", pymongo.DESCENDING)\n",
    "        episodes = [Episode.from_oid(entry.get(\"_id\")).to_dict() for entry in result]\n",
    "        return episodes\n",
    "\n",
    "    def get_missing_transcriptions(self) -> List[Episode]:\n",
    "        \"\"\"\n",
    "        retourne les episodes pour lesquels la transcription est manquante\n",
    "        \"\"\"\n",
    "        return self.get_entries(\n",
    "            {\"$or\": [{\"transcription\": \"\"}, {\"transcription\": None}]}\n",
    "        )\n",
    "\n",
    "    def get_transcriptions(self) -> List[Episode]:\n",
    "        \"\"\"\n",
    "        Retourne toutes les entrées pour lesquelles une transcription existe.\n",
    "        \"\"\"\n",
    "        return self.get_entries(\n",
    "            {\"$and\": [{\"transcription\": {\"$ne\": None}}, {\"transcription\": {\"$ne\": \"\"}}]}\n",
    "        )\n",
    "\n",
    "    def __getitem__(self, index: int) -> Dict[str, Any]:\n",
    "        return self.episodes[index]\n",
    "\n",
    "    def __len__(self) -> int:\n",
    "        return len(self.episodes)\n",
    "\n",
    "    def __iter__(self):\n",
    "        return iter(self.episodes)\n",
    "\n",
    "    def __repr__(self) -> str:\n",
    "        return f\"Episodes({self.episodes})\"\n",
    "\n",
    "    def __str__(self):\n",
    "        return f\"\"\"\n",
    "        {self.collection.count_documents({})} entries\n",
    "        {len(self.get_missing_transcriptions())} missing transcriptions\n",
    "        \"\"\"\n",
    "\n",
    "    def __repr__(self):\n",
    "        return self.__str__()"
   ]
  },
  {
   "cell_type": "code",
   "execution_count": null,
   "metadata": {},
   "outputs": [
    {
     "data": {
      "text/plain": [
       "\n",
       "        205 entries\n",
       "        0 missing transcriptions\n",
       "        "
      ]
     },
     "execution_count": null,
     "metadata": {},
     "output_type": "execute_result"
    }
   ],
   "source": [
    "episodes = Episodes()\n",
    "episodes.get_missing_transcriptions()\n",
    "episodes"
   ]
  },
  {
   "cell_type": "code",
   "execution_count": null,
   "metadata": {},
   "outputs": [
    {
     "data": {
      "text/plain": [
       "205"
      ]
     },
     "execution_count": null,
     "metadata": {},
     "output_type": "execute_result"
    }
   ],
   "source": [
    "len(episodes)"
   ]
  },
  {
   "cell_type": "code",
   "execution_count": null,
   "metadata": {},
   "outputs": [
    {
     "data": {
      "text/plain": [
       "{'date': datetime.datetime(2025, 1, 12, 10, 59, 39),\n",
       " 'titre': 'Les nouvelles pages de Vanessa Springora, Haruki Murakami, Jean Echenoz, Amanda Sthers...',\n",
       " 'description': \"durée : 00:48:41 - Le Masque et la Plume - par : Rebecca Manzoni - Un passé nazi qui refait surface\\xa0; une cité magique abrite un amour perdu\\xa0; un cinéaste entre un tournage en Afrique et la chute d'un homme nu\\xa0; un danseur offre à son fils adoptif la quête d'un héritage familial mouvementé\\xa0; un jeune père se confronte à son propre passé douloureux. - invités : Raphaelle Leyris, Hubert ARTUS, Jean-Marc Proust, Elisabeth Philippe - Raphaëlle Leyris : Journaliste au Monde, critique littéraire, Hubert Artus : Journaliste et chroniqueur littéraire, Jean-Marc Proust : Auteur et critique (Slate), Elisabeth Philippe : Critique littéraire (L'Obs) - réalisé par : Guillaume Girault\",\n",
       " 'url_telechargement': 'https://rf.proxycast.org/ad97aa2e-ebfc-4d00-8739-4ca72192e726/14007-12.01.2025-ITEMA_23993269-2025F4007S0012-22.mp3',\n",
       " 'audio_rel_filename': '2025/14007-12.01.2025-ITEMA_23993269-2025F4007S0012-22.mp3',\n",
       " 'transcription': \" France Inter Le masque et la plume Premier masque livre de cette année 2025 où nous allons débattre de la rentrée littéraire avec Jean-Marc Proust du média en ligne Slate Elisabeth Philippe du Nouvel Obs Raphaël Léris du journal Le Monde et Hubert Artus de Lire Magazine et du Parisien Weekend grâce au nouveau roman de Vanessa Springora Jean Echnoz, Haruki Murakami Amanda Sterz et Constantin Alexandrakis il sera question de père absent ou disparu, de la persistance d'un amour de jeunesse et d'un tournage en Afrique mené par un certain Bristol, Robert Bristol Et d'avance, excusez ma voix. Où que vous soyez, à l'écoute ou dans les gradins du théâtre de l'Alliance française, bonjour, bienvenue, voici le masque et ses plumes. Vendez tout, écrit Abel sur Instagram. Vendez tous vos cadeaux, coussins, noyaux de cerises, vase, naze, téléphone et même le chat s'il le faut vendez tout pour investir dans les deux volumes de Moi ce que j'aime, c'est les monstres d'Emile Ferris. Le deuxième volume coûte 34,90 euros c'est un chef-d'oeuvre, le mot est écrit en majuscule et le masque n'a pas suffisamment utilisé ce mot concernant ce roman graphique. Emile Ferris ne fait pas de roman graphique, précise Benoît Springer elle fait de la bande dessinée nul besoin d'utiliser le mot roman pour mettre en lumière sa richesse, sa subtilité et son exigence. Comme disait Marjane Satrapi, poursuit Benoît, l'expression roman graphique a été inventée pour faire acheter de la bande dessinée aux bourgeois. Dans le courrier de la semaine, vous dites votre amour pour aucun respect, roman d'Emmanuel Lambert dont l'écrivain Alain Robb-Grillet est l'une des figures centrales. Ce roman pose une question essentielle, nous écrit par exemple Antoine Grivelle, 25 ans, comment devient-on une intellectuelle ? Emmanuelle Lambert répond « par la transmission et sans idolâtrie ». Elle porte un regard amusé et attendri sur le vieux Rob Grillet, à la fois écrivain génial et homme d'un autre temps, qui s'est perdu à la fin, conclut cet auditeur. « Et le polar dans tout ça ? » m'écrit Natacha depuis Annecy. Ce à quoi je réponds « mea culpa », le polar n'est pas assez présent dans les programmes du masque. Cela dit, une tribune sera entièrement consacrée au genre le 6 avril prochain, puisque la troupe du masque enregistrera une émission depuis le festival Quai du Polar à Lyon. Enfin, à l'heure où nous enregistrons, l'écrivain Boilem Sansal est toujours détenu par les autorités algériennes et ce depuis son arrestation à l'aéroport d'Alger le 16 novembre 2024. Parmi les messages reçus le concernant, je relais celui de Yacine sur Instagram. J'ai aimé les livres de Sansal, c'est moins le cas aujourd'hui. Je suis écoeuré par les récupérations politiques dont il fait l'objet, tandis qu'il est emprisonné. Boilem Sansal est enfermé pour des idées auxquelles je n'adhère pas. Et alors ? Pas de demi-mesure ici. Cet enfermement est une honte et une blessure. Soutien à Boilem Sansal. Pas mieux. On commence avec Patronyme, titre du nouveau roman de Vanessa Springora, cinq ans après le consentement, livre balise de la révolution mitou en France. C'est dans le taxi qui l'amène sur un plateau télé Où elle doit parler du consentement Que Vanessa Springora reçoit le coup de téléphone Qui lui annonce la mort de son père Elle ne l'a pas revu depuis plusieurs années Il vivait chez sa mère, sa grand-mère à elle donc Et quand elle se rend sur place Elle affronte la puanteur et la crasse de la pièce où il vivait Et où il avait accumulé papier et objets En débarrassant l'appartement Vanessa Springora fait plusieurs découvertes Et c'est le début d'un récit qui se révèle Comme des poupées gigognes Vanessa Springora tombe sur deux photos de Joseph, son grand-père paternel. Il y porte les insignes nazis, tandis que la légende familiale en avait fait un héros. Elle part sur les traces de Joseph et de son nom, liée à l'histoire de l'Europe, à la Seconde Guerre mondiale, tandis qu'en 2022, la Russie envahit l'Ukraine. Elisabeth. Oui, c'est un livre évidemment très très attendu, cinq ans après le consentement, qui a eu un retentissement que l'on sait, qui s'est vendu à plus de 300 000 exemplaires. évidemment on attendait ce que Vanessa Springora allait écrire après un tel texte, un tel récit et finalement ce livre patronyme est très différent et s'inscrit dans la continuité du consentement en ce sens où déjà patronyme ce nom qu'on hérite de son père interroge aussi le patriarcat et là vraiment un niveau encore bien plus important que dans le consentement et puis c'est à nouveau un texte sur l'emprise d'une certaine manière patronyme puisque c'est comment on vit avec le fardeau d'un secret de famille comment on vit sous l'emprise de ses histoires familiales, de ses fictions familiales, de ses mensonges aussi et de ses non-dits. Et pour défaire tout ça, pour déconstruire tous ces récits dans lesquels elle l'a baigné, elle va mener cette enquête qui va l'emmener jusqu'en Moravie, donc en Tchéquie. Et je trouve qu'elle mène cette enquête avec la même rigueur, la même honnêteté, la même limpidité que dans le consentement, la façon dont elle déconstruisait les mécanismes de l'emprise dans le consentement. Ici, elle a recours à la même rigueur analytique, je trouve, pour réécrire son histoire familiale. C'est assez logique finalement qu'elle enquête sur son nom au moment où elle sort de l'anonymat avec le consentement. Oui, au moment où elle se fait un nom, d'une certaine façon. Voilà, où elle se fait un nom, exactement, c'est ce que lui dit un de... C'est ce qu'elle écrit au début, d'ailleurs. Exactement, ce que lui dit un de ses amis, tu t'es enfin fait un nom avec... Exactement. Et donc, elle va enquêter sur ce nom, et je dévoile rien, parce qu'elle le dit très vite, ce nom est un apax, elle est la seule à le porter, parce que c'est un nom fabriqué de toutes pièces. Et donc, elle a toujours su qu'il y avait un secret, qu'il y avait un mystère caché dans les syllabes de ce nom Springora, et elle va refaire toute l'histoire, remonter en arrière, donc jusqu'à la Seconde Guerre mondiale, essayer de comprendre comment son grand-père a fabriqué ce nom, quelle histoire se cache derrière. Et je trouve qu'elle mène cette enquête en disant toujours qu'elle n'est pas historienne, elle le fait avec beaucoup de modestie et en même temps c'est extrêmement convaincant. Et ça nous tient en haleine. Ça nous tient en haleine parce que ça devient une véritable obsession pour elle de trouver son grand-père finalement, parce qu'il y a cette question quand même très forte au sein de ce livre, c'est est-ce que mon grand-père était un assassin ? Et donc cette obsession, finalement, elle contamine aussi son lecteur ou sa lectrice. On est pris par cette envie de savoir, cette envie de découvrir. Et je trouve qu'à chaque fois, elle le fait de façon très modeste, très convaincante. Et je trouve que la force de Vanessa Springora, c'est de s'aventurer dans des zones d'ombre. Elle déplie tout ça de façon extrêmement claire, rigoureuse. Et je trouve qu'à travers l'histoire de ce nom, elle parvient à raconter une partie de l'histoire de l'Europe et l'histoire du XXe siècle. Et je trouve que c'est un geste extrêmement fort. Hubert, comme tu as déjà pris la parole. J'ai pas rêvé, l'auditeur dont vous avez lu la lettre en début d'émission il s'appelle bien Springer Or Springer c'est un des noms qu'a eu C'est le véritable nom avant de le transformer en Springer Bien joué C'est de langue allemande dont le prononce Springer Ce choix de courrier Je dirais évidemment défi réussi On peut pas ne pas être frappé, ému, happé je trouve par l'archéologie intime en fait qu'elle l'écrit ici et on ne peut pas s'empêcher de faire des liens aussi sur le dispositif narratif et mémoriel entre le consentement et le patronyme. On retrouve ici sa façon, par la non-fiction littéraire, de lier notre grande histoire à son histoire. Alors c'était sur un trauma criminel et qui a été judiciaire avec le consentement sur l'affaire Maznev. Et ici, c'est entre l'histoire du XXe siècle, les guerres, etc. Moi, j'ai vu la même honnêteté personnelle et la même transparence littéraire parce qu'elle n'hésite pas à dire aussi, elle, ses propres interrogations, ses propres doutes. Est-ce qu'il n'y aurait pas une culpabilité que je devrais avoir, moi, parce que mon grand-père, alors il s'appelait Joseph avec PH à la fin, ou Joseph autrement, avec un Z ou un S, et puis alors est-ce qu'il a été nazi ? Est-ce qu'il a été enrôlé malgré lui ? Est-ce que pas ? Oui, parce que c'est là aussi qu'il y a deux épouses, de quel amour est le père ? C'est là aussi qu'il y a la question du consentement. Est-ce qu'il a été enrôlé malgré lui ? Est-ce que toi, tu as des réserves ou non sur ce livre, Raphaël ? Il y a beaucoup de choses que je trouve très intéressantes dans ce livre, et notamment le premier quart qui est consacré au père et à ses recherches dans cet appartement puantie, plein de poussière, et de ses découvertes et du récit de ses relations avec cet homme. Après, quand elle part, à la fois, je trouve que c'est très intéressant de voir se combattre sa soif de vérité profonde avec l'absence d'archives, parce que c'est une région que l'histoire a privée en partie de mémoire et d'archives. Et c'est une histoire qui est très compliquée. Et donc ça donne quand même lieu à des dialogues Wikipédia, où elle est en discussion avec une de ses cousines, je crois, où pour avoir l'histoire des Sudettes, c'est épouvantablement compliqué l'histoire des Sudettes. Donc on est obligé d'avoir. Et à ce moment-là, que fait le président ? Eh bien, chère Vanessa, le président fait ça. Et donc c'est assez fastidieux, il y a ça. Et puis il y a aussi qu'elle émet des hypothèses, puisqu'elle n'a pas toujours les archives. et quand elle émet des hypothèses, à la fois il y a une honnêteté qui est extrêmement frappante, c'est-à-dire qu'elle dit tout ce qu'elle ne sait pas et elle s'appuie sur la résurgence des populismes en Europe la résurgence de la guerre en Europe avec l'Ukraine et là il y a une manière de formuler les choses de se dire alors si on compare les situations est-ce que c'est ça qu'il a ressenti, est-ce que c'est ça qu'il a fait, que je trouve un petit peu fastidieuse même si c'est une entreprise qui est extrêmement louable et que c'est un texte qui a des forces par ailleurs Il y a une forme de modestie aussi Je suis désolé parce que je suis un peu d'accord avec tout le monde. C'est pour ça que tu as intervié en dernier. C'est ça mon problème. La synthèse. Je pense qu'il y a beaucoup d'honnêteté dans ce récit. J'ai trouvé qu'il était fluide, qu'il était bien mené. En revanche, je pense qu'il échoue un petit peu dans ce modèle qui est le roman de la recherche d'identité. Pour moi, vraiment, le modèle, c'est les disparus de Mendelssohn. Il y a les deux éléments constitutifs dedans. Lui, il recherche des victimes de la Shoah et elle, elle recherche un possible bourreau de la Shoah. mais il y a cette logique de remonter l'histoire de l'Europe et de trouver des traces, des preuves de cette existence. Et dans le bouquin de Mandelson, moi ce qui m'avait fasciné c'est que c'était à la fois un roman 100% émotionnel, assez proustien, et un roman policier. Or, dans le livre de Vanessa Springora, elle a beau nous dire qu'elle font en larmes qu'elle est très émue, moi je suis vraiment resté à la surface du livre, je n'ai pas trouvé que ça dégageait beaucoup d'émotions, et le côté polar n'est pas du tout là, c'est-à-dire que sa recherche est totalement linéaire, elle arrive dans une ville, elle dit est-ce que je vais retrouver mon ancêtre etc. et elle va à la mairie et le maire lui dit je l'ai convoqué il n'y a vraiment aucun suspense je ne sais pas si son ambition c'est de mettre du suspense dans ce livre il n'y a pas de suspense pour moi dans le roman de la recherche témorielle c'est vraiment important qu'on puisse être dans une logique de polar de thriller et à la fin du chapitre de se dire est-ce qu'elle va y arriver ou pas moi j'ai eu cette sensation de suspense alors patronyme de Vanessa Springora est publié chez Grasset on passe au nouveau roman de l'écrivain japonais le plus lu au monde, en un seul mot, et ça pourrait être un adjectif, pour Haruki Murakami. En cette rentrée littéraire de janvier, Haruki Murakami publie « La cité aux murs incertains ». Le moteur du roman est un amour de jeunesse et son souvenir. Elle, à 16 ans, lui, 17, il parle beaucoup, s'embrasse seulement, s'écrivent des lettres, et un jour elle disparaît. Lors de leur conversation, elle lui avait parlé d'une cité qui lui permettrait de connaître son vrai moi, à elle, à condition qu'il désire y entrer. Et j'espère que vous suivez. Le garçon va d'abord circuler entre le monde réel et cette cité magique, où sa bien-aimée est employée dans une bibliothèque particulière. Des rêves y sont stockés, et lui devient liseur de rêves. Et j'espère que vous suivez toujours. Ce roman est un texte dont Haruki Murakami dit avoir livré une première version il y a plus de 40 ans, donc quand il était écrivain débutant. Il l'a réécrit une première fois avant d'en livrer cette version ultime de 550 pages qui ne compte que 4 personnages. Raphaël. J'ai eu la sensation d'être dans un bain tiède agréable où l'eau tiède était renouvelée sans arrêt où vraiment on pouvait rester comme ça tout le temps. Au bout d'un moment, c'est froid quand même. On saine japonais. Mais je me suis poliment ennuyée. Ce qui ne veut pas dire que je n'ai pas admiré au passage des choses puisque comme l'eau est agréable, on a le temps de se dire « Ah tiens, ce personnage, alors il y a le directeur de la bibliothèque où par la suite, le narrateur se fait embaucher puisque donc, il a renoncé à son... Après avoir fait cette entrée dans la cité au mur invisible, il a quitté sa vie à Tokyo pour devenir bibliothécaire dans une petite ville de montagne du district de Fukushima. Et il y a un directeur de bibliothèque qui est un personnage très amusant avec un béret bleu et une chup. donc il y a vraiment des choses qui sont très présentes en fait ce qui me pose un petit problème c'est le niveau de désincarnation de tout ça et puis le fait que le vrai moi bon ben s'emmerde autant que le faux moi qu'est-ce qu'on découvre du vrai moi de cette jeune fille elle s'ennuie épouvantablement à tenir cette bibliothèque sans livre et à attendre que cet homme lise des rêves dont on ne sait rien et lui fait de la tisane c'est des rêves oeuf et le vrai moi de cette jeune fille qui reste une jeune fille et qui ne se souvient pas donc de ce grand amour, bon alors ce qui pourrait être amusant. Il y a une désincarnation et si l'énigme c'est de savoir quel est le vrai moi, quel est le faux moi et quel est le réel et quel est l'imaginaire, j'ai l'impression que la différence entre les deux n'était pas suffisamment excitante pour que je mène l'enquête avec intensité. Pour ma part j'ai eu un peu de mal à identifier l'énigme. Hubert ? Moura Kami c'est toujours comme ça, rêveur, abstrait, métaphorique, les miroirs et tout. Mais là moi j'ai trouvé que c'était un bon roman jeunesse, très bien, et j'ai absolument rien contre la littérature jeunesse, bien évidemment au contraire, sauf que ça n'est pas du tout édité comme tel le talent de conteur est là mais on s'emmerde parce qu'effectivement je vais me retrouver à défendre Murakami, c'était pas prévu il y a une bonne idée qui apparaît rapidement c'est que dans cette cité aux murs invisibles aux murs incertains les murs sont des personnages et donc on comprend que la ville cette cité va être la métaphore de sûrement plusieurs choses puisque c'est toujours comme ça c'est Murakami mais quoi ? c'est quand même je crois 800 pages Non, 550 C'est ressenti 800 Mais Moura Kami fait régulièrement Des pavés comme ça Mais c'est toujours pop, subversif Il y a de l'érotisme Quand même, rappelons-nous de chroniques de Loiseau à ressort Même dans 1Q84 qui était sa réaction Aux attentats de la secte Aoum aussi Il y avait ça parce que d'habitude il se greffe Sur un trauma, sur quelque chose d'universel Là ça veut se greffer sur un imaginaire Qui est universel mais enfin c'est tellement abstrait Qu'on s'y paume Alors tu veux prendre sa défense Jean-Marc ? Il va falloir Qu'est-ce que c'est un Murakami ? C'est comme un roman populaire, c'est-à-dire que c'est systématiquement quelque chose de semblable à ce que vous avez déjà lu et de nouveau à la fois, donc il n'y a pas de tromperie sur la marchandise, on va dans ce Murakami comme les précédents, on retrouve son univers, on retrouve son goût pour la culture occidentale c'est fait de petits riens totalement insignifiants le personnage, je ne spoil pas mais je dis quand même il mange des muffins à la myrtille tous les jours et puis un jour il y a un muffin sans myrtille et ça prend une importance totalement démesurée. C'est ça, moi j'ai l'impression d'être dans les films de Yasuo Jirouzu où on parle du quotidien, il ne se passe strictement rien, mais ça reste quand même assez poétique, contemplatif. C'est très japonais, tout en étant matiné de culture occidentale. Et puis il me semble qu'il arrive à faire dans ce livre la synthèse de plusieurs mythes, de manière assez réussie. Il y a le mythe d'Orphée et de Riddis, qui est évident, aller chercher quelqu'un au Royaume des Morts. Moi, cette cité aux murs incertains, ça m'a fait penser aussi au château de Montsalva, le chevalier du Graal. et puis ces personnages sans ombre on a ça avec les vampires ils sont sans reflet, parfois ils n'ont pas d'ombre et puis il y a également un opéra de Richard Strauss sur un livret de Hugo van Hoffmansthal où il y a une femme qui n'a pas d'ombre parce qu'elle vient du royaume des morts et elle va passer sa vie à chercher une ombre pour pouvoir devenir une terrienne, faire des enfants, être une femme accomplie, donc il arrive à mêler tout ça, à le mettre dans son univers et à reprendre des thèmes qu'on lui connait bien Kafka sur le rivage, il y avait cette histoire du bibliothécaire, de l'enfant qui s'envoyait chez lui. Et puis, on peut avoir plein d'interprétations. Est-ce qu'ils vont dans le royaume des morts ? Est-ce qu'ils en reviennent ? Moi, ce personnage, ce bibliothécaire fantôme, qui porte une jupe, et cet enfant qui part de chez ses enfants, il va faire sa transition, je me suis dit, est-ce qu'il n'y a pas une logique de recherche du genre aussi dans ce roman ? Tu supposes que c'est un roman queer ? C'est une possibilité. Un roman queer, ce serait une possibilité, selon toi. Pourquoi pas ? Je n'exclu rien. Il n'y a même pas parlé des licornes. à la fourrure dorée. Brûlé. Ça manquait. Je vais te réserver cette transition. Merci beaucoup, Elisabeth. Alors, c'est vrai qu'au départ, ces allers-retours constants d'un monde à l'autre, ça prend quand même beaucoup, beaucoup de pages. C'est très répétitif puisqu'à chaque fois, on a le droit à une nouvelle description, toujours la même. Les licornes, les murs, etc. En fait, j'avais l'impression d'être devant un pendule, d'avoir le mouvement de balancier d'un pendule. Ça m'a mis dans une espèce d'état d'hypnose, dans une forme de stase. Donc oui, c'est peut-être l'ennui dans un bain de tiède dont tu parlais, Raphaël. Et j'ai retrouvé quand même des choses que j'aime chez Murakami, mais en fait on a l'impression, il y a beaucoup la question des ombres dans ce livre, puisqu'il faut laisser son ombre à l'entrée de la cité aux murs incertains. D'ailleurs, le personnage de l'ombre est très sympathique, c'est peut-être le plus vivant. Et finalement, ce livre, j'ai eu l'impression que c'était une sorte d'ombre des autres livres de Murakami. En fait, il y a beaucoup de points communs avec Kafka sur le rivage, notamment la bibliothèque comme lieu de passage d'un monde à l'autre. Et là, j'ai l'impression que c'était Kafka sur le rivage, mais de façon totalement dévitalisée, comme si on avait enlevé toute la folie des livres de Murakami, les chats égorgés, et pourtant Dieu sait que ce ne sont pas mes passages préférés dans Kafka sur le rivage alors il est à nouveau question de chat évidemment chez Mourakami, c'est peut-être ce qui chez moi fait que j'ai un avis un peu toujours un préjugé assez favorable vers cet auteur, comme les jurés d'ailleurs... Les chats ou les chats écorchés ? Non, on ne l'a pas écorché du tout et bon finalement c'est... oui on est dans une espèce de bulle, comme si on était nous-mêmes à l'intérieur de ces œufs transparents dans lesquels on peut lire les rêves, mais c'est vrai que c'est un peu fastidieux et assez vanessant, assez abstrait. La cité aux murs incertains de Haruki Murakami est traduit par Hélène Morita avec la collaboration de Tomoko Ohono et le roman est publié chez Belfond. On va parler maintenant de Bristol, nouveau roman de Jean-Richnause. Bristol ne désigne ici ni une ville du sud de l'Angleterre ni du papier, mais Robert. Robert Bristol, qui vit rue des Eaux à Paris, dans le 16e arrondissement. Au moment où nous faisons sa connaissance, Robert Bristol vient de sortir de chez lui et le corps d'un homme nu tombe de son immeuble mais Bristol est trop préoccupé par son travail il est cinéaste et en préparation d'un tournage en Afrique de lui, nous savons notamment qu'il lit quelques pages de Par ici les embrouilles, aux toilettes que sa voisine, Michelle Severinsen est une actrice qui tourna dans Tendre plaisir Retourne-moi j'adore les titres dans ce roman, c'est génial et que Bristol tourne un film qui lui s'intitule « D'or et de sang ». Plaisir des titres, donc des noms, entre autres et de bien d'autres choses que je vous laisserai développer, chers collègues, et surtout plaisir de la fiction. Eschnoz met en scène le narrateur de ce récit, qui dit le souci de ménager ses effets, qui prévient des ellipses et qui même s'inquiète parfois d'éventuelles longueurs. Jean-Marc. Moi, ça m'a bien fait, Marais. Franchement, je pense que pour commencer l'année 2025, c'est à recommander. C'est drôle, c'est fin, c'est pas sans rire. Oui, Marais, mais pas que, quand même. Non, non, non, c'est pas sans rire et puis c'est nourri et ce qui m'a plu là-dedans c'est qu'il prend en permanence le contre-pied des conventions du récit. Là où on attend des descriptions dans les scènes qui peuvent nourrir de l'empathie, par exemple une sette de déjeuner, il va vous dire quelque chose, il mange les mêmes aliments que la veille. Passé, les scènes de sexe qu'on attend toujours un peu croustillantes, il coupe, coupé, fondu au noir. Ou alors il parle de complètement autre chose. Oui, ou il parle de complètement autre chose, c'est-à-dire d'une certaine manière il se dit, ok lecteur je vais être frustré, en revanche il va être extrêmement prolixe pour vous décrire une chambre d'hôtel dont il dit tout de suite qu'elle est sans intérêt et vous saurez tout de la moquette, du mur, du plafond des luminaires, et donc moi j'ai trouvé ça absolument génial autre élément qui m'a fait marrer, c'est les personnages qui ne sont jamais là où on les attend le cinéaste, on lui impose une actrice dont on se dit, bon ça va être une actrice, elle est cervelée, elle est jeune, elle sait rien etc, ils sont dans l'avion qui les emmène au Botswana qu'est-ce qu'elle fait ? Elle lit un livre. De Bernanos. Qui lit du Bernanos en 2025 ? Même autour de cette table, on ne doit pas être très nombreux à le faire. Et cette jeune actrice n'est plus du tout écervelée. Ils sont en train de faire un tournage de films au Botswana. Il y a un éléphant qui est dans le village, il massacre tout. Et là, d'un coup, débarquent des gens armés jusqu'aux dents sur des pick-up, une milice, on ne sait pas trop. Et on a tous les clichés. Et qu'est-ce qu'il est, le chef de la milice ? C'est un cinéphile averti. Le Thief ne rêve que de Fassbinder, du cinéma allemand des années 70. Il te cite du Bernard Schröter. et il va aller à Paris parce qu'il y a une intégrale à la cinémathèque de Hans-Jürgen Ziberberg, il y a deux personnes au monde qui regardent du Hans-Jürgen Ziberberg aujourd'hui c'est ce militien et moi je l'aime d'amour, enfin franchement c'est des personnages et à côté de ça, Jean-Echnose, il peut citer aussi Jennifer Lopez et Kylie Minogue, c'est ça qui est génial avec lui. Et nous préciser au passage que par exemple, la salive des girafes est antiseptique c'est que il attendu. Non mais franchement, on a eu une année 2024 totalement pourrie, il faut commencer 2025 avec ce bouquin. Elisabeth. Non, je ne pourrais pas dire mieux. Bristol, tu l'as dit, c'est le nom du... Tu pourras dire mieux, j'en ai pas le moindre doute. C'est le nom du personnage, mais pour moi, c'est aussi le carton d'invitation et j'ai l'impression à chaque fois, Jean-Echnos, que je reçois effectivement l'invitation à une fête façon de partie de Black Edwards. Et d'ailleurs, il y a ce côté un peu loufoque, absurde dans Bristol comme dans d'autres livres de Jean-Echnos. On sait qu'on sera toujours très bien traités par notre hôte, Echnos, que j'imagine nous recevant en petite veste d'intérieur façon gentleman, comme ça. Avec un sourire en quoi ? Avec une forme de nonchalance en même temps d'ironie légère mais jamais mordante et puis c'est ce style quand même comme s'il improvisait en permanence en virtuose il peut vraiment faire tout ce qu'il veut avec tout ce que peut offrir la langue et à un moment il le dit plutôt l'ellipse que l'hypothépose lui-même il joue de ça parce qu'il sait très bien qu'il est reconnu comme styliste et il le fait avec un humour, une légèreté, une grâce on a envie de noter chaque phrase elles sont délicieuses, on se dit mais attends moi aussi il faudrait que je parle comme ça c'est génial, c'est tellement intelligent et en plus tout est drôle tous les personnages sont formidables, vous avez parlé de Michel, l'ancienne actrice qui s'est reconvertie dans la macrobiotique, qui initie ses amants au boulgour, enfin au bienfait du boulgour et du quinoa il y a quand même deux pages du point de vue d'une mouche qui est tellement à l'aise dans le bureau de Bristol que c'est à peine si elle ne pourrait pas lever la patte pour commander un daikiri. Avec des noms totalement fous, à chaque fois on se dit, est-ce que c'est vrai ? Est-ce que cette mouche existe ? Est-ce que le savoir-ci existe ? Et tu vérifies si c'est vrai. Vu l'inventivité des noms, on se pose la question. Moi, j'ai fait ma Raphaël Léris, je suis allée chercher des noms sur Google en me disant, ah, mais oui, c'est un vrai pays. Pareil, exactement. Raphaël. Oui, enthousiasme absolu comme mes camarades, joie totale. Et alors, j'ai toujours peur d'écraser la grâce, la légèreté des chenoses sous mes mots pataux, donc je m'excuse d'avance. Mais c'est un enchantement, tu parlais de son style, Elisabeth, les alexandrins qui surgissent comme ça au détour d'une phrase, d'une blague. et ce que je trouve toujours génial chez Eschnoz, et qui, là, à nouveau, la magie fonctionne, c'est que, quand même, au fond, on s'en fiche un peu complètement de l'intrigue, et que ce qu'il a fait cavaler, c'est de se dire, qu'est-ce qu'il va inventer, qu'est-ce qu'il va nous sortir comme nom de personnage Navratil, par exemple, qui est l'enfant de Navratilova et nébénicament. Le fait que, voilà, on ne sait jamais s'il va nous embarquer au Botswana, dans l'avion Bernanos, et c'est ça qui fait avancer l'intrigue, Et cependant, il ne s'en fout pas complètement. Et ça, je trouve que c'est assez magique. C'est-à-dire qu'on pourrait se dire, à quoi bon raconter des histoires ? Eh bien, quand même, si. Oui, parce qu'on s'y intéresse à cette histoire. On s'y intéresse, il la mène à bon port. Et c'est quand même assez miraculeux. Est-ce que, Hubert, tu rejoins cette unanimité ? J'avais le même ressenti que mes trois collègues, jusqu'à la fin, que je trouve vraiment en queue de poisson. Mais nous n'allons pas la révéler. Non, non, bien sûr. C'est pour ça que je ne dis que ça. C'est vrai qu'un échelon, c'est toujours une petite gourmandise. C'est un tel styliste. Il y a l'art du dialogue, il y a l'art de l'ironie, il y a l'art de la mauvaise foi. Il sort parfois de sa propre narration pour la juger. C'est pratiquement un peu Alexandre Dumas qui aurait rencontré le roman noir de Dachialamette et de Raymond Chandler. Mais bon, là, il se, à mon avis, il se fout un peu trop de l'intrigue. Et j'ai relu après son avant-dernier, Vie de Gérard Fulmar, qui en plus est plus en prise avec le monde actuel. Et qui, du coup, est beaucoup plus marrant et beaucoup plus subversif. Et alors, je me suis dit, bon, j'aime bien. Effectivement, c'est vrai que, comme tu le disais, Jean-Marc, pour commencer l'année, c'est vrai que c'est très bien. Mais au bout d'un moment, ça tourne un peu en rond, parce qu'il publie quand même tous les deux ans, je crois, ce qui est très bien. Non, pas tous les deux ans. Non, pardon, 2020. Excuse-moi, le fact-checking est sur l'eau. Et l'hypernésie. Et là, je me suis dit, bon, c'est vrai que ça commence à devenir un peu répétitif. On touche un peu à la littérature parfois qui se regarde quand même elle-même, et ça, ça a toujours tendance à me gêner. Mais il faut bien que quelqu'un endosse le mauvais rôle. Ok c'est un pastiche de Syri B C'est un super comédien C'est des super dialogues et mauvaise foi Mais je trouve que c'est vraiment pas son meilleur Alors voilà celui-ci Évidemment il est super Mais je conseillerais quand même de commencer par Cherokee Par Envoyé spécial, par Vite-Gérard Fulmar Qui pour moi reste Les meilleurs Ischnoz La preuve c'est que mon premier réflexe a été de relire après Vite-Gérard Fulmar qui date donc, merci Raphaël, il y a 5 ans C'était donc Bristol de Jean Ischnoz Paru aux éditions de Minuit Chez Stock maintenant est publié Les gestes d'Amanda Sterz, deuxième livre du programme où il est question d'une enquête familiale sur les traces d'un père. Marc est danseur et s'apprête à adopter un garçon avec son compagnon. Au moment de l'arrivée de cet enfant, il décide de lui transmettre son histoire familiale à travers le parcours de son père Hippolyte. Marc se lance alors, je cite, dans une archéologie de l'intime, retracer les présences et les absences de son père, les vies qu'il a tissées depuis la Grèce jusqu'en Égypte, en passant par la France, l'Italie et Israël. Elisabeth ? Oui, on pourrait se dire que ce personnage d'Hippolyte, c'est le père qui est né en Égypte, qui a une vie flamboyante, qui a un donjion, un dragueur, qui se rêve archéologue et qui finalement devient chauffeur de taxi. Un personnage un peu à la Albert Cohen, on pourrait penser au Valeureux, sauf que pour cette grande saga qui en plus a pour titre les gestes, il n'y a pas de gestes littéraires. Ce n'est pas désagréable, mais c'est une écriture assez passe-partout au service d'une vie hors du commun, qui nous est présentée comme hors du commun. Oui, c'est sympathique, tu l'as dit, on voit du pays. C'est un peu de l'écriture au kilomètre. Moi, j'ai eu l'impression que les phrases se juxtaposaient, ça va très vite, ça défile. Les événements s'enchaînent comme on enfile des perles, d'une certaine manière, et je trouve qu'il n'y a absolument pas de gestes littéraires, de styles, d'écritures. On parle parfois de musique d'ascenseur ou d'easy listening, là c'est ça. Non mais voilà Je te trouve très indulgente Ça se déroule tout seul Mais il n'en reste rien Alors que c'est censé être une espèce de saga flamboyante Alors le boom que vous avez entendu C'est les mains d'Hubert Artus Tapant sur la table La parole est à toi Les gestes, on peut apprécier ou pas La geste littéraire, moi je trouve qu'elle y est Parce que justement les gestes des personnages Leur symbolique et leur répétition historique On la trouve, alors ça commence et à un autre moment, on a le geste de la grand-mère qui se cache le visage pour une raison, pour le coup, ce serait spoiler que de la révéler, mais on va la retrouver. Non, ça, au début du livre. On retrouve à deux moments cette notion de geste. Deux personnages font le même geste. Au détail qu'on retrouve, à 30 ans de différence, deux familles vont habiter rue de Trévise à Paris. Elle amène plein de petits trucs comme ça qui vont se répéter et la notion de geste, je le vois, et la notion de geste quand même. Le grand-père et le père du narrateur, ils vont être danseurs, l'un professionnel et l'autre pas. Parce que l'un a le dos cassé, etc. Non, mais la notion de geste, de corps, de physique, et comment est-ce que tu épouses ça comme un défi pour justement dépasser tes propres malheurs de vie, etc. Moi, j'ai trouvé ça réussi. Et je trouve que justement, la façon de lier ces petites histoires avec la grande histoire, à un moment, on a le père qui va être archéologue, enfin, qui veut être archéologue et qui veut finir ses études en Italie. Il va aller à Bologne. Et il y a un switch super parce qu'il va devoir partir parce qu'il y a l'attentat de la gare de Bologne, 2 août 1980. Le plus gros des années de plomb et un des plus gros du XXe siècle en Europe. Et il y a son amoureuse qui est là, elle va devoir partir, il va la poursuivre et il va abandonner ses études pour ça. Il y a plein de trucs comme ça qui sont très subtils, ça ne claironne jamais et c'est efficace pour ça. Et la gourmandise, moi je l'ai vue là. Et là pour le coup, ça m'a scié. Jean-Marc, dans le style guimauve, je dirais que c'est plutôt dans le haut du panier. C'est-à-dire que c'est une saga familiale, je trouve qu'elle évite deux écueils plutôt habilement. C'est d'abord le côté excessivement mélodramatique qu'on pourrait avoir dans ce type de livre. Ça n'est pas excessif, ça reste émouvant, mais avec retenue. Et puis, il n'y a pas de prolifération de personnages qui fait qu'à un moment donné, on s'en perd. Donc, c'est quand même fluide, c'est bien écrit. Mais alors, question du style, enfin, c'est pas possible, quoi. C'est vraiment, c'est sirupeux, c'est toujours gentil, c'est charmant. Quelques exemples. Le regard de Basile la porte comme une princesse sur un fauteuil club. Je ne sais même pas pourquoi on écrit des phrases pareilles. Un enfant n'est-il pas une nuit d'amour qui se prolonge indéfiniment. Je dirais jusqu'à l'adolescence, mais pas au-delà. La cuisine chinoise est faite de mélanges de saveurs contradictoires et ça ressemble à l'équilibre de la vie. Voilà, c'est ce type de phrase qu'on trouve tout au long du bouquin et moi je pense que c'est pas possible d'écrire comme ça et comme je ne savais plus finalement trop quoi penser de ce livre, je termine là-dessus, Rebecca, je vois que tu insises sur le timing, j'ai demandé à ChatGPT de me faire une micro-critique. Je vous la lis, elle est vraiment très jolie. devient ton ami. Un beau livre, assurément, mais peut-être un peu trop sage pour laisser une empreinte indélébile. Amanda Sterz, ici, semble nous dire que tout est dans le geste, mais parfois, on aimerait qu'elle ose davantage le cri. Raphaël, la critique anti-Tchat GPT, s'il te plaît. Je serais une synthèse molle, dans la mesure où je l'ai lue sans déplaisir, mais sans un plaisir excessif non plus. Enfin, je n'avais pas d'avis sur les livres d'Amanda Sterz. J'ai eu un peu peur au début, parce que ça commence comme une lettre du narrateur à son fils à venir. Il y a cette phrase, la quatrième mime, quand tu tireras les fils du passé pour pouvoir t'accrocher à ton avenir. J'ai été terrorisée en disant ça. Mais bon, le reste, j'ai trouvé, ça fonctionnait. Il y avait quelque chose de généreux dans la narration, des personnages qu'on ne voit pas toutes les dix minutes dans la fiction contemporaine. Donc j'appréciais l'effort. Et puis, la psychologie dans moi a craqué nerveusement quand un personnage perd son prénom. La fille du deuxième mari de la mère, s'appelle Caroline et devient Sophie. Et alors moi, que les éditions Stock, que je respecte de tout mon cœur, n'ai pas eu le courage de lire suffisamment de près les gestes pour se dire, ah tiens, ce personnage a changé de nom, ça m'a fait perdre de ma bonne humeur et puis voilà, en cours de rôle, j'ai un petit peu perdu de bienveillance. Je ne suis pas sûre de ce à quoi sert ce texte, mais je n'en aurai aucune espèce d'hostilité à l'encontre de cette saga familiale. Merci à vous Jacqueline. Les gestes d'Amanda Sterz est parue chez Stock. Et on termine en beauté, je crois, avec L'Hospitalité au démon, deuxième roman de Constantin Alexandrakis. Un homme devient père et son enfant se ressurgit. Celle d'un gamin qui fut abusé sexuellement entre 9 et 14 ans par un ami de sa mère. Cet homme, que l'auteur appelle le père, ou la DTBPF pour Dark Tentative du Bon Père de Famille, cet homme donc va se lancer dans la cartographie, je cite, du grand continent des violences sexuelles. Il revient sur des œuvres comme Lolita de Mme Nabokov, celle de l'artiste contemporain Claude Lévesque, la filmographie l'américain Larry Clark, il cite un passage du journal de Michel Pollack, etc. Un continent, vous dis-je. Et en dressant cette cartographie collective, le père tente d'établir aussi une cartographie de lui-même, de sa propre violence, son désir d'autodestruction, de sa peur de reproduire les actes qu'il a subis. Je précise que ce n'est pas un livre témoignage. Le narrateur parle d'un lieu fictif et shakespearien, le royaume du Danemark, où il y a quelque chose de pourri, comme dirait l'autre. Certains mots sont écrits avec une graphie particulière, comme s'il s'agissait d'une langue étrangère, mais qu'on déchiffre très bien. C'est peut-être que la langue du démon, c'est une langue qu'on connaît tous à coup sûr. Enfin, ce roman de Constantin Alexandracchi s'est préfacé par Neige Sino, autrice de Triste Tigre, qui écrit, je cite, on ne lit pas uniquement pour se connaître on lit aussi pour être déplacé Hubert Alors moi je trouve que là pour le coup c'est l'autofiction dans le sens le plus universel et le plus contemporain et le plus politique donc le plus littéraire à mon sens du terme parce que là pour le coup il revient un peu sur la matière de son premier livre il y a quelques années également chez Vertical où il racontait son voyage en Grèce à la rencontre d'un père qui au début ne l'avait pas reconnu et il fait un peu une phase B avec à mon sens beaucoup plus de dramaturgie beaucoup plus de verbes, la trouvaille de ces mots de police caractères différents dès que ça devient politique, dès que ça devient sur les sujets, justement, des déviances sexuelles, du crime sexuel, de la prédation, du crime, quoi. Et d'ailleurs, assez rapidement, il en vient évoquer, justement, les années MeToo, et c'est le moment à Adèle Haenel, et dans la foulée, la publication, là, je le cite, du livre de Vanessa Springora, une façon inédite d'apparaître, la classe, tout sauf le dépotoir, elles sont plus fortes que lui, lui, avec un grand L, parce que le narrateur parle de lui, la troisième personne, et à partir de là, on va s'apercevoir qu'il va parler de ce qui lui est arrivé. Forcément, il a été abusé sexuellement, c'est moins qu'on puisse dire, par un proche de sa famille et il n'a pas pu porter plainte. Et là, il va se poser la question de s'il porte plainte. Sauf qu'il va approcher à des moments des structures qui devraient l'aider et qui n'aident pas. Et donc, c'est un livre sur comment est-ce qu'on croit quelqu'un qui a été victime de viol, d'inceste, de prédation. Parce qu'il y a toujours un moment où on croit que le violer a les mêmes mots que le violeur, que l'agressé a les mêmes mot que l'agresseur. C'est ce qui lui arrive à un moment ici, et c'est ça que pose le livre comme question, et c'est pour ça qu'il cite aussi sa propre femme, l'amour de sa fille, et puis la fille, parce que tout ça lui vient au narrateur, parce qu'à un moment il s'élève contre sa fille, et il a peur de développer l'instinct, lui aussi, de prélation sur sa fille. Raphaël ? Ce livre m'a bouleversée, ce qui me touche beaucoup, je crois, c'est cette impression de voir quelqu'un qui se débat avec sa conscience, qui est enfermé à l'intérieur de cette conscience, qui se bat avec lui, et qui patauge, il l'écrit dans le sombre, et il essaye de mettre de la lumière, et la lumière, elle passe par cette inventivité littéraire, il y a une énergie de la langue qui est folle, et ça rappelle un petit peu Neige Sino, qui elle-même parlait de son propre petit ton bravache, et il a de ça, il a quelque chose qui fait la nique à la mort et au sombre, en passant par une forme d'humour, par une vitalité littéraire et d'écriture que je trouve extrêmement forte, le titre est très très beau il s'interroge sur la manière dont lui donne hospitalité au démon sur le fait c'est une forme d'aliénation la certitude d'aurait été le démon mais c'est aussi l'hospitalité que la société accorde au démon d'où aussi cette cartographie passionnante de la façon dont les oeuvres infusent Jean-Marc ce livre m'a profondément touché par son honnêteté et par le terrible sentiment d'impuissance que j'ai ressenti à le lire c'est vraiment le récit d'un homme seul qui se bat avec cette histoire qui en parle tout le temps autour de lui, c'est ce qu'il nous dit. Il fait une psychanalyse, il y a ce livre-enquête où il va aller chercher des réponses dans la psychanalyse, dans la littérature, il va dans cette cellule d'écoute dont tu as parlé Hubert, qui fait son travail, mais qui en même temps est incapable de lui venir en aide. Donc moi je me suis dit, en fait, quand on a vécu quelque chose comme ça, on est seul tout le temps et toute sa vie. Et moi comme lecteur, j'ai ressenti cette impuissance. Et puis il y a ce style que tu as évoqué, avec ces lettres, alors ça mêle de l'écriture inclusive, des mots écrits à l'envers, des mots étirés, etc. et puis du graphisme qui fait qu'au bout d'un moment les mots deviennent quasiment illisibles et vous connaissez mon conservatisme stylistique et bien non, là j'ai trouvé qu'il y avait vraiment une adéquation entre le fond et la forme parce que quand ces mots sont presque illisibles c'est tout le bouillonnement intérieur, la rage c'est le juron qui s'exprime. En revanche il y a quelque chose, j'ai fait une petite parenthèse qui m'a un peu choqué, c'est-à-dire qu'à un moment donné il nous dresse une liste des pédophilies ou des sympathisants de la pédophilie avec notamment la fameuse pétition de 1977 où la fine fleur des intellectuels français prend fait et cause pour trois pédophiles en disant quelques caresses ne valent pas trois ans de prison. Et dans cette liste, il ajoute des gens comme le Marquis de Sade, le pain de Balthus, Michael Jackson, pour avoir une sorte de culture de la pédophilie. Et il y met Robert Bresson. Je ne sais pas ce que fait Robert Bresson là-dedans. Je pense qu'il a mis Robert Bresson par erreur parce que c'est l'ami d'Éric Romère qui est le frère d'un dessinataire de la pétition. Et moi, ça me chagrine d'autant plus que Robert Bresson, avec le film Mouchette en 67, est à ma connaissance un des premiers cinéastes à aborder frontalement la question de la pédophilie. C'est dommage, à mon avis, c'est le seul petit problème dans ce livre que j'ai trouvé vraiment remarquable. Elisabeth ? Cette cartographie du démon, c'est de montrer que la pédocriminalité, elle est partout, qu'elle prend des visages extrêmement différents. Et cette cartographie des violences sexistes et sexuelles, qu'il essaye d'établir, elle nous montre à quel point c'est systématique, systémique, c'est partout. Et il fait énormément de références à la mythologie, parce que finalement, cette pédocriminalité qui est partout, qui nous environne, c'est aussi un récit fondateur, un récit noir, mais fondateur de notre société bien malheureusement et qu'il essaye de contrer avec ses pauvres moyens mais qui sont les moyens de la langue moi j'ai beaucoup pensé au tableau de Francis Bacon parce que je voyais ce combat, cet homme combattre comme il pouvait cette violence qui est absolument omniprésente et je voyais ces corps tordus de Francis Bacon mais là c'est la langue qui est tordue, qui prend des torsions vous avez tous évoqué ces jeux typographiques qui sont assez spectaculaires et à un moment il cite cet échange que tout le monde a certainement en mémoire entre Sandrine Rousseau et Christine Angot Sandrine Rousseau qui dit mais comment on fait face à ça et Christine Angot qui répond mais on se débrouille parce qu'on est toujours seul et c'est ça qui ressort de ce livre c'est qu'on est toujours seul face à ça et en même temps d'avoir ces livres, un livre comme celui de Constantin Alexandrakis, d'avoir les livres de Vanessa Springora de Camille Kouchner et d'autres ça permet de se sentir moins seule et je trouve que là la littérature joue un rôle absolument majeur et ce livre est formidable, lisez-le L'Hospitalité au démon de Constantin Alexandrakis est publié chez Vertical Et voici venue l'heure de vos coups de cœur C'est à toi Raphaël qui ouvre le bal Quel est donc ton tourment de Sigrid Nunez qui parait au livre de poche dans une traduction de Mathilde Bach Je crois que ce que j'aime le plus au monde ce sont les gens qui parlent des choses graves sans en faire des tonnes, sans en faire des caisses et ça c'est une des formes de génie, de talent de Sigrid Nunez qui est l'une des meilleures nouvelles qui sont arrivées à littérature dans les dix dernières années de mon point de vue, je le dis vraiment avec mesure c'est le livre dont est adapté le nouveau film d'Almodovar qui n'a pas ce titre là, qui est à la chambre d'à côté mais ce titre, quel est donc ton tourment c'est une phrase empruntée à la philosophe Simone Veil qui disait que l'amour d'autrui ça devrait être de dire à tous les gens qu'on croise quel est ton tourment l'intrigue de départ est une femme à qui une amie proche lui demande d'être à ses côtés avant sa mort parce qu'elle sait qu'elle est condamnée et qu'elle va se suicider, elle ne lui dira pas quand, c'est juste qu'elle doit l'accompagner ça peut avoir l'air terriblement plombant, et c'est le contraire. C'est un texte d'une vitalité, d'une intelligence, d'une rôlerie, d'une beauté merveilleuse, réjouissante, qui donne extrêmement envie de vivre et de lire. Quel est donc ton tourment de Sigrid Nunez au livre de poche ? Jean-Marc ? Alors moi, ça ne se lit pas, ça s'écoute. C'est le Club des Poètes aux 30 Rues de Bourgogne à Paris. C'est un petit resto de 30 places. On a l'impression d'être plongé à Paris en 1920, Paris-Montparnasse. Vous êtes accueilli par des gens qui ressemblent à Aristide Bruand. vous allez manger, alors c'est pas très vegan friendly, on trouve une salade mais c'est plutôt saucisse-lantille et vous allez trouver des personnes qui vont pas vous réciter de la poésie mais vous dire de la poésie, ce sera Desnos Rimbaud, Anna de Noailles ou comme ils le disent, une poétesse polonaise de la fin du 19ème siècle un peu oubliée aujourd'hui, dont personnellement j'ai jamais entendu parler, mais au moment où il y a quelqu'un qui commence à dire cette poésie vous en avez facilement 3 ou 4 dans la salle qui la connaissent par coeur et vous pouvez entendre également des poètes d'aujourd'hui Moi, j'ai entendu Samuel Devins dire certains de ses poèmes. Mon conseil, c'est d'y aller relativement tôt. C'est cinq jours par semaine, plutôt 19h, 19h30, si vous voulez avoir une place assise. Et à 21h, on commence à entendre de la poésie. Le club des poètes, donc ça risque d'être plein aux 30 rues de Bourgogne. Elisabeth. Alors moi aussi, c'est un livre de poche. C'est Mandelson et sur le toit de Yerji Weil, qui paraît aux éditions 10-18 et qui est traduit du tchèque par Erika Abrams. Alors Yerji Weil, c'est un écrivain tchèque de la première moitié du XXe siècle, qu'admirait énormément Philippe Ross et que cite beaucoup Vanessa Springora dans Patrony mais d'ailleurs c'est elle qui m'a donné envie de le lire et par miracle, les éditions 10-18 font paraître deux des chefs-d'oeuvre de Yerjee Weill, Vivre avec une étoile et Mandelsonner sur le toit, ça se passe à Prague pendant la Seconde Guerre mondiale donc Prague qui est occupée par les Allemands sous le contrôle de l'épouvantable Eidrich, Eidrich qui au sortir d'un concert constate avec effroi que sur le toit de l'Académie de musique, parmi les statues, il y en a une de Mandelson, petit-fils de rabbin et compositeur de notre chair fileuse du générique du masque et la plume. Et donc, Aydrich, fou de colère, exige, ordonne à ses sbires de déboulonner la statue de Mandelson. Petit problème, les SS complètement débiles et ignares qui sont chargés de la tâche ne savent pas reconnaître la statue de Mandelson. Donc, à partir de cette farce très féroce, très drôle, Girdjivail décrit aussi la vie quotidienne à Prague sous l'occupation et c'est un texte remarquable, à la fois très drôle et très poignant. À toi, Hubert. Alors moi je vais parler polar puisqu'on en parlait au tout début de l'émission Puis moi c'est quand même un genre que j'investigue et que je chronique beaucoup Avec aux éditions du Masque Vient de paraître le troisième roman de Gabriel Massat, athée à la fin Mais c'est du sud-ouest donc on prononce l'été, Gabriel Massat Qui s'appelle Gracier la bête Et il n'est pas sans rapport avec le livre de Constantin Alexandracchi dont on a parlé puisque là Le trait de l'aide sociale à l'enfance et des manques de moyens que met L'État actuellement Il y a un éducateur qui fonce Dans les causes vers Albi avec sa moto Pourquoi il fonce ? Parce qu'il faut qu'il retrouve une mineure du centre où il travaillait qui vient de fuguer. Pourquoi elle a fugué ? Parce qu'il avait levé la main sur elle, évidemment. Ça ne se fait aucunement. Évidemment, elle culpabilise. Il faut absolument qu'il la retrouve, sauf qu'elle a eu un accident au cours de sa fugue. Elle est dans le coma. Donc, il va se rendre à l'hôpital. Pour réussir à la ramener à la vie, il se dit il faut que je sache des choses sur sa mère. Pourtant, sa mère est officiellement morte. Mais tu ne vas pas pouvoir tout nous raconter, Hubert. Je suis désolée. La manière de la ramener en vie, c'est de dire ce qui est arrivé à sa mère. Peut-être qu'elle a encore en vie ou peut-être pas et comment. donc on a une course poursuite entre divers intrigues criminelles dans ses causes Albi, un mec qui est toujours en dehors des clous c'est entre Jim Thompson et justement un peu d'humour de Jean-Yves Chouz parce que c'est aussi une reine de la vanne quand même mine de rien, avec un roman réaliste sur l'aide sociale en France en France, en France aujourd'hui, donc c'est vraiment une très belle apparition depuis trois romans, Gabriel Massat Graciez la bête aux éditions du bien nommé Masque et pour ma part je clôt ses premiers coups de coeur de l'année avec la bande dessinée d'un auteur britannique qui s'appelle Will McFale. Will McFale est l'un des dessinateurs importants du magazine Le New Yorker. Et il y a près d'un an, il a publié sa toute première bande dessinée intitulée Au-dedans. Alors, je ne vous en parle que maintenant, d'une part parce que je suis complètement passée à côté, et d'autre part parce que ce livre vient d'être lauréat du prix BD FNAC France Inter, qui couronne un album de l'année écoulée. Alors, l'une des promesses de Spree dont j'ai l'honneur d'être la marraine, c'est de faire découvrir de nouveaux talents. et là il s'appelle donc Will McFale il dessine son alter ego dans son livre c'est un jeune New Yorkais célibataire qui adore errer dans les cafés selon ses humeurs qui fait des boulots alimentaires, qui regarde du porno qui écoute Johnny Mitchell qui aide sa mère dans des chantiers d'appartement à l'occasion et ce garçon traverse l'existence dans une bulle, c'est à dire qu'il n'est concerné par pas grand chose et il est à l'abri de toute sensation jusqu'au jour où la ville rattrape et c'est vraiment un livre sur les gestes, sur les regards c'est extrêmement précis entre un noir et blanc épuré et de grands tableaux en couleurs, il y a aussi tout le poids, la drôlerie du jeu social, donc notamment une première nuit d'amour où je n'avais jamais lu ça dans une bande dessinée racontée de cette façon, je ne vous en dirai pas plus parce que c'est vraiment un récit qui déjoue toutes nos attentes, je vous redonne le titre Au-dedans, de Will McFale traduit par Basile Bégury et publié chez 404 Graphiques, le tout est lauréat du prix BD FNAC France Inter. Jean-Marc Proust, Raphaël Léris, Elisabeth Philippe, Hubert Arthus, merci pour vos lectures. Les prochains enregistrements du masque auront lieu le jeudi 16 janvier. Nous parlerons de l'actualité du cinéma et continuerons de débattre de la rentrée littéraire de ce début d'année. ... ... ... ... ... ... ... ... ... ... ... ... ... ... Merci. Sous-titrage ST' 501 Sous-titrage ST' 501 Sous-titrage Société Radio-Canada Merci.\",\n",
       " 'type': 'livres',\n",
       " 'duree': 2921}"
      ]
     },
     "execution_count": null,
     "metadata": {},
     "output_type": "execute_result"
    }
   ],
   "source": [
    "episodes[0]"
   ]
  },
  {
   "cell_type": "markdown",
   "metadata": {},
   "source": [
    "# extract py"
   ]
  },
  {
   "cell_type": "code",
   "execution_count": null,
   "metadata": {},
   "outputs": [],
   "source": [
    "from nbdev.export import nb_export\n",
    "\n",
    "nb_export(\"py mongo helper episodes.ipynb\", \".\")"
   ]
  },
  {
   "cell_type": "code",
   "execution_count": null,
   "metadata": {},
   "outputs": [],
   "source": []
  }
 ],
 "metadata": {
  "kernelspec": {
   "display_name": "python3",
   "language": "python",
   "name": "python3"
  }
 },
 "nbformat": 4,
 "nbformat_minor": 2
}
