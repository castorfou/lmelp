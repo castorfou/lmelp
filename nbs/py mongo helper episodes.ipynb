{
 "cells": [
  {
   "cell_type": "code",
   "execution_count": null,
   "metadata": {},
   "outputs": [],
   "source": [
    "# |default_exp mongo_episode"
   ]
  },
  {
   "cell_type": "code",
   "execution_count": null,
   "metadata": {},
   "outputs": [
    {
     "name": "stdout",
     "output_type": "stream",
     "text": [
      "{'_id': ObjectId('677a49b9a990da752d27b67d'), 'operation': 'delete', 'entite': 'critiques', 'desc': 'Patricia Martin', 'date': datetime.datetime(2025, 1, 5, 9, 58, 33, 718000)}\n",
      "{'_id': ObjectId('677a49b9a990da752d27b67a'), 'operation': 'insert', 'entite': 'critiques', 'desc': 'Patricia Martin', 'date': datetime.datetime(2025, 1, 5, 9, 58, 33, 714000)}\n",
      "{'_id': ObjectId('677a49b9a990da752d27b676'), 'operation': 'delete', 'entite': 'editeurs', 'desc': 'Gallimard', 'date': datetime.datetime(2025, 1, 5, 9, 58, 33, 688000)}\n",
      "{'_id': ObjectId('677a49b9a990da752d27b673'), 'operation': 'insert', 'entite': 'editeurs', 'desc': 'Gallimard', 'date': datetime.datetime(2025, 1, 5, 9, 58, 33, 684000)}\n",
      "{'_id': ObjectId('677a49b9a990da752d27b66f'), 'operation': 'delete', 'entite': 'auteurs', 'desc': 'Victor Hugo', 'date': datetime.datetime(2025, 1, 5, 9, 58, 33, 656000)}\n"
     ]
    }
   ],
   "source": [
    "from mongo import print_logs\n",
    "\n",
    "print_logs(5)"
   ]
  },
  {
   "cell_type": "markdown",
   "metadata": {},
   "source": [
    "# Episode entity"
   ]
  },
  {
   "cell_type": "code",
   "execution_count": null,
   "metadata": {},
   "outputs": [],
   "source": [
    "# |export\n",
    "\n",
    "from bson import ObjectId\n",
    "from mongo import get_collection, get_DB_VARS, mongolog\n",
    "from datetime import datetime\n",
    "\n",
    "DATE_FORMAT = \"%Y-%m-%dT%H:%M:%S.%f%z\"\n",
    "\n",
    "\n",
    "class Episode:\n",
    "    def __init__(self, date: str, titre: str, collection_name: str = \"episodes\"):\n",
    "        \"\"\"\n",
    "        Episode is a class that represents a generic Episode entity in the database.\n",
    "        :param date: The date for this episode at the format \"2024-12-22T09:59:39.000+00:00\" parsed by \"%Y-%m-%dT%H:%M:%S.%f%z\".\n",
    "        :param titre: The title of this episode.\n",
    "        :param collection_name: The name of the collection. default: \"episodes\".\n",
    "        \"\"\"\n",
    "        DB_HOST, DB_NAME, _ = get_DB_VARS()\n",
    "        self.collection = get_collection(\n",
    "            target_db=DB_HOST, client_name=DB_NAME, collection_name=collection_name\n",
    "        )\n",
    "        self.date = date\n",
    "        self.titre = titre\n",
    "\n",
    "    def exists(self) -> bool:\n",
    "        \"\"\"\n",
    "        Check if the episode exists in the database.\n",
    "        :return: True if the episode exists, False otherwise.\n",
    "        \"\"\"\n",
    "        return (\n",
    "            self.collection.find_one({\"titre\": self.titre, \"date\": self.date})\n",
    "            is not None\n",
    "        )\n",
    "\n",
    "    def keep(self):\n",
    "        \"\"\"\n",
    "        Keep the episode in the database.\n",
    "        \"\"\"\n",
    "        if not self.exists():\n",
    "            mongolog(\"insert\", self.collection.name, f\"{self.date} - {self.titre}\")\n",
    "            self.collection.insert_one({\"titre\": self.titre, \"date\": self.date})\n",
    "        else:\n",
    "            mongolog(\"update\", self.collection.name, f\"{self.date} - {self.titre}\")\n",
    "\n",
    "    def remove(self):\n",
    "        \"\"\"\n",
    "        Remove the episode from the database.\n",
    "        \"\"\"\n",
    "        self.collection.delete_one({\"titre\": self.titre, \"date\": self.date})\n",
    "        mongolog(\"delete\", self.collection.name, f\"{self.date} - {self.titre}\")\n",
    "\n",
    "    def get_oid(self) -> ObjectId:\n",
    "        \"\"\"\n",
    "        Get the object id of the episode.\n",
    "        :return: The object id of the episode. (bson.ObjectId)\n",
    "        None if does not exist.\n",
    "        \"\"\"\n",
    "        document = self.collection.find_one({\"titre\": self.titre, \"date\": self.date})\n",
    "        if document:\n",
    "            return document[\"_id\"]\n",
    "        else:\n",
    "            return None\n",
    "\n",
    "    @staticmethod\n",
    "    def get_date_from_string(date: str) -> datetime:\n",
    "        \"\"\"\n",
    "        Get the datetime object from a string.\n",
    "        :param date: The date string.\n",
    "        :return: The datetime object.\n",
    "        \"\"\"\n",
    "        return datetime.strptime(date, DATE_FORMAT)\n",
    "\n",
    "    @staticmethod\n",
    "    def get_string_from_date(date: datetime, format: str = None) -> str:\n",
    "        \"\"\"\n",
    "        Get the string from a datetime object.\n",
    "        :param date: The datetime object.\n",
    "        :param format: The format of the string. default: None and DATE_FORMAT will be used.\n",
    "        :return: The date string.\n",
    "        \"\"\"\n",
    "        if format is not None:\n",
    "            return date.strftime(format)\n",
    "        else:\n",
    "            return date.strftime(DATE_FORMAT)"
   ]
  },
  {
   "cell_type": "markdown",
   "metadata": {},
   "source": [
    "# RSS_episode"
   ]
  },
  {
   "cell_type": "code",
   "execution_count": null,
   "metadata": {},
   "outputs": [],
   "source": [
    "# |export\n",
    "\n",
    "\n",
    "class RSS_episode(Episode):\n",
    "    def __init__(self, date: str, titre: str):\n",
    "        \"\"\"\n",
    "        RSS_episode is a class that represents an RSS episode in the database episodes.\n",
    "        :param date: The date for this episode at the format \"2024-12-22T09:59:39.000+00:00\" parsed by \"%Y-%m-%dT%H:%M:%S.%f%z\".\n",
    "        :param titre: The title of this episode.\n",
    "        \"\"\"\n",
    "        super().__init__(date, titre)"
   ]
  },
  {
   "cell_type": "code",
   "execution_count": null,
   "metadata": {},
   "outputs": [
    {
     "name": "stdout",
     "output_type": "stream",
     "text": [
      "Est-ce que l episode existe ? False\n",
      "et maintenant, st-ce que rss1 existe ? True\n",
      "et voici l'id de rss1 : 6783927d24dc07fa7b62ab27\n",
      "après nettoyage, est-ce que rss1 existe ? False\n",
      "et son oid : None\n"
     ]
    }
   ],
   "source": [
    "from datetime import datetime\n",
    "\n",
    "now = datetime.now()\n",
    "\n",
    "rss1 = RSS_episode(RSS_episode.get_string_from_date(now), \"test RSS 1\")\n",
    "print(f\"Est-ce que l episode existe ? {rss1.exists()}\")\n",
    "\n",
    "rss1.keep()\n",
    "print(f\"et maintenant, st-ce que rss1 existe ? {rss1.exists()}\")\n",
    "print(f\"et voici l'id de rss1 : {rss1.get_oid()}\")\n",
    "\n",
    "rss1.remove()\n",
    "print(f\"après nettoyage, est-ce que rss1 existe ? {rss1.exists()}\")\n",
    "print(f\"et son oid : {rss1.get_oid()}\")"
   ]
  },
  {
   "cell_type": "code",
   "execution_count": null,
   "metadata": {},
   "outputs": [
    {
     "name": "stdout",
     "output_type": "stream",
     "text": [
      "{'_id': ObjectId('6783927d24dc07fa7b62ab29'), 'operation': 'delete', 'entite': 'episodes', 'desc': '2025-01-12T10:59:25.461228 - test RSS 1', 'date': datetime.datetime(2025, 1, 12, 10, 59, 25, 490000)}\n",
      "{'_id': ObjectId('6783927d24dc07fa7b62ab26'), 'operation': 'insert', 'entite': 'episodes', 'desc': '2025-01-12T10:59:25.461228 - test RSS 1', 'date': datetime.datetime(2025, 1, 12, 10, 59, 25, 478000)}\n",
      "{'_id': ObjectId('6783920b24dc07fa7b62ab22'), 'operation': 'delete', 'entite': 'episodes', 'desc': {'titre': 'test RSS 1', 'date': '2025-01-12T10:57:31.901774'}, 'date': datetime.datetime(2025, 1, 12, 10, 57, 31, 937000)}\n",
      "{'_id': ObjectId('6783920b24dc07fa7b62ab1f'), 'operation': 'insert', 'entite': 'episodes', 'desc': '2025-01-12T10:57:31.901774 - test RSS 1', 'date': datetime.datetime(2025, 1, 12, 10, 57, 31, 921000)}\n",
      "{'_id': ObjectId('677a49b9a990da752d27b67d'), 'operation': 'delete', 'entite': 'critiques', 'desc': 'Patricia Martin', 'date': datetime.datetime(2025, 1, 5, 9, 58, 33, 718000)}\n"
     ]
    }
   ],
   "source": [
    "print_logs(5)"
   ]
  },
  {
   "cell_type": "markdown",
   "metadata": {},
   "source": [
    "# extract py"
   ]
  },
  {
   "cell_type": "code",
   "execution_count": null,
   "metadata": {},
   "outputs": [],
   "source": [
    "from nbdev.export import nb_export\n",
    "\n",
    "nb_export(\"py mongo helper episodes.ipynb\", \".\")"
   ]
  },
  {
   "cell_type": "code",
   "execution_count": null,
   "metadata": {},
   "outputs": [],
   "source": []
  }
 ],
 "metadata": {
  "kernelspec": {
   "display_name": "python3",
   "language": "python",
   "name": "python3"
  }
 },
 "nbformat": 4,
 "nbformat_minor": 2
}
