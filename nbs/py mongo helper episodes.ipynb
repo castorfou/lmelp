{
 "cells": [
  {
   "cell_type": "code",
   "execution_count": null,
   "metadata": {},
   "outputs": [],
   "source": [
    "# |default_exp mongo_episode"
   ]
  },
  {
   "cell_type": "code",
   "execution_count": null,
   "metadata": {},
   "outputs": [
    {
     "name": "stdout",
     "output_type": "stream",
     "text": [
      "{'_id': ObjectId('6796555bcca048ceac6e4c03'), 'operation': 'update', 'entite': 'episodes', 'desc': '18 déc. 1958 00:00 - Le Masque et les Goncourt : \"Saint-Germain ou la Négociation\" de Francis Walder, 1958', 'date': datetime.datetime(2025, 1, 26, 16, 31, 39, 156000)}\n",
      "{'_id': ObjectId('6796555acca048ceac6e4bfa'), 'operation': 'update', 'entite': 'episodes', 'desc': '26 Jan 2025 10:59 - Les nouveaux romans de Leïla Slimani, Pierre Lemaître, Jeanne Rivière, Nathalie Azoulai, Milena Agus', 'date': datetime.datetime(2025, 1, 26, 16, 31, 38, 218000)}\n",
      "{'_id': ObjectId('67965557cca048ceac6e4bf7'), 'operation': 'delete', 'entite': 'episodes', 'desc': '26 Jan 2025 16:31 - test RSS 1', 'date': datetime.datetime(2025, 1, 26, 16, 31, 35, 288000)}\n",
      "{'_id': ObjectId('67965557cca048ceac6e4bf4'), 'operation': 'insert', 'entite': 'episodes', 'desc': '26 Jan 2025 16:31 - test RSS 1', 'date': datetime.datetime(2025, 1, 26, 16, 31, 35, 281000)}\n",
      "{'_id': ObjectId('67965255ca0a9456f50ed099'), 'operation': 'update', 'entite': 'episodes', 'desc': '18 déc. 1958 00:00 - Le Masque et les Goncourt : \"Saint-Germain ou la Négociation\" de Francis Walder, 1958', 'date': datetime.datetime(2025, 1, 26, 16, 18, 45, 827000)}\n"
     ]
    }
   ],
   "source": [
    "from mongo import print_logs\n",
    "\n",
    "print_logs(5)"
   ]
  },
  {
   "cell_type": "markdown",
   "metadata": {},
   "source": [
    "\n",
    "# Episode entity"
   ]
  },
  {
   "cell_type": "code",
   "execution_count": null,
   "metadata": {},
   "outputs": [],
   "source": [
    "# |export\n",
    "\n",
    "import os\n",
    "from git import Repo\n",
    "\n",
    "AUDIO_PATH = \"audios\"\n",
    "\n",
    "\n",
    "def get_audio_path(audio_path=AUDIO_PATH, year: str = \"2024\"):\n",
    "    \"\"\"\n",
    "    audio_path: str\n",
    "        relative path to audio files\n",
    "    will add year as subdirectory\n",
    "    return full audio path and create dir if it doesn t exist\n",
    "    \"\"\"\n",
    "\n",
    "    def get_git_root(path):\n",
    "        git_repo = Repo(path, search_parent_directories=True)\n",
    "        return git_repo.git.rev_parse(\"--show-toplevel\")\n",
    "\n",
    "    project_root = get_git_root(os.getcwd())\n",
    "    full_audio_path = os.path.join(project_root, audio_path, year)\n",
    "\n",
    "    # create dir if it doesn t exist\n",
    "    if not os.path.exists(full_audio_path):\n",
    "        os.makedirs(full_audio_path)\n",
    "\n",
    "    return full_audio_path"
   ]
  },
  {
   "cell_type": "code",
   "execution_count": null,
   "metadata": {},
   "outputs": [
    {
     "data": {
      "text/plain": [
       "'/home/guillaume/git/lmelp/audios/2024'"
      ]
     },
     "execution_count": null,
     "metadata": {},
     "output_type": "execute_result"
    }
   ],
   "source": [
    "get_audio_path(AUDIO_PATH)"
   ]
  },
  {
   "cell_type": "code",
   "execution_count": null,
   "metadata": {},
   "outputs": [
    {
     "data": {
      "text/plain": [
       "'/home/guillaume/git/lmelp/audios/'"
      ]
     },
     "execution_count": null,
     "metadata": {},
     "output_type": "execute_result"
    }
   ],
   "source": [
    "get_audio_path(AUDIO_PATH, year=\"\")"
   ]
  },
  {
   "cell_type": "code",
   "execution_count": null,
   "metadata": {},
   "outputs": [],
   "source": [
    "# |export\n",
    "\n",
    "import torch\n",
    "from transformers import AutoModelForSpeechSeq2Seq, AutoProcessor, pipeline\n",
    "from datasets import load_dataset\n",
    "\n",
    "import dbus\n",
    "import time\n",
    "from functools import wraps\n",
    "\n",
    "\n",
    "def prevent_sleep(func):\n",
    "    @wraps(func)\n",
    "    def wrapper(*args, **kwargs):\n",
    "        # Connexion au bus D-Bus\n",
    "        bus = dbus.SessionBus()\n",
    "        proxy = bus.get_object(\n",
    "            \"org.freedesktop.ScreenSaver\", \"/org/freedesktop/ScreenSaver\"\n",
    "        )\n",
    "        interface = dbus.Interface(proxy, \"org.freedesktop.ScreenSaver\")\n",
    "\n",
    "        # Prévenir la mise en veille\n",
    "        cookie = interface.Inhibit(\"my_script\", \"Long running process\")\n",
    "        print(\"Mise en veille désactivée\")\n",
    "\n",
    "        try:\n",
    "            # Exécuter la fonction décorée\n",
    "            result = func(*args, **kwargs)\n",
    "            return result\n",
    "        finally:\n",
    "            # Réactiver la mise en veille normale\n",
    "            interface.UnInhibit(cookie)\n",
    "            print(\"Mise en veille normale réactivée\")\n",
    "\n",
    "    return wrapper\n",
    "\n",
    "\n",
    "@prevent_sleep\n",
    "def extract_whisper(mp3_filename):\n",
    "\n",
    "    device = \"cuda:0\" if torch.cuda.is_available() else \"cpu\"\n",
    "    torch_dtype = torch.float16 if torch.cuda.is_available() else torch.float32\n",
    "\n",
    "    model_id = \"openai/whisper-large-v3-turbo\"\n",
    "\n",
    "    model = AutoModelForSpeechSeq2Seq.from_pretrained(\n",
    "        model_id, torch_dtype=torch_dtype, low_cpu_mem_usage=True, use_safetensors=True\n",
    "    )\n",
    "    model.to(device)\n",
    "\n",
    "    processor = AutoProcessor.from_pretrained(model_id)\n",
    "\n",
    "    pipe = pipeline(\n",
    "        \"automatic-speech-recognition\",\n",
    "        model=model,\n",
    "        tokenizer=processor.tokenizer,\n",
    "        feature_extractor=processor.feature_extractor,\n",
    "        torch_dtype=torch_dtype,\n",
    "        device=device,\n",
    "    )\n",
    "\n",
    "    dataset = load_dataset(\n",
    "        \"distil-whisper/librispeech_long\", \"clean\", split=\"validation\"\n",
    "    )\n",
    "    sample = dataset[0][\"audio\"]\n",
    "\n",
    "    result = pipe(\n",
    "        mp3_filename,\n",
    "        return_timestamps=True,\n",
    "    )\n",
    "\n",
    "    return result[\"text\"]"
   ]
  },
  {
   "cell_type": "code",
   "execution_count": null,
   "metadata": {},
   "outputs": [],
   "source": [
    "# |export\n",
    "\n",
    "from bson import ObjectId\n",
    "from mongo import get_collection, get_DB_VARS, mongolog\n",
    "from datetime import datetime\n",
    "import requests\n",
    "from typing import Dict\n",
    "\n",
    "DATE_FORMAT = \"%Y-%m-%dT%H:%M:%S\"\n",
    "LOG_DATE_FORMAT = \"%d %b %Y %H:%M\"\n",
    "\n",
    "\n",
    "class Episode:\n",
    "    def __init__(self, date: str, titre: str, collection_name: str = \"episodes\"):\n",
    "        \"\"\"\n",
    "        Episode is a class that represents a generic Episode entity in the database.\n",
    "        :param date: The date for this episode at the format \"2024-12-22T09:59:39\" parsed by \"%Y-%m-%dT%H:%M:%S\".\n",
    "        :param titre: The title of this episode.\n",
    "        :param collection_name: The name of the collection. default: \"episodes\".\n",
    "\n",
    "        if this episode already exists in DB, loads it\n",
    "        \"\"\"\n",
    "        DB_HOST, DB_NAME, _ = get_DB_VARS()\n",
    "        self.collection = get_collection(\n",
    "            target_db=DB_HOST, client_name=DB_NAME, collection_name=collection_name\n",
    "        )\n",
    "        self.date = Episode.get_date_from_string(date)\n",
    "        self.titre = titre\n",
    "\n",
    "        if self.exists():\n",
    "            episode = self.collection.find_one({\"titre\": self.titre, \"date\": self.date})\n",
    "            self.description = episode.get(\"description\")\n",
    "            self.url_telechargement = episode.get(\"url\")\n",
    "            self.audio_rel_filename = episode.get(\"audio_rel_filename\")\n",
    "            self.transcription = episode.get(\"transcription\")\n",
    "            self.type = episode.get(\"type\")\n",
    "            self.duree = episode.get(\"duree\")\n",
    "        else:\n",
    "            self.description = None\n",
    "            self.url_telechargement = None\n",
    "            self.audio_rel_filename = None\n",
    "            self.transcription = None\n",
    "            self.type = None\n",
    "            self.duree = -1  # in seconds\n",
    "\n",
    "    @classmethod\n",
    "    def from_oid(cls, oid: ObjectId, collection_name: str = \"episodes\") -> \"Episode\":\n",
    "        \"\"\"\n",
    "        Create an episode from an oid of a mongo entry.\n",
    "        :param oid: oid as ObjectId.\n",
    "        :return: The Eepisode.\n",
    "        \"\"\"\n",
    "\n",
    "        DB_HOST, DB_NAME, _ = get_DB_VARS()\n",
    "        collection = get_collection(\n",
    "            target_db=DB_HOST, client_name=DB_NAME, collection_name=collection_name\n",
    "        )\n",
    "\n",
    "        document = collection.find_one({\"_id\": oid})\n",
    "\n",
    "        date_doc_str = cls.get_string_from_date(document.get(\"date\"), DATE_FORMAT)\n",
    "        inst = cls(date=date_doc_str, titre=document.get(\"titre\"))\n",
    "        return inst\n",
    "\n",
    "    @classmethod\n",
    "    def from_date(cls, date: datetime, collection_name: str = \"episodes\") -> \"Episode\":\n",
    "        \"\"\"\n",
    "        Create an episode from a date of a mongo entry.\n",
    "        :param date: date as datetime.\n",
    "        :return: The Episode.\n",
    "        \"\"\"\n",
    "        DB_HOST, DB_NAME, _ = get_DB_VARS()\n",
    "        collection = get_collection(\n",
    "            target_db=DB_HOST, client_name=DB_NAME, collection_name=collection_name\n",
    "        )\n",
    "\n",
    "        # Convertir la date en début et fin de journée pour la requête\n",
    "        start_date = datetime(date.year, date.month, date.day)\n",
    "        end_date = datetime(date.year, date.month, date.day, 23, 59, 59)\n",
    "\n",
    "        # Rechercher un document dont la date est dans l'intervalle\n",
    "        document = collection.find_one({\"date\": {\"$gte\": start_date, \"$lte\": end_date}})\n",
    "\n",
    "        if document:\n",
    "            date_doc_str = cls.get_string_from_date(document.get(\"date\"), DATE_FORMAT)\n",
    "            inst = cls(date=date_doc_str, titre=document.get(\"titre\"))\n",
    "            return inst\n",
    "        else:\n",
    "            return None\n",
    "\n",
    "    def exists(self) -> bool:\n",
    "        \"\"\"\n",
    "        Check if the episode exists in the database.\n",
    "        :return: True if the episode exists, False otherwise.\n",
    "        \"\"\"\n",
    "        return (\n",
    "            self.collection.find_one({\"titre\": self.titre, \"date\": self.date})\n",
    "            is not None\n",
    "        )\n",
    "\n",
    "    def keep(self) -> int:\n",
    "        \"\"\"\n",
    "        download the audio file if needed\n",
    "        Keep the episode in the database\n",
    "\n",
    "        retourne 1 si 1 entree est creee en base\n",
    "        0 sinon\n",
    "        \"\"\"\n",
    "        message_log = f\"{Episode.get_string_from_date(self.date, format=LOG_DATE_FORMAT)} - {self.titre}\"\n",
    "        if not self.exists():\n",
    "            print(\n",
    "                f\"Episode du {Episode.get_string_from_date(self.date, format=LOG_DATE_FORMAT)} nouveau: Duree: {self.duree}, Type: {self.type}\"\n",
    "            )\n",
    "            mongolog(\"insert\", self.collection.name, message_log)\n",
    "            self.download_audio(verbose=True)\n",
    "            self.collection.insert_one(\n",
    "                {\n",
    "                    \"titre\": self.titre,\n",
    "                    \"date\": self.date,\n",
    "                    \"description\": self.description,\n",
    "                    \"url\": self.url_telechargement,\n",
    "                    \"audio_rel_filename\": self.audio_rel_filename,\n",
    "                    \"transcription\": self.transcription,\n",
    "                    \"type\": self.type,\n",
    "                    \"duree\": self.duree,\n",
    "                }\n",
    "            )\n",
    "            return 1\n",
    "        else:\n",
    "            print(\n",
    "                f\"Episode du {Episode.get_string_from_date(self.date, format=LOG_DATE_FORMAT)} deja existant\"\n",
    "            )\n",
    "            mongolog(\"update\", self.collection.name, message_log)\n",
    "            return 0\n",
    "\n",
    "    def update_date(self, new_date: datetime):\n",
    "        \"\"\"\n",
    "        Update the date of the episode.\n",
    "        :param new_date: The new date of the episode, datetime format.\n",
    "        \"\"\"\n",
    "        self.collection.update_one(\n",
    "            {\"_id\": self.get_oid()}, {\"$set\": {\"date\": new_date}}\n",
    "        )\n",
    "        message_log = f\"{Episode.get_string_from_date(self.date, format=LOG_DATE_FORMAT)} - {self.titre} -> {Episode.get_string_from_date(new_date, format=LOG_DATE_FORMAT)}\"\n",
    "        self.date = new_date\n",
    "        mongolog(\"force_update\", self.collection.name, message_log)\n",
    "\n",
    "    def remove(self):\n",
    "        \"\"\"\n",
    "        Remove the episode from the database.\n",
    "        \"\"\"\n",
    "        message_log = f\"{Episode.get_string_from_date(self.date, format=LOG_DATE_FORMAT)} - {self.titre}\"\n",
    "        self.collection.delete_one({\"titre\": self.titre, \"date\": self.date})\n",
    "        mongolog(\"delete\", self.collection.name, message_log)\n",
    "\n",
    "    def get_oid(self) -> ObjectId:\n",
    "        \"\"\"\n",
    "        Get the object id of the episode.\n",
    "        :return: The object id of the episode. (bson.ObjectId)\n",
    "        None if does not exist.\n",
    "        \"\"\"\n",
    "        document = self.collection.find_one({\"titre\": self.titre, \"date\": self.date})\n",
    "        if document:\n",
    "            return document[\"_id\"]\n",
    "        else:\n",
    "            return None\n",
    "\n",
    "    @staticmethod\n",
    "    def get_date_from_string(date: str, DATE_FORMAT: str = DATE_FORMAT) -> datetime:\n",
    "        \"\"\"\n",
    "        Get the datetime object from a string.\n",
    "        :param date: The date string.\n",
    "        :return: The datetime object.\n",
    "        \"\"\"\n",
    "        return datetime.strptime(date, DATE_FORMAT)\n",
    "\n",
    "    @staticmethod\n",
    "    def get_string_from_date(date: datetime, format: str = None) -> str:\n",
    "        \"\"\"\n",
    "        Get the string from a datetime object.\n",
    "        :param date: The datetime object.\n",
    "        :param format: The format of the string. default: None and DATE_FORMAT will be used.\n",
    "        :return: The date string.\n",
    "        \"\"\"\n",
    "        if format is not None:\n",
    "            return date.strftime(format)\n",
    "        else:\n",
    "            return date.strftime(DATE_FORMAT)\n",
    "\n",
    "    @staticmethod\n",
    "    def format_duration(seconds: int) -> str:\n",
    "        \"\"\"Convert duration in seconds to HH:MM:SS format.\"\"\"\n",
    "        if seconds < 0:\n",
    "            return f\"-{Episode.format_duration(seconds*(-1))}\"\n",
    "        hours = seconds // 3600\n",
    "        minutes = (seconds % 3600) // 60\n",
    "        seconds = seconds % 60\n",
    "        return f\"{hours:02}:{minutes:02}:{seconds:02}\"\n",
    "\n",
    "    def __str__(self):\n",
    "        return f\"\"\"\n",
    "        _oid: {self.get_oid()}\n",
    "        Date: {Episode.get_string_from_date(self.date, format=LOG_DATE_FORMAT)}\n",
    "        Titre: {self.titre}\n",
    "        Description: {self.description}\n",
    "        URL de téléchargement: {self.url_telechargement}\n",
    "        Fichier audio: {self.audio_rel_filename}\n",
    "        Duree: {self.duree} en secondes ({Episode.format_duration(self.duree)})\n",
    "        Transcription: {self.transcription[:100] if self.transcription else 'No transcription yet available'}...\n",
    "        \"\"\"\n",
    "\n",
    "    def __repr__(self):\n",
    "        return self.__str__()\n",
    "\n",
    "    def download_audio(self, verbose=False):\n",
    "        \"\"\"\n",
    "        based on url_telechargement\n",
    "        will download audio file and store in AUDIO_PATH/year\n",
    "        \"\"\"\n",
    "        if self.url_telechargement is None:\n",
    "            return\n",
    "        year = str(self.date.year)\n",
    "        full_audio_path = get_audio_path(AUDIO_PATH, year)\n",
    "        full_filename = os.path.join(\n",
    "            full_audio_path, os.path.basename(self.url_telechargement)\n",
    "        )\n",
    "        self.audio_rel_filename = os.path.relpath(\n",
    "            full_filename, get_audio_path(AUDIO_PATH, year=\"\")\n",
    "        )\n",
    "        # Vérification si le fichier existe déjà\n",
    "        if not os.path.exists(full_filename):\n",
    "            if verbose:\n",
    "                print(\n",
    "                    f\"Téléchargement de {self.url_telechargement} vers {full_filename}\"\n",
    "                )\n",
    "            response = requests.get(self.url_telechargement)\n",
    "            with open(full_filename, \"wb\") as file:\n",
    "                file.write(response.content)\n",
    "        else:\n",
    "            if verbose:\n",
    "                print(f\"Le fichier {full_filename} existe déjà. Ignoré.\")\n",
    "\n",
    "    def set_transcription(self, verbose=False, keep_cache=True):\n",
    "        \"\"\"\n",
    "        based on audio file, use whisper model to get transcription\n",
    "        if transcription already exists, do nothing\n",
    "        if cache transcription (meaning a txt file aside audio file, same stem name), read it and store in DB\n",
    "        if audio file does not exist, do nothing\n",
    "        if keep_cache, save transcription in a txt file aside audio file, same stem name\n",
    "        save transcription in DB\n",
    "        \"\"\"\n",
    "        if self.transcription is not None:\n",
    "            if verbose:\n",
    "                print(\"Transcription existe deja\")\n",
    "            return\n",
    "        mp3_fullfilename = get_audio_path(AUDIO_PATH, year=\"\") + self.audio_rel_filename\n",
    "        cache_transcription_filename = f\"{os.path.splitext(mp3_fullfilename)[0]}.txt\"\n",
    "        # check if cache_transcription_file exists\n",
    "        if os.path.exists(cache_transcription_filename):\n",
    "            if verbose:\n",
    "                print(f\"Transcription cachee trouvee: {cache_transcription_filename}\")\n",
    "            with open(cache_transcription_filename, \"r\") as file:\n",
    "                self.transcription = file.read()\n",
    "            self.collection.update_one(\n",
    "                {\"_id\": self.get_oid()},\n",
    "                {\"$set\": {\"transcription\": self.transcription}},\n",
    "            )\n",
    "            return\n",
    "\n",
    "        self.transcription = extract_whisper(mp3_fullfilename)\n",
    "        if keep_cache:\n",
    "            # Écrire la transcription dans un fichier texte\n",
    "            with open(cache_transcription_filename, \"w\") as f:\n",
    "                f.write(self.transcription)\n",
    "        self.collection.update_one(\n",
    "            {\"_id\": self.get_oid()}, {\"$set\": {\"transcription\": self.transcription}}\n",
    "        )\n",
    "\n",
    "    def to_dict(self) -> Dict[str, str]:\n",
    "        \"\"\"\n",
    "        return episode as a dictionnary\n",
    "        keys are ['date', 'titre', 'description', 'url_telechargement', 'audio_rel_filename', 'transcription', 'type', 'duree']\n",
    "        \"\"\"\n",
    "        return {\n",
    "            \"date\": self.date,\n",
    "            \"titre\": self.titre,\n",
    "            \"description\": self.description,\n",
    "            \"url_telechargement\": self.url_telechargement,\n",
    "            \"audio_rel_filename\": self.audio_rel_filename,\n",
    "            \"transcription\": self.transcription,\n",
    "            \"type\": self.type,\n",
    "            \"duree\": self.duree,\n",
    "        }"
   ]
  },
  {
   "cell_type": "code",
   "execution_count": null,
   "metadata": {},
   "outputs": [
    {
     "data": {
      "text/plain": [
       "\n",
       "        _oid: None\n",
       "        Date: 12 Jan 2025 08:59\n",
       "        Titre: Les nouvelles pages de Vanessa Springora, Haruki Murakami, Jean Echenoz, Amanda Sthers...\n",
       "        Description: None\n",
       "        URL de téléchargement: None\n",
       "        Fichier audio: None\n",
       "        Duree: -1 en secondes (-00:00:01)\n",
       "        Transcription: No transcription yet available...\n",
       "        "
      ]
     },
     "execution_count": null,
     "metadata": {},
     "output_type": "execute_result"
    }
   ],
   "source": [
    "episode = Episode(\n",
    "    date=\"2025-01-12T08:59:39\",\n",
    "    titre=\"Les nouvelles pages de Vanessa Springora, Haruki Murakami, Jean Echenoz, Amanda Sthers...\",\n",
    ")\n",
    "episode"
   ]
  },
  {
   "cell_type": "code",
   "execution_count": null,
   "metadata": {},
   "outputs": [
    {
     "data": {
      "text/plain": [
       "\n",
       "        _oid: 678ad2ff9010ec6dc606dce9\n",
       "        Date: 12 janv. 2025 08:59\n",
       "        Titre: Les nouvelles pages de Vanessa Springora, Haruki Murakami, Jean Echenoz, Amanda Sthers...\n",
       "        Description: durée : 00:48:41 - Le Masque et la Plume - par : Rebecca Manzoni - Un passé nazi qui refait surface ; une cité magique abrite un amour perdu ; un cinéaste entre un tournage en Afrique et la chute d'un homme nu ; un danseur offre à son fils adoptif la quête d'un héritage familial mouvementé ; un jeune père se confronte à son propre passé douloureux. - invités : Raphaelle Leyris, Hubert ARTUS, Jean-Marc Proust, Elisabeth Philippe - Raphaëlle Leyris : Journaliste au Monde, critique littéraire, Hubert Artus : Journaliste et chroniqueur littéraire, Jean-Marc Proust : Auteur et critique (Slate), Elisabeth Philippe : Critique littéraire (L'Obs) - réalisé par : Guillaume Girault\n",
       "        URL de téléchargement: https://rf.proxycast.org/ad97aa2e-ebfc-4d00-8739-4ca72192e726/14007-12.01.2025-ITEMA_23993269-2025F4007S0012-22.mp3\n",
       "        Fichier audio: 2025/14007-12.01.2025-ITEMA_23993269-2025F4007S0012-22.mp3\n",
       "        Duree: 2921 en secondes (00:48:41)\n",
       "        Transcription:  France Inter Le masque et la plume Premier masque livre de cette année 2025 où nous allons débattre...\n",
       "        "
      ]
     },
     "execution_count": null,
     "metadata": {},
     "output_type": "execute_result"
    }
   ],
   "source": [
    "episode.update_date(datetime(2025, 1, 12, 8, 59, 39))\n",
    "episode"
   ]
  },
  {
   "cell_type": "code",
   "execution_count": null,
   "metadata": {},
   "outputs": [
    {
     "data": {
      "text/plain": [
       "{'date': datetime.datetime(2025, 1, 12, 8, 59, 39),\n",
       " 'titre': 'Les nouvelles pages de Vanessa Springora, Haruki Murakami, Jean Echenoz, Amanda Sthers...',\n",
       " 'description': None,\n",
       " 'url_telechargement': None,\n",
       " 'audio_rel_filename': None,\n",
       " 'transcription': None,\n",
       " 'type': None,\n",
       " 'duree': -1}"
      ]
     },
     "execution_count": null,
     "metadata": {},
     "output_type": "execute_result"
    }
   ],
   "source": [
    "episode.to_dict()"
   ]
  },
  {
   "cell_type": "code",
   "execution_count": null,
   "metadata": {},
   "outputs": [
    {
     "data": {
      "text/plain": [
       "\n",
       "        _oid: 678586de9ff0dfcda11eacf8\n",
       "        Date: 22 Dec 2024 09:59\n",
       "        Titre: Les nouvelles pages de Marc Dugain, Emmanuelle Lambert, Emil Ferris, Fabrice Caro et Mathieu Palain\n",
       "        Description: durée : 00:47:52 - Le Masque et la Plume - par : Rebecca Manzoni - Il est encore temps d'ajouter quelques livres sous le sapin - invités : Raphaelle Leyris, Jean-Marc Proust, Patricia Martin, Laurent CHALUMEAU - Raphaëlle Leyris : Journaliste au Monde, critique littéraire, Jean-Marc Proust : Auteur et critique (Slate), Patricia Martin : Journaliste, critique littéraire et productrice chez France Inter, Laurent Chalumeau : Journaliste rock, scénariste, dialoguiste, romancier - réalisé par : Guillaume Girault\n",
       "        URL de téléchargement: https://rf.proxycast.org/7e653bf4-87a5-42f4-864b-9208e206a295/14007-22.12.2024-ITEMA_23973143-2024F4007S0357-22.mp3\n",
       "        Fichier audio: 2024/14007-22.12.2024-ITEMA_23973143-2024F4007S0357-22.mp3\n",
       "        Duree: 2872 en secondes (00:47:52)\n",
       "        Transcription:  France Inter Le masque et la plume Cinq romans sont à l'affiche du masque de ce jour avec une louve...\n",
       "        "
      ]
     },
     "execution_count": null,
     "metadata": {},
     "output_type": "execute_result"
    }
   ],
   "source": [
    "episode = Episode.from_oid(ObjectId(\"678586de9ff0dfcda11eacf8\"))\n",
    "episode"
   ]
  },
  {
   "cell_type": "code",
   "execution_count": null,
   "metadata": {},
   "outputs": [
    {
     "data": {
      "text/plain": [
       "\n",
       "        _oid: 678ad2ff9010ec6dc606dce9\n",
       "        Date: 12 Jan 2025 10:59\n",
       "        Titre: Les nouvelles pages de Vanessa Springora, Haruki Murakami, Jean Echenoz, Amanda Sthers...\n",
       "        Description: durée : 00:48:41 - Le Masque et la Plume - par : Rebecca Manzoni - Un passé nazi qui refait surface ; une cité magique abrite un amour perdu ; un cinéaste entre un tournage en Afrique et la chute d'un homme nu ; un danseur offre à son fils adoptif la quête d'un héritage familial mouvementé ; un jeune père se confronte à son propre passé douloureux. - invités : Raphaelle Leyris, Hubert ARTUS, Jean-Marc Proust, Elisabeth Philippe - Raphaëlle Leyris : Journaliste au Monde, critique littéraire, Hubert Artus : Journaliste et chroniqueur littéraire, Jean-Marc Proust : Auteur et critique (Slate), Elisabeth Philippe : Critique littéraire (L'Obs) - réalisé par : Guillaume Girault\n",
       "        URL de téléchargement: https://rf.proxycast.org/ad97aa2e-ebfc-4d00-8739-4ca72192e726/14007-12.01.2025-ITEMA_23993269-2025F4007S0012-22.mp3\n",
       "        Fichier audio: 2025/14007-12.01.2025-ITEMA_23993269-2025F4007S0012-22.mp3\n",
       "        Duree: 2921 en secondes (00:48:41)\n",
       "        Transcription:  France Inter Le masque et la plume Premier masque livre de cette année 2025 où nous allons débattre...\n",
       "        "
      ]
     },
     "execution_count": null,
     "metadata": {},
     "output_type": "execute_result"
    }
   ],
   "source": [
    "episode = Episode.from_date(datetime(2025, 1, 12))\n",
    "episode"
   ]
  },
  {
   "cell_type": "markdown",
   "metadata": {},
   "source": [
    "# RSS_episode"
   ]
  },
  {
   "cell_type": "code",
   "execution_count": null,
   "metadata": {},
   "outputs": [],
   "source": [
    "# |export\n",
    "\n",
    "from feedparser.util import FeedParserDict\n",
    "from transformers import pipeline\n",
    "import locale\n",
    "\n",
    "RSS_DUREE_MINI_MINUTES = 15\n",
    "RSS_DATE_FORMAT = \"%a, %d %b %Y %H:%M:%S %z\"  # \"Sun, 29 Dec 2024 10:59:39 +0100\" 'Sun, 26 Jan 2025 10:59:39 +0100'\n",
    "\n",
    "\n",
    "class RSS_episode(Episode):\n",
    "    def __init__(self, date: str, titre: str):\n",
    "        \"\"\"\n",
    "        RSS_episode is a class that represents an RSS episode in the database episodes.\n",
    "        :param date: The date for this episode at the format \"2024-12-22T09:59:39\" parsed by \"%Y-%m-%dT%H:%M:%S\".\n",
    "        :param titre: The title of this episode.\n",
    "        \"\"\"\n",
    "        super().__init__(date, titre)\n",
    "\n",
    "    @classmethod\n",
    "    def from_feed_entry(cls, feed_entry: FeedParserDict) -> \"RSS_episode\":\n",
    "        \"\"\"\n",
    "        Create an RSS episode from a feed entry.\n",
    "        :param feed_entry: The feed entry.\n",
    "        :return: The RSS episode.\n",
    "        \"\"\"\n",
    "        locale.setlocale(locale.LC_TIME, \"en_US.UTF-8\")\n",
    "\n",
    "        date_rss = datetime.strptime(feed_entry.published, RSS_DATE_FORMAT)\n",
    "        date_rss_str = cls.get_string_from_date(date_rss, DATE_FORMAT)\n",
    "        inst = cls(\n",
    "            date=date_rss_str,\n",
    "            titre=feed_entry.title,\n",
    "        )\n",
    "        inst.description = feed_entry.summary\n",
    "\n",
    "        for link in feed_entry.links:\n",
    "            if link.type == \"audio/mpeg\":\n",
    "                inst.url_telechargement = link.href\n",
    "                break\n",
    "\n",
    "        # self.audio_rel_filename = None\n",
    "        # self.transcription = None\n",
    "        inst.type = cls.set_titre(inst.titre + \" \" + inst.description)\n",
    "        inst.duree = cls.get_duree_in_seconds(feed_entry.itunes_duration)  # in seconds\n",
    "\n",
    "        return inst\n",
    "\n",
    "    @staticmethod\n",
    "    def get_duree_in_seconds(duree: str) -> int:\n",
    "        \"\"\"\n",
    "        Get the duration in seconds from a string.\n",
    "        :param duree: The duration string at the format \"HH:MM:SS\" or \"HH:MM\".\n",
    "        :return: The duration in seconds.\n",
    "        \"\"\"\n",
    "        duree = duree.split(\":\")\n",
    "        if len(duree) == 3:\n",
    "            return int(duree[0]) * 3600 + int(duree[1]) * 60 + int(duree[2])\n",
    "        elif len(duree) == 2:\n",
    "            return int(duree[0]) * 60 + int(duree[1])\n",
    "        else:\n",
    "            return int(duree[0])\n",
    "\n",
    "    def keep(self) -> int:\n",
    "        \"\"\"\n",
    "        Keep the episode in the database.\n",
    "        only if duration > RSS_DUREE_MINI_MINUTES * 60\n",
    "        only if type == livres\n",
    "\n",
    "        retourne 1 si 1 entree est creee en base\n",
    "        0 sinon\n",
    "        \"\"\"\n",
    "        if (self.duree > RSS_DUREE_MINI_MINUTES * 60) & (self.type == \"livres\"):\n",
    "            return super().keep()\n",
    "        else:\n",
    "            print(\n",
    "                f\"Episode du {Episode.get_string_from_date(self.date, format=LOG_DATE_FORMAT)} ignored: Duree: {self.duree}, Type: {self.type}\"\n",
    "            )\n",
    "            return 0\n",
    "\n",
    "    @staticmethod\n",
    "    def set_titre(description: str) -> str:\n",
    "        \"\"\"\n",
    "        use bart meta model from huggingface to classify episodes from\n",
    "        [\"livres\", \"films\", \"pièces de théâtre\"]\n",
    "        \"\"\"\n",
    "        # Charger le pipeline de classification de texte\n",
    "        classifier = pipeline(\n",
    "            \"zero-shot-classification\", model=\"facebook/bart-large-mnli\"\n",
    "        )\n",
    "        # Labels possibles\n",
    "        labels = [\"livres\", \"films\", \"pièces de théâtre\"]\n",
    "\n",
    "        result = classifier(description, labels)\n",
    "        return result[\"labels\"][0]"
   ]
  },
  {
   "cell_type": "code",
   "execution_count": null,
   "metadata": {},
   "outputs": [
    {
     "name": "stdout",
     "output_type": "stream",
     "text": [
      "Est-ce que l episode existe ? False\n",
      "Episode du 29 Jan 2025 18:26 nouveau: Duree: 4000, Type: livres\n",
      "et maintenant, st-ce que rss1 existe ? True\n",
      "et voici l'id de rss1 : 679a64dc2ab02682c10e62e0\n",
      "après nettoyage, est-ce que rss1 existe ? False\n",
      "et son oid : None\n"
     ]
    }
   ],
   "source": [
    "from datetime import datetime\n",
    "import pytz\n",
    "\n",
    "now = datetime.now(tz=pytz.timezone(\"Europe/Paris\"))\n",
    "\n",
    "rss1 = RSS_episode(RSS_episode.get_string_from_date(now), \"test RSS 1\")\n",
    "print(f\"Est-ce que l episode existe ? {rss1.exists()}\")\n",
    "\n",
    "rss1.duree = 4000\n",
    "rss1.type = \"livres\"\n",
    "rss1.keep()\n",
    "print(f\"et maintenant, st-ce que rss1 existe ? {rss1.exists()}\")\n",
    "print(f\"et voici l'id de rss1 : {rss1.get_oid()}\")\n",
    "\n",
    "rss1.remove()\n",
    "print(f\"après nettoyage, est-ce que rss1 existe ? {rss1.exists()}\")\n",
    "print(f\"et son oid : {rss1.get_oid()}\")"
   ]
  },
  {
   "cell_type": "code",
   "execution_count": null,
   "metadata": {},
   "outputs": [
    {
     "name": "stderr",
     "output_type": "stream",
     "text": [
      "Device set to use cpu\n"
     ]
    },
    {
     "data": {
      "text/plain": [
       "\n",
       "        _oid: 679649e267b093aaae847524\n",
       "        Date: 26 Jan 2025 10:59\n",
       "        Titre: Les nouveaux romans de Leïla Slimani, Pierre Lemaître, Jeanne Rivière, Nathalie Azoulai, Milena Agus\n",
       "        Description: durée : 00:47:56 - Le Masque et la Plume - par : Rebecca Manzoni - Une saga familiale à travers trois générations de femmes, entre le Maroc et la France ; une histoire d'amour et une réflexion sur la judéité ; un roman filial et d'espionnage dans la Guerre Froide ; amitié, désir, musique punk sans les années 90 ; littérature et amour en Sardaigne. - invités : Arnaud Viviant, Laurent CHALUMEAU, Patricia Martin, Elisabeth Philippe - Arnaud Viviant : Critique littéraire (Revue Regards), Laurent Chalumeau : Journaliste rock, scénariste, dialoguiste, romancier, Patricia Martin : Journaliste, critique littéraire et productrice chez France Inter, Elisabeth Philippe : Critique littéraire (L'Obs) - réalisé par : Guillaume Girault\n",
       "        URL de téléchargement: https://rf.proxycast.org/f421bbf9-5e6e-4411-85a6-7c6a318d2073/14007-26.01.2025-ITEMA_24008377-2025F4007S0026-NET_MFI_1EBC23A2-31A4-4066-BC10-C8067ADD259C-22.mp3\n",
       "        Fichier audio: 2025/14007-26.01.2025-ITEMA_24008377-2025F4007S0026-NET_MFI_1EBC23A2-31A4-4066-BC10-C8067ADD259C-22.mp3\n",
       "        Duree: 2876 en secondes (00:47:56)\n",
       "        Transcription:  France Inter Le masque et la plume Le sommaire du jour continue de défricher la copieuse rentrée li...\n",
       "        "
      ]
     },
     "execution_count": null,
     "metadata": {},
     "output_type": "execute_result"
    }
   ],
   "source": [
    "import feedparser\n",
    "from rss import get_RSS_URL\n",
    "\n",
    "parsed_flow = feedparser.parse(get_RSS_URL())\n",
    "\n",
    "rss2 = RSS_episode.from_feed_entry(parsed_flow.entries[0])\n",
    "rss2"
   ]
  },
  {
   "cell_type": "code",
   "execution_count": null,
   "metadata": {},
   "outputs": [
    {
     "name": "stdout",
     "output_type": "stream",
     "text": [
      "Episode du 26 Jan 2025 10:59 deja existant\n"
     ]
    },
    {
     "data": {
      "text/plain": [
       "True"
      ]
     },
     "execution_count": null,
     "metadata": {},
     "output_type": "execute_result"
    }
   ],
   "source": [
    "rss2.keep()\n",
    "rss2.exists()"
   ]
  },
  {
   "cell_type": "code",
   "execution_count": null,
   "metadata": {},
   "outputs": [],
   "source": [
    "# rss2.remove()"
   ]
  },
  {
   "cell_type": "code",
   "execution_count": null,
   "metadata": {},
   "outputs": [
    {
     "name": "stdout",
     "output_type": "stream",
     "text": [
      "{'_id': ObjectId('679a64e02ab02682c10e62e5'), 'operation': 'update', 'entite': 'episodes', 'desc': '26 Jan 2025 10:59 - Les nouveaux romans de Leïla Slimani, Pierre Lemaître, Jeanne Rivière, Nathalie Azoulai, Milena Agus', 'date': datetime.datetime(2025, 1, 29, 18, 26, 56, 53000)}\n",
      "{'_id': ObjectId('679a64dc2ab02682c10e62e2'), 'operation': 'delete', 'entite': 'episodes', 'desc': '29 Jan 2025 18:26 - test RSS 1', 'date': datetime.datetime(2025, 1, 29, 18, 26, 52, 531000)}\n",
      "{'_id': ObjectId('679a64dc2ab02682c10e62df'), 'operation': 'insert', 'entite': 'episodes', 'desc': '29 Jan 2025 18:26 - test RSS 1', 'date': datetime.datetime(2025, 1, 29, 18, 26, 52, 525000)}\n",
      "{'_id': ObjectId('6796555bcca048ceac6e4c03'), 'operation': 'update', 'entite': 'episodes', 'desc': '18 déc. 1958 00:00 - Le Masque et les Goncourt : \"Saint-Germain ou la Négociation\" de Francis Walder, 1958', 'date': datetime.datetime(2025, 1, 26, 16, 31, 39, 156000)}\n",
      "{'_id': ObjectId('6796555acca048ceac6e4bfa'), 'operation': 'update', 'entite': 'episodes', 'desc': '26 Jan 2025 10:59 - Les nouveaux romans de Leïla Slimani, Pierre Lemaître, Jeanne Rivière, Nathalie Azoulai, Milena Agus', 'date': datetime.datetime(2025, 1, 26, 16, 31, 38, 218000)}\n"
     ]
    }
   ],
   "source": [
    "print_logs(5)"
   ]
  },
  {
   "cell_type": "code",
   "execution_count": null,
   "metadata": {},
   "outputs": [
    {
     "data": {
      "text/plain": [
       "\n",
       "        _oid: 6773e32258fc5717f3516b9f\n",
       "        Date: 10 Nov 2024 09:59\n",
       "        Titre: La foire du livre de Brive : les romans de Daniel Pennac, Colson Whitehead, Olivier Norek, Miguel Bonnefoy...\n",
       "        Description: durée : 00:46:03 - Le Masque et la Plume - par : Rebecca Manzoni - En direct de la 42ᵉ édition de la Foire du livre de Brive-la-Gaillarde, nos critiques vous disent ce qu'ils ont pensé de \"Mon assassin\" de Daniel Pennac, \"Le rêve du jaguar\" de Miguel Bonnefoy, \"Les guerriers de l’hiver\" d’Olivier Norek, \"La règle du crime\" de Colson Whitehead...\n",
       " - invités : Arnaud Viviant, Elisabeth Philippe, Jean-Marc Proust, Patricia Martin - Arnaud Viviant : Critique littéraire (Revue Regards), Elisabeth Philippe : Critique littéraire (L'Obs), Jean-Marc Proust : Auteur et critique (Slate), Patricia Martin : Journaliste, critique littéraire et productrice chez France Inter - réalisé par : Guillaume Girault\n",
       "        URL de téléchargement: https://rf.proxycast.org/f5779476-9d52-4bfb-a839-bf82751eaebb/14007-10.11.2024-ITEMA_23920569-2024F4007S0315-22.mp3\n",
       "        Fichier audio: 2024/14007-10.11.2024-ITEMA_23920569-2024F4007S0315-22.mp3\n",
       "        Duree: 2763 en secondes (00:46:03)\n",
       "        Transcription:  France Inter Le masque et la plume Bienvenue à Brive la Gaillarde, où se tient la 42e foire du livr...\n",
       "        "
      ]
     },
     "execution_count": null,
     "metadata": {},
     "output_type": "execute_result"
    }
   ],
   "source": [
    "episode3 = Episode(\n",
    "    date=\"2024-11-10T09:59:39\",\n",
    "    titre=\"La foire du livre de Brive : les romans de Daniel Pennac, Colson Whitehead, Olivier Norek, Miguel Bonnefoy...\",\n",
    ")\n",
    "episode3"
   ]
  },
  {
   "cell_type": "code",
   "execution_count": null,
   "metadata": {},
   "outputs": [
    {
     "data": {
      "text/plain": [
       "\n",
       "        _oid: 6773e32258fc5717f3516b9f\n",
       "        Date: 10 Nov 2024 09:59\n",
       "        Titre: La foire du livre de Brive : les romans de Daniel Pennac, Colson Whitehead, Olivier Norek, Miguel Bonnefoy...\n",
       "        Description: durée : 00:46:03 - Le Masque et la Plume - par : Rebecca Manzoni - En direct de la 42ᵉ édition de la Foire du livre de Brive-la-Gaillarde, nos critiques vous disent ce qu'ils ont pensé de \"Mon assassin\" de Daniel Pennac, \"Le rêve du jaguar\" de Miguel Bonnefoy, \"Les guerriers de l’hiver\" d’Olivier Norek, \"La règle du crime\" de Colson Whitehead...\n",
       " - invités : Arnaud Viviant, Elisabeth Philippe, Jean-Marc Proust, Patricia Martin - Arnaud Viviant : Critique littéraire (Revue Regards), Elisabeth Philippe : Critique littéraire (L'Obs), Jean-Marc Proust : Auteur et critique (Slate), Patricia Martin : Journaliste, critique littéraire et productrice chez France Inter - réalisé par : Guillaume Girault\n",
       "        URL de téléchargement: https://rf.proxycast.org/f5779476-9d52-4bfb-a839-bf82751eaebb/14007-10.11.2024-ITEMA_23920569-2024F4007S0315-22.mp3\n",
       "        Fichier audio: 2024/14007-10.11.2024-ITEMA_23920569-2024F4007S0315-22.mp3\n",
       "        Duree: 2763 en secondes (00:46:03)\n",
       "        Transcription:  France Inter Le masque et la plume Bienvenue à Brive la Gaillarde, où se tient la 42e foire du livr...\n",
       "        "
      ]
     },
     "execution_count": null,
     "metadata": {},
     "output_type": "execute_result"
    }
   ],
   "source": [
    "episode4 = Episode.from_date(Episode.get_date_from_string(\"10/11/2024\", \"%d/%m/%Y\"))\n",
    "episode4"
   ]
  },
  {
   "cell_type": "code",
   "execution_count": null,
   "metadata": {},
   "outputs": [
    {
     "name": "stdout",
     "output_type": "stream",
     "text": [
      "Transcription cachee trouvee: /home/guillaume/git/lmelp/audios/2024/14007-10.11.2024-ITEMA_23920569-2024F4007S0315-22.txt\n"
     ]
    }
   ],
   "source": [
    "episode4.transcription = None\n",
    "episode4.set_transcription(verbose=True)"
   ]
  },
  {
   "cell_type": "code",
   "execution_count": null,
   "metadata": {},
   "outputs": [
    {
     "data": {
      "text/plain": [
       "' France Inter Le masque et la plume Bienvenue à Brive la Gaillarde, où se tient la 42e foire du livr'"
      ]
     },
     "execution_count": null,
     "metadata": {},
     "output_type": "execute_result"
    }
   ],
   "source": [
    "episode4.transcription[:100]"
   ]
  },
  {
   "cell_type": "code",
   "execution_count": null,
   "metadata": {},
   "outputs": [],
   "source": [
    "episode_tres_court = Episode.from_date(\n",
    "    Episode.get_date_from_string(\"27/09/1992\", \"%d/%m/%Y\")\n",
    ")\n",
    "episode_tres_court.transcription = None"
   ]
  },
  {
   "cell_type": "code",
   "execution_count": null,
   "metadata": {},
   "outputs": [
    {
     "data": {
      "text/plain": [
       "'/home/guillaume/git/lmelp/audios/1992/14007-27.09.1992-ITEMA_23787897-2024F4007E0094-27.txt'"
      ]
     },
     "execution_count": null,
     "metadata": {},
     "output_type": "execute_result"
    }
   ],
   "source": [
    "episode_tres_court.audio_rel_filename\n",
    "\n",
    "mp3_fullfilename = (\n",
    "    get_audio_path(AUDIO_PATH, year=\"\") + episode_tres_court.audio_rel_filename\n",
    ")\n",
    "cache_transcription_filename = f\"{os.path.splitext(mp3_fullfilename)[0]}.txt\"\n",
    "cache_transcription_filename\n",
    "# decommenter pour supprimer le fichier cache ce qui lancera le traitement whisper\n",
    "# !rm {cache_transcription_filename}"
   ]
  },
  {
   "cell_type": "code",
   "execution_count": null,
   "metadata": {},
   "outputs": [
    {
     "name": "stdout",
     "output_type": "stream",
     "text": [
      "Transcription cachee trouvee: /home/guillaume/git/lmelp/audios/1992/14007-27.09.1992-ITEMA_23787897-2024F4007E0094-27.txt\n"
     ]
    }
   ],
   "source": [
    "episode_tres_court.set_transcription(verbose=True)"
   ]
  },
  {
   "cell_type": "markdown",
   "metadata": {},
   "source": [
    "# WEB_episode"
   ]
  },
  {
   "cell_type": "code",
   "execution_count": null,
   "metadata": {},
   "outputs": [],
   "source": [
    "# |export\n",
    "\n",
    "import requests\n",
    "from bs4 import BeautifulSoup\n",
    "import json\n",
    "import locale\n",
    "\n",
    "\n",
    "WEB_DATE_FORMAT = \"%d %b %Y\"  # '26 août 2024', '20 oct. 2024', '22 sept. 2024', '8 sept. 2024', '25 août 2024', '4 août 2024', '23 juin 2024', '19 mai 2024', '5 mai 2024',\n",
    "\n",
    "\n",
    "class WEB_episode(Episode):\n",
    "    def __init__(self, date: str, titre: str):\n",
    "        \"\"\"\n",
    "        WEB_episode is a class that represents an historical episode (legacy, not available anymore as RSS) in the database episodes.\n",
    "        :param date: The date for this episode at the format \"2024-12-22T09:59:39\" parsed by \"%Y-%m-%dT%H:%M:%S\".\n",
    "        :param titre: The title of this episode.\n",
    "        \"\"\"\n",
    "        super().__init__(date, titre)\n",
    "\n",
    "    @staticmethod\n",
    "    def parse_web_date(web_date: str, web_date_format=WEB_DATE_FORMAT) -> datetime:\n",
    "        \"\"\"Convertit une date en français dans la page de masque sous forme de chaîne de caractères en un objet datetime.\n",
    "        la page du masque utilise des abreviations non standards pour fev et juil\n",
    "        \"\"\"\n",
    "\n",
    "        locale.setlocale(locale.LC_TIME, \"fr_FR.UTF-8\")\n",
    "\n",
    "        def corrige_date(date_str):\n",
    "            # Dictionnaire de remplacement pour corriger les abréviations des mois\n",
    "            month_replacements = {\n",
    "                \"fév.\": \"févr.\",\n",
    "                \"juill.\": \"juil.\",\n",
    "            }\n",
    "            for fr_month, fr_month_norm in month_replacements.items():\n",
    "                date_str = date_str.replace(fr_month, fr_month_norm)\n",
    "            return date_str\n",
    "\n",
    "        # Convertir la date normalisée en objet datetime\n",
    "        try:\n",
    "            dt = datetime.strptime(corrige_date(web_date), web_date_format)\n",
    "            return dt\n",
    "        except ValueError as e:\n",
    "            print(f\"Erreur de conversion pour la date '{web_date}': {e}\")\n",
    "            return None\n",
    "\n",
    "    @staticmethod\n",
    "    def get_audio_url(url):\n",
    "        \"\"\"\n",
    "        Prend l'url d'un épisode du masque en entrée et retourne l'URL vers le fichier audio .m4a ou .mp3.\n",
    "        \"\"\"\n",
    "\n",
    "        try:\n",
    "            # Faire une requête HTTP pour obtenir le contenu de la page\n",
    "            response = requests.get(url)\n",
    "            response.raise_for_status()  # Vérifier que la requête a réussi\n",
    "        except requests.RequestException as e:\n",
    "            print(f\"Erreur lors de la requête HTTP: {e}\")\n",
    "            return None\n",
    "\n",
    "        # Analyser le contenu HTML avec BeautifulSoup\n",
    "        soup = BeautifulSoup(response.content, \"html.parser\")\n",
    "\n",
    "        # Rechercher la balise <script> contenant l'objet JSON\n",
    "        script_tag = soup.find(\"script\", string=lambda t: t and \"contentUrl\" in t)\n",
    "\n",
    "        if script_tag:\n",
    "            try:\n",
    "                # Extraire le contenu JSON de la balise <script>\n",
    "                json_text = script_tag.string\n",
    "                json_data = json.loads(json_text)\n",
    "\n",
    "                # Extraire l'URL du fichier audio\n",
    "                audio_url = None\n",
    "                for item in json_data.get(\"@graph\", []):\n",
    "                    if item.get(\"@type\") == \"RadioEpisode\":\n",
    "                        main_entity = item.get(\"mainEntity\", {})\n",
    "                        audio_url = main_entity.get(\"contentUrl\")\n",
    "                        break\n",
    "\n",
    "                return audio_url\n",
    "            except (json.JSONDecodeError, KeyError, TypeError) as e:\n",
    "                print(f\"Erreur lors de l'analyse du JSON: {e}\")\n",
    "                return None\n",
    "\n",
    "        print(\"Balise <script> contenant 'contentUrl' non trouvée\")\n",
    "        return None\n",
    "\n",
    "    @classmethod\n",
    "    def from_webpage_entry(cls, dict_web_episode: dict) -> \"WEB_episode\":\n",
    "        \"\"\"\n",
    "        Create a WEB episode from a dict web episode entry.\n",
    "        :param dict_web_episode: The web episode entry with these keys: ['title', 'url', 'description', 'date', 'duration']\n",
    "        :return: The WEB episode.\n",
    "        \"\"\"\n",
    "\n",
    "        date_web = cls.parse_web_date(dict_web_episode[\"date\"])\n",
    "        date_web_str = cls.get_string_from_date(date_web, DATE_FORMAT)\n",
    "        inst = cls(\n",
    "            date=date_web_str,\n",
    "            titre=dict_web_episode[\"title\"],\n",
    "        )\n",
    "        inst.description = dict_web_episode[\"description\"]\n",
    "        inst.type = \"livres\"\n",
    "        inst.url_telechargement = cls.get_audio_url(dict_web_episode[\"url\"])\n",
    "\n",
    "        # self.audio_rel_filename = None\n",
    "        # self.transcription = None\n",
    "        inst.duree = cls.get_duree_in_seconds(\n",
    "            dict_web_episode[\"duration\"]\n",
    "        )  # in seconds\n",
    "\n",
    "        return inst\n",
    "\n",
    "    @staticmethod\n",
    "    def get_duree_in_seconds(duree: str) -> int:\n",
    "        \"\"\"\n",
    "        Get the duration in seconds from a string.\n",
    "        :param duree: The duration string at the format \"MM min\".\n",
    "        :return: The duration in seconds.\n",
    "        \"\"\"\n",
    "        duree = duree.split(\" \")\n",
    "        if len(duree) == 2:\n",
    "            return int(duree[0]) * 60"
   ]
  },
  {
   "cell_type": "code",
   "execution_count": null,
   "metadata": {},
   "outputs": [
    {
     "data": {
      "text/plain": [
       "{'title': 'Le Masque et les Goncourt : \"Saint-Germain ou la Négociation\" de Francis Walder, 1958',\n",
       " 'url': 'https://www.radiofrance.fr/franceinter/podcasts/le-masque-et-la-plume/francis-walder-saint-germain-ou-la-negociation-2878243',\n",
       " 'description': 'En\\n 1958, les jurés du Prix Goncourt récompensent un écrivain belge, \\nFrancis Walder, pour son roman historique \"Saint-Germain et la \\nnégociation\". Les critiques du \"Masque et la plume\" ont du mal à cacher \\nleur déception.',\n",
       " 'date': '18 déc. 1958',\n",
       " 'duration': '6 min'}"
      ]
     },
     "execution_count": null,
     "metadata": {},
     "output_type": "execute_result"
    }
   ],
   "source": [
    "from web import WebPage\n",
    "\n",
    "legacy_episodes = WebPage()\n",
    "legacy_episodes[-1]"
   ]
  },
  {
   "cell_type": "code",
   "execution_count": null,
   "metadata": {},
   "outputs": [],
   "source": [
    "vieil_episode = WEB_episode.from_webpage_entry(legacy_episodes[-1])"
   ]
  },
  {
   "cell_type": "code",
   "execution_count": null,
   "metadata": {},
   "outputs": [
    {
     "data": {
      "text/plain": [
       "\n",
       "        _oid: 678ccc978ae61760f3ab13b0\n",
       "        Date: 18 déc. 1958 00:00\n",
       "        Titre: Le Masque et les Goncourt : \"Saint-Germain ou la Négociation\" de Francis Walder, 1958\n",
       "        Description: En\n",
       " 1958, les jurés du Prix Goncourt récompensent un écrivain belge, \n",
       "Francis Walder, pour son roman historique \"Saint-Germain et la \n",
       "négociation\". Les critiques du \"Masque et la plume\" ont du mal à cacher \n",
       "leur déception.\n",
       "        URL de téléchargement: https://media.radiofrance-podcast.net/podcast09/14007-18.12.1958-ITEMA_23787915-2024F4007E0108-27.m4a\n",
       "        Fichier audio: 1958/14007-18.12.1958-ITEMA_23787915-2024F4007E0108-27.m4a\n",
       "        Duree: 360 en secondes (00:06:00)\n",
       "        Transcription:  France Inter il est évident que nous l'avons profondément mûri et que nous avons lu avec beaucoup d...\n",
       "        "
      ]
     },
     "execution_count": null,
     "metadata": {},
     "output_type": "execute_result"
    }
   ],
   "source": [
    "vieil_episode"
   ]
  },
  {
   "cell_type": "code",
   "execution_count": null,
   "metadata": {},
   "outputs": [
    {
     "name": "stdout",
     "output_type": "stream",
     "text": [
      "Episode du 18 déc. 1958 00:00 deja existant\n"
     ]
    },
    {
     "data": {
      "text/plain": [
       "0"
      ]
     },
     "execution_count": null,
     "metadata": {},
     "output_type": "execute_result"
    }
   ],
   "source": [
    "vieil_episode.keep()"
   ]
  },
  {
   "cell_type": "code",
   "execution_count": null,
   "metadata": {},
   "outputs": [],
   "source": []
  },
  {
   "cell_type": "markdown",
   "metadata": {},
   "source": [
    "# Episodes entity"
   ]
  },
  {
   "cell_type": "code",
   "execution_count": null,
   "metadata": {},
   "outputs": [],
   "source": [
    "# |export\n",
    "\n",
    "from typing import List, Dict, Any\n",
    "import pymongo\n",
    "\n",
    "\n",
    "class Episodes:\n",
    "    \"\"\"\n",
    "    This is a class that will allow search on episodes to manage quality of data\n",
    "\n",
    "    For example get new transcriptions.\n",
    "    \"\"\"\n",
    "\n",
    "    def __init__(self, collection_name: str = \"episodes\"):\n",
    "        DB_HOST, DB_NAME, _ = get_DB_VARS()\n",
    "        self.collection = get_collection(\n",
    "            target_db=DB_HOST, client_name=DB_NAME, collection_name=collection_name\n",
    "        )\n",
    "        self.episodes = self._load_episodes()\n",
    "\n",
    "    def _load_episodes(self) -> List[Dict[str, Any]]:\n",
    "        \"\"\"\n",
    "        Load all episodes from the database and return them as a list of dictionaries.\n",
    "        \"\"\"\n",
    "        return self.get_entries()\n",
    "\n",
    "    def get_entries(self, request=\"\") -> List[Episode]:\n",
    "        \"\"\"'\n",
    "        retourne le resultat de la requete sous forme d'une liste d'instance de Episode\n",
    "        tries par date decroissante (du plus recent au plus vieux)\n",
    "\n",
    "        par exemple : request={\"$or\": [{\"transcription\": \"\"}, {\"transcription\": None}]}\n",
    "        \"\"\"\n",
    "        result = self.collection.find(request).sort(\"date\", pymongo.DESCENDING)\n",
    "        episodes = [Episode.from_oid(entry.get(\"_id\")) for entry in result]\n",
    "        return episodes\n",
    "\n",
    "    def get_missing_transcriptions(self) -> List[Episode]:\n",
    "        \"\"\"\n",
    "        retourne les episodes pour lesquels la transcription est manquante\n",
    "        \"\"\"\n",
    "        return self.get_entries(\n",
    "            {\"$or\": [{\"transcription\": \"\"}, {\"transcription\": None}]}\n",
    "        )\n",
    "\n",
    "    def get_transcriptions(self) -> List[Episode]:\n",
    "        \"\"\"\n",
    "        Retourne toutes les entrées pour lesquelles une transcription existe.\n",
    "        \"\"\"\n",
    "        return self.get_entries(\n",
    "            {\"$and\": [{\"transcription\": {\"$ne\": None}}, {\"transcription\": {\"$ne\": \"\"}}]}\n",
    "        )\n",
    "\n",
    "    def __getitem__(self, index: int) -> Dict[str, Any]:\n",
    "        return self.episodes[index]\n",
    "\n",
    "    def __len__(self) -> int:\n",
    "        return len(self.episodes)\n",
    "\n",
    "    def __iter__(self):\n",
    "        return iter(self.episodes)\n",
    "\n",
    "    def __repr__(self) -> str:\n",
    "        return f\"Episodes({self.episodes})\"\n",
    "\n",
    "    def __str__(self):\n",
    "        return f\"\"\"\n",
    "        {self.collection.count_documents({})} entries\n",
    "        {len(self.get_missing_transcriptions())} missing transcriptions\n",
    "        \"\"\"\n",
    "\n",
    "    def __repr__(self):\n",
    "        return self.__str__()"
   ]
  },
  {
   "cell_type": "code",
   "execution_count": null,
   "metadata": {},
   "outputs": [
    {
     "data": {
      "text/plain": [
       "\n",
       "        206 entries\n",
       "        0 missing transcriptions\n",
       "        "
      ]
     },
     "execution_count": null,
     "metadata": {},
     "output_type": "execute_result"
    }
   ],
   "source": [
    "episodes = Episodes()\n",
    "episodes.get_missing_transcriptions()\n",
    "episodes"
   ]
  },
  {
   "cell_type": "code",
   "execution_count": null,
   "metadata": {},
   "outputs": [
    {
     "data": {
      "text/plain": [
       "206"
      ]
     },
     "execution_count": null,
     "metadata": {},
     "output_type": "execute_result"
    }
   ],
   "source": [
    "len(episodes)"
   ]
  },
  {
   "cell_type": "code",
   "execution_count": null,
   "metadata": {},
   "outputs": [
    {
     "data": {
      "text/plain": [
       "\n",
       "        _oid: 679649e267b093aaae847524\n",
       "        Date: 26 janv. 2025 10:59\n",
       "        Titre: Les nouveaux romans de Leïla Slimani, Pierre Lemaître, Jeanne Rivière, Nathalie Azoulai, Milena Agus\n",
       "        Description: durée : 00:47:56 - Le Masque et la Plume - par : Rebecca Manzoni - Une saga familiale à travers trois générations de femmes, entre le Maroc et la France ; une histoire d'amour et une réflexion sur la judéité ; un roman filial et d'espionnage dans la Guerre Froide ; amitié, désir, musique punk sans les années 90 ; littérature et amour en Sardaigne. - invités : Arnaud Viviant, Laurent CHALUMEAU, Patricia Martin, Elisabeth Philippe - Arnaud Viviant : Critique littéraire (Revue Regards), Laurent Chalumeau : Journaliste rock, scénariste, dialoguiste, romancier, Patricia Martin : Journaliste, critique littéraire et productrice chez France Inter, Elisabeth Philippe : Critique littéraire (L'Obs) - réalisé par : Guillaume Girault\n",
       "        URL de téléchargement: https://rf.proxycast.org/f421bbf9-5e6e-4411-85a6-7c6a318d2073/14007-26.01.2025-ITEMA_24008377-2025F4007S0026-NET_MFI_1EBC23A2-31A4-4066-BC10-C8067ADD259C-22.mp3\n",
       "        Fichier audio: 2025/14007-26.01.2025-ITEMA_24008377-2025F4007S0026-NET_MFI_1EBC23A2-31A4-4066-BC10-C8067ADD259C-22.mp3\n",
       "        Duree: 2876 en secondes (00:47:56)\n",
       "        Transcription:  France Inter Le masque et la plume Le sommaire du jour continue de défricher la copieuse rentrée li...\n",
       "        "
      ]
     },
     "execution_count": null,
     "metadata": {},
     "output_type": "execute_result"
    }
   ],
   "source": [
    "episodes[0]"
   ]
  },
  {
   "cell_type": "markdown",
   "metadata": {},
   "source": [
    "# extract py"
   ]
  },
  {
   "cell_type": "code",
   "execution_count": null,
   "metadata": {},
   "outputs": [],
   "source": [
    "from nbdev.export import nb_export\n",
    "\n",
    "nb_export(\"py mongo helper episodes.ipynb\", \".\")"
   ]
  },
  {
   "cell_type": "code",
   "execution_count": null,
   "metadata": {},
   "outputs": [],
   "source": []
  }
 ],
 "metadata": {
  "kernelspec": {
   "display_name": "python3",
   "language": "python",
   "name": "python3"
  }
 },
 "nbformat": 4,
 "nbformat_minor": 2
}
