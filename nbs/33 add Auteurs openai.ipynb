{
 "cells": [
  {
   "cell_type": "markdown",
   "metadata": {},
   "source": [
    "je vais manipuler des noms d'auteurs que je vais extraire d'une transcription. la transcription a ete cree a partir d'un enregistrement audio donc le risque est d'avoir des erreurs dans l'orthographe de cet auteur."
   ]
  },
  {
   "cell_type": "markdown",
   "metadata": {},
   "source": [
    "Plan for Author Name Handling System\n",
    "- Create a class to handle author names with fuzzy matching\n",
    "- Store reference names in a dictionary/database\n",
    "- Implement fuzzy string matching using Levenshtein distance\n",
    "- Add methods to suggest corrections for misspelled names\n",
    "- Include confidence scoring for matches"
   ]
  },
  {
   "cell_type": "markdown",
   "metadata": {},
   "source": [
    "# thefuzz"
   ]
  },
  {
   "cell_type": "code",
   "execution_count": null,
   "metadata": {},
   "outputs": [
    {
     "name": "stdout",
     "output_type": "stream",
     "text": [
      "Input: Viktor Hugo\n",
      "Best match: Victor Hugo (score: 91)\n",
      "\n",
      "Suggestions:\n",
      "- Victor Hugo (score: 91)\n",
      "- Simone de Beauvoir (score: 34)\n",
      "- Émile Zola (score: 20)\n"
     ]
    }
   ],
   "source": [
    "from thefuzz import fuzz\n",
    "from thefuzz import process\n",
    "from typing import Dict, List, Tuple\n",
    "\n",
    "\n",
    "class AuthorMatcher:\n",
    "    def __init__(self, reference_authors: List[str] = None):\n",
    "        \"\"\"Initialize with a list of known author names\"\"\"\n",
    "        self.reference_authors = set(reference_authors) if reference_authors else set()\n",
    "\n",
    "    def add_reference_author(self, author: str) -> None:\n",
    "        \"\"\"Add a new reference author to the set\"\"\"\n",
    "        self.reference_authors.add(author.strip())\n",
    "\n",
    "    def find_best_match(self, name: str, min_score: int = 80) -> Tuple[str, int]:\n",
    "        \"\"\"\n",
    "        Find the best matching reference author for a given name\n",
    "        Returns: (best_match, score)\n",
    "        \"\"\"\n",
    "        if not name or not self.reference_authors:\n",
    "            return None, 0\n",
    "\n",
    "        # Find best match using token set ratio for better partial matching\n",
    "        best_match, score = process.extractOne(\n",
    "            name, self.reference_authors, scorer=fuzz.token_set_ratio\n",
    "        )\n",
    "\n",
    "        if score >= min_score:\n",
    "            return best_match, score\n",
    "        return None, score\n",
    "\n",
    "    def suggest_corrections(self, name: str, limit: int = 3) -> List[Tuple[str, int]]:\n",
    "        \"\"\"Suggest possible corrections for a name\"\"\"\n",
    "        if not name or not self.reference_authors:\n",
    "            return []\n",
    "\n",
    "        # Get top N matches with scores\n",
    "        matches = process.extract(\n",
    "            name, self.reference_authors, limit=limit, scorer=fuzz.token_set_ratio\n",
    "        )\n",
    "\n",
    "        return matches\n",
    "\n",
    "\n",
    "# Example usage\n",
    "if __name__ == \"__main__\":\n",
    "    # Initialize with some reference authors\n",
    "    reference_authors = [\n",
    "        \"Victor Hugo\",\n",
    "        \"Albert Camus\",\n",
    "        \"Simone de Beauvoir\",\n",
    "        \"Marcel Proust\",\n",
    "        \"Émile Zola\",\n",
    "    ]\n",
    "\n",
    "    matcher = AuthorMatcher(reference_authors)\n",
    "\n",
    "    # Test with a misspelled name\n",
    "    test_name = \"Viktor Hugo\"\n",
    "    best_match, score = matcher.find_best_match(test_name)\n",
    "    print(f\"Input: {test_name}\")\n",
    "    print(f\"Best match: {best_match} (score: {score})\")\n",
    "\n",
    "    # Get suggestions\n",
    "    suggestions = matcher.suggest_corrections(test_name)\n",
    "    print(\"\\nSuggestions:\")\n",
    "    for name, score in suggestions:\n",
    "        print(f\"- {name} (score: {score})\")"
   ]
  },
  {
   "cell_type": "markdown",
   "metadata": {},
   "source": [
    "pas mal mais l'inconvenient c'est qu'il faut les auteurs de reference"
   ]
  },
  {
   "cell_type": "markdown",
   "metadata": {},
   "source": [
    "# avec un llm pour obtenir la liste d'auteurs de reference"
   ]
  },
  {
   "cell_type": "code",
   "execution_count": null,
   "metadata": {},
   "outputs": [],
   "source": [
    "from llm import get_azure_llm\n",
    "\n",
    "llm = get_azure_llm()"
   ]
  },
  {
   "cell_type": "code",
   "execution_count": null,
   "metadata": {},
   "outputs": [
    {
     "name": "stdout",
     "output_type": "stream",
     "text": [
      "Artificial Intelligence (AI) is a broad field of computer science focused on creating systems capabl\n"
     ]
    }
   ],
   "source": [
    "response = llm.complete(\"Explain how AI works\")\n",
    "print(response.text[:100])"
   ]
  },
  {
   "cell_type": "code",
   "execution_count": null,
   "metadata": {},
   "outputs": [
    {
     "data": {
      "text/plain": [
       "{'Authors_by_Guillaume': ['Isaac Asimov',\n",
       "  'Arthur C. Clarke',\n",
       "  'Philip K. Dick',\n",
       "  'Ursula K. Le Guin',\n",
       "  'Ray Bradbury']}"
      ]
     },
     "execution_count": null,
     "metadata": {},
     "output_type": "execute_result"
    }
   ],
   "source": [
    "from llama_index.core.llms import ChatMessage, ChatResponse\n",
    "import json\n",
    "\n",
    "llm = get_azure_llm(\"gpt-4o-mini\")\n",
    "\n",
    "response_schema = {\n",
    "    \"type\": \"json_schema\",\n",
    "    \"json_schema\": {\n",
    "        \"name\": \"AuthorList\",\n",
    "        \"schema\": {\n",
    "            \"type\": \"object\",\n",
    "            \"properties\": {\n",
    "                \"Authors_by_Guillaume\": {\n",
    "                    \"type\": \"array\",\n",
    "                    \"items\": {\n",
    "                        \"type\": \"string\",\n",
    "                        \"description\": \"A list of authors' names\",\n",
    "                    },\n",
    "                }\n",
    "            },\n",
    "            \"required\": [\"Authors_by_Guillaume\"],\n",
    "            \"additionalProperties\": False,\n",
    "        },\n",
    "    },\n",
    "}\n",
    "\n",
    "\n",
    "def get_authors_json(query):\n",
    "    response = llm.chat(\n",
    "        messages=[\n",
    "            ChatMessage(\n",
    "                role=\"system\",\n",
    "                content=\"You are a helpful assistant that returns a JSON list of strings.\",\n",
    "            ),\n",
    "            # ChatMessage(role=\"user\", content=f\"{query}. Please provide the response in JSON format as a list of strings, following this schema: ['author1', 'author2', ...]\")\n",
    "            ChatMessage(role=\"user\", content=f\"{query}. \"),\n",
    "        ],\n",
    "        response_format=response_schema,\n",
    "    )\n",
    "    return response\n",
    "\n",
    "\n",
    "# Exemple d'utilisation\n",
    "query = \"List 5 famous science fiction authors\"\n",
    "json_response = get_authors_json(query)\n",
    "\n",
    "# print(\"Raw response:\", json_response)  # Debug\n",
    "\n",
    "try:\n",
    "    json_dict = json.loads(json_response.message.content)\n",
    "    # ...\n",
    "except json.JSONDecodeError as e:\n",
    "    print(\"Error parsing JSON:\", e)\n",
    "    print(\"Raw response:\", json_response)\n",
    "json_dict"
   ]
  },
  {
   "cell_type": "code",
   "execution_count": null,
   "metadata": {},
   "outputs": [
    {
     "name": "stdout",
     "output_type": "stream",
     "text": [
      "Input: Viktor Hugo\n",
      "Best match: Victor Hugo (score: 91)\n",
      "\n",
      "Suggestions:\n",
      "- Victor Hugo (score: 91)\n",
      "- Victor Segalen (score: 56)\n",
      "- Siri Hustvedt (score: 42)\n"
     ]
    }
   ],
   "source": [
    "from thefuzz import fuzz\n",
    "from thefuzz import process\n",
    "from llm import get_azure_llm\n",
    "from typing import List, Tuple\n",
    "import json\n",
    "from pathlib import Path\n",
    "\n",
    "\n",
    "class AuthorMatcher:\n",
    "    def __init__(self, cache_file: str = \"french_authors_cache.json\"):\n",
    "        \"\"\"Initialize with gemini client and cache\"\"\"\n",
    "        self.client = get_azure_llm()\n",
    "        self.cache_file = Path(cache_file)\n",
    "        self.reference_authors = self._load_or_fetch_authors()\n",
    "\n",
    "    def _load_or_fetch_authors(self) -> List[str]:\n",
    "        \"\"\"Load authors from cache or fetch from OpenAI\"\"\"\n",
    "        if self.cache_file.exists():\n",
    "            with open(self.cache_file, \"r\") as f:\n",
    "                return json.load(f)\n",
    "\n",
    "        # Fetch from OpenAI if cache doesn't exist\n",
    "        prompt = \"\"\"\n",
    "        You are a literary expert assistant.\n",
    "\n",
    "        Give me a list of 100 important French authors, including contemporary ones, \n",
    "        that might be discussed in \"Le Masque et la Plume\". \n",
    "        Return only a JSON array of names, no other text.\n",
    "        \"\"\"\n",
    "\n",
    "        response = self.client.complete(prompt)\n",
    "\n",
    "        try:\n",
    "            # Extract JSON from response text\n",
    "            # Remove any markdown formatting or extra text\n",
    "            response_text = response.text.strip()\n",
    "            if response_text.startswith(\"```json\"):\n",
    "                response_text = response_text.split(\"```json\")[1]\n",
    "            if response_text.endswith(\"```\"):\n",
    "                response_text = response_text.split(\"```\")[0]\n",
    "\n",
    "            authors = json.loads(response_text.strip())\n",
    "\n",
    "            # Validate response format\n",
    "            if not isinstance(authors, list):\n",
    "                raise ValueError(\"Response is not a list\")\n",
    "            if not all(isinstance(x, str) for x in authors):\n",
    "                raise ValueError(\"Not all elements are strings\")\n",
    "\n",
    "        except json.JSONDecodeError as e:\n",
    "            print(f\"Error parsing JSON response: {e}\")\n",
    "            print(f\"Raw response: {response.text}\")\n",
    "            return []\n",
    "\n",
    "        # complete avec la logique de cache\n",
    "        with open(self.cache_file, \"w\") as f:\n",
    "            json.dump(authors, f)\n",
    "\n",
    "        return authors\n",
    "\n",
    "    def find_best_match(self, name: str, min_score: int = 80) -> Tuple[str, int]:\n",
    "        \"\"\"Find best matching reference author\"\"\"\n",
    "        if not name:\n",
    "            return None, 0\n",
    "\n",
    "        best_match, score = process.extractOne(\n",
    "            name, self.reference_authors, scorer=fuzz.token_set_ratio\n",
    "        )\n",
    "\n",
    "        if score >= min_score:\n",
    "            return best_match, score\n",
    "        return None, score\n",
    "\n",
    "    def suggest_corrections(self, name: str, limit: int = 3) -> List[Tuple[str, int]]:\n",
    "        \"\"\"Suggest possible corrections for a name\"\"\"\n",
    "        return process.extract(\n",
    "            name, self.reference_authors, limit=limit, scorer=fuzz.token_set_ratio\n",
    "        )\n",
    "\n",
    "\n",
    "def test_auteur(autor):\n",
    "    matcher = AuthorMatcher()\n",
    "    best_match, score = matcher.find_best_match(autor)\n",
    "    print(f\"Input: {autor}\")\n",
    "    print(f\"Best match: {best_match} (score: {score})\")\n",
    "    suggestions = matcher.suggest_corrections(autor)\n",
    "    print(\"\\nSuggestions:\")\n",
    "    for name, score in suggestions:\n",
    "        print(f\"- {name} (score: {score})\")\n",
    "\n",
    "\n",
    "test_auteur(\"Viktor Hugo\")"
   ]
  },
  {
   "cell_type": "markdown",
   "metadata": {},
   "source": [
    "le probleme c'est que si j'utilise un auteur moins connu qui n'est pas dans les 100 ca ne va pas marcher"
   ]
  },
  {
   "cell_type": "code",
   "execution_count": null,
   "metadata": {},
   "outputs": [
    {
     "name": "stdout",
     "output_type": "stream",
     "text": [
      "Input: Frederic Beigbeder\n",
      "Best match: None (score: 45)\n",
      "\n",
      "Suggestions:\n",
      "- Georges Perec (score: 45)\n",
      "- Simone de Beauvoir (score: 44)\n",
      "- Pierre Corneille (score: 41)\n"
     ]
    }
   ],
   "source": [
    "test_auteur(\"Frederic Beigbeder\")"
   ]
  },
  {
   "cell_type": "markdown",
   "metadata": {},
   "source": [
    "et avec des accents ?"
   ]
  },
  {
   "cell_type": "code",
   "execution_count": null,
   "metadata": {},
   "outputs": [
    {
     "name": "stdout",
     "output_type": "stream",
     "text": [
      "Input: Gael Faye\n",
      "Best match: Gaël Faye (score: 94)\n",
      "\n",
      "Suggestions:\n",
      "- Gaël Faye (score: 94)\n",
      "- Gustave Flaubert (score: 56)\n",
      "- Françoise Sagan (score: 52)\n"
     ]
    }
   ],
   "source": [
    "test_auteur(\"Gael Faye\")"
   ]
  },
  {
   "cell_type": "markdown",
   "metadata": {},
   "source": [
    "ca ca marche"
   ]
  },
  {
   "cell_type": "markdown",
   "metadata": {},
   "source": [
    "# avec un llm pour retourner les auteurs dont le nom ressemble"
   ]
  },
  {
   "cell_type": "code",
   "execution_count": null,
   "metadata": {},
   "outputs": [
    {
     "name": "stdout",
     "output_type": "stream",
     "text": [
      "Input: Viktor Hugo\n",
      "Best match: Victor Hugo (score: 91)\n",
      "\n",
      "Suggestions:\n",
      "- Victor Hugo (score: 91)\n"
     ]
    }
   ],
   "source": [
    "from thefuzz import fuzz\n",
    "from thefuzz import process\n",
    "from llm import get_azure_llm\n",
    "from typing import List, Tuple\n",
    "import json\n",
    "from pathlib import Path\n",
    "\n",
    "\n",
    "class AuthorMatcher:\n",
    "    def __init__(self):\n",
    "        \"\"\"Initialize with gemini client\"\"\"\n",
    "        self.client = get_azure_llm()\n",
    "\n",
    "    def _fetch_author(self, autor) -> List[str]:\n",
    "        \"\"\"fetch from gemini\"\"\"\n",
    "\n",
    "        # Fetch from gemini\n",
    "        prompt = (\n",
    "            \"\"\"\n",
    "        Tu es un agent expert en littérature.\n",
    "        Donne moi quelques auteurs dont le nom s'approche de celui-ci : \"\"\"\n",
    "            + autor\n",
    "            + \"\"\"\n",
    "\n",
    "        S'il s'agit deja d'un auteur connu, retourne moi juste son nom. S'il y a une erreur dans le nom que je t'ai donne, corrige moi en me donnant le nom de l'auteur que tu penses que j'ai voulu dire.\n",
    "\n",
    "        Je veux que tu me donnes le prenom puis le nom dans cet ordre. Par exemple \"Marcel Pagnol\" ou \"Victor Hugo\".\n",
    "        Ces auteurs sont susceptibles d'etre discutes dans \"Le Masque et la Plume\".\n",
    "\n",
    "        Si tu me retournes plusieurs auteurs, fais le sous forme de liste par exemple si tu as identifie \"auteur 1\" et \"auteur 2\" alors retourne [\"auteur 1\", \"auteur 2\"]\n",
    "\n",
    "        Retourne uniquement un tableau JSON de noms, pas de texte supplémentaire.\n",
    "        \"\"\"\n",
    "        )\n",
    "\n",
    "        response = self.client.complete(prompt)\n",
    "\n",
    "        try:\n",
    "            # Extract JSON from response text\n",
    "            # Remove any markdown formatting or extra text\n",
    "            response_text = response.text.strip()\n",
    "            if response_text.startswith(\"```json\"):\n",
    "                response_text = response_text.split(\"```json\")[1]\n",
    "            if response_text.endswith(\"```\"):\n",
    "                response_text = response_text.split(\"```\")[0]\n",
    "\n",
    "            authors = json.loads(response_text.strip())\n",
    "\n",
    "            # Validate response format\n",
    "            if not isinstance(authors, list):\n",
    "                raise ValueError(\"Response is not a list\")\n",
    "            if not all(isinstance(x, str) for x in authors):\n",
    "                print(f\"Raw response: {response.text}\")\n",
    "                raise ValueError(\"Not all elements are strings\")\n",
    "\n",
    "        except json.JSONDecodeError as e:\n",
    "            print(f\"Error parsing JSON response: {e}\")\n",
    "            print(f\"Raw response: {response.text}\")\n",
    "            return []\n",
    "\n",
    "        return authors\n",
    "\n",
    "    def find_best_match(self, name: str, min_score: int = 80) -> Tuple[str, int]:\n",
    "        \"\"\"Find best matching reference author\"\"\"\n",
    "        if not name:\n",
    "            return None, 0\n",
    "\n",
    "        fetch_author = self._fetch_author(name)\n",
    "\n",
    "        if not fetch_author:\n",
    "            return None, 0\n",
    "\n",
    "        best_match, score = process.extractOne(\n",
    "            name, fetch_author, scorer=fuzz.token_set_ratio\n",
    "        )\n",
    "\n",
    "        if score >= min_score:\n",
    "            return best_match, score\n",
    "        return None, score\n",
    "\n",
    "    def suggest_corrections(self, name: str, limit: int = 3) -> List[Tuple[str, int]]:\n",
    "        \"\"\"Suggest possible corrections for a name\"\"\"\n",
    "        fetch_author = self._fetch_author(name)\n",
    "\n",
    "        if not fetch_author:\n",
    "            return []\n",
    "        return process.extract(\n",
    "            name, fetch_author, limit=limit, scorer=fuzz.token_set_ratio\n",
    "        )\n",
    "\n",
    "\n",
    "def test_auteur(autor):\n",
    "    matcher = AuthorMatcher()\n",
    "    best_match, score = matcher.find_best_match(autor)\n",
    "    print(f\"Input: {autor}\")\n",
    "    print(f\"Best match: {best_match} (score: {score})\")\n",
    "    suggestions = matcher.suggest_corrections(autor)\n",
    "    print(\"\\nSuggestions:\")\n",
    "    for name, score in suggestions:\n",
    "        print(f\"- {name} (score: {score})\")\n",
    "\n",
    "\n",
    "test_auteur(\"Viktor Hugo\")"
   ]
  },
  {
   "cell_type": "code",
   "execution_count": null,
   "metadata": {},
   "outputs": [
    {
     "name": "stdout",
     "output_type": "stream",
     "text": [
      "Input: Frederic Beigbeder\n",
      "Best match: Frederic Beigbeder (score: 100)\n",
      "\n",
      "Suggestions:\n",
      "- Frédéric Beigbeder (score: 94)\n"
     ]
    }
   ],
   "source": [
    "test_auteur(\"Frederic Beigbeder\")"
   ]
  },
  {
   "cell_type": "markdown",
   "metadata": {},
   "source": [
    "est-ce que ca marche avec des auteurs recents ? premiers romans ?"
   ]
  },
  {
   "cell_type": "code",
   "execution_count": null,
   "metadata": {},
   "outputs": [
    {
     "name": "stdout",
     "output_type": "stream",
     "text": [
      "Input: Jeanne Rivière\n",
      "Best match: None (score: 61)\n",
      "\n",
      "Suggestions:\n",
      "- Jean Rolin (score: 61)\n",
      "- Jean Rouaud (score: 50)\n",
      "- Jean Echenoz (score: 32)\n"
     ]
    }
   ],
   "source": [
    "test_auteur(\"Jeanne Rivière\")"
   ]
  },
  {
   "cell_type": "code",
   "execution_count": null,
   "metadata": {},
   "outputs": [
    {
     "data": {
      "text/plain": [
       "['Jean Rolin', 'Jean Rouaud', 'Jean Echenoz']"
      ]
     },
     "execution_count": null,
     "metadata": {},
     "output_type": "execute_result"
    }
   ],
   "source": [
    "matcher = AuthorMatcher()\n",
    "matcher._fetch_author(\"Jeanne Rivière\")\n",
    "# matcher._fetch_author(\"Frederic Beigbeder\")"
   ]
  },
  {
   "cell_type": "markdown",
   "metadata": {},
   "source": [
    "ca ne marche pas du tout avec les auteurs recents"
   ]
  },
  {
   "cell_type": "markdown",
   "metadata": {},
   "source": [
    "# en fournissant la description de l'episode"
   ]
  },
  {
   "cell_type": "markdown",
   "metadata": {},
   "source": [
    "on va tester avec l'episode du 26 janvier 2025 \n",
    "\n",
    "et \"Jeanne Rivière\" qui vient d'ecrire son 1er roman"
   ]
  },
  {
   "cell_type": "code",
   "execution_count": null,
   "metadata": {},
   "outputs": [],
   "source": [
    "from mongo_episode import Episode\n",
    "import datetime\n",
    "\n",
    "episode_26janv2025 = Episode.from_date(datetime.date(2025, 1, 26))"
   ]
  },
  {
   "cell_type": "code",
   "execution_count": null,
   "metadata": {},
   "outputs": [
    {
     "data": {
      "text/plain": [
       "\"durée : 00:47:56 - Le Masque et la Plume - par : Rebecca Manzoni - Une saga familiale à travers trois générations de femmes, entre le Maroc et la France\\xa0; une histoire d'amour et une réflexion sur la judéité\\xa0; un roman filial et d'espionnage dans la Guerre Froide\\xa0; amitié, désir, musique punk sans les années 90 ; littérature et amour en Sardaigne. - invités : Arnaud Viviant, Laurent CHALUMEAU, Patricia Martin, Elisabeth Philippe - Arnaud Viviant : Critique littéraire (Revue Regards), Laurent Chalumeau : Journaliste rock, scénariste, dialoguiste, romancier, Patricia Martin : Journaliste, critique littéraire et productrice chez France Inter, Elisabeth Philippe : Critique littéraire (L'Obs) - réalisé par : Guillaume Girault\""
      ]
     },
     "execution_count": null,
     "metadata": {},
     "output_type": "execute_result"
    }
   ],
   "source": [
    "episode_26janv2025.description"
   ]
  },
  {
   "cell_type": "code",
   "execution_count": null,
   "metadata": {},
   "outputs": [],
   "source": [
    "from thefuzz import fuzz\n",
    "from thefuzz import process\n",
    "from llm import get_azure_llm\n",
    "from typing import List, Tuple\n",
    "import json\n",
    "from pathlib import Path\n",
    "\n",
    "\n",
    "class AuthorEpisodeMatcher:\n",
    "    def __init__(self, episode: Episode):\n",
    "        \"\"\"un agent qui va verifier les auteurs d'un episode\n",
    "        episode : episode qui contient notamment un titre et une description\n",
    "        \"\"\"\n",
    "        self.client = get_azure_llm()\n",
    "        self.episode = episode\n",
    "\n",
    "    def _potentiels_auteurs(self, auteur: str) -> List[str]:\n",
    "        \"\"\"\n",
    "        on cherche avec llm une liste de potentiels auteurs qui pourraient correspondre à l'auteur donné\n",
    "        auteur : ce qu'on cherche\n",
    "\n",
    "        cette liste sera utilise par find_best_match pour trouver le meilleur match\n",
    "        \"\"\"\n",
    "\n",
    "        description = (\n",
    "            \" titre : \" + self.episode.titre\n",
    "        )  # + \" \\n description : \" + self.episode.description\n",
    "\n",
    "        # prompt pour llm\n",
    "        prompt = (\n",
    "            \"\"\"\n",
    "        Tu es un agent expert en littérature.\n",
    "\n",
    "        J'ai entendu parler d'un auteur evoque dans un episode du \"Masque et la Plume\" dont le nom ressemble à celui-ci : \"\"\"\n",
    "            + auteur\n",
    "            + \"\"\"\n",
    "\n",
    "        Je dis ressemble parce que j'ai entendu le nom à la radio et je ne suis pas sûr de l'orthographe exacte de son nom.\n",
    "\n",
    "        J'ai aussi le titre et lq description de cet episode du \"Masque et la Plume\" qui peuvent t'aider à trouver cet auteur. \n",
    "        Les voici : \"\"\"\n",
    "            + description\n",
    "            + \"\"\"\n",
    "\n",
    "        Il est possible que le nom apparaisse dans le titre ou la description, dans ce cas utilise le car ces sources sont plus fiables que le nom que je t'ai donne.\n",
    "        \n",
    "        Cependant il est possible que le nom n'y apparaisse pas, dans ce cas recherche dans ce que tu connais en tant qu'expert en littérature.\n",
    "        \n",
    "        S'il s'agit deja d'un auteur que tu connaissais, retourne moi juste son nom. S'il y a une erreur dans le nom que je t'ai donne, corrige moi en me donnant le nom de l'auteur que tu penses que j'ai voulu dire.\n",
    "\n",
    "        Je veux que tu me donnes le prenom puis le nom dans cet ordre. Par exemple \"Marcel Pagnol\" ou \"Victor Hugo\".\n",
    "\n",
    "        Si tu me retournes plusieurs auteurs car tu as des doutes, fais le sous forme de liste par exemple si tu as identifie \"auteur 1\" et \"auteur 2\" alors retourne [\"auteur 1\", \"auteur 2\"]\n",
    "\n",
    "        Retourne uniquement un tableau JSON de noms, pas de texte supplémentaire.\n",
    "        \"\"\"\n",
    "        )\n",
    "\n",
    "        response = self.client.complete(prompt)\n",
    "\n",
    "        try:\n",
    "            # Extract JSON from response text\n",
    "            # Remove any markdown formatting or extra text\n",
    "            response_text = response.text.strip()\n",
    "            if response_text.startswith(\"```json\"):\n",
    "                response_text = response_text.split(\"```json\")[1]\n",
    "            if response_text.endswith(\"```\"):\n",
    "                response_text = response_text.split(\"```\")[0]\n",
    "\n",
    "            authors = json.loads(response_text.strip())\n",
    "\n",
    "            # Validate response format\n",
    "            if not isinstance(authors, list):\n",
    "                raise ValueError(\"Response is not a list\")\n",
    "            if not all(isinstance(x, str) for x in authors):\n",
    "                print(f\"Raw response: {response.text}\")\n",
    "                raise ValueError(\"Not all elements are strings\")\n",
    "\n",
    "        except json.JSONDecodeError as e:\n",
    "            print(f\"Error parsing JSON response: {e}\")\n",
    "            print(f\"Raw response: {response.text}\")\n",
    "            return []\n",
    "\n",
    "        return authors\n",
    "\n",
    "    def find_best_match(self, auteur: str, min_score: int = 80) -> Tuple[str, int]:\n",
    "        \"\"\"Find best matching reference auteur\n",
    "        en utilisant thefuzz process.extractOne\n",
    "\n",
    "        retourne None, 0 si aucun auteur n'est renseigné\n",
    "        retourne None, -1 si aucun auteur de reference n'est trouvé\n",
    "        retourne None, score si le score est inferieur à min_score\n",
    "\n",
    "        et sinon retourne le meilleur match et son score\n",
    "\n",
    "        Returns: (best_match, score)\n",
    "        \"\"\"\n",
    "        if not auteur:\n",
    "            return None, 0\n",
    "\n",
    "        fetch_author = self._potentiels_auteurs(auteur)\n",
    "\n",
    "        if not fetch_author:\n",
    "            return None, -1\n",
    "\n",
    "        best_match, score = process.extractOne(\n",
    "            auteur, fetch_author, scorer=fuzz.token_set_ratio\n",
    "        )\n",
    "\n",
    "        if score >= min_score:\n",
    "            return best_match, score\n",
    "        return None, score\n",
    "\n",
    "    def test_auteur(self, autor):\n",
    "        best_match, score = self.find_best_match(autor)\n",
    "        print(f\"Input: {autor}\")\n",
    "        print(f\"fetch autors : {self._potentiels_auteurs(autor)}\")\n",
    "        print(f\"Best match: {best_match} (score: {score})\")\n",
    "        return best_match, score\n",
    "\n",
    "\n",
    "matcher_26janv2025 = AuthorEpisodeMatcher(episode_26janv2025)"
   ]
  },
  {
   "cell_type": "code",
   "execution_count": null,
   "metadata": {},
   "outputs": [
    {
     "name": "stdout",
     "output_type": "stream",
     "text": [
      "Input: Viktor Hugo\n",
      "fetch autors : ['Leïla Slimani', 'Pierre Lemaître', 'Jeanne Rivière', 'Nathalie Azoulai', 'Milena Agus']\n",
      "Best match: Victor Hugo (score: 91)\n"
     ]
    },
    {
     "data": {
      "text/plain": [
       "('Victor Hugo', 91)"
      ]
     },
     "execution_count": null,
     "metadata": {},
     "output_type": "execute_result"
    }
   ],
   "source": [
    "matcher_26janv2025.test_auteur(\"Viktor Hugo\")"
   ]
  },
  {
   "cell_type": "code",
   "execution_count": null,
   "metadata": {},
   "outputs": [
    {
     "name": "stdout",
     "output_type": "stream",
     "text": [
      "Input: Jeanne Rivière\n",
      "fetch autors : ['Jeanne Benameur']\n",
      "Best match: None (score: 63)\n"
     ]
    },
    {
     "data": {
      "text/plain": [
       "(None, 63)"
      ]
     },
     "execution_count": null,
     "metadata": {},
     "output_type": "execute_result"
    }
   ],
   "source": [
    "matcher_26janv2025.test_auteur(\"Jeanne Rivière\")"
   ]
  },
  {
   "cell_type": "code",
   "execution_count": null,
   "metadata": {},
   "outputs": [
    {
     "name": "stdout",
     "output_type": "stream",
     "text": [
      "Input: Jeanne Riviere\n",
      "fetch autors : ['Jeanne Rivière']\n",
      "Best match: Jeanne Rivière (score: 96)\n"
     ]
    },
    {
     "data": {
      "text/plain": [
       "('Jeanne Rivière', 96)"
      ]
     },
     "execution_count": null,
     "metadata": {},
     "output_type": "execute_result"
    }
   ],
   "source": [
    "matcher_26janv2025.test_auteur(\"Jeanne Riviere\")"
   ]
  },
  {
   "cell_type": "markdown",
   "metadata": {},
   "source": [
    "c'est pas parfait c'est le cote un peu schostastique du llm"
   ]
  },
  {
   "cell_type": "markdown",
   "metadata": {},
   "source": [
    "essayons avec la transcription"
   ]
  },
  {
   "cell_type": "code",
   "execution_count": null,
   "metadata": {},
   "outputs": [],
   "source": [
    "transcription = episode_26janv2025.transcription\n",
    "\n",
    "prompt_transcription = f\"\"\"\n",
    "\n",
    "Je vais te donner la transcription d'un episode d'une emission de radio qui s'appelle le masque et la plume sur France Inter.\n",
    "Cet episode dure 1h et porte sur des livres. Il y a des intervenants qui parlent des livres qu'ils ont lus. Ils ne sont parfois pas d'accord.\n",
    "\n",
    "Voici la transcription:\n",
    "{transcription}\n",
    "\n",
    "Je veux que tu identifies l'ensemble des livres dont on parle dans cette emission.\n",
    "Et que tu me restitues cette liste de livres en separant auteur et titre. Si l'editeur est mentionne tu peux aussi le noter.\n",
    "\n",
    "Tu me restitueras cette liste sous la forme d'un tableau au format markdown. Avec une colonne pour l'auteur, une colonne pour le titre et une colonne pour l'editeur si il est mentionne.\n",
    "\n",
    "Et tu me donneras une lsite au format python des auteurs\n",
    "\"\"\""
   ]
  },
  {
   "cell_type": "code",
   "execution_count": null,
   "metadata": {},
   "outputs": [
    {
     "data": {
      "text/plain": [
       "'Voici la liste des livres mentionnés dans l\\'émission, présentée sous forme de tableau au format markdown :\\n\\n| Auteur                | Titre                                    | Éditeur          |\\n|-----------------------|------------------------------------------|------------------|\\n| Leïla Slimani         | J\\'emporterai le feu                      | Gallimard        |\\n| Nathalie Azoulay      | Toutes les vies de Théo                  | POL              |\\n| Pierre Lemaitre       | Un avenir radieux                        | Calman Lévy      |\\n| Jeanne Rivière        | Lorraine Brulle                          | Gallimard        |\\n| Milena Agus           | Le vent passe et la nuit aussi           | Liana Lévy       |\\n| Christian Laval       | Marx en Amérique                         | Chamballon       |\\n| Guillaume Lebrun      | Ravager de splendeur                     | Bourgois         |\\n| Sally Rooney          | Normal People                            | Livre de poche   |\\n| Nicolas Leflaec       | Jean-Patrick Manchette, écrire contre    | Gallimard        |\\n\\nEt voici la liste des auteurs au format Python :\\n\\n```python\\nauteurs = [\\n    \"Leïla Slimani\",\\n    \"Nathalie Azoulay\",\\n    \"Pierre Lemaitre\",\\n    \"Jeanne Rivière\",\\n    \"Milena Agus\",\\n    \"Christian Laval\",\\n    \"Guillaume Lebrun\",\\n    \"Sally Rooney\",\\n    \"Nicolas Leflaec\"\\n]\\n```'"
      ]
     },
     "execution_count": null,
     "metadata": {},
     "output_type": "execute_result"
    }
   ],
   "source": [
    "llm = get_azure_llm()\n",
    "\n",
    "llm.complete(prompt_transcription).text"
   ]
  },
  {
   "cell_type": "markdown",
   "metadata": {},
   "source": [
    "'Voici le tableau markdown listant les livres mentionnés dans l\\'émission, avec auteur, titre et éditeur :\\n\\n\n",
    "\n",
    "| Auteur             | Titre                         | Éditeur           |\n",
    "|----------------------|---------------------------------|--------------------|\n",
    "| Haruki Murakami     | La Cité aux murs incertains      |                    |\n",
    "| Constantin Alexandrakis | L\\'Hospitalité au démon         |                    |\n",
    "| Leila Slimani        | J\\'emporterai le feu            | Gallimard          |\n",
    "| Nathalie Azoulay     | Toutes les vies de Théo        | POL                |\n",
    "| Johann Svar          | (Titre non spécifié)            |                    |\n",
    "| Pierre Lemaitre     | Un avenir radieux              | Calmann Lévy       |\n",
    "| Jeanne Rivière       | Lorraine Brulle                | Gallimard (collection Signe) |\n",
    "| Milena Agus          | Le vent passe et la nuit aussi | Liana Lévy         |\n",
    "| Christian Laval      | Marx en Amérique               | Chambon             |\n",
    "| Guillaume Lebrun     | Ravagé de splendeur            | Bourgois           |\n",
    "| Sally Rooney         | Normal People                  | Livre de Poche     |\n",
    "| Jean-Patrick Manchette | (Titre non spécifié, biographie)| Gallimard          |\n",
    "| Bob Dylan            | (Titre non spécifié, biographie)|                    |\n",
    "\n",
    "\n",
    "Voici la liste des auteurs au format Python\n",
    "\n",
    "```python\n",
    "auteurs = [\"Haruki Murakami\", \"Constantin Alexandrakis\", \"Leila Slimani\", \"Nathalie Azoulay\", \"Johann Svar\", \"Pierre Lemaitre\", \"Jeanne Rivière\", \"Milena Agus\", \"Christian Laval\", \"Guillaume Lebrun\", \"Sally Rooney\", \"Jean-Patrick Manchette\", \"Bob Dylan\"]\n",
    "```"
   ]
  },
  {
   "cell_type": "code",
   "execution_count": null,
   "metadata": {},
   "outputs": [
    {
     "name": "stdout",
     "output_type": "stream",
     "text": [
      "Input: Haruki Murakami\n",
      "fetch autors : ['Haruki Murakami']\n",
      "Best match: Haruki Murakami (score: 100)\n",
      "Input: Constantin Alexandrakis\n",
      "fetch autors : []\n",
      "Best match: None (score: -1)\n",
      "Input: Leila Slimani\n",
      "fetch autors : ['Leïla Slimani']\n",
      "Best match: Leïla Slimani (score: 96)\n",
      "Input: Nathalie Azoulay\n",
      "fetch autors : ['Nathalie Azoulai']\n",
      "Best match: Nathalie Azoulai (score: 94)\n",
      "Input: Johann Svar\n",
      "fetch autors : ['Johann Zarca']\n",
      "Best match: None (score: 78)\n",
      "Input: Pierre Lemaitre\n",
      "fetch autors : ['Pierre Lemaitre']\n",
      "Best match: Pierre Lemaitre (score: 100)\n",
      "Input: Jeanne Rivière\n",
      "fetch autors : ['Jeanne Benameur']\n",
      "Best match: None (score: 63)\n",
      "Input: Milena Agus\n",
      "fetch autors : ['Leïla Slimani', 'Pierre Lemaître', 'Jeanne Rivière', 'Nathalie Azoulai', 'Milena Agus']\n",
      "Best match: Milena Agus (score: 100)\n",
      "Input: Christian Laval\n",
      "fetch autors : ['Leïla Slimani', 'Pierre Lemaître', 'Jeanne Rivière', 'Nathalie Azoulai', 'Milena Agus']\n",
      "Best match: None (score: 32)\n",
      "Input: Guillaume Lebrun\n",
      "fetch autors : ['Guillaume Meurice']\n",
      "Best match: None (score: -1)\n",
      "Input: Sally Rooney\n",
      "fetch autors : ['Sally Rooney']\n",
      "Best match: Sally Rooney (score: 100)\n",
      "Input: Jean-Patrick Manchette\n",
      "fetch autors : ['Jean-Patrick Manchette']\n",
      "Best match: Jean-Patrick Manchette (score: 100)\n",
      "Input: Bob Dylan\n",
      "fetch autors : ['Leïla Slimani', 'Pierre Lemaître', 'Jeanne Rivière', 'Nathalie Azoulai', 'Milena Agus']\n",
      "Best match: None (score: 38)\n",
      "Auteurs corrects :  ['Haruki Murakami', 'Leïla Slimani', 'Nathalie Azoulai', 'Pierre Lemaitre', 'Milena Agus', 'Sally Rooney', 'Jean-Patrick Manchette']\n",
      "Auteurs inconnus :  ['Constantin Alexandrakis', 'Johann Svar', 'Jeanne Rivière', 'Christian Laval', 'Guillaume Lebrun', 'Bob Dylan']\n"
     ]
    }
   ],
   "source": [
    "auteurs = [\n",
    "    \"Haruki Murakami\",\n",
    "    \"Constantin Alexandrakis\",\n",
    "    \"Leila Slimani\",\n",
    "    \"Nathalie Azoulay\",\n",
    "    \"Johann Svar\",\n",
    "    \"Pierre Lemaitre\",\n",
    "    \"Jeanne Rivière\",\n",
    "    \"Milena Agus\",\n",
    "    \"Christian Laval\",\n",
    "    \"Guillaume Lebrun\",\n",
    "    \"Sally Rooney\",\n",
    "    \"Jean-Patrick Manchette\",\n",
    "    \"Bob Dylan\",\n",
    "]\n",
    "\n",
    "auteurs_corrects = []\n",
    "auteurs_inconnus = []\n",
    "\n",
    "for auteur in auteurs:\n",
    "    best_match, score = matcher_26janv2025.test_auteur(auteur)\n",
    "    if score >= 80:\n",
    "        auteurs_corrects.append(best_match)\n",
    "    else:\n",
    "        auteurs_inconnus.append(auteur)\n",
    "\n",
    "print(\"Auteurs corrects : \", auteurs_corrects)\n",
    "print(\"Auteurs inconnus : \", auteurs_inconnus)"
   ]
  },
  {
   "cell_type": "code",
   "execution_count": null,
   "metadata": {},
   "outputs": [],
   "source": [
    "from serpapi import GoogleSearch\n",
    "from llm import load_env\n",
    "import os\n",
    "\n",
    "load_env()\n",
    "serpapi_key = os.getenv(\"SERP_API_KEY\")\n",
    "\n",
    "params = {\n",
    "    \"api_key\": serpapi_key,\n",
    "    \"engine\": \"google\",\n",
    "    \"q\": auteurs_inconnus[0],\n",
    "    \"location\": \"Paris, France\",\n",
    "    \"google_domain\": \"google.com\",\n",
    "    \"gl\": \"fr\",\n",
    "    \"hl\": \"fr\",\n",
    "}\n",
    "\n",
    "search = GoogleSearch(params)\n",
    "results = search.get_dict()"
   ]
  },
  {
   "cell_type": "code",
   "execution_count": null,
   "metadata": {},
   "outputs": [],
   "source": [
    "prompt_incertitude_auteur = f\"\"\"\n",
    "\n",
    "Voici le resultat d'une requete google concernant un probable auteur inconnu de mon llm : {auteurs_inconnus[0]}\n",
    "\n",
    "La requete est au format dict avec du json a l'interieur.\n",
    "\n",
    "Est-ce que tu peux analyser le contenu de cette requete et me dire si oui ou non {auteurs_inconnus[0]} est un auteur de livres, et accompagner ta reponse d'un pourcentage de certitude\n",
    "\n",
    "100% de certitude signifie que tu es certain que {auteurs_inconnus[0]} est un auteur de livres\n",
    "\n",
    "50% tu es ni sure ni pas sure que {auteurs_inconnus[0]} est un auteur de livres\n",
    "\n",
    "0% tu es certain que {auteurs_inconnus[0]} n'est pas un auteur de livres\n",
    "\n",
    "Voici le contenu de la requete google : {results}\n",
    "\n",
    "\n",
    "Tu repondras uniquement avec un dictionnaire qui va contenir 3 entrees :\n",
    "\n",
    "- \"auteur\" : le nom de l'auteur, eventuellement corrige si j'ai oublie des accents ou une faute de frappe\n",
    "- \"certitude\" : le pourcentage de certitude de 0 à 100, un entier\n",
    "- \"analyse\" : une analyse de la requete google\n",
    "\n",
    "je ne veux pas d'autres choses que ce dictionnaire car je veux utiliser telle quelle ta reponse pour la suite de mon programme ecrit en python\n",
    "\n",
    "ca veut dire que tu dois commencer ta reponse par un \"{\" et la terminer par un \"}\" et que tu ne dois pas ajouter de texte supplementaire\n",
    "\n",
    "\"\"\"\n",
    "\n",
    "answer = llm.complete(prompt_incertitude_auteur).text"
   ]
  },
  {
   "cell_type": "code",
   "execution_count": null,
   "metadata": {},
   "outputs": [
    {
     "data": {
      "text/plain": [
       "'{\\n  \"auteur\": \"Constantin Alexandrakis\",\\n  \"certitude\": 100,\\n  \"analyse\": \"La requête Google indique clairement que Constantin Alexandrakis est un auteur. Il est mentionné comme autobiographe dans le knowledge graph et plusieurs résultats de recherche font référence à ses livres, notamment \\'L\\'hospitalité au démon\\' et \\'Deux fois né\\'. Les liens vers des sites comme Gallimard, Babelio et des articles de presse confirment son statut d\\'auteur.\"\\n}'"
      ]
     },
     "execution_count": null,
     "metadata": {},
     "output_type": "execute_result"
    }
   ],
   "source": [
    "answer"
   ]
  },
  {
   "cell_type": "code",
   "execution_count": null,
   "metadata": {},
   "outputs": [
    {
     "data": {
      "text/plain": [
       "(100, 'Constantin Alexandrakis')"
      ]
     },
     "execution_count": null,
     "metadata": {},
     "output_type": "execute_result"
    }
   ],
   "source": [
    "import ast\n",
    "\n",
    "answer_dict = ast.literal_eval(answer)\n",
    "answer_dict[\"certitude\"], answer_dict[\"auteur\"]"
   ]
  },
  {
   "cell_type": "code",
   "execution_count": null,
   "metadata": {},
   "outputs": [
    {
     "name": "stdout",
     "output_type": "stream",
     "text": [
      "[{'title': 'Constantine G. Alexandrakis - Russell Reynolds Associates | LinkedIn', 'snippet': 'Constantine Alexandrakis is the Chief Executive Officer of Russell Reynolds Associates… · Experience: Russell Reynolds Associates · Location: Greater\\xa0...', 'link': 'https://www.linkedin.com/in/constantine-g-alexandrakis'}, {'title': 'Constantine Alexandrakis | CEO | Russell Reynolds Associates', 'snippet': \"Constantine Alexandrakis is the Chief Executive Officer of Russell Reynolds Associates and serves on the firm's Board of Directors.\", 'link': 'https://www.russellreynolds.com/en/people/consultant-directory/constantine-alexandrakis'}, {'title': 'Constantine Alexandrakis - Faculty Bio | Hofstra University', 'snippet': 'Bio. Constantine Alexandrakis received his doctoral degree in Economics at Clark University. Before joining Hofstra in 2004 he held the position of Assistant\\xa0...', 'link': 'https://www.hofstra.edu/faculty-staff/faculty-profile.html?id=26'}, {'title': 'Constantin Alexandrakis: books, biography, latest ... - Amazon.com', 'snippet': \"Follow Constantin Alexandrakis and explore their bibliography from Amazon's Constantin Alexandrakis Author Page.\", 'link': 'https://www.amazon.com/Constantin-Alexandrakis/e/B074T96CPR%3Fref=dbs_a_mng_rwt_scns_share'}, {'title': \"L'hospitalité au démon de Constantin Alexandrakis | Gallimard\", 'snippet': \"Jan 9, 2025 ... Découvrez toutes les informations relatives à L'hospitalité au démon de Constantin Alexandrakis de la collection Verticales sur le site\\xa0...\", 'link': 'https://www.gallimard.fr/catalogue/l-hospitalite-au-demon/9782073047922'}, {'title': 'Constantin Alexandrakis : \"Le refus de l\\'autre nous transforme en ...', 'snippet': '2 days ago ... Dans son récit \"L\\'Hospitalité au démon\" paru aux éditions Verticales, Constantin Alexandrakis revient sur les abus sexuels dont il a été\\xa0...', 'link': 'https://www.radiofrance.fr/franceinter/podcasts/la-20e-heure/la-20eme-heure-du-mercredi-29-janvier-2025-7952510'}, {'title': 'Constantin Alexandrakis', 'snippet': 'Facebook wordmark · Log in. Cover photo of Constantin. Constantin Alexandrakis. Photos. \\U000f160b. Photos. More content.', 'link': 'https://www.facebook.com/constantin.alexandrakis.1/'}, {'title': 'Constantine Alexandrakis | gecp', 'snippet': \"Russell Reynolds Associates. Constantine Alexandrakis leads Russell Reynolds Associates' Midwest (Chicago and Minneapolis/St. Paul) offices. His primary area of\\xa0...\", 'link': 'https://www.ge-cp.com/constantine-alexandrakis'}, {'title': 'Rencontre avec Constantin Alexandrakis, sensation de la rentrée ...', 'snippet': \"Jan 2, 2025 ... C'est la révélation de la rentrée d'hiver : Constantin Alexandrakis fait le récit d'une agression sexuelle dont il a été victime pendant\\xa0...\", 'link': 'https://www.lesinrocks.com/livres/rencontre-avec-constantin-alexandrakis-sensation-de-la-rentree-litteraire-2025-638083-02-01-2025/'}, {'title': 'Constantin Alexandrakis', 'snippet': \"Après Deux fois né (2017), son deuxième récit L'hospitalité au démon a paru en janvier 2025. Constantin Alexandrakis was born in 1978. At 18, he left for the\\xa0...\", 'link': 'http://www.editions-verticales.com/auteurs_fiche.php?id=176&rubrique=4'}]\n"
     ]
    }
   ],
   "source": [
    "import os\n",
    "from googleapiclient.discovery import build\n",
    "from google.oauth2 import service_account\n",
    "\n",
    "from llm import load_env\n",
    "import os\n",
    "\n",
    "load_env()\n",
    "api_key = os.getenv(\"GOOGLE_CUSTOM_SEARCH_API_KEY\")\n",
    "cse_id = os.getenv(\"SEARCH_ENGINE_ID\")\n",
    "\n",
    "if not api_key or not cse_id:\n",
    "    raise ValueError(\n",
    "        \"Les variables d'environnement GOOGLE_SEARCH_API_KEY et GOOGLE_CSE_ID doivent être définies.\"\n",
    "    )\n",
    "\n",
    "\n",
    "# Fonction de recherche Google\n",
    "def google_search(query):\n",
    "    try:\n",
    "        service = build(\"customsearch\", \"v1\", developerKey=api_key)\n",
    "        res = service.cse().list(q=query, cx=cse_id).execute()\n",
    "\n",
    "        results = []\n",
    "        for item in res.get(\"items\", []):\n",
    "            title = item.get(\"title\")\n",
    "            snippet = item.get(\"snippet\")\n",
    "            link = item.get(\"link\")\n",
    "            results.append({\"title\": title, \"snippet\": snippet, \"link\": link})\n",
    "        return results\n",
    "    except Exception as e:\n",
    "        print(f\"Erreur lors de la recherche Google: {e}\")\n",
    "        return None\n",
    "\n",
    "\n",
    "# Exemple d'utilisation\n",
    "user_query = auteurs_inconnus[0]\n",
    "response = google_search(user_query)\n",
    "print(response)"
   ]
  },
  {
   "cell_type": "code",
   "execution_count": null,
   "metadata": {},
   "outputs": [
    {
     "data": {
      "text/plain": [
       "(90, 'Constantin Alexandrakis')"
      ]
     },
     "execution_count": null,
     "metadata": {},
     "output_type": "execute_result"
    }
   ],
   "source": [
    "results = google_search(auteurs_inconnus[0])\n",
    "\n",
    "prompt_incertitude_auteur = f\"\"\"\n",
    "\n",
    "Voici le resultat d'une requete google concernant un probable auteur inconnu de mon llm : {auteurs_inconnus[0]}\n",
    "\n",
    "La requete est au format dict avec du json a l'interieur.\n",
    "\n",
    "Est-ce que tu peux analyser le contenu de cette requete et me dire si oui ou non {auteurs_inconnus[0]} est un auteur de livres, et accompagner ta reponse d'un pourcentage de certitude\n",
    "\n",
    "100% de certitude signifie que tu es certain que {auteurs_inconnus[0]} est un auteur de livres\n",
    "\n",
    "50% tu es ni sure ni pas sure que {auteurs_inconnus[0]} est un auteur de livres\n",
    "\n",
    "0% tu es certain que {auteurs_inconnus[0]} n'est pas un auteur de livres\n",
    "\n",
    "Voici le contenu de la requete google : {results}\n",
    "\n",
    "\n",
    "Tu repondras uniquement avec un dictionnaire qui va contenir 3 entrees :\n",
    "\n",
    "- \"auteur\" : le nom de l'auteur, eventuellement corrige si j'ai oublie des accents ou une faute de frappe\n",
    "- \"certitude\" : le pourcentage de certitude de 0 à 100, un entier\n",
    "- \"analyse\" : une analyse de la requete google\n",
    "\n",
    "je ne veux pas d'autres choses que ce dictionnaire car je veux utiliser telle quelle ta reponse pour la suite de mon programme ecrit en python\n",
    "\n",
    "ca veut dire que tu dois commencer ta reponse par un \"{\" et la terminer par un \"}\" et que tu ne dois pas ajouter de texte supplementaire\n",
    "\"\"\"\n",
    "\n",
    "answer = llm.complete(prompt_incertitude_auteur).text\n",
    "\n",
    "import ast\n",
    "\n",
    "answer_dict = ast.literal_eval(answer)\n",
    "answer_dict[\"certitude\"], answer_dict[\"auteur\"]"
   ]
  },
  {
   "cell_type": "code",
   "execution_count": null,
   "metadata": {},
   "outputs": [],
   "source": []
  }
 ],
 "metadata": {
  "kernelspec": {
   "display_name": "python3",
   "language": "python",
   "name": "python3"
  }
 },
 "nbformat": 4,
 "nbformat_minor": 2
}
