{
 "cells": [
  {
   "cell_type": "code",
   "execution_count": null,
   "metadata": {},
   "outputs": [
    {
     "data": {
      "text/plain": [
       "['/mnt/c/Users/f279814/git/lmelp/audios/2016/14007-13.11.2016-ITEMA_21134385-0.mp3']"
      ]
     },
     "execution_count": null,
     "metadata": {},
     "output_type": "execute_result"
    }
   ],
   "source": [
    "from whisper import list_mp3_files\n",
    "\n",
    "mp3s = list_mp3_files()\n",
    "mp3s"
   ]
  },
  {
   "cell_type": "markdown",
   "metadata": {},
   "source": [
    "ca a pris 48 min et 45 secondes sur mon FW13"
   ]
  },
  {
   "cell_type": "code",
   "execution_count": null,
   "metadata": {},
   "outputs": [],
   "source": [
    "import time\n",
    "import warnings\n",
    "from whisper import extract_whisper\n",
    "\n",
    "# Ignorer les warnings\n",
    "warnings.filterwarnings(\"ignore\")\n",
    "\n",
    "\n",
    "def print_duree_traitement(start_time, end_time):\n",
    "    # Calculer la durée\n",
    "    duration = end_time - start_time\n",
    "\n",
    "    # Convertir la durée en heures, minutes et secondes\n",
    "    hours, remainder = divmod(duration, 3600)\n",
    "    minutes, seconds = divmod(remainder, 60)\n",
    "\n",
    "    # Afficher la durée formatée\n",
    "    if hours > 0:\n",
    "        print(\n",
    "            f\"Le traitement a pris {int(hours)} heures, {int(minutes)} minutes et {int(seconds)} secondes.\"\n",
    "        )\n",
    "    else:\n",
    "        print(\n",
    "            f\"Le traitement a pris {int(minutes)} minutes et {int(seconds)} secondes.\"\n",
    "        )"
   ]
  },
  {
   "cell_type": "markdown",
   "metadata": {},
   "source": [
    "Le traitement a pris 4 minutes et 17 secondes."
   ]
  },
  {
   "cell_type": "code",
   "execution_count": null,
   "metadata": {},
   "outputs": [],
   "source": [
    "import os\n",
    "\n",
    "\n",
    "def from_audio_to_text(audio_filename):\n",
    "    # Remplace l'extension de audio_filename par txt\n",
    "    transcription_filename = os.path.splitext(audio_filename)[0] + \".txt\"\n",
    "\n",
    "    if not os.path.exists(transcription_filename):\n",
    "        start_time = time.time()\n",
    "\n",
    "        # Extraire la transcription\n",
    "        transcription = extract_whisper(audio_filename)\n",
    "\n",
    "        # Écrire la transcription dans un fichier texte\n",
    "        with open(transcription_filename, \"w\") as f:\n",
    "            f.write(transcription)\n",
    "\n",
    "        end_time = time.time()\n",
    "        print_duree_traitement(start_time=start_time, end_time=end_time)\n",
    "    else:\n",
    "        print(f\"Le fichier {transcription_filename} existe déjà.\")\n",
    "\n",
    "    return transcription_filename"
   ]
  },
  {
   "cell_type": "code",
   "execution_count": null,
   "metadata": {},
   "outputs": [
    {
     "name": "stdout",
     "output_type": "stream",
     "text": [
      "Le fichier /mnt/c/Users/f279814/git/lmelp/audios/2016/14007-13.11.2016-ITEMA_21134385-0.txt existe déjà.\n"
     ]
    }
   ],
   "source": [
    "for mp3 in mp3s:\n",
    "    from_audio_to_text(mp3)"
   ]
  },
  {
   "cell_type": "code",
   "execution_count": null,
   "metadata": {},
   "outputs": [],
   "source": []
  }
 ],
 "metadata": {
  "kernelspec": {
   "display_name": "python3",
   "language": "python",
   "name": "python3"
  }
 },
 "nbformat": 4,
 "nbformat_minor": 2
}
