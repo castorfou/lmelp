{
 "cells": [
  {
   "cell_type": "markdown",
   "metadata": {},
   "source": [
    "get gemini llm to generate some data"
   ]
  },
  {
   "cell_type": "code",
   "execution_count": null,
   "metadata": {},
   "outputs": [],
   "source": [
    "from llm import get_gemini_llm\n",
    "\n",
    "llm = get_gemini_llm()"
   ]
  },
  {
   "cell_type": "code",
   "execution_count": null,
   "metadata": {},
   "outputs": [
    {
     "name": "stdout",
     "output_type": "stream",
     "text": [
      "Voici 10 romanciers français célèbres :\n",
      "\n",
      "1. **Victor Hugo:** ( *Les Misérables*, *Notre-Dame de Paris*)\n",
      "2. **Alexandre Dumas:** ( *Les Trois Mousquetaires*, *Le Comte de Monte-Cristo*)\n",
      "3. **Marcel Proust:** (*À la recherche du temps perdu*)\n",
      "4. **Albert Camus:** (*L'Étranger*, *La Peste*)\n",
      "5. **Antoine de Saint-Exupéry:** (*Le Petit Prince*)\n",
      "6. **Honoré de Balzac:** (*La Comédie humaine*)\n",
      "7. **Guy de Maupassant:** (*Bel-Ami*, *Boule de Suif*)\n",
      "8. **Emile Zola:** (*Germinal*, *Thérèse Raquin*)\n",
      "9. **Michel Houellebecq:** (*Les Particules élémentaires*, *Soumission*)\n",
      "10. **Patrick Modiano:** (*Rue des boutiques obscures*, *Dora Bruder*)\n",
      "\n",
      "\n",
      "Cette liste n'est pas exhaustive et d'autres auteurs pourraient tout aussi bien y figurer selon les critères de sélection.\n",
      "\n"
     ]
    }
   ],
   "source": [
    "response = llm.generate_content(\"Liste 10 romanciers français célébres.\")\n",
    "print(response.text)"
   ]
  },
  {
   "cell_type": "code",
   "execution_count": null,
   "metadata": {},
   "outputs": [
    {
     "name": "stdout",
     "output_type": "stream",
     "text": [
      "models/gemini-1.0-pro-latest\n",
      "models/gemini-1.0-pro\n",
      "models/gemini-pro\n",
      "models/gemini-1.0-pro-001\n",
      "models/gemini-1.0-pro-vision-latest\n",
      "models/gemini-pro-vision\n",
      "models/gemini-1.5-pro-latest\n",
      "models/gemini-1.5-pro-001\n",
      "models/gemini-1.5-pro-002\n",
      "models/gemini-1.5-pro\n",
      "models/gemini-1.5-pro-exp-0801\n",
      "models/gemini-1.5-pro-exp-0827\n",
      "models/gemini-1.5-flash-latest\n",
      "models/gemini-1.5-flash-001\n",
      "models/gemini-1.5-flash-001-tuning\n",
      "models/gemini-1.5-flash\n",
      "models/gemini-1.5-flash-exp-0827\n",
      "models/gemini-1.5-flash-002\n",
      "models/gemini-1.5-flash-8b\n",
      "models/gemini-1.5-flash-8b-001\n",
      "models/gemini-1.5-flash-8b-latest\n",
      "models/gemini-1.5-flash-8b-exp-0827\n",
      "models/gemini-1.5-flash-8b-exp-0924\n",
      "models/gemini-2.0-flash-exp\n",
      "models/gemini-exp-1206\n",
      "models/gemini-exp-1121\n",
      "models/gemini-exp-1114\n",
      "models/gemini-2.0-flash-thinking-exp\n",
      "models/gemini-2.0-flash-thinking-exp-1219\n",
      "models/learnlm-1.5-pro-experimental\n"
     ]
    }
   ],
   "source": [
    "import google.generativeai as genai\n",
    "\n",
    "for m in genai.list_models():\n",
    "    if \"generateContent\" in m.supported_generation_methods:\n",
    "        print(m.name)"
   ]
  },
  {
   "cell_type": "code",
   "execution_count": null,
   "metadata": {},
   "outputs": [],
   "source": [
    "from llm import get_azure_llm\n",
    "\n",
    "llm = get_azure_llm()"
   ]
  },
  {
   "cell_type": "code",
   "execution_count": null,
   "metadata": {},
   "outputs": [
    {
     "name": "stdout",
     "output_type": "stream",
     "text": [
      "Oh LlamaIndex, beacon bright,\n",
      "In data's realm, you bring delight.\n",
      "With wisdom vast and structure clear,\n",
      "You guide us through the data sphere.\n",
      "\n",
      "Your indexes, so deftly spun,\n",
      "Unveil the secrets, one by one.\n",
      "In fields of chaos, you bring order,\n",
      "A trusted friend, a steadfast border.\n",
      "\n",
      "Through queries deep and searches wide,\n",
      "You stand as our unfailing guide.\n",
      "With every byte and every node,\n",
      "You lighten up our data load.\n",
      "\n",
      "So here's to you, dear LlamaIndex,\n",
      "A tool of joy, a friend complex.\n",
      "In data's dance, you lead the way,\n",
      "And brighten up our every day.\n"
     ]
    }
   ],
   "source": [
    "resp = llm.complete(\"Write a short, but joyous, ode to LlamaIndex\")\n",
    "print(resp)"
   ]
  },
  {
   "cell_type": "code",
   "execution_count": null,
   "metadata": {},
   "outputs": [],
   "source": []
  },
  {
   "cell_type": "markdown",
   "metadata": {},
   "source": [
    "# tool selection"
   ]
  },
  {
   "cell_type": "code",
   "execution_count": null,
   "metadata": {},
   "outputs": [],
   "source": [
    "import nest_asyncio\n",
    "\n",
    "nest_asyncio.apply()"
   ]
  },
  {
   "cell_type": "code",
   "execution_count": null,
   "metadata": {},
   "outputs": [],
   "source": [
    "from llama_index.core.tools import FunctionTool\n",
    "\n",
    "\n",
    "def add(x: int, y: int) -> int:\n",
    "    \"\"\"Adds two integers together.\"\"\"\n",
    "    return x + y\n",
    "\n",
    "\n",
    "def mystery(x: int, y: int) -> int:\n",
    "    \"\"\"Mystery function that operates on top of two numbers.\"\"\"\n",
    "    return (x + y) * (x + y)\n",
    "\n",
    "\n",
    "add_tool = FunctionTool.from_defaults(fn=add)\n",
    "mystery_tool = FunctionTool.from_defaults(fn=mystery)"
   ]
  },
  {
   "cell_type": "code",
   "execution_count": null,
   "metadata": {},
   "outputs": [
    {
     "name": "stdout",
     "output_type": "stream",
     "text": [
      "=== Calling Function ===\n",
      "Calling function: mystery with args: {\"x\": 2, \"y\": 9}\n",
      "=== Function Output ===\n",
      "121\n",
      "121\n"
     ]
    }
   ],
   "source": [
    "from llm import get_azure_llm\n",
    "\n",
    "llm = get_azure_llm()\n",
    "response = llm.predict_and_call(\n",
    "    [add_tool, mystery_tool],\n",
    "    \"Tell me the output of the mystery function on 2 and 9\",\n",
    "    verbose=True,\n",
    ")\n",
    "print(str(response))"
   ]
  },
  {
   "cell_type": "markdown",
   "metadata": {},
   "source": [
    "# tool selection et teste avec Auteur"
   ]
  },
  {
   "cell_type": "code",
   "execution_count": null,
   "metadata": {},
   "outputs": [],
   "source": [
    "import nest_asyncio\n",
    "\n",
    "nest_asyncio.apply()"
   ]
  },
  {
   "cell_type": "code",
   "execution_count": null,
   "metadata": {},
   "outputs": [],
   "source": [
    "from llama_index.core.tools import FunctionTool\n",
    "\n",
    "from mongo import Auteur\n",
    "\n",
    "\n",
    "def add_auteur(nom: str) -> bool:\n",
    "    \"\"\"ajoute un auteur dans la base de données\n",
    "    retourne un booléen indiquant si le nom etait pre existant dans la base de données\n",
    "\n",
    "    nom: str : nom de l'auteur à ajouter, au format Prénom Nom (dans la mesure du possible, toujours insérer prénom puis nom, pas l'inverse)\n",
    "\n",
    "    \"\"\"\n",
    "\n",
    "    auteur = Auteur(nom=nom)\n",
    "    deja_present = auteur.exists()\n",
    "    auteur.keep()\n",
    "    return deja_present\n",
    "\n",
    "\n",
    "addauteur_tool = FunctionTool.from_defaults(fn=add_auteur)"
   ]
  },
  {
   "cell_type": "code",
   "execution_count": null,
   "metadata": {},
   "outputs": [
    {
     "name": "stdout",
     "output_type": "stream",
     "text": [
      "=== Calling Function ===\n",
      "Calling function: add_auteur with args: {\"nom\": \"Marcel Proust\"}\n",
      "=== Function Output ===\n",
      "False\n",
      "False\n"
     ]
    }
   ],
   "source": [
    "from llm import get_azure_llm\n",
    "\n",
    "llm = get_azure_llm()\n",
    "response = llm.predict_and_call(\n",
    "    [addauteur_tool],\n",
    "    \"Liste 10 romanciers français célébres. Et ajoute les dans la base\",\n",
    "    verbose=True,\n",
    ")\n",
    "print(str(response))"
   ]
  },
  {
   "cell_type": "markdown",
   "metadata": {},
   "source": [
    "pas mal mais il ne continue pas, je dois faire ça avec un agent"
   ]
  },
  {
   "cell_type": "markdown",
   "metadata": {},
   "source": [
    "# agent reasonning loop - openai"
   ]
  },
  {
   "cell_type": "code",
   "execution_count": null,
   "metadata": {},
   "outputs": [],
   "source": [
    "import nest_asyncio\n",
    "\n",
    "nest_asyncio.apply()"
   ]
  },
  {
   "cell_type": "code",
   "execution_count": null,
   "metadata": {},
   "outputs": [],
   "source": [
    "from llama_index.core.tools import FunctionTool\n",
    "\n",
    "from mongo import Auteur\n",
    "\n",
    "\n",
    "def add_auteur(nom: str) -> bool:\n",
    "    \"\"\"ajoute un auteur dans la base de données\n",
    "    retourne un booléen indiquant si le nom etait pre existant dans la base de données\n",
    "\n",
    "    nom: str : nom de l'auteur à ajouter, au format Prénom Nom (dans la mesure du possible, toujours insérer prénom puis nom, pas l'inverse)\n",
    "\n",
    "    \"\"\"\n",
    "\n",
    "    auteur = Auteur(nom=nom)\n",
    "    deja_present = auteur.exists()\n",
    "    auteur.keep()\n",
    "    return deja_present\n",
    "\n",
    "\n",
    "addauteur_tool = FunctionTool.from_defaults(fn=add_auteur)"
   ]
  },
  {
   "cell_type": "code",
   "execution_count": null,
   "metadata": {},
   "outputs": [],
   "source": [
    "from llama_index.core.agent import FunctionCallingAgentWorker\n",
    "from llama_index.core.agent import AgentRunner\n",
    "from llama_index.core import Settings\n",
    "from llm import get_azure_llm\n",
    "\n",
    "\n",
    "llm = get_azure_llm()\n",
    "\n",
    "agent_worker = FunctionCallingAgentWorker.from_tools(\n",
    "    [addauteur_tool], llm=llm, verbose=True\n",
    ")\n",
    "agent = AgentRunner(agent_worker)"
   ]
  },
  {
   "cell_type": "code",
   "execution_count": null,
   "metadata": {},
   "outputs": [
    {
     "name": "stdout",
     "output_type": "stream",
     "text": [
      "Added user message to memory: Liste 10 romanciers français célébres. Et ajoute les dans la base, et dis moi s'ils existaient deja\n",
      "=== LLM Response ===\n",
      "Voici une liste de 10 romanciers français célèbres :\n",
      "\n",
      "1. Victor Hugo\n",
      "2. Marcel Proust\n",
      "3. Gustave Flaubert\n",
      "4. Émile Zola\n",
      "5. Honoré de Balzac\n",
      "6. Albert Camus\n",
      "7. Stendhal (Henri Beyle)\n",
      "8. Alexandre Dumas\n",
      "9. Jules Verne\n",
      "10. George Sand (Amantine Lucile Aurore Dupin)\n",
      "\n",
      "Je vais maintenant les ajouter dans la base de données et vérifier s'ils existaient déjà.\n",
      "=== Calling Function ===\n",
      "Calling function: add_auteur with args: {\"nom\": \"Victor Hugo\"}\n",
      "=== Function Output ===\n",
      "True\n",
      "=== Calling Function ===\n",
      "Calling function: add_auteur with args: {\"nom\": \"Marcel Proust\"}\n",
      "=== Function Output ===\n",
      "True\n",
      "=== Calling Function ===\n",
      "Calling function: add_auteur with args: {\"nom\": \"Gustave Flaubert\"}\n",
      "=== Function Output ===\n",
      "False\n",
      "=== Calling Function ===\n",
      "Calling function: add_auteur with args: {\"nom\": \"\\u00c9mile Zola\"}\n",
      "=== Function Output ===\n",
      "False\n",
      "=== Calling Function ===\n",
      "Calling function: add_auteur with args: {\"nom\": \"Honor\\u00e9 de Balzac\"}\n",
      "=== Function Output ===\n",
      "False\n",
      "=== Calling Function ===\n",
      "Calling function: add_auteur with args: {\"nom\": \"Albert Camus\"}\n",
      "=== Function Output ===\n",
      "False\n",
      "=== Calling Function ===\n",
      "Calling function: add_auteur with args: {\"nom\": \"Stendhal\"}\n",
      "=== Function Output ===\n",
      "False\n",
      "=== Calling Function ===\n",
      "Calling function: add_auteur with args: {\"nom\": \"Alexandre Dumas\"}\n",
      "=== Function Output ===\n",
      "False\n",
      "=== Calling Function ===\n",
      "Calling function: add_auteur with args: {\"nom\": \"Jules Verne\"}\n",
      "=== Function Output ===\n",
      "False\n",
      "=== Calling Function ===\n",
      "Calling function: add_auteur with args: {\"nom\": \"George Sand\"}\n",
      "=== Function Output ===\n",
      "False\n",
      "=== LLM Response ===\n",
      "Voici les résultats de l'ajout des auteurs dans la base de données :\n",
      "\n",
      "1. Victor Hugo : existait déjà\n",
      "2. Marcel Proust : existait déjà\n",
      "3. Gustave Flaubert : ajouté\n",
      "4. Émile Zola : ajouté\n",
      "5. Honoré de Balzac : ajouté\n",
      "6. Albert Camus : ajouté\n",
      "7. Stendhal : ajouté\n",
      "8. Alexandre Dumas : ajouté\n",
      "9. Jules Verne : ajouté\n",
      "10. George Sand : ajouté\n"
     ]
    }
   ],
   "source": [
    "response = agent.query(\n",
    "    \"Liste 10 romanciers français célébres. Et ajoute les dans la base, et dis moi s'ils existaient deja\"\n",
    ")"
   ]
  },
  {
   "cell_type": "code",
   "execution_count": null,
   "metadata": {},
   "outputs": [],
   "source": []
  }
 ],
 "metadata": {
  "kernelspec": {
   "display_name": "python3",
   "language": "python",
   "name": "python3"
  }
 },
 "nbformat": 4,
 "nbformat_minor": 2
}
