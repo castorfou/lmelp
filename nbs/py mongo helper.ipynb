{
 "cells": [
  {
   "cell_type": "code",
   "execution_count": null,
   "metadata": {},
   "outputs": [],
   "source": [
    "# |default_exp mongo"
   ]
  },
  {
   "cell_type": "markdown",
   "metadata": {},
   "source": [
    "# get collection"
   ]
  },
  {
   "cell_type": "code",
   "execution_count": null,
   "metadata": {},
   "outputs": [],
   "source": [
    "# |export\n",
    "\n",
    "import pymongo\n",
    "from pymongo.collection import Collection\n",
    "\n",
    "\n",
    "def get_collection(\n",
    "    target_db: str = \"localhost\",\n",
    "    client_name: str = \"masque_et_la_plume\",\n",
    "    collection_name: str = \"episodes\",\n",
    ") -> Collection:\n",
    "    \"\"\"Retrieve a MongoDB collection.\n",
    "\n",
    "    This function connects to a MongoDB database using the provided database host,\n",
    "    client name (database name), and collection name, and returns the collection object.\n",
    "\n",
    "    Args:\n",
    "        target_db (str): The database host address (e.g., \"localhost\" or \"nas923\").\n",
    "        client_name (str): The name of the MongoDB client/database.\n",
    "        collection_name (str): The name of the collection to retrieve.\n",
    "\n",
    "    Returns:\n",
    "        Collection: The MongoDB collection object.\n",
    "    \"\"\"\n",
    "    client = pymongo.MongoClient(f\"mongodb://{target_db}:27017/\")\n",
    "    db = client[client_name]\n",
    "    collection = db[collection_name]\n",
    "    return collection"
   ]
  },
  {
   "cell_type": "markdown",
   "metadata": {},
   "source": [
    "# logs"
   ]
  },
  {
   "cell_type": "code",
   "execution_count": null,
   "metadata": {},
   "outputs": [],
   "source": [
    "# |export\n",
    "\n",
    "from datetime import datetime\n",
    "import pymongo\n",
    "from config import get_DB_VARS\n",
    "\n",
    "\n",
    "def mongolog(operation: str, entite: str, desc: str) -> None:\n",
    "    \"\"\"Enregistre une opération de log dans la collection 'logs' si la configuration autorise les logs.\n",
    "\n",
    "    Args:\n",
    "        operation (str): L'opération effectuée (par exemple, \"insert\", \"update\", \"delete\").\n",
    "        entite (str): Le nom de l'entité concernée.\n",
    "        desc (str): Une description détaillée de l'opération.\n",
    "    \"\"\"\n",
    "    DB_HOST, DB_NAME, DB_LOGS = get_DB_VARS()\n",
    "    if DB_LOGS in [\"true\", \"True\"]:\n",
    "        coll_logs = get_collection(DB_HOST, DB_NAME, \"logs\")\n",
    "        coll_logs.insert_one(\n",
    "            {\n",
    "                \"operation\": operation,\n",
    "                \"entite\": entite,\n",
    "                \"desc\": desc,\n",
    "                \"date\": datetime.now(),\n",
    "            }\n",
    "        )\n",
    "\n",
    "\n",
    "def print_logs(n: int = 10) -> None:\n",
    "    \"\"\"Affiche les n derniers logs de la collection 'logs', triés par date décroissante.\n",
    "\n",
    "    Args:\n",
    "        n (int, optional): Le nombre maximum de logs à afficher. Par défaut à 10.\n",
    "    \"\"\"\n",
    "    DB_HOST, DB_NAME, DB_LOGS = get_DB_VARS()\n",
    "    coll_logs = get_collection(DB_HOST, DB_NAME, \"logs\")\n",
    "    for i, log in enumerate(coll_logs.find().sort(\"date\", pymongo.DESCENDING)):\n",
    "        if i == n:\n",
    "            break\n",
    "        print(log)"
   ]
  },
  {
   "cell_type": "code",
   "execution_count": null,
   "metadata": {},
   "outputs": [
    {
     "name": "stdout",
     "output_type": "stream",
     "text": [
      "{'_id': ObjectId('67b0df60d5f9049ddc12eed0'), 'operation': 'delete', 'entite': 'critiques', 'desc': 'Patricia Martin', 'date': datetime.datetime(2025, 2, 15, 18, 39, 28, 995000)}\n",
      "{'_id': ObjectId('67b0df60d5f9049ddc12eecd'), 'operation': 'insert', 'entite': 'critiques', 'desc': 'Patricia Martin', 'date': datetime.datetime(2025, 2, 15, 18, 39, 28, 988000)}\n",
      "{'_id': ObjectId('67b0df5bd5f9049ddc12eec8'), 'operation': 'delete', 'entite': 'editeurs', 'desc': 'Gallimard', 'date': datetime.datetime(2025, 2, 15, 18, 39, 23, 413000)}\n",
      "{'_id': ObjectId('67b0df5bd5f9049ddc12eec5'), 'operation': 'insert', 'entite': 'editeurs', 'desc': 'Gallimard', 'date': datetime.datetime(2025, 2, 15, 18, 39, 23, 407000)}\n",
      "{'_id': ObjectId('67b0d960ddf1d2ad9311ed80'), 'operation': 'update', 'entite': 'episodes', 'desc': '18 déc. 1958 00:00 - Le Masque et les Goncourt : \"Saint-Germain ou la Négociation\" de Francis Walder, 1958', 'date': datetime.datetime(2025, 2, 15, 18, 13, 52, 422000)}\n"
     ]
    }
   ],
   "source": [
    "print_logs(5)"
   ]
  },
  {
   "cell_type": "markdown",
   "metadata": {},
   "source": [
    "# Base entity"
   ]
  },
  {
   "cell_type": "markdown",
   "metadata": {},
   "source": [
    "c'est une classe de base issue de la refactorisation de Auteur et Editeur proposée par github copilot\n",
    "\n",
    "\n",
    "> Étapes de Raisonnement pour la Factorisation\n",
    "> Analyser les Classes Existantes :\n",
    "> \n",
    "> Les classes Auteur et Editeur ont des méthodes similaires pour vérifier l'existence, insérer, mettre à jour et supprimer des documents dans la base de données MongoDB.\n",
    "> Les méthodes exists, keep, remove, et get_oid sont communes aux deux classes.\n",
    "> Identifier les Comportements Communs :\n",
    "> \n",
    "> Les comportements communs peuvent être regroupés dans une classe de base.\n",
    "> Les classes spécifiques (Auteur et Editeur) peuvent hériter de cette classe de base et ajouter des comportements spécifiques si nécessaire.\n",
    "> Créer une Classe de Base :\n",
    "> \n",
    "> Créer une classe de base BaseEntity qui contient les méthodes communes.\n",
    "> La classe de base gérera les interactions avec la base de données.\n",
    "> Hériter de la Classe de Base :\n",
    "> \n",
    "> Les classes Auteur et Editeur hériteront de BaseEntity.\n",
    "> Elles définiront uniquement les comportements spécifiques à chaque entité.\n",
    "\n"
   ]
  },
  {
   "cell_type": "code",
   "execution_count": null,
   "metadata": {},
   "outputs": [],
   "source": [
    "# |export\n",
    "\n",
    "from bson import ObjectId\n",
    "from typing import List, Optional, Type, TypeVar\n",
    "\n",
    "T = TypeVar(\"T\", bound=\"BaseEntity\")\n",
    "\n",
    "\n",
    "class BaseEntity:\n",
    "    def __init__(self, nom: str, collection_name: str) -> None:\n",
    "        \"\"\"Initializes a new BaseEntity instance.\n",
    "\n",
    "        Args:\n",
    "            nom (str): The name of the entity.\n",
    "            collection_name (str): The name of the collection.\n",
    "        \"\"\"\n",
    "        DB_HOST, DB_NAME, _ = get_DB_VARS()\n",
    "        self.collection = get_collection(\n",
    "            target_db=DB_HOST, client_name=DB_NAME, collection_name=collection_name\n",
    "        )\n",
    "        self.nom = nom\n",
    "\n",
    "    def exists(self) -> bool:\n",
    "        \"\"\"Checks if the entity exists in the database.\n",
    "\n",
    "        Returns:\n",
    "            bool: True if the entity exists, False otherwise.\n",
    "        \"\"\"\n",
    "        return self.collection.find_one({\"nom\": self.nom}) is not None\n",
    "\n",
    "    def to_dict(self) -> dict:\n",
    "        \"\"\"\n",
    "        Sérialise l'instance en dictionnaire en excluant les attributs non désirés.\n",
    "        On exclut ici 'collection' par exemple.\n",
    "        \"\"\"\n",
    "        # On récupère l'ensemble des attributs de l'objet\n",
    "        data = self.__dict__.copy()\n",
    "        # On retire attributes non serialisables\n",
    "        data.pop(\"collection\", None)\n",
    "        return data\n",
    "\n",
    "    def keep(self) -> None:\n",
    "        \"\"\"\n",
    "        Insert ou met à jour l'entité dans la base.\n",
    "        Utilise la sérialisation via to_dict() pour conserver tous les attributs serialisables.\n",
    "        \"\"\"\n",
    "        data = self.to_dict()\n",
    "        if not self.exists():\n",
    "            mongolog(\"insert\", self.collection.name, self.nom)\n",
    "            self.collection.insert_one(data)\n",
    "        else:\n",
    "            mongolog(\"update\", self.collection.name, self.nom)\n",
    "            self.collection.replace_one({\"nom\": self.nom}, data)\n",
    "\n",
    "    def remove(self) -> None:\n",
    "        \"\"\"Removes the entity from the database.\"\"\"\n",
    "        self.collection.delete_one({\"nom\": self.nom})\n",
    "        mongolog(\"delete\", self.collection.name, self.nom)\n",
    "\n",
    "    def get_oid(self) -> Optional[ObjectId]:\n",
    "        \"\"\"Retrieves the ObjectId of the entity from the database.\n",
    "\n",
    "        Returns:\n",
    "            Optional[ObjectId]: The ObjectId of the entity if found, otherwise None.\n",
    "        \"\"\"\n",
    "        document = self.collection.find_one({\"nom\": self.nom})\n",
    "        if document:\n",
    "            return document[\"_id\"]\n",
    "        else:\n",
    "            return None\n",
    "\n",
    "    @classmethod\n",
    "    def from_oid(cls: Type[T], oid: ObjectId) -> T:\n",
    "        \"\"\"Creates an instance of the derived class from a MongoDB ObjectId.\n",
    "\n",
    "        Args:\n",
    "            oid (ObjectId): The MongoDB ObjectId.\n",
    "\n",
    "        Returns:\n",
    "            T: An instance of the derived class.\n",
    "        \"\"\"\n",
    "        DB_HOST, DB_NAME, _ = get_DB_VARS()\n",
    "        collection = get_collection(\n",
    "            target_db=DB_HOST, client_name=DB_NAME, collection_name=cls.collection\n",
    "        )\n",
    "        document = collection.find_one({\"_id\": oid})\n",
    "        inst = cls(nom=document.get(\"nom\"))\n",
    "        return inst\n",
    "\n",
    "    @classmethod\n",
    "    def get_entries(cls: Type[T], request: str = \"\") -> List[T]:\n",
    "        \"\"\"Retrieves a list of entries matching the query.\n",
    "\n",
    "        Args:\n",
    "            request (str, optional): A substring of the name to filter results\n",
    "                (case-insensitive). Defaults to an empty string.\n",
    "\n",
    "        Returns:\n",
    "            List[T]: A list of instances of the derived class.\n",
    "        \"\"\"\n",
    "        DB_HOST, DB_NAME, _ = get_DB_VARS()\n",
    "        collection = get_collection(\n",
    "            target_db=DB_HOST, client_name=DB_NAME, collection_name=cls.collection\n",
    "        )\n",
    "        query = {\n",
    "            \"nom\": {\n",
    "                \"$regex\": request,\n",
    "                \"$options\": \"i\",\n",
    "            }\n",
    "        }\n",
    "        result = collection.find(query)\n",
    "        list_baseentity = [cls.from_oid(entry.get(\"_id\")) for entry in result]\n",
    "        return list_baseentity\n",
    "\n",
    "    def __repr__(self) -> str:\n",
    "        \"\"\"Official string representation of the entity.\n",
    "\n",
    "        Returns:\n",
    "            str: The name of the entity.\n",
    "        \"\"\"\n",
    "        return self.nom\n",
    "\n",
    "    def __str__(self) -> str:\n",
    "        \"\"\"Informal string representation of the entity.\n",
    "\n",
    "        Returns:\n",
    "            str: The name of the entity.\n",
    "        \"\"\"\n",
    "        return self.nom"
   ]
  },
  {
   "cell_type": "markdown",
   "metadata": {},
   "source": [
    "# Editeur"
   ]
  },
  {
   "cell_type": "code",
   "execution_count": null,
   "metadata": {},
   "outputs": [],
   "source": [
    "# |export\n",
    "class Editeur(BaseEntity):\n",
    "    \"\"\"\n",
    "    Represents a publisher stored in the 'editeurs' MongoDB collection.\n",
    "\n",
    "    Attributes:\n",
    "        collection (str): The name of the MongoDB collection.\n",
    "    \"\"\"\n",
    "\n",
    "    collection: str = \"editeurs\"\n",
    "\n",
    "    def __init__(self, nom: str) -> None:\n",
    "        \"\"\"\n",
    "        Initialize an Editeur instance.\n",
    "\n",
    "        Args:\n",
    "            nom (str): The name of the publisher.\n",
    "        \"\"\"\n",
    "        super().__init__(nom, self.collection)"
   ]
  },
  {
   "cell_type": "code",
   "execution_count": null,
   "metadata": {},
   "outputs": [
    {
     "data": {
      "text/plain": [
       "[]"
      ]
     },
     "execution_count": null,
     "metadata": {},
     "output_type": "execute_result"
    }
   ],
   "source": [
    "Editeur.get_entries()"
   ]
  },
  {
   "cell_type": "code",
   "execution_count": null,
   "metadata": {},
   "outputs": [
    {
     "name": "stdout",
     "output_type": "stream",
     "text": [
      "Est-ce que editeur1 existe ? False\n",
      "et maintenant, st-ce que editeur1 existe ? True\n",
      "et voici l'id de editeur1 : 67b0df7d483a73c361fb9388\n",
      "après nettoyage, est-ce que editeur1 existe ? False\n",
      "et son oid : None\n"
     ]
    }
   ],
   "source": [
    "editeur1 = Editeur(\"Gallimard\")\n",
    "print(f\"Est-ce que editeur1 existe ? {editeur1.exists()}\")\n",
    "\n",
    "editeur1.keep()\n",
    "print(f\"et maintenant, st-ce que editeur1 existe ? {editeur1.exists()}\")\n",
    "print(f\"et voici l'id de editeur1 : {editeur1.get_oid()}\")\n",
    "\n",
    "editeur1.remove()\n",
    "print(f\"après nettoyage, est-ce que editeur1 existe ? {editeur1.exists()}\")\n",
    "print(f\"et son oid : {editeur1.get_oid()}\")"
   ]
  },
  {
   "cell_type": "code",
   "execution_count": null,
   "metadata": {},
   "outputs": [
    {
     "name": "stdout",
     "output_type": "stream",
     "text": [
      "{'_id': ObjectId('67b0df7d483a73c361fb938a'), 'operation': 'delete', 'entite': 'editeurs', 'desc': 'Gallimard', 'date': datetime.datetime(2025, 2, 15, 18, 39, 57, 469000)}\n",
      "{'_id': ObjectId('67b0df7d483a73c361fb9387'), 'operation': 'insert', 'entite': 'editeurs', 'desc': 'Gallimard', 'date': datetime.datetime(2025, 2, 15, 18, 39, 57, 461000)}\n",
      "{'_id': ObjectId('67b0df60d5f9049ddc12eed0'), 'operation': 'delete', 'entite': 'critiques', 'desc': 'Patricia Martin', 'date': datetime.datetime(2025, 2, 15, 18, 39, 28, 995000)}\n",
      "{'_id': ObjectId('67b0df60d5f9049ddc12eecd'), 'operation': 'insert', 'entite': 'critiques', 'desc': 'Patricia Martin', 'date': datetime.datetime(2025, 2, 15, 18, 39, 28, 988000)}\n",
      "{'_id': ObjectId('67b0df5bd5f9049ddc12eec8'), 'operation': 'delete', 'entite': 'editeurs', 'desc': 'Gallimard', 'date': datetime.datetime(2025, 2, 15, 18, 39, 23, 413000)}\n"
     ]
    }
   ],
   "source": [
    "print_logs(5)"
   ]
  },
  {
   "cell_type": "markdown",
   "metadata": {},
   "source": [
    "# Critique"
   ]
  },
  {
   "cell_type": "code",
   "execution_count": null,
   "metadata": {},
   "outputs": [],
   "source": [
    "# |export\n",
    "\n",
    "\n",
    "class Critique(BaseEntity):\n",
    "    \"\"\"\n",
    "    Class representing a review (Critique) entity stored in the 'critiques' MongoDB collection.\n",
    "\n",
    "    Attributes:\n",
    "        collection (str): MongoDB collection name used to store critiques.\n",
    "    \"\"\"\n",
    "\n",
    "    collection: str = \"critiques\"\n",
    "\n",
    "    def __init__(self, nom: str) -> None:\n",
    "        \"\"\"\n",
    "        Initializes a Critique instance.\n",
    "\n",
    "        Args:\n",
    "            nom (str): Name of the critique.\n",
    "        \"\"\"\n",
    "        super().__init__(nom, self.collection)"
   ]
  },
  {
   "cell_type": "code",
   "execution_count": null,
   "metadata": {},
   "outputs": [
    {
     "data": {
      "text/plain": [
       "[]"
      ]
     },
     "execution_count": null,
     "metadata": {},
     "output_type": "execute_result"
    }
   ],
   "source": [
    "Critique.get_entries()"
   ]
  },
  {
   "cell_type": "code",
   "execution_count": null,
   "metadata": {},
   "outputs": [
    {
     "name": "stdout",
     "output_type": "stream",
     "text": [
      "Est-ce que critique1 existe ? False\n",
      "et maintenant, st-ce que critique1 existe ? True\n",
      "et voici l'id de critique1 : 67b0df7d483a73c361fb9390\n",
      "après nettoyage, est-ce que critique1 existe ? False\n",
      "et son oid : None\n"
     ]
    }
   ],
   "source": [
    "critique1 = Critique(\"Patricia Martin\")\n",
    "print(f\"Est-ce que critique1 existe ? {critique1.exists()}\")\n",
    "\n",
    "critique1.keep()\n",
    "print(f\"et maintenant, st-ce que critique1 existe ? {critique1.exists()}\")\n",
    "print(f\"et voici l'id de critique1 : {critique1.get_oid()}\")\n",
    "\n",
    "critique1.remove()\n",
    "print(f\"après nettoyage, est-ce que critique1 existe ? {critique1.exists()}\")\n",
    "print(f\"et son oid : {critique1.get_oid()}\")"
   ]
  },
  {
   "cell_type": "code",
   "execution_count": null,
   "metadata": {},
   "outputs": [
    {
     "name": "stdout",
     "output_type": "stream",
     "text": [
      "{'_id': ObjectId('67b0df7d483a73c361fb9392'), 'operation': 'delete', 'entite': 'critiques', 'desc': 'Patricia Martin', 'date': datetime.datetime(2025, 2, 15, 18, 39, 57, 577000)}\n",
      "{'_id': ObjectId('67b0df7d483a73c361fb938f'), 'operation': 'insert', 'entite': 'critiques', 'desc': 'Patricia Martin', 'date': datetime.datetime(2025, 2, 15, 18, 39, 57, 572000)}\n",
      "{'_id': ObjectId('67b0df7d483a73c361fb938a'), 'operation': 'delete', 'entite': 'editeurs', 'desc': 'Gallimard', 'date': datetime.datetime(2025, 2, 15, 18, 39, 57, 469000)}\n",
      "{'_id': ObjectId('67b0df7d483a73c361fb9387'), 'operation': 'insert', 'entite': 'editeurs', 'desc': 'Gallimard', 'date': datetime.datetime(2025, 2, 15, 18, 39, 57, 461000)}\n",
      "{'_id': ObjectId('67b0df60d5f9049ddc12eed0'), 'operation': 'delete', 'entite': 'critiques', 'desc': 'Patricia Martin', 'date': datetime.datetime(2025, 2, 15, 18, 39, 28, 995000)}\n"
     ]
    }
   ],
   "source": [
    "print_logs(5)"
   ]
  },
  {
   "cell_type": "markdown",
   "metadata": {},
   "source": [
    "# extract py"
   ]
  },
  {
   "cell_type": "code",
   "execution_count": null,
   "metadata": {},
   "outputs": [],
   "source": [
    "from nbdev.export import nb_export\n",
    "\n",
    "nb_export(\"py mongo helper.ipynb\", \".\")"
   ]
  },
  {
   "cell_type": "code",
   "execution_count": null,
   "metadata": {},
   "outputs": [],
   "source": []
  }
 ],
 "metadata": {
  "kernelspec": {
   "display_name": "python3",
   "language": "python",
   "name": "python3"
  }
 },
 "nbformat": 4,
 "nbformat_minor": 2
}
