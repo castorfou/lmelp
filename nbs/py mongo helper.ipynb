{
 "cells": [
  {
   "cell_type": "code",
   "execution_count": null,
   "metadata": {},
   "outputs": [],
   "source": [
    "# |default_exp mongo"
   ]
  },
  {
   "cell_type": "markdown",
   "metadata": {},
   "source": [
    "# DB variables"
   ]
  },
  {
   "cell_type": "code",
   "execution_count": null,
   "metadata": {},
   "outputs": [],
   "source": [
    "# |export\n",
    "\n",
    "# to fix the forward reference issue by from_oid, get_entries in BaseEntity\n",
    "from __future__ import annotations\n",
    "\n",
    "from dotenv import load_dotenv, find_dotenv\n",
    "import os\n",
    "\n",
    "\n",
    "def load_env():\n",
    "    _ = load_dotenv(find_dotenv())\n",
    "\n",
    "\n",
    "def get_DB_VARS():\n",
    "    load_env()\n",
    "    DB_HOST = os.getenv(\"DB_HOST\")\n",
    "    DB_NAME = os.getenv(\"DB_NAME\")\n",
    "    DB_LOGS = os.getenv(\"DB_LOGS\")\n",
    "    return DB_HOST, DB_NAME, DB_LOGS"
   ]
  },
  {
   "cell_type": "markdown",
   "metadata": {},
   "source": [
    "# get collection"
   ]
  },
  {
   "cell_type": "code",
   "execution_count": null,
   "metadata": {},
   "outputs": [],
   "source": [
    "# |export\n",
    "\n",
    "import pymongo\n",
    "\n",
    "\n",
    "def get_collection(\n",
    "    target_db=\"localhost\", client_name=\"masque_et_la_plume\", collection_name=\"episodes\"\n",
    "):\n",
    "    \"\"\"\n",
    "    target_db can be 'localhost' or 'nas923'\n",
    "    \"\"\"\n",
    "    client = pymongo.MongoClient(f\"mongodb://{target_db}:27017/\")\n",
    "    db = client[client_name]\n",
    "    collection = db[collection_name]\n",
    "    return collection"
   ]
  },
  {
   "cell_type": "markdown",
   "metadata": {},
   "source": [
    "# logs"
   ]
  },
  {
   "cell_type": "code",
   "execution_count": null,
   "metadata": {},
   "outputs": [],
   "source": [
    "# |export\n",
    "\n",
    "from datetime import datetime\n",
    "import pymongo\n",
    "\n",
    "\n",
    "def mongolog(operation: str, entite: str, desc: str):\n",
    "    DB_HOST, DB_NAME, DB_LOGS = get_DB_VARS()\n",
    "    if DB_LOGS in [\"true\", \"True\"]:\n",
    "        coll_logs = get_collection(DB_HOST, DB_NAME, \"logs\")\n",
    "        coll_logs.insert_one(\n",
    "            {\n",
    "                \"operation\": operation,\n",
    "                \"entite\": entite,\n",
    "                \"desc\": desc,\n",
    "                \"date\": datetime.now(),\n",
    "            }\n",
    "        )\n",
    "\n",
    "\n",
    "def print_logs(n: int = 10):\n",
    "    \"\"\"\n",
    "    Print the last n logs\n",
    "    \"\"\"\n",
    "    DB_HOST, DB_NAME, DB_LOGS = get_DB_VARS()\n",
    "    coll_logs = get_collection(DB_HOST, DB_NAME, \"logs\")\n",
    "    for i, log in enumerate(coll_logs.find().sort(\"date\", pymongo.DESCENDING)):\n",
    "        if i == n:\n",
    "            break\n",
    "        print(log)"
   ]
  },
  {
   "cell_type": "code",
   "execution_count": null,
   "metadata": {},
   "outputs": [
    {
     "name": "stdout",
     "output_type": "stream",
     "text": [
      "{'_id': ObjectId('679a68382b212aee21955fc2'), 'operation': 'force_update', 'entite': 'episodes', 'desc': '16 nov. 1961 00:00 - Le Masque et les Goncourt : \"L\\'Etat sauvage\" de Georges Conchon, 1964 -> 18 nov. 1964 00:00', 'date': datetime.datetime(2025, 1, 29, 18, 41, 12, 512000)}\n",
      "{'_id': ObjectId('679a68382b212aee21955fbf'), 'operation': 'force_update', 'entite': 'episodes', 'desc': '11 sept. 2016 00:00 - Le Masque et les Goncourt : \"Chanson douce\" de Leïla Slimani, 2016 -> 12 sept. 2016 00:00', 'date': datetime.datetime(2025, 1, 29, 18, 41, 12, 503000)}\n",
      "{'_id': ObjectId('679a68382b212aee21955fbc'), 'operation': 'force_update', 'entite': 'episodes', 'desc': '02 juil. 2017 00:00 - Le Masque et les Goncourt : \"L\\'Ordre du jour\" d\\'Eric Vuillard, 2017 -> 03 juil. 2017 00:00', 'date': datetime.datetime(2025, 1, 29, 18, 41, 12, 491000)}\n",
      "{'_id': ObjectId('679a68382b212aee21955fb9'), 'operation': 'force_update', 'entite': 'episodes', 'desc': '25 nov. 2018 00:00 - Le Masque et les Goncourt : \"Leurs enfants après eux\" de Nicolas Mathieu, 2018 -> 26 nov. 2018 00:00', 'date': datetime.datetime(2025, 1, 29, 18, 41, 12, 479000)}\n",
      "{'_id': ObjectId('679a68382b212aee21955fb6'), 'operation': 'force_update', 'entite': 'episodes', 'desc': '15 sept. 2019 00:00 - Le Masque et les Goncourt : \"Tous les hommes n\\'habitent pas le monde de la même façon\" de Jean-Paul Dubois, 2019 -> 16 sept. 2019 00:00', 'date': datetime.datetime(2025, 1, 29, 18, 41, 12, 464000)}\n"
     ]
    }
   ],
   "source": [
    "print_logs(5)"
   ]
  },
  {
   "cell_type": "markdown",
   "metadata": {},
   "source": [
    "# Base entity"
   ]
  },
  {
   "cell_type": "markdown",
   "metadata": {},
   "source": [
    "c'est une classe de base issue de la refactorisation de Auteur et Editeur proposée par github copilot\n",
    "\n",
    "\n",
    "> Étapes de Raisonnement pour la Factorisation\n",
    "> Analyser les Classes Existantes :\n",
    "> \n",
    "> Les classes Auteur et Editeur ont des méthodes similaires pour vérifier l'existence, insérer, mettre à jour et supprimer des documents dans la base de données MongoDB.\n",
    "> Les méthodes exists, keep, remove, et get_oid sont communes aux deux classes.\n",
    "> Identifier les Comportements Communs :\n",
    "> \n",
    "> Les comportements communs peuvent être regroupés dans une classe de base.\n",
    "> Les classes spécifiques (Auteur et Editeur) peuvent hériter de cette classe de base et ajouter des comportements spécifiques si nécessaire.\n",
    "> Créer une Classe de Base :\n",
    "> \n",
    "> Créer une classe de base BaseEntity qui contient les méthodes communes.\n",
    "> La classe de base gérera les interactions avec la base de données.\n",
    "> Hériter de la Classe de Base :\n",
    "> \n",
    "> Les classes Auteur et Editeur hériteront de BaseEntity.\n",
    "> Elles définiront uniquement les comportements spécifiques à chaque entité.\n",
    "\n"
   ]
  },
  {
   "cell_type": "code",
   "execution_count": null,
   "metadata": {},
   "outputs": [],
   "source": [
    "# |export\n",
    "\n",
    "from bson import ObjectId\n",
    "from typing import List\n",
    "\n",
    "\n",
    "class BaseEntity:\n",
    "    def __init__(self, nom: str, collection_name: str):\n",
    "        \"\"\"\n",
    "        BaseEntity is a class that represents a generic entity in the database.\n",
    "        :param nom: The name of the entity.\n",
    "        :param collection_name: The name of the collection.\n",
    "        \"\"\"\n",
    "        DB_HOST, DB_NAME, _ = get_DB_VARS()\n",
    "        self.collection = get_collection(\n",
    "            target_db=DB_HOST, client_name=DB_NAME, collection_name=collection_name\n",
    "        )\n",
    "        self.nom = nom\n",
    "\n",
    "    def exists(self) -> bool:\n",
    "        \"\"\"\n",
    "        Check if the entity exists in the database.\n",
    "        :return: True if the entity exists, False otherwise.\n",
    "        \"\"\"\n",
    "        return self.collection.find_one({\"nom\": self.nom}) is not None\n",
    "\n",
    "    def keep(self):\n",
    "        \"\"\"\n",
    "        Keep the entity in the database.\n",
    "        \"\"\"\n",
    "        if not self.exists():\n",
    "            mongolog(\"insert\", self.collection.name, self.nom)\n",
    "            self.collection.insert_one({\"nom\": self.nom})\n",
    "        else:\n",
    "            mongolog(\"update\", self.collection.name, self.nom)\n",
    "\n",
    "    def remove(self):\n",
    "        \"\"\"\n",
    "        Remove the entity from the database.\n",
    "        \"\"\"\n",
    "        self.collection.delete_one({\"nom\": self.nom})\n",
    "        mongolog(\"delete\", self.collection.name, self.nom)\n",
    "\n",
    "    def get_oid(self) -> ObjectId:\n",
    "        \"\"\"\n",
    "        Get the object id of the entity.\n",
    "        :return: The object id of the entity. (bson.ObjectId)\n",
    "        None if does not exist.\n",
    "        \"\"\"\n",
    "        document = self.collection.find_one({\"nom\": self.nom})\n",
    "        if document:\n",
    "            return document[\"_id\"]\n",
    "        else:\n",
    "            return None\n",
    "\n",
    "    @classmethod\n",
    "    def from_oid(cls, oid: ObjectId) -> cls:\n",
    "        \"\"\"\n",
    "        Create an inherited BaseEntity from an oid of a mongo entry.\n",
    "        :param oid: oid as ObjectId.\n",
    "        :return: The inherited BaseEntity.\n",
    "        \"\"\"\n",
    "\n",
    "        DB_HOST, DB_NAME, _ = get_DB_VARS()\n",
    "        collection = get_collection(\n",
    "            target_db=DB_HOST, client_name=DB_NAME, collection_name=cls.collection\n",
    "        )\n",
    "\n",
    "        document = collection.find_one({\"_id\": oid})\n",
    "\n",
    "        inst = cls(nom=document.get(\"nom\"))\n",
    "        return inst\n",
    "\n",
    "    @classmethod\n",
    "    def get_entries(cls, request=\"\") -> List[cls]:\n",
    "        \"\"\"'\n",
    "        retourne le resultat de la requete sous forme d'une liste d'instance de inherited BaseEntity\n",
    "        par exemple : request=\"part of name\"\n",
    "        \"\"\"\n",
    "        DB_HOST, DB_NAME, _ = get_DB_VARS()\n",
    "        collection = get_collection(\n",
    "            target_db=DB_HOST, client_name=DB_NAME, collection_name=cls.collection\n",
    "        )\n",
    "        query = {\n",
    "            \"nom\": {\n",
    "                \"$regex\": request,\n",
    "                \"$options\": \"i\",  # \"i\" pour insensible à la casse\n",
    "            }\n",
    "        }\n",
    "        result = collection.find(query)\n",
    "        list_baseentity = [cls.from_oid(entry.get(\"_id\")) for entry in result]\n",
    "        return list_baseentity\n",
    "\n",
    "    def __repr__(self):\n",
    "        return self.nom\n",
    "\n",
    "    def __str__(self):\n",
    "        return self.nom"
   ]
  },
  {
   "cell_type": "markdown",
   "metadata": {},
   "source": [
    "# Auteur"
   ]
  },
  {
   "cell_type": "code",
   "execution_count": null,
   "metadata": {},
   "outputs": [],
   "source": [
    "# |export\n",
    "\n",
    "\n",
    "class Auteur(BaseEntity):\n",
    "    collection = \"auteurs\"\n",
    "\n",
    "    def __init__(self, nom: str):\n",
    "        \"\"\"\n",
    "        Auteur is a class that represents an author in the database auteurs.\n",
    "        :param nom: The name of the author.\n",
    "        \"\"\"\n",
    "        super().__init__(nom, self.collection)"
   ]
  },
  {
   "cell_type": "code",
   "execution_count": null,
   "metadata": {},
   "outputs": [
    {
     "data": {
      "text/plain": [
       "[Marcel Proust]"
      ]
     },
     "execution_count": null,
     "metadata": {},
     "output_type": "execute_result"
    }
   ],
   "source": [
    "Auteur.get_entries(\"marcel\")"
   ]
  },
  {
   "cell_type": "code",
   "execution_count": null,
   "metadata": {},
   "outputs": [
    {
     "name": "stdout",
     "output_type": "stream",
     "text": [
      "Est-ce que auteur1 existe ? False\n",
      "et maintenant, st-ce que auteur1 existe ? True\n",
      "et voici l'id de auteur1 : 67a521ad60b4498ed3f32622\n",
      "après nettoyage, est-ce que auteur1 existe ? False\n",
      "et son oid : None\n"
     ]
    }
   ],
   "source": [
    "auteur1 = Auteur(\"Victor Hugo\")\n",
    "print(f\"Est-ce que auteur1 existe ? {auteur1.exists()}\")\n",
    "\n",
    "auteur1.keep()\n",
    "print(f\"et maintenant, st-ce que auteur1 existe ? {auteur1.exists()}\")\n",
    "print(f\"et voici l'id de auteur1 : {auteur1.get_oid()}\")\n",
    "\n",
    "auteur1.remove()\n",
    "print(f\"après nettoyage, est-ce que auteur1 existe ? {auteur1.exists()}\")\n",
    "print(f\"et son oid : {auteur1.get_oid()}\")"
   ]
  },
  {
   "cell_type": "code",
   "execution_count": null,
   "metadata": {},
   "outputs": [
    {
     "name": "stdout",
     "output_type": "stream",
     "text": [
      "{'_id': ObjectId('67a521ad60b4498ed3f32624'), 'operation': 'delete', 'entite': 'auteurs', 'desc': 'Victor Hugo', 'date': datetime.datetime(2025, 2, 6, 21, 55, 9, 78000)}\n",
      "{'_id': ObjectId('67a521ad60b4498ed3f32621'), 'operation': 'insert', 'entite': 'auteurs', 'desc': 'Victor Hugo', 'date': datetime.datetime(2025, 2, 6, 21, 55, 9, 64000)}\n",
      "{'_id': ObjectId('679a68382b212aee21955fc2'), 'operation': 'force_update', 'entite': 'episodes', 'desc': '16 nov. 1961 00:00 - Le Masque et les Goncourt : \"L\\'Etat sauvage\" de Georges Conchon, 1964 -> 18 nov. 1964 00:00', 'date': datetime.datetime(2025, 1, 29, 18, 41, 12, 512000)}\n",
      "{'_id': ObjectId('679a68382b212aee21955fbf'), 'operation': 'force_update', 'entite': 'episodes', 'desc': '11 sept. 2016 00:00 - Le Masque et les Goncourt : \"Chanson douce\" de Leïla Slimani, 2016 -> 12 sept. 2016 00:00', 'date': datetime.datetime(2025, 1, 29, 18, 41, 12, 503000)}\n",
      "{'_id': ObjectId('679a68382b212aee21955fbc'), 'operation': 'force_update', 'entite': 'episodes', 'desc': '02 juil. 2017 00:00 - Le Masque et les Goncourt : \"L\\'Ordre du jour\" d\\'Eric Vuillard, 2017 -> 03 juil. 2017 00:00', 'date': datetime.datetime(2025, 1, 29, 18, 41, 12, 491000)}\n"
     ]
    }
   ],
   "source": [
    "print_logs(5)"
   ]
  },
  {
   "cell_type": "markdown",
   "metadata": {},
   "source": [
    "# Editeur"
   ]
  },
  {
   "cell_type": "code",
   "execution_count": null,
   "metadata": {},
   "outputs": [],
   "source": [
    "# |export\n",
    "\n",
    "\n",
    "class Editeur(BaseEntity):\n",
    "    collection = \"editeurs\"\n",
    "\n",
    "    def __init__(self, nom: str):\n",
    "        \"\"\"\n",
    "        Editeur is a class that represents a publisher in the database editeurs.\n",
    "        :param nom: The name of the publisher.\n",
    "        \"\"\"\n",
    "        super().__init__(nom, self.collection)"
   ]
  },
  {
   "cell_type": "code",
   "execution_count": null,
   "metadata": {},
   "outputs": [
    {
     "data": {
      "text/plain": [
       "[]"
      ]
     },
     "execution_count": null,
     "metadata": {},
     "output_type": "execute_result"
    }
   ],
   "source": [
    "Editeur.get_entries()"
   ]
  },
  {
   "cell_type": "code",
   "execution_count": null,
   "metadata": {},
   "outputs": [
    {
     "name": "stdout",
     "output_type": "stream",
     "text": [
      "Est-ce que editeur1 existe ? False\n",
      "et maintenant, st-ce que editeur1 existe ? True\n",
      "et voici l'id de editeur1 : 67a521e460b4498ed3f3262d\n",
      "après nettoyage, est-ce que editeur1 existe ? False\n",
      "et son oid : None\n"
     ]
    }
   ],
   "source": [
    "editeur1 = Editeur(\"Gallimard\")\n",
    "print(f\"Est-ce que editeur1 existe ? {editeur1.exists()}\")\n",
    "\n",
    "editeur1.keep()\n",
    "print(f\"et maintenant, st-ce que editeur1 existe ? {editeur1.exists()}\")\n",
    "print(f\"et voici l'id de editeur1 : {editeur1.get_oid()}\")\n",
    "\n",
    "editeur1.remove()\n",
    "print(f\"après nettoyage, est-ce que editeur1 existe ? {editeur1.exists()}\")\n",
    "print(f\"et son oid : {editeur1.get_oid()}\")"
   ]
  },
  {
   "cell_type": "code",
   "execution_count": null,
   "metadata": {},
   "outputs": [
    {
     "name": "stdout",
     "output_type": "stream",
     "text": [
      "{'_id': ObjectId('67a521e460b4498ed3f3262f'), 'operation': 'delete', 'entite': 'editeurs', 'desc': 'Gallimard', 'date': datetime.datetime(2025, 2, 6, 21, 56, 4, 808000)}\n",
      "{'_id': ObjectId('67a521e460b4498ed3f3262c'), 'operation': 'insert', 'entite': 'editeurs', 'desc': 'Gallimard', 'date': datetime.datetime(2025, 2, 6, 21, 56, 4, 799000)}\n",
      "{'_id': ObjectId('67a521ad60b4498ed3f32624'), 'operation': 'delete', 'entite': 'auteurs', 'desc': 'Victor Hugo', 'date': datetime.datetime(2025, 2, 6, 21, 55, 9, 78000)}\n",
      "{'_id': ObjectId('67a521ad60b4498ed3f32621'), 'operation': 'insert', 'entite': 'auteurs', 'desc': 'Victor Hugo', 'date': datetime.datetime(2025, 2, 6, 21, 55, 9, 64000)}\n",
      "{'_id': ObjectId('679a68382b212aee21955fc2'), 'operation': 'force_update', 'entite': 'episodes', 'desc': '16 nov. 1961 00:00 - Le Masque et les Goncourt : \"L\\'Etat sauvage\" de Georges Conchon, 1964 -> 18 nov. 1964 00:00', 'date': datetime.datetime(2025, 1, 29, 18, 41, 12, 512000)}\n"
     ]
    }
   ],
   "source": [
    "print_logs(5)"
   ]
  },
  {
   "cell_type": "markdown",
   "metadata": {},
   "source": [
    "# Critique"
   ]
  },
  {
   "cell_type": "code",
   "execution_count": null,
   "metadata": {},
   "outputs": [],
   "source": [
    "# |export\n",
    "\n",
    "\n",
    "class Critique(BaseEntity):\n",
    "    collection = \"critiques\"\n",
    "\n",
    "    def __init__(self, nom: str):\n",
    "        \"\"\"\n",
    "        Critique is a class that represents a \"critique\" in the database critiques.\n",
    "        :param nom: The name of the \"critique\".\n",
    "        \"\"\"\n",
    "        super().__init__(nom, self.collection)"
   ]
  },
  {
   "cell_type": "code",
   "execution_count": null,
   "metadata": {},
   "outputs": [
    {
     "data": {
      "text/plain": [
       "[]"
      ]
     },
     "execution_count": null,
     "metadata": {},
     "output_type": "execute_result"
    }
   ],
   "source": [
    "Critique.get_entries()"
   ]
  },
  {
   "cell_type": "code",
   "execution_count": null,
   "metadata": {},
   "outputs": [
    {
     "name": "stdout",
     "output_type": "stream",
     "text": [
      "Est-ce que critique1 existe ? False\n",
      "et maintenant, st-ce que critique1 existe ? True\n",
      "et voici l'id de critique1 : 67a521ec60b4498ed3f32635\n",
      "après nettoyage, est-ce que critique1 existe ? False\n",
      "et son oid : None\n"
     ]
    }
   ],
   "source": [
    "critique1 = Critique(\"Patricia Martin\")\n",
    "print(f\"Est-ce que critique1 existe ? {critique1.exists()}\")\n",
    "\n",
    "critique1.keep()\n",
    "print(f\"et maintenant, st-ce que critique1 existe ? {critique1.exists()}\")\n",
    "print(f\"et voici l'id de critique1 : {critique1.get_oid()}\")\n",
    "\n",
    "critique1.remove()\n",
    "print(f\"après nettoyage, est-ce que critique1 existe ? {critique1.exists()}\")\n",
    "print(f\"et son oid : {critique1.get_oid()}\")"
   ]
  },
  {
   "cell_type": "code",
   "execution_count": null,
   "metadata": {},
   "outputs": [
    {
     "name": "stdout",
     "output_type": "stream",
     "text": [
      "{'_id': ObjectId('67a521ec60b4498ed3f32637'), 'operation': 'delete', 'entite': 'critiques', 'desc': 'Patricia Martin', 'date': datetime.datetime(2025, 2, 6, 21, 56, 12, 93000)}\n",
      "{'_id': ObjectId('67a521ec60b4498ed3f32634'), 'operation': 'insert', 'entite': 'critiques', 'desc': 'Patricia Martin', 'date': datetime.datetime(2025, 2, 6, 21, 56, 12, 83000)}\n",
      "{'_id': ObjectId('67a521e460b4498ed3f3262f'), 'operation': 'delete', 'entite': 'editeurs', 'desc': 'Gallimard', 'date': datetime.datetime(2025, 2, 6, 21, 56, 4, 808000)}\n",
      "{'_id': ObjectId('67a521e460b4498ed3f3262c'), 'operation': 'insert', 'entite': 'editeurs', 'desc': 'Gallimard', 'date': datetime.datetime(2025, 2, 6, 21, 56, 4, 799000)}\n",
      "{'_id': ObjectId('67a521ad60b4498ed3f32624'), 'operation': 'delete', 'entite': 'auteurs', 'desc': 'Victor Hugo', 'date': datetime.datetime(2025, 2, 6, 21, 55, 9, 78000)}\n"
     ]
    }
   ],
   "source": [
    "print_logs(5)"
   ]
  },
  {
   "cell_type": "markdown",
   "metadata": {},
   "source": [
    "# extract py"
   ]
  },
  {
   "cell_type": "code",
   "execution_count": null,
   "metadata": {},
   "outputs": [],
   "source": [
    "from nbdev.export import nb_export\n",
    "\n",
    "nb_export(\"py mongo helper.ipynb\", \".\")"
   ]
  },
  {
   "cell_type": "code",
   "execution_count": null,
   "metadata": {},
   "outputs": [],
   "source": []
  }
 ],
 "metadata": {
  "kernelspec": {
   "display_name": "python3",
   "language": "python",
   "name": "python3"
  }
 },
 "nbformat": 4,
 "nbformat_minor": 2
}
