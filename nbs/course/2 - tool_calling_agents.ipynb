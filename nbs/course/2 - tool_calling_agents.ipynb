{
 "cells": [
  {
   "cell_type": "markdown",
   "metadata": {},
   "source": [
    "# Writing actions as code snippets or JSON blobs\n",
    "\n",
    "This notebook is part of the [Hugging Face Agents Course](https://www.hf.co/learn/agents-course), a free Course from beginner to expert, where you learn to build Agents.\n",
    "\n",
    "![Agents course share](https://huggingface.co/datasets/agents-course/course-images/resolve/main/en/communication/share.png)"
   ]
  },
  {
   "cell_type": "markdown",
   "metadata": {},
   "source": [
    "## Let's install the dependencies and login to our HF account to access the Inference API\n",
    "\n",
    "If you haven't installed `smolagents` yet, you can do so by running the following command:"
   ]
  },
  {
   "cell_type": "code",
   "execution_count": null,
   "metadata": {},
   "outputs": [],
   "source": [
    "# !pip install smolagents -U"
   ]
  },
  {
   "cell_type": "markdown",
   "metadata": {},
   "source": [
    "Let's also login to the Hugging Face Hub to have access to the Inference API."
   ]
  },
  {
   "cell_type": "code",
   "execution_count": null,
   "metadata": {},
   "outputs": [
    {
     "data": {
      "application/vnd.jupyter.widget-view+json": {
       "model_id": "d3b71b6cfd2140a4aed3afc040841758",
       "version_major": 2,
       "version_minor": 0
      },
      "text/plain": [
       "VBox(children=(HTML(value='<center> <img\\nsrc=https://huggingface.co/front/assets/huggingface_logo-noborder.sv…"
      ]
     },
     "metadata": {},
     "output_type": "display_data"
    }
   ],
   "source": [
    "from huggingface_hub import notebook_login\n",
    "\n",
    "notebook_login()"
   ]
  },
  {
   "cell_type": "markdown",
   "metadata": {},
   "source": [
    "## Selecting a Playlist for the Party Using `smolagents` and a `ToolCallingAgent`\n",
    "\n",
    "Let's revisit the previous example where Alfred started party preparations, but this time we'll use a `ToolCallingAgent` to highlight the difference. We'll build an agent that can search the web using DuckDuckGo, just like in our Code Agent example. The only difference is the agent type - the framework handles everything else:"
   ]
  },
  {
   "cell_type": "code",
   "execution_count": null,
   "metadata": {},
   "outputs": [
    {
     "data": {
      "text/html": [
       "<pre style=\"white-space:pre;overflow-x:auto;line-height:normal;font-family:Menlo,'DejaVu Sans Mono',consolas,'Courier New',monospace\"><span style=\"color: #d4b702; text-decoration-color: #d4b702\">╭──────────────────────────────────────────────────── </span><span style=\"color: #d4b702; text-decoration-color: #d4b702; font-weight: bold\">New run</span><span style=\"color: #d4b702; text-decoration-color: #d4b702\"> ────────────────────────────────────────────────────╮</span>\n",
       "<span style=\"color: #d4b702; text-decoration-color: #d4b702\">│</span>                                                                                                                 <span style=\"color: #d4b702; text-decoration-color: #d4b702\">│</span>\n",
       "<span style=\"color: #d4b702; text-decoration-color: #d4b702\">│</span> <span style=\"font-weight: bold\">Search for the best music recommendations for a party at the Wayne's mansion.</span>                                   <span style=\"color: #d4b702; text-decoration-color: #d4b702\">│</span>\n",
       "<span style=\"color: #d4b702; text-decoration-color: #d4b702\">│</span>                                                                                                                 <span style=\"color: #d4b702; text-decoration-color: #d4b702\">│</span>\n",
       "<span style=\"color: #d4b702; text-decoration-color: #d4b702\">╰─ HfApiModel - Qwen/Qwen2.5-Coder-32B-Instruct ──────────────────────────────────────────────────────────────────╯</span>\n",
       "</pre>\n"
      ],
      "text/plain": [
       "\u001b[38;2;212;183;2m╭─\u001b[0m\u001b[38;2;212;183;2m───────────────────────────────────────────────────\u001b[0m\u001b[38;2;212;183;2m \u001b[0m\u001b[1;38;2;212;183;2mNew run\u001b[0m\u001b[38;2;212;183;2m \u001b[0m\u001b[38;2;212;183;2m───────────────────────────────────────────────────\u001b[0m\u001b[38;2;212;183;2m─╮\u001b[0m\n",
       "\u001b[38;2;212;183;2m│\u001b[0m                                                                                                                 \u001b[38;2;212;183;2m│\u001b[0m\n",
       "\u001b[38;2;212;183;2m│\u001b[0m \u001b[1mSearch for the best music recommendations for a party at the Wayne's mansion.\u001b[0m                                   \u001b[38;2;212;183;2m│\u001b[0m\n",
       "\u001b[38;2;212;183;2m│\u001b[0m                                                                                                                 \u001b[38;2;212;183;2m│\u001b[0m\n",
       "\u001b[38;2;212;183;2m╰─\u001b[0m\u001b[38;2;212;183;2m HfApiModel - Qwen/Qwen2.5-Coder-32B-Instruct \u001b[0m\u001b[38;2;212;183;2m─────────────────────────────────────────────────────────────────\u001b[0m\u001b[38;2;212;183;2m─╯\u001b[0m\n"
      ]
     },
     "metadata": {},
     "output_type": "display_data"
    },
    {
     "data": {
      "text/html": [
       "<pre style=\"white-space:pre;overflow-x:auto;line-height:normal;font-family:Menlo,'DejaVu Sans Mono',consolas,'Courier New',monospace\"><span style=\"color: #d4b702; text-decoration-color: #d4b702\">━━━━━━━━━━━━━━━━━━━━━━━━━━━━━━━━━━━━━━━━━━━━━━━━━━━━━ </span><span style=\"font-weight: bold\">Step </span><span style=\"color: #008080; text-decoration-color: #008080; font-weight: bold\">1</span><span style=\"color: #d4b702; text-decoration-color: #d4b702\"> ━━━━━━━━━━━━━━━━━━━━━━━━━━━━━━━━━━━━━━━━━━━━━━━━━━━━━━</span>\n",
       "</pre>\n"
      ],
      "text/plain": [
       "\u001b[38;2;212;183;2m━━━━━━━━━━━━━━━━━━━━━━━━━━━━━━━━━━━━━━━━━━━━━━━━━━━━━ \u001b[0m\u001b[1mStep \u001b[0m\u001b[1;36m1\u001b[0m\u001b[38;2;212;183;2m ━━━━━━━━━━━━━━━━━━━━━━━━━━━━━━━━━━━━━━━━━━━━━━━━━━━━━━\u001b[0m\n"
      ]
     },
     "metadata": {},
     "output_type": "display_data"
    },
    {
     "data": {
      "text/html": [
       "<pre style=\"white-space:pre;overflow-x:auto;line-height:normal;font-family:Menlo,'DejaVu Sans Mono',consolas,'Courier New',monospace\">╭─────────────────────────────────────────────────────────────────────────────────────────────────────────────────╮\n",
       "│ Calling tool: 'web_search' with arguments: {'query': \"best music recommendations for a party at Wayne's         │\n",
       "│ mansion\"}                                                                                                       │\n",
       "╰─────────────────────────────────────────────────────────────────────────────────────────────────────────────────╯\n",
       "</pre>\n"
      ],
      "text/plain": [
       "╭─────────────────────────────────────────────────────────────────────────────────────────────────────────────────╮\n",
       "│ Calling tool: 'web_search' with arguments: {'query': \"best music recommendations for a party at Wayne's         │\n",
       "│ mansion\"}                                                                                                       │\n",
       "╰─────────────────────────────────────────────────────────────────────────────────────────────────────────────────╯\n"
      ]
     },
     "metadata": {},
     "output_type": "display_data"
    },
    {
     "data": {
      "text/html": [
       "<pre style=\"white-space:pre;overflow-x:auto;line-height:normal;font-family:Menlo,'DejaVu Sans Mono',consolas,'Courier New',monospace\">Observations: ## Search Results\n",
       "\n",
       "|<span style=\"color: #008080; text-decoration-color: #008080; font-weight: bold\">200</span> Classic House Party Songs Everyone Knows | The Best <span style=\"color: #808000; text-decoration-color: #808000\">...</span> - \n",
       "iSpyTunes<span style=\"font-weight: bold\">](</span><span style=\"color: #0000ff; text-decoration-color: #0000ff; text-decoration: underline\">https://www.ispytunes.com/post/house-party-songs)</span>\n",
       "\" Branded merchandise adds flair to any occasion, just like the perfect playlist. <span style=\"color: #008080; text-decoration-color: #008080; font-weight: bold\">200</span> classic house party songs \n",
       "everyone knows set the mood, bringing energy to every celebration. The best popular party hits keep guests dancing,\n",
       "creating unforgettable moments. From throwback anthems to modern beats, a great selection ensures nonstop fun.\n",
       "\n",
       "|The <span style=\"color: #008080; text-decoration-color: #008080; font-weight: bold\">75</span> Best Party Songs That Will Get Everyone Dancing - \n",
       "Gear4music<span style=\"font-weight: bold\">](</span><span style=\"color: #0000ff; text-decoration-color: #0000ff; text-decoration: underline\">https://www.gear4music.com/blog/best-party-songs/)</span>\n",
       "The best party songs <span style=\"color: #008080; text-decoration-color: #008080; font-weight: bold\">1</span>. <span style=\"color: #008000; text-decoration-color: #008000\">\"September\"</span> - Earth, Wind &amp; Fire <span style=\"font-weight: bold\">(</span><span style=\"color: #008080; text-decoration-color: #008080; font-weight: bold\">1978</span><span style=\"font-weight: bold\">)</span> Quite possibly the best party song. An infectious \n",
       "mix of funk and soul, <span style=\"color: #008000; text-decoration-color: #008000\">\"September\"</span> is celebrated for its upbeat melody and <span style=\"color: #008000; text-decoration-color: #008000\">\"ba-dee-ya\"</span> chorus, making it a timeless \n",
       "dance favorite.\n",
       "\n",
       "|<span style=\"color: #008080; text-decoration-color: #008080; font-weight: bold\">50</span> Songs on Every Event Planner's Playlist - \n",
       "Eventbrite<span style=\"font-weight: bold\">](</span><span style=\"color: #0000ff; text-decoration-color: #0000ff; text-decoration: underline\">https://www.eventbrite.com/blog/event-planning-playlist-ds00/)</span>\n",
       "Music sets the mood and provides the soundtrack <span style=\"font-weight: bold\">(</span>literally<span style=\"font-weight: bold\">)</span> for a memorable and exciting time. While the right \n",
       "songs can enhance the experience, the wrong event music can throw off the vibe. For example, fast-paced songs \n",
       "probably aren't the best fit for a formal gala. And smooth jazz is likely to lull your guests at a motivational \n",
       "conference.\n",
       "\n",
       "|Creating a playlist for cocktail hour and dinner service for <span style=\"color: #808000; text-decoration-color: #808000\">...</span> - \n",
       "Reddit<span style=\"font-weight: bold\">](</span><span style=\"color: #0000ff; text-decoration-color: #0000ff; text-decoration: underline\">https://www.reddit.com/r/wilco/comments/12kxks1/creating_a_playlist_for_cocktail_hour_and_dinner/)</span>\n",
       "Shakey Graves - Mansion Door <span style=\"color: #808000; text-decoration-color: #808000\">...</span> Feel-good and Upbeat songs for a Kids' Campout Party <span style=\"color: #808000; text-decoration-color: #808000\">...</span> A subreddit to ask for \n",
       "our provide recommendations of any relevant media based on other media people like - whether it be music, \n",
       "television, video games, movies, or anything else. This is a RECOMMENDATION ONLY sub!\n",
       "\n",
       "|Outsider to Wayne's music here, wheres a good place to \n",
       "start?<span style=\"font-weight: bold\">](</span><span style=\"color: #0000ff; text-decoration-color: #0000ff; text-decoration: underline\">https://www.reddit.com/r/lilwayne/comments/p2csri/outsider_to_waynes_music_here_wheres_a_good_place/)</span>\n",
       "My rule to introduce Wayne is <span style=\"color: #008080; text-decoration-color: #008080; font-weight: bold\">3</span>. Da Drought <span style=\"color: #008080; text-decoration-color: #008080; font-weight: bold\">3</span> Cárter <span style=\"color: #008080; text-decoration-color: #008080; font-weight: bold\">3</span> And No Ceilings <span style=\"color: #008080; text-decoration-color: #008080; font-weight: bold\">3</span>. <span style=\"color: #008080; text-decoration-color: #008080; font-weight: bold\">3</span> projects with the number <span style=\"color: #008080; text-decoration-color: #008080; font-weight: bold\">3</span>. Da Drought \n",
       "<span style=\"color: #008080; text-decoration-color: #008080; font-weight: bold\">3</span>, is praised as WAYNE's best mixtape. Tha Carter III, had a huge impact and may be Wayne's most successful album. \n",
       "No Ceilings <span style=\"color: #008080; text-decoration-color: #008080; font-weight: bold\">3</span>, is newer so you can see how he's still doing his thing. Then whatever you want.\n",
       "\n",
       "|Passaic County Parks &amp; Recreation: Music at the \n",
       "Mansion<span style=\"font-weight: bold\">](</span><span style=\"color: #0000ff; text-decoration-color: #0000ff; text-decoration: underline\">https://passaiccountynj.myrec.com/info/activities/program_details.aspx?ProgramID=29909)</span>\n",
       "Thursdays from <span style=\"color: #008080; text-decoration-color: #008080; font-weight: bold\">7</span> to <span style=\"color: #008080; text-decoration-color: #008080; font-weight: bold\">9</span> PM the finest local bands will be playing music while In the Drink restaurant sells food and \n",
       "drinks on site. September 3rd: Norton Smull Band; Parking is limited at the Dey Mansion <span style=\"color: #008080; text-decoration-color: #008080; font-weight: bold\">209</span> Totowa Rd. Wayne, NJ. \n",
       "Overflow parking will be at the Preakness Valley Golf Course. You may drop off your guests at the Mansion first.\n",
       "\n",
       "|The Best Songs For Parties - The Ambient Mixer \n",
       "Blog<span style=\"font-weight: bold\">](</span><span style=\"color: #0000ff; text-decoration-color: #0000ff; text-decoration: underline\">https://blog.ambient-mixer.com/usage/parties-2/the-best-songs-for-parties/)</span>\n",
       "The <span style=\"color: #008080; text-decoration-color: #008080; font-weight: bold\">100</span> best party songs ever made. Top <span style=\"color: #008080; text-decoration-color: #008080; font-weight: bold\">100</span> Best Party Songs Of All Time. Of course, these are just <span style=\"color: #008080; text-decoration-color: #008080; font-weight: bold\">2</span> of the many \n",
       "available playlists to choose from. However, these two contain some of the most popular ones most people usually \n",
       "end up using. If these are not the type of songs you or your guests might enjoy then simply follow the steps in the\n",
       "<span style=\"color: #808000; text-decoration-color: #808000\">...</span>\n",
       "\n",
       "|Party Music Guide: Ultimate Tips for the Perfect \n",
       "Playlist<span style=\"font-weight: bold\">](</span><span style=\"color: #0000ff; text-decoration-color: #0000ff; text-decoration: underline\">https://thebackstage-deezer.com/music/perfect-party-music-playlist/)</span>\n",
       "Check out the best party playlists and top party songs to ensure your next party is packed! The most popular party \n",
       "songs are here, just hit play. <span style=\"color: #808000; text-decoration-color: #808000\">...</span> to decor. But, most of all, you need to have fantastic music. We recommend you \n",
       "get at least three hours' worth of party music queued and ready — that's about <span style=\"color: #008080; text-decoration-color: #008080; font-weight: bold\">75</span> songs. Lucky for you, we've <span style=\"color: #808000; text-decoration-color: #808000\">...</span>\n",
       "\n",
       "|Top <span style=\"color: #008080; text-decoration-color: #008080; font-weight: bold\">25</span> House Party Songs of All Time | GrooveNexus<span style=\"font-weight: bold\">](</span><span style=\"color: #0000ff; text-decoration-color: #0000ff; text-decoration: underline\">https://www.groovenexus.com/top-playlist/house-party-songs/)</span>\n",
       "The one major thing to drive the in-house party is a song. One must have a great song list to play while hosting an\n",
       "in-house party. We have done a little research on the top party songs you can consider adding to make one best \n",
       "party playlist. Here is the list of party songs. Here are Some of the Top Party Songs of All Time <span style=\"color: #008080; text-decoration-color: #008080; font-weight: bold\">1</span>.\n",
       "\n",
       "|Best Songs for a Party - Deezer The Backstage<span style=\"font-weight: bold\">](</span><span style=\"color: #0000ff; text-decoration-color: #0000ff; text-decoration: underline\">https://thebackstage-deezer.com/tops/best-song-party/)</span>\n",
       "The best party songs to get people dancing at the end of the night always keep them on their toes. Genre-specific \n",
       "party songs Every party calls for a different atmosphere, and music plays an important part in creating it. Here \n",
       "are two of the most popular decades for unforgettable tunes.\n",
       "</pre>\n"
      ],
      "text/plain": [
       "Observations: ## Search Results\n",
       "\n",
       "|\u001b[1;36m200\u001b[0m Classic House Party Songs Everyone Knows | The Best \u001b[33m...\u001b[0m - \n",
       "iSpyTunes\u001b[1m]\u001b[0m\u001b[1m(\u001b[0m\u001b[4;94mhttps://www.ispytunes.com/post/house-party-songs\u001b[0m\u001b[4;94m)\u001b[0m\n",
       "\" Branded merchandise adds flair to any occasion, just like the perfect playlist. \u001b[1;36m200\u001b[0m classic house party songs \n",
       "everyone knows set the mood, bringing energy to every celebration. The best popular party hits keep guests dancing,\n",
       "creating unforgettable moments. From throwback anthems to modern beats, a great selection ensures nonstop fun.\n",
       "\n",
       "|The \u001b[1;36m75\u001b[0m Best Party Songs That Will Get Everyone Dancing - \n",
       "Gear4music\u001b[1m]\u001b[0m\u001b[1m(\u001b[0m\u001b[4;94mhttps://www.gear4music.com/blog/best-party-songs/\u001b[0m\u001b[4;94m)\u001b[0m\n",
       "The best party songs \u001b[1;36m1\u001b[0m. \u001b[32m\"September\"\u001b[0m - Earth, Wind & Fire \u001b[1m(\u001b[0m\u001b[1;36m1978\u001b[0m\u001b[1m)\u001b[0m Quite possibly the best party song. An infectious \n",
       "mix of funk and soul, \u001b[32m\"September\"\u001b[0m is celebrated for its upbeat melody and \u001b[32m\"ba-dee-ya\"\u001b[0m chorus, making it a timeless \n",
       "dance favorite.\n",
       "\n",
       "|\u001b[1;36m50\u001b[0m Songs on Every Event Planner's Playlist - \n",
       "Eventbrite\u001b[1m]\u001b[0m\u001b[1m(\u001b[0m\u001b[4;94mhttps://www.eventbrite.com/blog/event-planning-playlist-ds00/\u001b[0m\u001b[4;94m)\u001b[0m\n",
       "Music sets the mood and provides the soundtrack \u001b[1m(\u001b[0mliterally\u001b[1m)\u001b[0m for a memorable and exciting time. While the right \n",
       "songs can enhance the experience, the wrong event music can throw off the vibe. For example, fast-paced songs \n",
       "probably aren't the best fit for a formal gala. And smooth jazz is likely to lull your guests at a motivational \n",
       "conference.\n",
       "\n",
       "|Creating a playlist for cocktail hour and dinner service for \u001b[33m...\u001b[0m - \n",
       "Reddit\u001b[1m]\u001b[0m\u001b[1m(\u001b[0m\u001b[4;94mhttps://www.reddit.com/r/wilco/comments/12kxks1/creating_a_playlist_for_cocktail_hour_and_dinner/\u001b[0m\u001b[4;94m)\u001b[0m\n",
       "Shakey Graves - Mansion Door \u001b[33m...\u001b[0m Feel-good and Upbeat songs for a Kids' Campout Party \u001b[33m...\u001b[0m A subreddit to ask for \n",
       "our provide recommendations of any relevant media based on other media people like - whether it be music, \n",
       "television, video games, movies, or anything else. This is a RECOMMENDATION ONLY sub!\n",
       "\n",
       "|Outsider to Wayne's music here, wheres a good place to \n",
       "start?\u001b[1m]\u001b[0m\u001b[1m(\u001b[0m\u001b[4;94mhttps://www.reddit.com/r/lilwayne/comments/p2csri/outsider_to_waynes_music_here_wheres_a_good_place/\u001b[0m\u001b[4;94m)\u001b[0m\n",
       "My rule to introduce Wayne is \u001b[1;36m3\u001b[0m. Da Drought \u001b[1;36m3\u001b[0m Cárter \u001b[1;36m3\u001b[0m And No Ceilings \u001b[1;36m3\u001b[0m. \u001b[1;36m3\u001b[0m projects with the number \u001b[1;36m3\u001b[0m. Da Drought \n",
       "\u001b[1;36m3\u001b[0m, is praised as WAYNE's best mixtape. Tha Carter III, had a huge impact and may be Wayne's most successful album. \n",
       "No Ceilings \u001b[1;36m3\u001b[0m, is newer so you can see how he's still doing his thing. Then whatever you want.\n",
       "\n",
       "|Passaic County Parks & Recreation: Music at the \n",
       "Mansion\u001b[1m]\u001b[0m\u001b[1m(\u001b[0m\u001b[4;94mhttps://passaiccountynj.myrec.com/info/activities/program_details.aspx?\u001b[0m\u001b[4;94mProgramID\u001b[0m\u001b[4;94m=\u001b[0m\u001b[4;94m29909\u001b[0m\u001b[4;94m)\u001b[0m\n",
       "Thursdays from \u001b[1;36m7\u001b[0m to \u001b[1;36m9\u001b[0m PM the finest local bands will be playing music while In the Drink restaurant sells food and \n",
       "drinks on site. September 3rd: Norton Smull Band; Parking is limited at the Dey Mansion \u001b[1;36m209\u001b[0m Totowa Rd. Wayne, NJ. \n",
       "Overflow parking will be at the Preakness Valley Golf Course. You may drop off your guests at the Mansion first.\n",
       "\n",
       "|The Best Songs For Parties - The Ambient Mixer \n",
       "Blog\u001b[1m]\u001b[0m\u001b[1m(\u001b[0m\u001b[4;94mhttps://blog.ambient-mixer.com/usage/parties-2/the-best-songs-for-parties/\u001b[0m\u001b[4;94m)\u001b[0m\n",
       "The \u001b[1;36m100\u001b[0m best party songs ever made. Top \u001b[1;36m100\u001b[0m Best Party Songs Of All Time. Of course, these are just \u001b[1;36m2\u001b[0m of the many \n",
       "available playlists to choose from. However, these two contain some of the most popular ones most people usually \n",
       "end up using. If these are not the type of songs you or your guests might enjoy then simply follow the steps in the\n",
       "\u001b[33m...\u001b[0m\n",
       "\n",
       "|Party Music Guide: Ultimate Tips for the Perfect \n",
       "Playlist\u001b[1m]\u001b[0m\u001b[1m(\u001b[0m\u001b[4;94mhttps://thebackstage-deezer.com/music/perfect-party-music-playlist/\u001b[0m\u001b[4;94m)\u001b[0m\n",
       "Check out the best party playlists and top party songs to ensure your next party is packed! The most popular party \n",
       "songs are here, just hit play. \u001b[33m...\u001b[0m to decor. But, most of all, you need to have fantastic music. We recommend you \n",
       "get at least three hours' worth of party music queued and ready — that's about \u001b[1;36m75\u001b[0m songs. Lucky for you, we've \u001b[33m...\u001b[0m\n",
       "\n",
       "|Top \u001b[1;36m25\u001b[0m House Party Songs of All Time | GrooveNexus\u001b[1m]\u001b[0m\u001b[1m(\u001b[0m\u001b[4;94mhttps://www.groovenexus.com/top-playlist/house-party-songs/\u001b[0m\u001b[4;94m)\u001b[0m\n",
       "The one major thing to drive the in-house party is a song. One must have a great song list to play while hosting an\n",
       "in-house party. We have done a little research on the top party songs you can consider adding to make one best \n",
       "party playlist. Here is the list of party songs. Here are Some of the Top Party Songs of All Time \u001b[1;36m1\u001b[0m.\n",
       "\n",
       "|Best Songs for a Party - Deezer The Backstage\u001b[1m]\u001b[0m\u001b[1m(\u001b[0m\u001b[4;94mhttps://thebackstage-deezer.com/tops/best-song-party/\u001b[0m\u001b[4;94m)\u001b[0m\n",
       "The best party songs to get people dancing at the end of the night always keep them on their toes. Genre-specific \n",
       "party songs Every party calls for a different atmosphere, and music plays an important part in creating it. Here \n",
       "are two of the most popular decades for unforgettable tunes.\n"
      ]
     },
     "metadata": {},
     "output_type": "display_data"
    },
    {
     "data": {
      "text/html": [
       "<pre style=\"white-space:pre;overflow-x:auto;line-height:normal;font-family:Menlo,'DejaVu Sans Mono',consolas,'Courier New',monospace\"><span style=\"color: #7f7f7f; text-decoration-color: #7f7f7f\">[Step 0: Duration 1.49 seconds| Input tokens: 1,174 | Output tokens: 26]</span>\n",
       "</pre>\n"
      ],
      "text/plain": [
       "\u001b[2m[Step 0: Duration 1.49 seconds| Input tokens: 1,174 | Output tokens: 26]\u001b[0m\n"
      ]
     },
     "metadata": {},
     "output_type": "display_data"
    },
    {
     "data": {
      "text/html": [
       "<pre style=\"white-space:pre;overflow-x:auto;line-height:normal;font-family:Menlo,'DejaVu Sans Mono',consolas,'Courier New',monospace\"><span style=\"color: #d4b702; text-decoration-color: #d4b702\">━━━━━━━━━━━━━━━━━━━━━━━━━━━━━━━━━━━━━━━━━━━━━━━━━━━━━ </span><span style=\"font-weight: bold\">Step </span><span style=\"color: #008080; text-decoration-color: #008080; font-weight: bold\">2</span><span style=\"color: #d4b702; text-decoration-color: #d4b702\"> ━━━━━━━━━━━━━━━━━━━━━━━━━━━━━━━━━━━━━━━━━━━━━━━━━━━━━━</span>\n",
       "</pre>\n"
      ],
      "text/plain": [
       "\u001b[38;2;212;183;2m━━━━━━━━━━━━━━━━━━━━━━━━━━━━━━━━━━━━━━━━━━━━━━━━━━━━━ \u001b[0m\u001b[1mStep \u001b[0m\u001b[1;36m2\u001b[0m\u001b[38;2;212;183;2m ━━━━━━━━━━━━━━━━━━━━━━━━━━━━━━━━━━━━━━━━━━━━━━━━━━━━━━\u001b[0m\n"
      ]
     },
     "metadata": {},
     "output_type": "display_data"
    },
    {
     "data": {
      "text/html": [
       "<pre style=\"white-space:pre;overflow-x:auto;line-height:normal;font-family:Menlo,'DejaVu Sans Mono',consolas,'Courier New',monospace\">╭─────────────────────────────────────────────────────────────────────────────────────────────────────────────────╮\n",
       "│ Calling tool: 'final_answer' with arguments: {'answer': \"For a party at Wayne's mansion, you could consider a   │\n",
       "│ mix of classic party hits and some hits by Lil Wayne. A good starting point for Lil Wayne's music would be 'Da  │\n",
       "│ Drought 3,' 'Tha Carter III,' and 'No Ceilings 3.' For general party music, the top house party songs from      │\n",
       "│ sources like iSpyTunes, Gear4music, and GrooveNexus would be a great backdrop, ensuring a dynamic and energetic │\n",
       "│ atmosphere.\"}                                                                                                   │\n",
       "╰─────────────────────────────────────────────────────────────────────────────────────────────────────────────────╯\n",
       "</pre>\n"
      ],
      "text/plain": [
       "╭─────────────────────────────────────────────────────────────────────────────────────────────────────────────────╮\n",
       "│ Calling tool: 'final_answer' with arguments: {'answer': \"For a party at Wayne's mansion, you could consider a   │\n",
       "│ mix of classic party hits and some hits by Lil Wayne. A good starting point for Lil Wayne's music would be 'Da  │\n",
       "│ Drought 3,' 'Tha Carter III,' and 'No Ceilings 3.' For general party music, the top house party songs from      │\n",
       "│ sources like iSpyTunes, Gear4music, and GrooveNexus would be a great backdrop, ensuring a dynamic and energetic │\n",
       "│ atmosphere.\"}                                                                                                   │\n",
       "╰─────────────────────────────────────────────────────────────────────────────────────────────────────────────────╯\n"
      ]
     },
     "metadata": {},
     "output_type": "display_data"
    },
    {
     "data": {
      "text/html": [
       "<pre style=\"white-space:pre;overflow-x:auto;line-height:normal;font-family:Menlo,'DejaVu Sans Mono',consolas,'Courier New',monospace\"><span style=\"color: #d4b702; text-decoration-color: #d4b702; font-weight: bold\">Final answer: For a party at Wayne's mansion, you could consider a mix of classic party hits and some hits by Lil </span>\n",
       "<span style=\"color: #d4b702; text-decoration-color: #d4b702; font-weight: bold\">Wayne. A good starting point for Lil Wayne's music would be 'Da Drought 3,' 'Tha Carter III,' and 'No Ceilings 3.' </span>\n",
       "<span style=\"color: #d4b702; text-decoration-color: #d4b702; font-weight: bold\">For general party music, the top house party songs from sources like iSpyTunes, Gear4music, and GrooveNexus would </span>\n",
       "<span style=\"color: #d4b702; text-decoration-color: #d4b702; font-weight: bold\">be a great backdrop, ensuring a dynamic and energetic atmosphere.</span>\n",
       "</pre>\n"
      ],
      "text/plain": [
       "\u001b[1;38;2;212;183;2mFinal answer: For a party at Wayne's mansion, you could consider a mix of classic party hits and some hits by Lil \u001b[0m\n",
       "\u001b[1;38;2;212;183;2mWayne. A good starting point for Lil Wayne's music would be 'Da Drought 3,' 'Tha Carter III,' and 'No Ceilings 3.' \u001b[0m\n",
       "\u001b[1;38;2;212;183;2mFor general party music, the top house party songs from sources like iSpyTunes, Gear4music, and GrooveNexus would \u001b[0m\n",
       "\u001b[1;38;2;212;183;2mbe a great backdrop, ensuring a dynamic and energetic atmosphere.\u001b[0m\n"
      ]
     },
     "metadata": {},
     "output_type": "display_data"
    },
    {
     "data": {
      "text/html": [
       "<pre style=\"white-space:pre;overflow-x:auto;line-height:normal;font-family:Menlo,'DejaVu Sans Mono',consolas,'Courier New',monospace\"><span style=\"color: #7f7f7f; text-decoration-color: #7f7f7f\">[Step 1: Duration 7.92 seconds| Input tokens: 3,511 | Output tokens: 142]</span>\n",
       "</pre>\n"
      ],
      "text/plain": [
       "\u001b[2m[Step 1: Duration 7.92 seconds| Input tokens: 3,511 | Output tokens: 142]\u001b[0m\n"
      ]
     },
     "metadata": {},
     "output_type": "display_data"
    },
    {
     "data": {
      "text/plain": [
       "\"For a party at Wayne's mansion, you could consider a mix of classic party hits and some hits by Lil Wayne. A good starting point for Lil Wayne's music would be 'Da Drought 3,' 'Tha Carter III,' and 'No Ceilings 3.' For general party music, the top house party songs from sources like iSpyTunes, Gear4music, and GrooveNexus would be a great backdrop, ensuring a dynamic and energetic atmosphere.\""
      ]
     },
     "execution_count": null,
     "metadata": {},
     "output_type": "execute_result"
    }
   ],
   "source": [
    "from smolagents import ToolCallingAgent, DuckDuckGoSearchTool, HfApiModel\n",
    "\n",
    "agent = ToolCallingAgent(tools=[DuckDuckGoSearchTool()], model=HfApiModel())\n",
    "\n",
    "agent.run(\n",
    "    \"Search for the best music recommendations for a party at the Wayne's mansion.\"\n",
    ")"
   ]
  },
  {
   "cell_type": "markdown",
   "metadata": {},
   "source": [
    "\n",
    "When you examine the agent's trace, instead of seeing `Executing parsed code:`, you'll see something like:\n",
    "\n",
    "```text\n",
    "╭─────────────────────────────────────────────────────────────────────────────────────────────────────────────────╮\n",
    "│ Calling tool: 'web_search' with arguments: {'query': \"best music recommendations for a party at Wayne's         │\n",
    "│ mansion\"}                                                                                                       │\n",
    "╰─────────────────────────────────────────────────────────────────────────────────────────────────────────────────╯\n",
    "```  \n",
    "\n",
    "The agent generates a structured tool call that the system processes to produce the output, rather than directly executing code like a `CodeAgent`.\n",
    "\n",
    "Now that we understand both agent types, we can choose the right one for our needs. Let's continue exploring `smolagents` to make Alfred's party a success! 🎉"
   ]
  }
 ],
 "metadata": {
  "kernelspec": {
   "display_name": "python3",
   "language": "python",
   "name": "python3"
  }
 },
 "nbformat": 4,
 "nbformat_minor": 0
}
