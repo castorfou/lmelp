{
 "cells": [
  {
   "cell_type": "markdown",
   "metadata": {},
   "source": [
    "# lister les descriptions"
   ]
  },
  {
   "cell_type": "code",
   "execution_count": null,
   "metadata": {},
   "outputs": [],
   "source": [
    "import pymongo\n",
    "\n",
    "client = pymongo.MongoClient(\"mongodb://localhost:27017/\")\n",
    "db = client[\"masque_et_la_plume\"]\n",
    "collection = db[\"episodes\"]"
   ]
  },
  {
   "cell_type": "code",
   "execution_count": null,
   "metadata": {},
   "outputs": [
    {
     "data": {
      "text/plain": [
       "['_id', 'nom', 'duree', 'url', 'auteur', 'publié', 'description']"
      ]
     },
     "execution_count": null,
     "metadata": {},
     "output_type": "execute_result"
    }
   ],
   "source": [
    "import pymongo\n",
    "\n",
    "\n",
    "def list_columns(collection):\n",
    "    # Utiliser un ensemble pour stocker les noms de colonnes uniques\n",
    "    columns = set()\n",
    "\n",
    "    # Parcourir tous les documents de la collection\n",
    "    for document in collection.find():\n",
    "        # Ajouter les clés du document à l'ensemble des colonnes\n",
    "        columns.update(document.keys())\n",
    "\n",
    "    return list(columns)\n",
    "\n",
    "\n",
    "list_columns(collection)"
   ]
  },
  {
   "cell_type": "code",
   "execution_count": null,
   "metadata": {},
   "outputs": [
    {
     "data": {
      "text/plain": [
       "{ObjectId('6773e32258fc5717f3516b98'): 'durée : 00:49:48 - Le Masque et la Plume - par : Rebecca Manzoni - Des pieds-nicklés au pays du comté, un film de Paul Schrader avec Richard Gere, le duo reformé d\\'\"American gigolo\", un biopic avec Sandrine Kiberlain sur une grande actrice française, un autre sur Saint-Exupéry, une histoire de femmes... - réalisé par : Guillaume Girault',\n",
       " ObjectId('6773e32258fc5717f3516b99'): \"durée : 00:47:52 - Le Masque et la Plume - par : Rebecca Manzoni - Il est encore temps d'ajouter quelques livres sous le sapin - invités : Raphaelle Leyris, Jean-Marc Proust, Patricia Martin, Laurent CHALUMEAU - Raphaëlle Leyris : Journaliste au Monde, critique littéraire, Jean-Marc Proust : Auteur et critique (Slate), Patricia Martin : Journaliste, critique littéraire et productrice chez France Inter, Laurent Chalumeau : Journaliste rock, scénariste, dialoguiste, romancier - réalisé par : Guillaume Girault\",\n",
       " ObjectId('6773e32258fc5717f3516b9a'): 'durée : 00:46:52 - Le Masque et la Plume - par : Rebecca Manzoni - Nos critiques vous disent ce qu\\'ils ont pensé de la comédie musicale \"Les Misérables\" par Ladislas Chollat, \"La Mouette\" de Tchekhov par Stéphane Braunschweig, le stand-up \"Sexe\" de Bérangère Krief, \"Marius\" par Joël Pommerat, \"La Serva Amorosa\" de Carlo Goldoni par Catherine Hiegel... - invités : Laurent Goumarre, Fabienne Pascaud, Sandrine Blanchard - Laurent Goumarre : Producteur de radio français, journaliste au quotidien Libération, Fabienne Pascaud : Journaliste chez Télérama, Sandrine Blanchard : Journaliste et critique pour Le Monde - réalisé par : Guillaume Girault',\n",
       " ObjectId('6773e32258fc5717f3516b9b'): \"durée : 00:48:18 - Le Masque et la Plume - par : Rebecca Manzoni - Deux frères que tout oppose, réunis par la musique\\xa0; un voyage cinématographique qui mélange le passé et le présent\\xa0; un adolescent rebelle, amoureux, défie les frontières sociales\\xa0; un thriller au cœur du Vatican puis le parcours d'un poète russe exilé, de voyou punk à agitateur politique. - invités : Charlotte LIPINSKA, Florence COLOMBANI, Jean-Marc Lalanne, Pierre Murat - Charlotte Lipinska : Critique de cinéma (Télématin), Florence Colombani : Journaliste et critique cinéma (Le Point), Jean-Marc Lalanne : Critique de cinéma et rédacteur en chef du magazine Les Inrocks, Pierre Murat : Rédacteur en chef adjoint de Télérama - réalisé par : Guillaume Girault\",\n",
       " ObjectId('6773e32258fc5717f3516b9c'): 'durée : 00:47:17 - Le Masque et la Plume - par : Rebecca Manzoni - \"Récits de certains faits\" de Yasmina Reza, \"Les Enchanteurs\" de James Ellroy, \"Madelaine avant l’aube\" de Sandrine Collette, \"Mythologie du .12\" de Célestin de Meeûs et \"Le bastion des Larmes\" d’Abdellah Taïa sur la table de chevet de nos critiques. Qu\\'en ont-ils pensé\\xa0? - invités : Raphaelle Leyris, Laurent CHALUMEAU, Arnaud Viviant, Elisabeth Philippe - Raphaëlle Leyris : Journaliste au Monde, critique littéraire, Laurent Chalumeau : Journaliste rock, scénariste, dialoguiste, romancier, Arnaud Viviant : Critique littéraire (Revue Regards), Elisabeth Philippe : Critique littéraire (L\\'Obs) - réalisé par : Guillaume Girault'}"
      ]
     },
     "execution_count": null,
     "metadata": {},
     "output_type": "execute_result"
    }
   ],
   "source": [
    "import pymongo\n",
    "from itertools import islice\n",
    "\n",
    "\n",
    "def list_descriptions(collection):\n",
    "    descriptions = {}\n",
    "\n",
    "    # Parcourir tous les documents de la collection\n",
    "    for document in collection.find():\n",
    "        # Ajouter la description au dictionnaire si elle existe\n",
    "        if \"description\" in document:\n",
    "            descriptions[document[\"_id\"]] = document[\"description\"]\n",
    "    return descriptions\n",
    "\n",
    "\n",
    "descriptions = list_descriptions(collection)\n",
    "dict(islice(descriptions.items(), 5))"
   ]
  },
  {
   "cell_type": "markdown",
   "metadata": {},
   "source": [
    "# livres, films, pieces de theatre"
   ]
  },
  {
   "cell_type": "code",
   "execution_count": null,
   "metadata": {},
   "outputs": [
    {
     "name": "stderr",
     "output_type": "stream",
     "text": [
      "Device set to use cpu\n"
     ]
    },
    {
     "name": "stdout",
     "output_type": "stream",
     "text": [
      "Description: 6773e32258fc5717f3516b98 durée : 00:49:48 - Le Masque et la Plume - par : Rebecca Manzoni - Des pieds-nicklés au pays du comté, un film de Paul Schrader avec Richard Gere, le duo reformé d'\"American gigolo\", un biopic avec Sandrine Kiberlain sur une grande actrice française, un autre sur Saint-Exupéry, une histoire de femmes... - réalisé par : Guillaume Girault\n",
      "Label: films (Score: 0.83)\n",
      "\n",
      "Description: 6773e32258fc5717f3516b99 durée : 00:47:52 - Le Masque et la Plume - par : Rebecca Manzoni - Il est encore temps d'ajouter quelques livres sous le sapin - invités : Raphaelle Leyris, Jean-Marc Proust, Patricia Martin, Laurent CHALUMEAU - Raphaëlle Leyris : Journaliste au Monde, critique littéraire, Jean-Marc Proust : Auteur et critique (Slate), Patricia Martin : Journaliste, critique littéraire et productrice chez France Inter, Laurent Chalumeau : Journaliste rock, scénariste, dialoguiste, romancier - réalisé par : Guillaume Girault\n",
      "Label: livres (Score: 0.98)\n",
      "\n",
      "Description: 6773e32258fc5717f3516b9a durée : 00:46:52 - Le Masque et la Plume - par : Rebecca Manzoni - Nos critiques vous disent ce qu'ils ont pensé de la comédie musicale \"Les Misérables\" par Ladislas Chollat, \"La Mouette\" de Tchekhov par Stéphane Braunschweig, le stand-up \"Sexe\" de Bérangère Krief, \"Marius\" par Joël Pommerat, \"La Serva Amorosa\" de Carlo Goldoni par Catherine Hiegel... - invités : Laurent Goumarre, Fabienne Pascaud, Sandrine Blanchard - Laurent Goumarre : Producteur de radio français, journaliste au quotidien Libération, Fabienne Pascaud : Journaliste chez Télérama, Sandrine Blanchard : Journaliste et critique pour Le Monde - réalisé par : Guillaume Girault\n",
      "Label: pièces de théâtre (Score: 0.45)\n",
      "\n",
      "Description: 6773e32258fc5717f3516b9b durée : 00:48:18 - Le Masque et la Plume - par : Rebecca Manzoni - Deux frères que tout oppose, réunis par la musique ; un voyage cinématographique qui mélange le passé et le présent ; un adolescent rebelle, amoureux, défie les frontières sociales ; un thriller au cœur du Vatican puis le parcours d'un poète russe exilé, de voyou punk à agitateur politique. - invités : Charlotte LIPINSKA, Florence COLOMBANI, Jean-Marc Lalanne, Pierre Murat - Charlotte Lipinska : Critique de cinéma (Télématin), Florence Colombani : Journaliste et critique cinéma (Le Point), Jean-Marc Lalanne : Critique de cinéma et rédacteur en chef du magazine Les Inrocks, Pierre Murat : Rédacteur en chef adjoint de Télérama - réalisé par : Guillaume Girault\n",
      "Label: films (Score: 0.78)\n",
      "\n",
      "Description: 6773e32258fc5717f3516b9c durée : 00:47:17 - Le Masque et la Plume - par : Rebecca Manzoni - \"Récits de certains faits\" de Yasmina Reza, \"Les Enchanteurs\" de James Ellroy, \"Madelaine avant l’aube\" de Sandrine Collette, \"Mythologie du .12\" de Célestin de Meeûs et \"Le bastion des Larmes\" d’Abdellah Taïa sur la table de chevet de nos critiques. Qu'en ont-ils pensé ? - invités : Raphaelle Leyris, Laurent CHALUMEAU, Arnaud Viviant, Elisabeth Philippe - Raphaëlle Leyris : Journaliste au Monde, critique littéraire, Laurent Chalumeau : Journaliste rock, scénariste, dialoguiste, romancier, Arnaud Viviant : Critique littéraire (Revue Regards), Elisabeth Philippe : Critique littéraire (L'Obs) - réalisé par : Guillaume Girault\n",
      "Label: livres (Score: 0.62)\n",
      "\n"
     ]
    }
   ],
   "source": [
    "from transformers import pipeline\n",
    "\n",
    "# Charger le pipeline de classification de texte\n",
    "classifier = pipeline(\"zero-shot-classification\", model=\"facebook/bart-large-mnli\")\n",
    "\n",
    "# Labels possibles\n",
    "labels = [\"livres\", \"films\", \"pièces de théâtre\"]\n",
    "\n",
    "\n",
    "def classify_descriptions(descriptions):\n",
    "    results = []\n",
    "    for id, description in descriptions.items():\n",
    "        result = classifier(description, labels)\n",
    "        results.append(\n",
    "            {\n",
    "                \"id\": id,\n",
    "                \"description\": description,\n",
    "                \"label\": result[\"labels\"][0],\n",
    "                \"score\": result[\"scores\"][0],\n",
    "            }\n",
    "        )\n",
    "    return results\n",
    "\n",
    "\n",
    "# Classifier les descriptions\n",
    "classified_descriptions = classify_descriptions(descriptions)\n",
    "\n",
    "# Afficher les résultats\n",
    "for item in classified_descriptions[:5]:\n",
    "    print(f\"Description: {item['id']} {item['description']}\")\n",
    "    print(f\"Label: {item['label']} (Score: {item['score']:.2f})\")\n",
    "    print()"
   ]
  },
  {
   "cell_type": "markdown",
   "metadata": {},
   "source": [
    "# conserver en base"
   ]
  },
  {
   "cell_type": "code",
   "execution_count": null,
   "metadata": {},
   "outputs": [
    {
     "data": {
      "text/plain": [
       "[{'id': ObjectId('6773e32258fc5717f3516b98'),\n",
       "  'description': 'durée : 00:49:48 - Le Masque et la Plume - par : Rebecca Manzoni - Des pieds-nicklés au pays du comté, un film de Paul Schrader avec Richard Gere, le duo reformé d\\'\"American gigolo\", un biopic avec Sandrine Kiberlain sur une grande actrice française, un autre sur Saint-Exupéry, une histoire de femmes... - réalisé par : Guillaume Girault',\n",
       "  'label': 'films',\n",
       "  'score': 0.8343602418899536},\n",
       " {'id': ObjectId('6773e32258fc5717f3516b99'),\n",
       "  'description': \"durée : 00:47:52 - Le Masque et la Plume - par : Rebecca Manzoni - Il est encore temps d'ajouter quelques livres sous le sapin - invités : Raphaelle Leyris, Jean-Marc Proust, Patricia Martin, Laurent CHALUMEAU - Raphaëlle Leyris : Journaliste au Monde, critique littéraire, Jean-Marc Proust : Auteur et critique (Slate), Patricia Martin : Journaliste, critique littéraire et productrice chez France Inter, Laurent Chalumeau : Journaliste rock, scénariste, dialoguiste, romancier - réalisé par : Guillaume Girault\",\n",
       "  'label': 'livres',\n",
       "  'score': 0.975914716720581},\n",
       " {'id': ObjectId('6773e32258fc5717f3516b9a'),\n",
       "  'description': 'durée : 00:46:52 - Le Masque et la Plume - par : Rebecca Manzoni - Nos critiques vous disent ce qu\\'ils ont pensé de la comédie musicale \"Les Misérables\" par Ladislas Chollat, \"La Mouette\" de Tchekhov par Stéphane Braunschweig, le stand-up \"Sexe\" de Bérangère Krief, \"Marius\" par Joël Pommerat, \"La Serva Amorosa\" de Carlo Goldoni par Catherine Hiegel... - invités : Laurent Goumarre, Fabienne Pascaud, Sandrine Blanchard - Laurent Goumarre : Producteur de radio français, journaliste au quotidien Libération, Fabienne Pascaud : Journaliste chez Télérama, Sandrine Blanchard : Journaliste et critique pour Le Monde - réalisé par : Guillaume Girault',\n",
       "  'label': 'pièces de théâtre',\n",
       "  'score': 0.4455147087574005},\n",
       " {'id': ObjectId('6773e32258fc5717f3516b9b'),\n",
       "  'description': \"durée : 00:48:18 - Le Masque et la Plume - par : Rebecca Manzoni - Deux frères que tout oppose, réunis par la musique\\xa0; un voyage cinématographique qui mélange le passé et le présent\\xa0; un adolescent rebelle, amoureux, défie les frontières sociales\\xa0; un thriller au cœur du Vatican puis le parcours d'un poète russe exilé, de voyou punk à agitateur politique. - invités : Charlotte LIPINSKA, Florence COLOMBANI, Jean-Marc Lalanne, Pierre Murat - Charlotte Lipinska : Critique de cinéma (Télématin), Florence Colombani : Journaliste et critique cinéma (Le Point), Jean-Marc Lalanne : Critique de cinéma et rédacteur en chef du magazine Les Inrocks, Pierre Murat : Rédacteur en chef adjoint de Télérama - réalisé par : Guillaume Girault\",\n",
       "  'label': 'films',\n",
       "  'score': 0.7802127599716187},\n",
       " {'id': ObjectId('6773e32258fc5717f3516b9c'),\n",
       "  'description': 'durée : 00:47:17 - Le Masque et la Plume - par : Rebecca Manzoni - \"Récits de certains faits\" de Yasmina Reza, \"Les Enchanteurs\" de James Ellroy, \"Madelaine avant l’aube\" de Sandrine Collette, \"Mythologie du .12\" de Célestin de Meeûs et \"Le bastion des Larmes\" d’Abdellah Taïa sur la table de chevet de nos critiques. Qu\\'en ont-ils pensé\\xa0? - invités : Raphaelle Leyris, Laurent CHALUMEAU, Arnaud Viviant, Elisabeth Philippe - Raphaëlle Leyris : Journaliste au Monde, critique littéraire, Laurent Chalumeau : Journaliste rock, scénariste, dialoguiste, romancier, Arnaud Viviant : Critique littéraire (Revue Regards), Elisabeth Philippe : Critique littéraire (L\\'Obs) - réalisé par : Guillaume Girault',\n",
       "  'label': 'livres',\n",
       "  'score': 0.6219398379325867}]"
      ]
     },
     "execution_count": null,
     "metadata": {},
     "output_type": "execute_result"
    }
   ],
   "source": [
    "classified_descriptions[:5]"
   ]
  },
  {
   "cell_type": "code",
   "execution_count": null,
   "metadata": {},
   "outputs": [
    {
     "name": "stdout",
     "output_type": "stream",
     "text": [
      "Type ajouté pour l'ID: 6773e32258fc5717f3516b98\n",
      "Type ajouté pour l'ID: 6773e32258fc5717f3516b99\n",
      "Type ajouté pour l'ID: 6773e32258fc5717f3516b9a\n",
      "Type ajouté pour l'ID: 6773e32258fc5717f3516b9b\n",
      "Type ajouté pour l'ID: 6773e32258fc5717f3516b9c\n",
      "Type ajouté pour l'ID: 6773e32258fc5717f3516b9d\n",
      "Type ajouté pour l'ID: 6773e32258fc5717f3516b9e\n",
      "Type ajouté pour l'ID: 6773e32258fc5717f3516b9f\n",
      "Type ajouté pour l'ID: 6773e32258fc5717f3516ba0\n"
     ]
    }
   ],
   "source": [
    "# Parcourir la liste des descriptions classifiées\n",
    "for item in classified_descriptions:\n",
    "    # Vérifier si l'entrée existe déjà dans la base de données\n",
    "    existing_entry = collection.find_one({\"_id\": item[\"id\"]})\n",
    "\n",
    "    if existing_entry:\n",
    "        # Vérifier si la colonne 'type' est présente\n",
    "        if \"type\" not in existing_entry:\n",
    "            # Mettre à jour l'entrée existante avec le label et le score\n",
    "            collection.update_one(\n",
    "                {\"_id\": item[\"id\"]},\n",
    "                {\"$set\": {\"type\": item[\"label\"], \"type_score\": item[\"score\"]}},\n",
    "            )\n",
    "            print(f\"Type ajouté pour l'ID: {item['id']}\")"
   ]
  },
  {
   "cell_type": "code",
   "execution_count": null,
   "metadata": {},
   "outputs": [],
   "source": []
  }
 ],
 "metadata": {
  "kernelspec": {
   "display_name": "python3",
   "language": "python",
   "name": "python3"
  }
 },
 "nbformat": 4,
 "nbformat_minor": 2
}
