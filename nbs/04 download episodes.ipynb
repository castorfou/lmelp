{
 "cells": [
  {
   "cell_type": "code",
   "execution_count": null,
   "metadata": {},
   "outputs": [],
   "source": [
    "import pymongo\n",
    "\n",
    "client = pymongo.MongoClient(\"mongodb://localhost:27017/\")\n",
    "db = client[\"masque_et_la_plume\"]\n",
    "collection = db[\"episodes\"]"
   ]
  },
  {
   "cell_type": "code",
   "execution_count": null,
   "metadata": {},
   "outputs": [
    {
     "name": "stdout",
     "output_type": "stream",
     "text": [
      "{'_id': ObjectId('6772e309c628d5d8790d1a19'), 'nom': '\"Sarah Bernhardt, la divine\", \"Les Femmes aux balcon\", \"Vingt Dieux\", \"Oh Canada\"... Que voir au cinéma\\xa0?', 'publié': datetime.datetime(2024, 12, 29, 9, 59, 39), 'duree': 2988, 'url': 'https://rf.proxycast.org/a9ea02c4-09a0-4a95-a86b-269c571baf8a/14007-29.12.2024-ITEMA_23978947-2024F4007S0364-22.mp3', 'description': 'durée : 00:49:48 - Le Masque et la Plume - par : Rebecca Manzoni - Des pieds-nicklés au pays du comté, un film de Paul Schrader avec Richard Gere, le duo reformé d\\'\"American gigolo\", un biopic avec Sandrine Kiberlain sur une grande actrice française, un autre sur Saint-Exupéry, une histoire de femmes... - réalisé par : Guillaume Girault', 'auteur': 'Rebecca Manzoni'}\n",
      "{'_id': ObjectId('6772e309c628d5d8790d1a1a'), 'nom': 'Les nouvelles pages de Marc Dugain, Emmanuelle Lambert, Emil Ferris, Fabrice Caro et Mathieu Palain', 'publié': datetime.datetime(2024, 12, 22, 9, 59, 39), 'duree': 2872, 'url': 'https://rf.proxycast.org/7e653bf4-87a5-42f4-864b-9208e206a295/14007-22.12.2024-ITEMA_23973143-2024F4007S0357-22.mp3', 'description': \"durée : 00:47:52 - Le Masque et la Plume - par : Rebecca Manzoni - Il est encore temps d'ajouter quelques livres sous le sapin - invités : Raphaelle Leyris, Jean-Marc Proust, Patricia Martin, Laurent CHALUMEAU - Raphaëlle Leyris : Journaliste au Monde, critique littéraire, Jean-Marc Proust : Auteur et critique (Slate), Patricia Martin : Journaliste, critique littéraire et productrice chez France Inter, Laurent Chalumeau : Journaliste rock, scénariste, dialoguiste, romancier - réalisé par : Guillaume Girault\", 'auteur': 'Rebecca Manzoni'}\n",
      "{'_id': ObjectId('6772e309c628d5d8790d1a1b'), 'nom': 'Au théâtre\\xa0: \"Les Misérables\", \"La Mouette\", \"Sexe\", \"Marius\", \"La Serva Amorosa\"...', 'publié': datetime.datetime(2024, 12, 15, 9, 59, 39), 'duree': 2812, 'url': 'https://rf.proxycast.org/7f3818f7-cc2e-44f5-a5f0-69dde19127b7/14007-15.12.2024-ITEMA_23965603-2024F4007S0350-22.mp3', 'description': 'durée : 00:46:52 - Le Masque et la Plume - par : Rebecca Manzoni - Nos critiques vous disent ce qu\\'ils ont pensé de la comédie musicale \"Les Misérables\" par Ladislas Chollat, \"La Mouette\" de Tchekhov par Stéphane Braunschweig, le stand-up \"Sexe\" de Bérangère Krief, \"Marius\" par Joël Pommerat, \"La Serva Amorosa\" de Carlo Goldoni par Catherine Hiegel... - invités : Laurent Goumarre, Fabienne Pascaud, Sandrine Blanchard - Laurent Goumarre : Producteur de radio français, journaliste au quotidien Libération, Fabienne Pascaud : Journaliste chez Télérama, Sandrine Blanchard : Journaliste et critique pour Le Monde - réalisé par : Guillaume Girault', 'auteur': 'Rebecca Manzoni'}\n",
      "{'_id': ObjectId('6772e309c628d5d8790d1a1c'), 'nom': 'Un ticket pour \"Leurs enfants après eux\", \"En Fanfare\", \"Limonov, la ballade\", \"Conclave\"… ?', 'publié': datetime.datetime(2024, 12, 8, 9, 59, 39), 'duree': 2898, 'url': 'https://rf.proxycast.org/aeffdd33-8ec9-43f0-8168-09cd6d2ed539/14007-08.12.2024-ITEMA_23954487-2024F4007S0343-22.mp3', 'description': \"durée : 00:48:18 - Le Masque et la Plume - par : Rebecca Manzoni - Deux frères que tout oppose, réunis par la musique\\xa0; un voyage cinématographique qui mélange le passé et le présent\\xa0; un adolescent rebelle, amoureux, défie les frontières sociales\\xa0; un thriller au cœur du Vatican puis le parcours d'un poète russe exilé, de voyou punk à agitateur politique. - invités : Charlotte LIPINSKA, Florence COLOMBANI, Jean-Marc Lalanne, Pierre Murat - Charlotte Lipinska : Critique de cinéma (Télématin), Florence Colombani : Journaliste et critique cinéma (Le Point), Jean-Marc Lalanne : Critique de cinéma et rédacteur en chef du magazine Les Inrocks, Pierre Murat : Rédacteur en chef adjoint de Télérama - réalisé par : Guillaume Girault\", 'auteur': 'Rebecca Manzoni'}\n",
      "{'_id': ObjectId('6772e309c628d5d8790d1a1d'), 'nom': 'Les nouvelles pages de James Ellroy, Yasmina Reza, Célestin de Meeûs, Sandrine Collette, Abdellah Taïa', 'publié': datetime.datetime(2024, 12, 1, 9, 59, 39), 'duree': 2837, 'url': 'https://rf.proxycast.org/7502dbc2-c937-4a70-b60d-c5a89f5b5da4/14007-01.12.2024-ITEMA_23942372-2024F4007S0336-22.mp3', 'description': 'durée : 00:47:17 - Le Masque et la Plume - par : Rebecca Manzoni - \"Récits de certains faits\" de Yasmina Reza, \"Les Enchanteurs\" de James Ellroy, \"Madelaine avant l’aube\" de Sandrine Collette, \"Mythologie du .12\" de Célestin de Meeûs et \"Le bastion des Larmes\" d’Abdellah Taïa sur la table de chevet de nos critiques. Qu\\'en ont-ils pensé\\xa0? - invités : Raphaelle Leyris, Laurent CHALUMEAU, Arnaud Viviant, Elisabeth Philippe - Raphaëlle Leyris : Journaliste au Monde, critique littéraire, Laurent Chalumeau : Journaliste rock, scénariste, dialoguiste, romancier, Arnaud Viviant : Critique littéraire (Revue Regards), Elisabeth Philippe : Critique littéraire (L\\'Obs) - réalisé par : Guillaume Girault', 'auteur': 'Rebecca Manzoni'}\n",
      "{'_id': ObjectId('6772e309c628d5d8790d1a1e'), 'nom': 'En salle\\xa0: \"La plus précieuse des marchandises\", \"Finalement\", \"Gladiator II\", \"La vallée des fous\"…', 'publié': datetime.datetime(2024, 11, 24, 9, 59, 39), 'duree': 2883, 'url': 'https://rf.proxycast.org/92889ad9-ba53-4510-9b2d-659d5f62b5e9/14007-24.11.2024-ITEMA_23935099-2024F4007S0329-22.mp3', 'description': \"durée : 00:48:03 - Le Masque et la Plume - par : Rebecca Manzoni - Un drame d'animation sur\\xa0la résilience face à la cruauté\\xa0; un voyage initiatique et musical\\xa0; un gladiateur qui combat pour la liberté\\xa0; une adolescente corse confrontée au monde brutal de la mafia\\xa0; et un restaurateur retrouve un nouveau souffle en participant virtuellement au Vendée Globe.\\n - invités : Christophe Bourseiller, Murielle Joudet, Florence COLOMBANI, Xavier Leherpeur - Christophe Bourseiller : Historien, animateur et critique de cinéma, Murielle Joudet : Critique de cinéma pour Le Monde, Florence Colombani : Journaliste et critique cinéma (Le Point), Xavier Leherpeur : Chroniqueur et critique de cinéma (7e Obsession) - réalisé par : Guillaume Girault\", 'auteur': 'Rebecca Manzoni'}\n",
      "{'_id': ObjectId('6772e309c628d5d8790d1a1f'), 'nom': 'Les nouveaux films de Clint Eastwood, Coralie Fargeat, Sean Baker, Emmanuel Mouret…', 'publié': datetime.datetime(2024, 11, 17, 9, 59, 39), 'duree': 2866, 'url': 'https://rf.proxycast.org/d0d34b20-d05d-417f-b051-b42f1901ad3a/14007-17.11.2024-ITEMA_23927961-2024F4007S0322-22.mp3', 'description': \"durée : 00:47:46 - Le Masque et la Plume - par : Rebecca Manzoni - Des courses-poursuites dans Brooklyn aux côtés d'une strip-teaseuse\\xa0; un juré dans un procès pour meurtre réalise qu'il est le véritable coupable\\xa0; une actrice veut se refaire une jeunesse grâce à un sérum révolutionnaire\\xa0; des histoires d'amour et d'amitié mises à rude épreuve…  - invités : Xavier Leherpeur, Ariane Allard, Pierre Murat, Charlotte GARSON - Xavier Leherpeur : Chroniqueur et critique de cinéma (7e Obsession), Ariane Allard : Critique de cinéma (Causette), Pierre Murat : Rédacteur en chef adjoint de Télérama, Charlotte Garson : Rédactrice en chef adjointe des Cahiers du cinéma - réalisé par : Guillaume Girault\", 'auteur': 'Rebecca Manzoni'}\n",
      "{'_id': ObjectId('6772e309c628d5d8790d1a20'), 'nom': 'La foire du livre de Brive : les romans de Daniel Pennac, Colson Whitehead, Olivier Norek, Miguel Bonnefoy...', 'publié': datetime.datetime(2024, 11, 10, 9, 59, 39), 'duree': 2763, 'url': 'https://rf.proxycast.org/f5779476-9d52-4bfb-a839-bf82751eaebb/14007-10.11.2024-ITEMA_23920569-2024F4007S0315-22.mp3', 'description': 'durée : 00:46:03 - Le Masque et la Plume - par : Rebecca Manzoni - En direct de la 42ᵉ édition de la Foire du livre de Brive-la-Gaillarde, nos critiques vous disent ce qu\\'ils ont pensé de \"Mon assassin\" de Daniel Pennac, \"Le rêve du jaguar\" de Miguel Bonnefoy, \"Les guerriers de l’hiver\" d’Olivier Norek, \"La règle du crime\" de Colson Whitehead...\\n - invités : Arnaud Viviant, Elisabeth Philippe, Jean-Marc Proust, Patricia Martin - Arnaud Viviant : Critique littéraire (Revue Regards), Elisabeth Philippe : Critique littéraire (L\\'Obs), Jean-Marc Proust : Auteur et critique (Slate), Patricia Martin : Journaliste, critique littéraire et productrice chez France Inter - réalisé par : Guillaume Girault', 'auteur': 'Rebecca Manzoni'}\n",
      "{'_id': ObjectId('6772e309c628d5d8790d1a21'), 'nom': 'Sur scène : \"La Haine\", \"Le Suicidé\", \"L’Amante Anglaise\", \"La fin du début\"...', 'publié': datetime.datetime(2024, 11, 3, 9, 59, 39), 'duree': 2874, 'url': 'https://rf.proxycast.org/25ab61e5-5852-420e-9ec9-21bfa17ea73b/14007-03.11.2024-ITEMA_23913276-2024F4007S0308-22.mp3', 'description': \"durée : 00:47:54 - Le Masque et la Plume - par : Rebecca Manzoni - Un film culte des années 90 qui renaît sur scène en comédie musicale ; l'histoire de deux sœurs siamoises  ; un meurtre bouleversant à travers des interrogatoires intenses et le récit de l'ascension politique de Jacques Chirac... - invités : Fabienne Pascaud, Pierre Lesquelen, Sandrine Blanchard, Laurent Goumarre - Fabienne Pascaud : Journaliste chez Télérama, Pierre Lesquelen : Critique à I/O Gazette et Détectives sauvages, dramaturge et enseignant-chercheur, Sandrine Blanchard : Journaliste et critique pour Le Monde, Laurent Goumarre : Producteur de radio français, journaliste au quotidien Libération - réalisé par : Guillaume Girault\", 'auteur': 'Rebecca Manzoni'}\n"
     ]
    }
   ],
   "source": [
    "# Récupération de toutes les entrées dans la collection\n",
    "entries = collection.find()\n",
    "\n",
    "# Affichage des entrées\n",
    "for entry in entries:\n",
    "    print(entry)"
   ]
  },
  {
   "cell_type": "code",
   "execution_count": null,
   "metadata": {},
   "outputs": [
    {
     "name": "stdout",
     "output_type": "stream",
     "text": [
      "Le fichier /home/guillaume/git/lmelp/audios/14007-29.12.2024-ITEMA_23978947-2024F4007S0364-22.mp3 existe déjà. Ignoré.\n",
      "Le fichier /home/guillaume/git/lmelp/audios/14007-22.12.2024-ITEMA_23973143-2024F4007S0357-22.mp3 existe déjà. Ignoré.\n",
      "Le fichier /home/guillaume/git/lmelp/audios/14007-15.12.2024-ITEMA_23965603-2024F4007S0350-22.mp3 existe déjà. Ignoré.\n",
      "Le fichier /home/guillaume/git/lmelp/audios/14007-08.12.2024-ITEMA_23954487-2024F4007S0343-22.mp3 existe déjà. Ignoré.\n",
      "Le fichier /home/guillaume/git/lmelp/audios/14007-01.12.2024-ITEMA_23942372-2024F4007S0336-22.mp3 existe déjà. Ignoré.\n",
      "Le fichier /home/guillaume/git/lmelp/audios/14007-24.11.2024-ITEMA_23935099-2024F4007S0329-22.mp3 existe déjà. Ignoré.\n",
      "Le fichier /home/guillaume/git/lmelp/audios/14007-17.11.2024-ITEMA_23927961-2024F4007S0322-22.mp3 existe déjà. Ignoré.\n",
      "Le fichier /home/guillaume/git/lmelp/audios/14007-10.11.2024-ITEMA_23920569-2024F4007S0315-22.mp3 existe déjà. Ignoré.\n",
      "Le fichier /home/guillaume/git/lmelp/audios/14007-03.11.2024-ITEMA_23913276-2024F4007S0308-22.mp3 existe déjà. Ignoré.\n"
     ]
    }
   ],
   "source": [
    "import os\n",
    "import requests\n",
    "import pymongo\n",
    "from git import Repo\n",
    "\n",
    "\n",
    "def get_git_root(path):\n",
    "    git_repo = Repo(path, search_parent_directories=True)\n",
    "    return git_repo.git.rev_parse(\"--show-toplevel\")\n",
    "\n",
    "\n",
    "def download_episodes(collection, force=False):\n",
    "    # Déterminer la racine du projet Git\n",
    "    project_root = get_git_root(os.getcwd())\n",
    "    audios_dir = os.path.join(project_root, \"audios\")\n",
    "\n",
    "    # Création du répertoire 'audios' s'il n'existe pas\n",
    "    if not os.path.exists(audios_dir):\n",
    "        os.makedirs(audios_dir)\n",
    "\n",
    "    # Récupération de toutes les entrées dans la collection\n",
    "    entries = collection.find()\n",
    "\n",
    "    for entry in entries:\n",
    "        url = entry[\"url\"]\n",
    "        filename = os.path.join(audios_dir, os.path.basename(url))\n",
    "\n",
    "        # Vérification si le fichier existe déjà\n",
    "        if not os.path.exists(filename) or force:\n",
    "            print(f\"Téléchargement de {url} vers {filename}\")\n",
    "            response = requests.get(url)\n",
    "            with open(filename, \"wb\") as file:\n",
    "                file.write(response.content)\n",
    "        else:\n",
    "            print(f\"Le fichier {filename} existe déjà. Ignoré.\")\n",
    "\n",
    "\n",
    "download_episodes(collection)"
   ]
  },
  {
   "cell_type": "code",
   "execution_count": null,
   "metadata": {},
   "outputs": [],
   "source": []
  }
 ],
 "metadata": {
  "kernelspec": {
   "display_name": "python3",
   "language": "python",
   "name": "python3"
  }
 },
 "nbformat": 4,
 "nbformat_minor": 2
}
