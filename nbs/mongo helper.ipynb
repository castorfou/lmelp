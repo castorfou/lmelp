{
 "cells": [
  {
   "cell_type": "code",
   "execution_count": null,
   "metadata": {},
   "outputs": [],
   "source": [
    "# |default_exp mongo"
   ]
  },
  {
   "cell_type": "code",
   "execution_count": null,
   "metadata": {},
   "outputs": [],
   "source": [
    "DB_HOST = \"localhost\"\n",
    "DB_PORT = 27017\n",
    "DB_NAME = \"masque_et_la_plume\""
   ]
  },
  {
   "cell_type": "code",
   "execution_count": null,
   "metadata": {},
   "outputs": [
    {
     "data": {
      "text/plain": [
       "pymongo.synchronous.collection.Collection"
      ]
     },
     "execution_count": null,
     "metadata": {},
     "output_type": "execute_result"
    }
   ],
   "source": [
    "from connection import get_collection\n",
    "\n",
    "auteurs_coll = get_collection(\n",
    "    target_db=DB_HOST, client_name=DB_NAME, collection_name=\"auteurs\"\n",
    ")\n",
    "logs_coll = get_collection(\n",
    "    target_db=DB_HOST, client_name=DB_NAME, collection_name=\"logs\"\n",
    ")\n",
    "type(auteurs_coll)"
   ]
  },
  {
   "cell_type": "markdown",
   "metadata": {},
   "source": [
    "# Auteur"
   ]
  },
  {
   "cell_type": "code",
   "execution_count": null,
   "metadata": {},
   "outputs": [],
   "source": [
    "# |export\n",
    "\n",
    "from datetime import datetime\n",
    "import pymongo.synchronous.collection\n",
    "from bson import ObjectId\n",
    "\n",
    "\n",
    "class Auteur:\n",
    "    def __init__(self, nom: str, collection: pymongo.synchronous.collection.Collection):\n",
    "        \"\"\"\n",
    "        Auteur is a class that represents an author in the database auteurs.\n",
    "        :param nom: The name of the author.\n",
    "        :param collection: The collection in which the author is stored.\n",
    "        \"\"\"\n",
    "\n",
    "        self.nom = nom\n",
    "        self.collection = collection\n",
    "\n",
    "    def exists(self) -> bool:\n",
    "        \"\"\"\n",
    "        Check if the author exists in the database.\n",
    "        :return: True if the author exists, False otherwise.\n",
    "        \"\"\"\n",
    "\n",
    "        return self.collection.find_one({\"nom\": self.nom}) is not None\n",
    "\n",
    "    def keep(self, logs_coll: pymongo.synchronous.collection.Collection):\n",
    "        \"\"\"\n",
    "        Keep the author in the database.\n",
    "        \"\"\"\n",
    "\n",
    "        if not self.exists():\n",
    "            logs_coll.insert_one(\n",
    "                {\n",
    "                    \"operation\": \"insert\",\n",
    "                    \"entite\": \"auteur\",\n",
    "                    \"desc\": self.nom,\n",
    "                    \"date\": datetime.now(),\n",
    "                }\n",
    "            )\n",
    "            self.collection.insert_one({\"nom\": self.nom})\n",
    "        else:\n",
    "            logs_coll.insert_one(\n",
    "                {\n",
    "                    \"operation\": \"update\",\n",
    "                    \"entite\": \"auteur\",\n",
    "                    \"desc\": self.nom,\n",
    "                    \"date\": datetime.now(),\n",
    "                }\n",
    "            )\n",
    "\n",
    "    def remove(self, logs_coll: pymongo.synchronous.collection.Collection):\n",
    "        \"\"\"\n",
    "        Remove the author in the database.\n",
    "        \"\"\"\n",
    "        # remove from database\n",
    "\n",
    "        self.collection.delete_one({\"nom\": self.nom})\n",
    "        logs_coll.insert_one(\n",
    "            {\n",
    "                \"operation\": \"delete\",\n",
    "                \"entite\": \"auteur\",\n",
    "                \"desc\": self.nom,\n",
    "                \"date\": datetime.now(),\n",
    "            }\n",
    "        )\n",
    "\n",
    "    def get_oid(self) -> ObjectId:\n",
    "        \"\"\"\n",
    "        Get the object id of the author.\n",
    "        :return: The object id of the author. (bson.ObjectId)\n",
    "        None if does not exist.\n",
    "        \"\"\"\n",
    "\n",
    "        document = self.collection.find_one({\"nom\": self.nom})\n",
    "        if document:\n",
    "            return document[\"_id\"]\n",
    "        else:\n",
    "            return None"
   ]
  },
  {
   "cell_type": "code",
   "execution_count": null,
   "metadata": {},
   "outputs": [
    {
     "data": {
      "text/plain": [
       "False"
      ]
     },
     "execution_count": null,
     "metadata": {},
     "output_type": "execute_result"
    }
   ],
   "source": [
    "acteur1 = Auteur(\"Victor Hugo\", auteurs_coll)\n",
    "acteur1.exists()"
   ]
  },
  {
   "cell_type": "code",
   "execution_count": null,
   "metadata": {},
   "outputs": [
    {
     "data": {
      "text/plain": [
       "True"
      ]
     },
     "execution_count": null,
     "metadata": {},
     "output_type": "execute_result"
    }
   ],
   "source": [
    "acteur1.keep(logs_coll)\n",
    "acteur1.exists()"
   ]
  },
  {
   "cell_type": "code",
   "execution_count": null,
   "metadata": {},
   "outputs": [
    {
     "data": {
      "text/plain": [
       "ObjectId('67792ebd4be9e3777d3292a8')"
      ]
     },
     "execution_count": null,
     "metadata": {},
     "output_type": "execute_result"
    }
   ],
   "source": [
    "acteur1.get_oid()"
   ]
  },
  {
   "cell_type": "code",
   "execution_count": null,
   "metadata": {},
   "outputs": [
    {
     "data": {
      "text/plain": [
       "False"
      ]
     },
     "execution_count": null,
     "metadata": {},
     "output_type": "execute_result"
    }
   ],
   "source": [
    "acteur1.remove(logs_coll)\n",
    "acteur1.exists()"
   ]
  },
  {
   "cell_type": "code",
   "execution_count": null,
   "metadata": {},
   "outputs": [],
   "source": [
    "acteur1.get_oid()"
   ]
  },
  {
   "cell_type": "code",
   "execution_count": null,
   "metadata": {},
   "outputs": [],
   "source": []
  },
  {
   "cell_type": "markdown",
   "metadata": {},
   "source": [
    "# extract py"
   ]
  },
  {
   "cell_type": "code",
   "execution_count": null,
   "metadata": {},
   "outputs": [],
   "source": [
    "from nbdev.export import nb_export\n",
    "\n",
    "nb_export(\"mongo helper.ipynb\", \".\")"
   ]
  },
  {
   "cell_type": "code",
   "execution_count": null,
   "metadata": {},
   "outputs": [],
   "source": []
  }
 ],
 "metadata": {
  "kernelspec": {
   "display_name": "python3",
   "language": "python",
   "name": "python3"
  }
 },
 "nbformat": 4,
 "nbformat_minor": 2
}
