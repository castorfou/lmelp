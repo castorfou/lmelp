{
 "cells": [
  {
   "cell_type": "code",
   "execution_count": null,
   "metadata": {},
   "outputs": [],
   "source": [
    "# |default_exp mongo"
   ]
  },
  {
   "cell_type": "markdown",
   "metadata": {},
   "source": [
    "# DB variables"
   ]
  },
  {
   "cell_type": "code",
   "execution_count": null,
   "metadata": {},
   "outputs": [],
   "source": [
    "# |export\n",
    "\n",
    "from dotenv import load_dotenv, find_dotenv\n",
    "from helper import load_env\n",
    "import os\n",
    "\n",
    "\n",
    "def get_DB_VARS():\n",
    "    load_env()\n",
    "    DB_HOST = os.getenv(\"DB_HOST\")\n",
    "    DB_NAME = os.getenv(\"DB_NAME\")\n",
    "    DB_LOGS = os.getenv(\"DB_LOGS\")\n",
    "    return DB_HOST, DB_NAME, DB_LOGS"
   ]
  },
  {
   "cell_type": "markdown",
   "metadata": {},
   "source": [
    "# logs"
   ]
  },
  {
   "cell_type": "code",
   "execution_count": null,
   "metadata": {},
   "outputs": [],
   "source": [
    "# |export\n",
    "\n",
    "from connection import get_collection\n",
    "from datetime import datetime\n",
    "import pymongo\n",
    "\n",
    "\n",
    "def mongolog(operation: str, entite: str, desc: str):\n",
    "    DB_HOST, DB_NAME, DB_LOGS = get_DB_VARS()\n",
    "    if DB_LOGS in [\"true\", \"True\"]:\n",
    "        coll_logs = get_collection(DB_HOST, DB_NAME, \"logs\")\n",
    "        coll_logs.insert_one(\n",
    "            {\n",
    "                \"operation\": operation,\n",
    "                \"entite\": entite,\n",
    "                \"desc\": desc,\n",
    "                \"date\": datetime.now(),\n",
    "            }\n",
    "        )\n",
    "\n",
    "\n",
    "def print_logs(n: int = 10):\n",
    "    \"\"\"\n",
    "    Print the last n logs\n",
    "    \"\"\"\n",
    "    DB_HOST, DB_NAME, DB_LOGS = get_DB_VARS()\n",
    "    coll_logs = get_collection(DB_HOST, DB_NAME, \"logs\")\n",
    "    for i, log in enumerate(coll_logs.find().sort(\"date\", pymongo.DESCENDING)):\n",
    "        if i == n:\n",
    "            break\n",
    "        print(log)"
   ]
  },
  {
   "cell_type": "code",
   "execution_count": null,
   "metadata": {},
   "outputs": [
    {
     "name": "stdout",
     "output_type": "stream",
     "text": [
      "{'_id': ObjectId('67793863c7f167e996f82efb'), 'operation': 'delete', 'entite': 'auteur', 'desc': 'Victor Hugo', 'date': datetime.datetime(2025, 1, 4, 14, 32, 19, 746000)}\n",
      "{'_id': ObjectId('67793863c7f167e996f82ef8'), 'operation': 'insert', 'entite': 'auteur', 'desc': 'Victor Hugo', 'date': datetime.datetime(2025, 1, 4, 14, 32, 19, 716000)}\n",
      "{'_id': ObjectId('6779369a928f2e89a582e72b'), 'operation': 'delete', 'entite': 'auteur', 'desc': 'Victor Hugo', 'date': datetime.datetime(2025, 1, 4, 14, 24, 42, 692000)}\n",
      "{'_id': ObjectId('67793698928f2e89a582e728'), 'operation': 'insert', 'entite': 'auteur', 'desc': 'Victor Hugo', 'date': datetime.datetime(2025, 1, 4, 14, 24, 40, 307000)}\n",
      "{'_id': ObjectId('67793468928f2e89a582e725'), 'operation': 'delete', 'entite': 'auteur', 'desc': 'Victor Hugo', 'date': datetime.datetime(2025, 1, 4, 14, 15, 20, 184000)}\n"
     ]
    }
   ],
   "source": [
    "print_logs(5)"
   ]
  },
  {
   "cell_type": "markdown",
   "metadata": {},
   "source": [
    "# Auteur"
   ]
  },
  {
   "cell_type": "code",
   "execution_count": null,
   "metadata": {},
   "outputs": [],
   "source": [
    "# |export\n",
    "\n",
    "from bson import ObjectId\n",
    "from connection import get_collection\n",
    "\n",
    "\n",
    "class Auteur:\n",
    "    def __init__(self, nom: str):\n",
    "        \"\"\"\n",
    "        Auteur is a class that represents an author in the database auteurs.\n",
    "        :param nom: The name of the author.\n",
    "        \"\"\"\n",
    "        DB_HOST, DB_NAME, _ = get_DB_VARS()\n",
    "        self.collection = get_collection(\n",
    "            target_db=DB_HOST, client_name=DB_NAME, collection_name=\"auteurs\"\n",
    "        )\n",
    "        self.nom = nom\n",
    "\n",
    "    def exists(self) -> bool:\n",
    "        \"\"\"\n",
    "        Check if the author exists in the database.\n",
    "        :return: True if the author exists, False otherwise.\n",
    "        \"\"\"\n",
    "\n",
    "        return self.collection.find_one({\"nom\": self.nom}) is not None\n",
    "\n",
    "    def keep(self):\n",
    "        \"\"\"\n",
    "        Keep the author in the database.\n",
    "        \"\"\"\n",
    "\n",
    "        if not self.exists():\n",
    "            mongolog(\"insert\", \"auteur\", self.nom)\n",
    "            self.collection.insert_one({\"nom\": self.nom})\n",
    "        else:\n",
    "            mongolog(\"update\", \"auteur\", self.nom)\n",
    "\n",
    "    def remove(self):\n",
    "        \"\"\"\n",
    "        Remove the author in the database.\n",
    "        \"\"\"\n",
    "        # remove from database\n",
    "\n",
    "        self.collection.delete_one({\"nom\": self.nom})\n",
    "        mongolog(\"delete\", \"auteur\", self.nom)\n",
    "\n",
    "    def get_oid(self) -> ObjectId:\n",
    "        \"\"\"\n",
    "        Get the object id of the author.\n",
    "        :return: The object id of the author. (bson.ObjectId)\n",
    "        None if does not exist.\n",
    "        \"\"\"\n",
    "\n",
    "        document = self.collection.find_one({\"nom\": self.nom})\n",
    "        if document:\n",
    "            return document[\"_id\"]\n",
    "        else:\n",
    "            return None"
   ]
  },
  {
   "cell_type": "code",
   "execution_count": null,
   "metadata": {},
   "outputs": [
    {
     "data": {
      "text/plain": [
       "False"
      ]
     },
     "execution_count": null,
     "metadata": {},
     "output_type": "execute_result"
    }
   ],
   "source": [
    "acteur1 = Auteur(\"Victor Hugo\")\n",
    "acteur1.exists()"
   ]
  },
  {
   "cell_type": "code",
   "execution_count": null,
   "metadata": {},
   "outputs": [
    {
     "data": {
      "text/plain": [
       "True"
      ]
     },
     "execution_count": null,
     "metadata": {},
     "output_type": "execute_result"
    }
   ],
   "source": [
    "acteur1.keep()\n",
    "acteur1.exists()"
   ]
  },
  {
   "cell_type": "code",
   "execution_count": null,
   "metadata": {},
   "outputs": [
    {
     "data": {
      "text/plain": [
       "ObjectId('67793863c7f167e996f82ef9')"
      ]
     },
     "execution_count": null,
     "metadata": {},
     "output_type": "execute_result"
    }
   ],
   "source": [
    "acteur1.get_oid()"
   ]
  },
  {
   "cell_type": "code",
   "execution_count": null,
   "metadata": {},
   "outputs": [
    {
     "data": {
      "text/plain": [
       "False"
      ]
     },
     "execution_count": null,
     "metadata": {},
     "output_type": "execute_result"
    }
   ],
   "source": [
    "acteur1.remove()\n",
    "acteur1.exists()"
   ]
  },
  {
   "cell_type": "code",
   "execution_count": null,
   "metadata": {},
   "outputs": [],
   "source": [
    "acteur1.get_oid()"
   ]
  },
  {
   "cell_type": "code",
   "execution_count": null,
   "metadata": {},
   "outputs": [],
   "source": []
  },
  {
   "cell_type": "markdown",
   "metadata": {},
   "source": [
    "# extract py"
   ]
  },
  {
   "cell_type": "code",
   "execution_count": null,
   "metadata": {},
   "outputs": [],
   "source": [
    "from nbdev.export import nb_export\n",
    "\n",
    "nb_export(\"mongo helper.ipynb\", \".\")"
   ]
  },
  {
   "cell_type": "code",
   "execution_count": null,
   "metadata": {},
   "outputs": [],
   "source": []
  }
 ],
 "metadata": {
  "kernelspec": {
   "display_name": "python3",
   "language": "python",
   "name": "python3"
  }
 },
 "nbformat": 4,
 "nbformat_minor": 2
}
