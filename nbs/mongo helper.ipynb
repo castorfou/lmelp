{
 "cells": [
  {
   "cell_type": "code",
   "execution_count": null,
   "metadata": {},
   "outputs": [],
   "source": [
    "# |default_exp mongo"
   ]
  },
  {
   "cell_type": "markdown",
   "metadata": {},
   "source": [
    "# DB variables"
   ]
  },
  {
   "cell_type": "code",
   "execution_count": null,
   "metadata": {},
   "outputs": [],
   "source": [
    "# |export\n",
    "\n",
    "from dotenv import load_dotenv, find_dotenv\n",
    "from helper import load_env\n",
    "import os\n",
    "\n",
    "\n",
    "def get_DB_VARS():\n",
    "    load_env()\n",
    "    DB_HOST = os.getenv(\"DB_HOST\")\n",
    "    DB_NAME = os.getenv(\"DB_NAME\")\n",
    "    DB_LOGS = os.getenv(\"DB_LOGS\")\n",
    "    return DB_HOST, DB_NAME, DB_LOGS"
   ]
  },
  {
   "cell_type": "markdown",
   "metadata": {},
   "source": [
    "# logs"
   ]
  },
  {
   "cell_type": "code",
   "execution_count": null,
   "metadata": {},
   "outputs": [],
   "source": [
    "# |export\n",
    "\n",
    "from connection import get_collection\n",
    "from datetime import datetime\n",
    "import pymongo\n",
    "\n",
    "\n",
    "def mongolog(operation: str, entite: str, desc: str):\n",
    "    DB_HOST, DB_NAME, DB_LOGS = get_DB_VARS()\n",
    "    if DB_LOGS in [\"true\", \"True\"]:\n",
    "        coll_logs = get_collection(DB_HOST, DB_NAME, \"logs\")\n",
    "        coll_logs.insert_one(\n",
    "            {\n",
    "                \"operation\": operation,\n",
    "                \"entite\": entite,\n",
    "                \"desc\": desc,\n",
    "                \"date\": datetime.now(),\n",
    "            }\n",
    "        )\n",
    "\n",
    "\n",
    "def print_logs(n: int = 10):\n",
    "    \"\"\"\n",
    "    Print the last n logs\n",
    "    \"\"\"\n",
    "    DB_HOST, DB_NAME, DB_LOGS = get_DB_VARS()\n",
    "    coll_logs = get_collection(DB_HOST, DB_NAME, \"logs\")\n",
    "    for i, log in enumerate(coll_logs.find().sort(\"date\", pymongo.DESCENDING)):\n",
    "        if i == n:\n",
    "            break\n",
    "        print(log)"
   ]
  },
  {
   "cell_type": "code",
   "execution_count": null,
   "metadata": {},
   "outputs": [
    {
     "name": "stdout",
     "output_type": "stream",
     "text": [
      "{'_id': ObjectId('677a39e52e69c4944df8b0d5'), 'operation': 'delete', 'entite': 'auteurs', 'desc': 'Victor Hugo', 'date': datetime.datetime(2025, 1, 5, 8, 51, 1, 427000)}\n",
      "{'_id': ObjectId('677a39e52e69c4944df8b0d2'), 'operation': 'insert', 'entite': 'auteurs', 'desc': 'Victor Hugo', 'date': datetime.datetime(2025, 1, 5, 8, 51, 1, 422000)}\n",
      "{'_id': ObjectId('677a39992e69c4944df8b0ce'), 'operation': 'delete', 'entite': 'editeurs', 'desc': 'Gallimard', 'date': datetime.datetime(2025, 1, 5, 8, 49, 45, 117000)}\n",
      "{'_id': ObjectId('677a39992e69c4944df8b0cb'), 'operation': 'insert', 'entite': 'editeurs', 'desc': 'Gallimard', 'date': datetime.datetime(2025, 1, 5, 8, 49, 45, 112000)}\n",
      "{'_id': ObjectId('677a391e2e69c4944df8b0c8'), 'operation': 'delete', 'entite': 'critiques', 'desc': 'Patricia Martin', 'date': datetime.datetime(2025, 1, 5, 8, 47, 42, 171000)}\n"
     ]
    }
   ],
   "source": [
    "print_logs(5)"
   ]
  },
  {
   "cell_type": "markdown",
   "metadata": {},
   "source": [
    "# Base entity"
   ]
  },
  {
   "cell_type": "markdown",
   "metadata": {},
   "source": [
    "c'est une classe de base issue de la refactorisation de Auteur et Editeur proposée par github copilot\n",
    "\n",
    "\n",
    "> Étapes de Raisonnement pour la Factorisation\n",
    "> Analyser les Classes Existantes :\n",
    "> \n",
    "> Les classes Auteur et Editeur ont des méthodes similaires pour vérifier l'existence, insérer, mettre à jour et supprimer des documents dans la base de données MongoDB.\n",
    "> Les méthodes exists, keep, remove, et get_oid sont communes aux deux classes.\n",
    "> Identifier les Comportements Communs :\n",
    "> \n",
    "> Les comportements communs peuvent être regroupés dans une classe de base.\n",
    "> Les classes spécifiques (Auteur et Editeur) peuvent hériter de cette classe de base et ajouter des comportements spécifiques si nécessaire.\n",
    "> Créer une Classe de Base :\n",
    "> \n",
    "> Créer une classe de base BaseEntity qui contient les méthodes communes.\n",
    "> La classe de base gérera les interactions avec la base de données.\n",
    "> Hériter de la Classe de Base :\n",
    "> \n",
    "> Les classes Auteur et Editeur hériteront de BaseEntity.\n",
    "> Elles définiront uniquement les comportements spécifiques à chaque entité.\n",
    "\n"
   ]
  },
  {
   "cell_type": "code",
   "execution_count": null,
   "metadata": {},
   "outputs": [],
   "source": [
    "# |export\n",
    "\n",
    "from bson import ObjectId\n",
    "from connection import get_collection\n",
    "\n",
    "\n",
    "class BaseEntity:\n",
    "    def __init__(self, nom: str, collection_name: str):\n",
    "        \"\"\"\n",
    "        BaseEntity is a class that represents a generic entity in the database.\n",
    "        :param nom: The name of the entity.\n",
    "        :param collection_name: The name of the collection.\n",
    "        \"\"\"\n",
    "        DB_HOST, DB_NAME, _ = get_DB_VARS()\n",
    "        self.collection = get_collection(\n",
    "            target_db=DB_HOST, client_name=DB_NAME, collection_name=collection_name\n",
    "        )\n",
    "        self.nom = nom\n",
    "\n",
    "    def exists(self) -> bool:\n",
    "        \"\"\"\n",
    "        Check if the entity exists in the database.\n",
    "        :return: True if the entity exists, False otherwise.\n",
    "        \"\"\"\n",
    "        return self.collection.find_one({\"nom\": self.nom}) is not None\n",
    "\n",
    "    def keep(self):\n",
    "        \"\"\"\n",
    "        Keep the entity in the database.\n",
    "        \"\"\"\n",
    "        if not self.exists():\n",
    "            mongolog(\"insert\", self.collection.name, self.nom)\n",
    "            self.collection.insert_one({\"nom\": self.nom})\n",
    "        else:\n",
    "            mongolog(\"update\", self.collection.name, self.nom)\n",
    "\n",
    "    def remove(self):\n",
    "        \"\"\"\n",
    "        Remove the entity from the database.\n",
    "        \"\"\"\n",
    "        self.collection.delete_one({\"nom\": self.nom})\n",
    "        mongolog(\"delete\", self.collection.name, self.nom)\n",
    "\n",
    "    def get_oid(self) -> ObjectId:\n",
    "        \"\"\"\n",
    "        Get the object id of the entity.\n",
    "        :return: The object id of the entity. (bson.ObjectId)\n",
    "        None if does not exist.\n",
    "        \"\"\"\n",
    "        document = self.collection.find_one({\"nom\": self.nom})\n",
    "        if document:\n",
    "            return document[\"_id\"]\n",
    "        else:\n",
    "            return None"
   ]
  },
  {
   "cell_type": "markdown",
   "metadata": {},
   "source": [
    "# Auteur"
   ]
  },
  {
   "cell_type": "code",
   "execution_count": null,
   "metadata": {},
   "outputs": [],
   "source": [
    "# |export\n",
    "\n",
    "\n",
    "class Auteur(BaseEntity):\n",
    "    def __init__(self, nom: str):\n",
    "        \"\"\"\n",
    "        Auteur is a class that represents an author in the database auteurs.\n",
    "        :param nom: The name of the author.\n",
    "        \"\"\"\n",
    "        super().__init__(nom, \"auteurs\")"
   ]
  },
  {
   "cell_type": "code",
   "execution_count": null,
   "metadata": {},
   "outputs": [
    {
     "name": "stdout",
     "output_type": "stream",
     "text": [
      "Est-ce que auteur1 existe ? False\n",
      "et maintenant, st-ce que auteur1 existe ? True\n",
      "et voici l'id de auteur1 : 677a3a0c813731f843f0be82\n",
      "après nettoyage, est-ce que auteur1 existe ? False\n",
      "et son oid : None\n"
     ]
    }
   ],
   "source": [
    "auteur1 = Auteur(\"Victor Hugo\")\n",
    "print(f\"Est-ce que auteur1 existe ? {auteur1.exists()}\")\n",
    "\n",
    "auteur1.keep()\n",
    "print(f\"et maintenant, st-ce que auteur1 existe ? {auteur1.exists()}\")\n",
    "print(f\"et voici l'id de auteur1 : {auteur1.get_oid()}\")\n",
    "\n",
    "auteur1.remove()\n",
    "print(f\"après nettoyage, est-ce que auteur1 existe ? {auteur1.exists()}\")\n",
    "print(f\"et son oid : {auteur1.get_oid()}\")"
   ]
  },
  {
   "cell_type": "code",
   "execution_count": null,
   "metadata": {},
   "outputs": [
    {
     "name": "stdout",
     "output_type": "stream",
     "text": [
      "{'_id': ObjectId('677a3a0c813731f843f0be84'), 'operation': 'delete', 'entite': 'auteurs', 'desc': 'Victor Hugo', 'date': datetime.datetime(2025, 1, 5, 8, 51, 40, 970000)}\n",
      "{'_id': ObjectId('677a3a0c813731f843f0be81'), 'operation': 'insert', 'entite': 'auteurs', 'desc': 'Victor Hugo', 'date': datetime.datetime(2025, 1, 5, 8, 51, 40, 964000)}\n",
      "{'_id': ObjectId('677a39e52e69c4944df8b0d5'), 'operation': 'delete', 'entite': 'auteurs', 'desc': 'Victor Hugo', 'date': datetime.datetime(2025, 1, 5, 8, 51, 1, 427000)}\n",
      "{'_id': ObjectId('677a39e52e69c4944df8b0d2'), 'operation': 'insert', 'entite': 'auteurs', 'desc': 'Victor Hugo', 'date': datetime.datetime(2025, 1, 5, 8, 51, 1, 422000)}\n",
      "{'_id': ObjectId('677a39992e69c4944df8b0ce'), 'operation': 'delete', 'entite': 'editeurs', 'desc': 'Gallimard', 'date': datetime.datetime(2025, 1, 5, 8, 49, 45, 117000)}\n"
     ]
    }
   ],
   "source": [
    "print_logs(5)"
   ]
  },
  {
   "cell_type": "markdown",
   "metadata": {},
   "source": [
    "# Editeur"
   ]
  },
  {
   "cell_type": "code",
   "execution_count": null,
   "metadata": {},
   "outputs": [],
   "source": [
    "# |export\n",
    "\n",
    "\n",
    "class Editeur(BaseEntity):\n",
    "    def __init__(self, nom: str):\n",
    "        \"\"\"\n",
    "        Editeur is a class that represents a publisher in the database editeurs.\n",
    "        :param nom: The name of the publisher.\n",
    "        \"\"\"\n",
    "        super().__init__(nom, \"editeurs\")"
   ]
  },
  {
   "cell_type": "code",
   "execution_count": null,
   "metadata": {},
   "outputs": [
    {
     "name": "stdout",
     "output_type": "stream",
     "text": [
      "Est-ce que editeur1 existe ? False\n",
      "et maintenant, st-ce que editeur1 existe ? True\n",
      "et voici l'id de editeur1 : 677a3a0d813731f843f0be89\n",
      "après nettoyage, est-ce que editeur1 existe ? False\n",
      "et son oid : None\n"
     ]
    }
   ],
   "source": [
    "editeur1 = Editeur(\"Gallimard\")\n",
    "print(f\"Est-ce que editeur1 existe ? {editeur1.exists()}\")\n",
    "\n",
    "editeur1.keep()\n",
    "print(f\"et maintenant, st-ce que editeur1 existe ? {editeur1.exists()}\")\n",
    "print(f\"et voici l'id de editeur1 : {editeur1.get_oid()}\")\n",
    "\n",
    "editeur1.remove()\n",
    "print(f\"après nettoyage, est-ce que editeur1 existe ? {editeur1.exists()}\")\n",
    "print(f\"et son oid : {editeur1.get_oid()}\")"
   ]
  },
  {
   "cell_type": "code",
   "execution_count": null,
   "metadata": {},
   "outputs": [
    {
     "name": "stdout",
     "output_type": "stream",
     "text": [
      "{'_id': ObjectId('677a3a0d813731f843f0be8b'), 'operation': 'delete', 'entite': 'editeurs', 'desc': 'Gallimard', 'date': datetime.datetime(2025, 1, 5, 8, 51, 41, 15000)}\n",
      "{'_id': ObjectId('677a3a0d813731f843f0be88'), 'operation': 'insert', 'entite': 'editeurs', 'desc': 'Gallimard', 'date': datetime.datetime(2025, 1, 5, 8, 51, 41, 6000)}\n",
      "{'_id': ObjectId('677a3a0c813731f843f0be84'), 'operation': 'delete', 'entite': 'auteurs', 'desc': 'Victor Hugo', 'date': datetime.datetime(2025, 1, 5, 8, 51, 40, 970000)}\n",
      "{'_id': ObjectId('677a3a0c813731f843f0be81'), 'operation': 'insert', 'entite': 'auteurs', 'desc': 'Victor Hugo', 'date': datetime.datetime(2025, 1, 5, 8, 51, 40, 964000)}\n",
      "{'_id': ObjectId('677a39e52e69c4944df8b0d5'), 'operation': 'delete', 'entite': 'auteurs', 'desc': 'Victor Hugo', 'date': datetime.datetime(2025, 1, 5, 8, 51, 1, 427000)}\n"
     ]
    }
   ],
   "source": [
    "print_logs(5)"
   ]
  },
  {
   "cell_type": "markdown",
   "metadata": {},
   "source": [
    "# Critique"
   ]
  },
  {
   "cell_type": "code",
   "execution_count": null,
   "metadata": {},
   "outputs": [],
   "source": [
    "# |export\n",
    "\n",
    "\n",
    "class Critique(BaseEntity):\n",
    "    def __init__(self, nom: str):\n",
    "        \"\"\"\n",
    "        Critique is a class that represents a \"critique\" in the database critiques.\n",
    "        :param nom: The name of the \"critique\".\n",
    "        \"\"\"\n",
    "        super().__init__(nom, \"critiques\")"
   ]
  },
  {
   "cell_type": "code",
   "execution_count": null,
   "metadata": {},
   "outputs": [
    {
     "name": "stdout",
     "output_type": "stream",
     "text": [
      "Est-ce que critique1 existe ? False\n",
      "et maintenant, st-ce que critique1 existe ? True\n",
      "et voici l'id de critique1 : 677a3a0d813731f843f0be90\n",
      "après nettoyage, est-ce que critique1 existe ? False\n",
      "et son oid : None\n"
     ]
    }
   ],
   "source": [
    "critique1 = Critique(\"Patricia Martin\")\n",
    "print(f\"Est-ce que critique1 existe ? {critique1.exists()}\")\n",
    "\n",
    "critique1.keep()\n",
    "print(f\"et maintenant, st-ce que critique1 existe ? {critique1.exists()}\")\n",
    "print(f\"et voici l'id de critique1 : {critique1.get_oid()}\")\n",
    "\n",
    "critique1.remove()\n",
    "print(f\"après nettoyage, est-ce que critique1 existe ? {critique1.exists()}\")\n",
    "print(f\"et son oid : {critique1.get_oid()}\")"
   ]
  },
  {
   "cell_type": "code",
   "execution_count": null,
   "metadata": {},
   "outputs": [
    {
     "name": "stdout",
     "output_type": "stream",
     "text": [
      "{'_id': ObjectId('677a3a0d813731f843f0be92'), 'operation': 'delete', 'entite': 'critiques', 'desc': 'Patricia Martin', 'date': datetime.datetime(2025, 1, 5, 8, 51, 41, 58000)}\n",
      "{'_id': ObjectId('677a3a0d813731f843f0be8f'), 'operation': 'insert', 'entite': 'critiques', 'desc': 'Patricia Martin', 'date': datetime.datetime(2025, 1, 5, 8, 51, 41, 53000)}\n",
      "{'_id': ObjectId('677a3a0d813731f843f0be8b'), 'operation': 'delete', 'entite': 'editeurs', 'desc': 'Gallimard', 'date': datetime.datetime(2025, 1, 5, 8, 51, 41, 15000)}\n",
      "{'_id': ObjectId('677a3a0d813731f843f0be88'), 'operation': 'insert', 'entite': 'editeurs', 'desc': 'Gallimard', 'date': datetime.datetime(2025, 1, 5, 8, 51, 41, 6000)}\n",
      "{'_id': ObjectId('677a3a0c813731f843f0be84'), 'operation': 'delete', 'entite': 'auteurs', 'desc': 'Victor Hugo', 'date': datetime.datetime(2025, 1, 5, 8, 51, 40, 970000)}\n"
     ]
    }
   ],
   "source": [
    "print_logs(5)"
   ]
  },
  {
   "cell_type": "markdown",
   "metadata": {},
   "source": [
    "# extract py"
   ]
  },
  {
   "cell_type": "code",
   "execution_count": null,
   "metadata": {},
   "outputs": [],
   "source": [
    "from nbdev.export import nb_export\n",
    "\n",
    "nb_export(\"mongo helper.ipynb\", \".\")"
   ]
  },
  {
   "cell_type": "code",
   "execution_count": null,
   "metadata": {},
   "outputs": [],
   "source": []
  }
 ],
 "metadata": {
  "kernelspec": {
   "display_name": "python3",
   "language": "python",
   "name": "python3"
  }
 },
 "nbformat": 4,
 "nbformat_minor": 2
}
