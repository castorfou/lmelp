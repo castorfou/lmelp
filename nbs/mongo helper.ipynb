{
 "cells": [
  {
   "cell_type": "code",
   "execution_count": null,
   "metadata": {},
   "outputs": [],
   "source": [
    "# |default_exp mongo"
   ]
  },
  {
   "cell_type": "markdown",
   "metadata": {},
   "source": [
    "# DB variables"
   ]
  },
  {
   "cell_type": "code",
   "execution_count": null,
   "metadata": {},
   "outputs": [],
   "source": [
    "# |export\n",
    "\n",
    "from dotenv import load_dotenv, find_dotenv\n",
    "from helper import load_env\n",
    "import os\n",
    "\n",
    "\n",
    "def get_DB_VARS():\n",
    "    load_env()\n",
    "    DB_HOST = os.getenv(\"DB_HOST\")\n",
    "    DB_NAME = os.getenv(\"DB_NAME\")\n",
    "    DB_LOGS = os.getenv(\"DB_LOGS\")\n",
    "    return DB_HOST, DB_NAME, DB_LOGS"
   ]
  },
  {
   "cell_type": "markdown",
   "metadata": {},
   "source": [
    "# logs"
   ]
  },
  {
   "cell_type": "code",
   "execution_count": null,
   "metadata": {},
   "outputs": [],
   "source": [
    "# |export\n",
    "\n",
    "from connection import get_collection\n",
    "from datetime import datetime\n",
    "import pymongo\n",
    "\n",
    "\n",
    "def mongolog(operation: str, entite: str, desc: str):\n",
    "    DB_HOST, DB_NAME, DB_LOGS = get_DB_VARS()\n",
    "    if DB_LOGS in [\"true\", \"True\"]:\n",
    "        coll_logs = get_collection(DB_HOST, DB_NAME, \"logs\")\n",
    "        coll_logs.insert_one(\n",
    "            {\n",
    "                \"operation\": operation,\n",
    "                \"entite\": entite,\n",
    "                \"desc\": desc,\n",
    "                \"date\": datetime.now(),\n",
    "            }\n",
    "        )\n",
    "\n",
    "\n",
    "def print_logs(n: int = 10):\n",
    "    \"\"\"\n",
    "    Print the last n logs\n",
    "    \"\"\"\n",
    "    DB_HOST, DB_NAME, DB_LOGS = get_DB_VARS()\n",
    "    coll_logs = get_collection(DB_HOST, DB_NAME, \"logs\")\n",
    "    for i, log in enumerate(coll_logs.find().sort(\"date\", pymongo.DESCENDING)):\n",
    "        if i == n:\n",
    "            break\n",
    "        print(log)"
   ]
  },
  {
   "cell_type": "code",
   "execution_count": null,
   "metadata": {},
   "outputs": [
    {
     "name": "stdout",
     "output_type": "stream",
     "text": [
      "{'_id': ObjectId('6779a8f8b216345335c98c7e'), 'operation': 'insert', 'entite': 'auteur', 'desc': 'George Sand', 'date': datetime.datetime(2025, 1, 4, 22, 32, 40, 409000)}\n",
      "{'_id': ObjectId('6779a8f8b216345335c98c7a'), 'operation': 'insert', 'entite': 'auteur', 'desc': 'Jules Verne', 'date': datetime.datetime(2025, 1, 4, 22, 32, 40, 402000)}\n",
      "{'_id': ObjectId('6779a8f8b216345335c98c76'), 'operation': 'insert', 'entite': 'auteur', 'desc': 'Alexandre Dumas', 'date': datetime.datetime(2025, 1, 4, 22, 32, 40, 394000)}\n",
      "{'_id': ObjectId('6779a8f8b216345335c98c72'), 'operation': 'insert', 'entite': 'auteur', 'desc': 'Stendhal', 'date': datetime.datetime(2025, 1, 4, 22, 32, 40, 387000)}\n",
      "{'_id': ObjectId('6779a8f8b216345335c98c6e'), 'operation': 'insert', 'entite': 'auteur', 'desc': 'Albert Camus', 'date': datetime.datetime(2025, 1, 4, 22, 32, 40, 380000)}\n"
     ]
    }
   ],
   "source": [
    "print_logs(5)"
   ]
  },
  {
   "cell_type": "markdown",
   "metadata": {},
   "source": [
    "# Base entity"
   ]
  },
  {
   "cell_type": "markdown",
   "metadata": {},
   "source": [
    "c'est une classe de base issue de la refactorisation de Auteur et Editeur proposée par github copilot\n",
    "\n",
    "\n",
    "> Étapes de Raisonnement pour la Factorisation\n",
    "> Analyser les Classes Existantes :\n",
    "> \n",
    "> Les classes Auteur et Editeur ont des méthodes similaires pour vérifier l'existence, insérer, mettre à jour et supprimer des documents dans la base de données MongoDB.\n",
    "> Les méthodes exists, keep, remove, et get_oid sont communes aux deux classes.\n",
    "> Identifier les Comportements Communs :\n",
    "> \n",
    "> Les comportements communs peuvent être regroupés dans une classe de base.\n",
    "> Les classes spécifiques (Auteur et Editeur) peuvent hériter de cette classe de base et ajouter des comportements spécifiques si nécessaire.\n",
    "> Créer une Classe de Base :\n",
    "> \n",
    "> Créer une classe de base BaseEntity qui contient les méthodes communes.\n",
    "> La classe de base gérera les interactions avec la base de données.\n",
    "> Hériter de la Classe de Base :\n",
    "> \n",
    "> Les classes Auteur et Editeur hériteront de BaseEntity.\n",
    "> Elles définiront uniquement les comportements spécifiques à chaque entité.\n",
    "\n"
   ]
  },
  {
   "cell_type": "code",
   "execution_count": null,
   "metadata": {},
   "outputs": [],
   "source": [
    "# |export\n",
    "\n",
    "from bson import ObjectId\n",
    "from connection import get_collection\n",
    "\n",
    "\n",
    "class BaseEntity:\n",
    "    def __init__(self, nom: str, collection_name: str):\n",
    "        \"\"\"\n",
    "        BaseEntity is a class that represents a generic entity in the database.\n",
    "        :param nom: The name of the entity.\n",
    "        :param collection_name: The name of the collection.\n",
    "        \"\"\"\n",
    "        DB_HOST, DB_NAME, _ = get_DB_VARS()\n",
    "        self.collection = get_collection(\n",
    "            target_db=DB_HOST, client_name=DB_NAME, collection_name=collection_name\n",
    "        )\n",
    "        self.nom = nom\n",
    "\n",
    "    def exists(self) -> bool:\n",
    "        \"\"\"\n",
    "        Check if the entity exists in the database.\n",
    "        :return: True if the entity exists, False otherwise.\n",
    "        \"\"\"\n",
    "        return self.collection.find_one({\"nom\": self.nom}) is not None\n",
    "\n",
    "    def keep(self):\n",
    "        \"\"\"\n",
    "        Keep the entity in the database.\n",
    "        \"\"\"\n",
    "        if not self.exists():\n",
    "            mongolog(\"insert\", self.collection.name, self.nom)\n",
    "            self.collection.insert_one({\"nom\": self.nom})\n",
    "        else:\n",
    "            mongolog(\"update\", self.collection.name, self.nom)\n",
    "\n",
    "    def remove(self):\n",
    "        \"\"\"\n",
    "        Remove the entity from the database.\n",
    "        \"\"\"\n",
    "        self.collection.delete_one({\"nom\": self.nom})\n",
    "        mongolog(\"delete\", self.collection.name, self.nom)\n",
    "\n",
    "    def get_oid(self) -> ObjectId:\n",
    "        \"\"\"\n",
    "        Get the object id of the entity.\n",
    "        :return: The object id of the entity. (bson.ObjectId)\n",
    "        None if does not exist.\n",
    "        \"\"\"\n",
    "        document = self.collection.find_one({\"nom\": self.nom})\n",
    "        if document:\n",
    "            return document[\"_id\"]\n",
    "        else:\n",
    "            return None"
   ]
  },
  {
   "cell_type": "markdown",
   "metadata": {},
   "source": [
    "# Auteur"
   ]
  },
  {
   "cell_type": "code",
   "execution_count": null,
   "metadata": {},
   "outputs": [],
   "source": [
    "# |export\n",
    "\n",
    "\n",
    "class Auteur(BaseEntity):\n",
    "    def __init__(self, nom: str):\n",
    "        \"\"\"\n",
    "        Auteur is a class that represents an author in the database auteurs.\n",
    "        :param nom: The name of the author.\n",
    "        \"\"\"\n",
    "        super().__init__(nom, \"auteurs\")"
   ]
  },
  {
   "cell_type": "code",
   "execution_count": null,
   "metadata": {},
   "outputs": [
    {
     "data": {
      "text/plain": [
       "True"
      ]
     },
     "execution_count": null,
     "metadata": {},
     "output_type": "execute_result"
    }
   ],
   "source": [
    "acteur1 = Auteur(\"Victor Hugo\")\n",
    "acteur1.exists()"
   ]
  },
  {
   "cell_type": "code",
   "execution_count": null,
   "metadata": {},
   "outputs": [
    {
     "data": {
      "text/plain": [
       "True"
      ]
     },
     "execution_count": null,
     "metadata": {},
     "output_type": "execute_result"
    }
   ],
   "source": [
    "acteur1.keep()\n",
    "acteur1.exists()"
   ]
  },
  {
   "cell_type": "code",
   "execution_count": null,
   "metadata": {},
   "outputs": [
    {
     "data": {
      "text/plain": [
       "ObjectId('677945859bf82d43ea3f34c9')"
      ]
     },
     "execution_count": null,
     "metadata": {},
     "output_type": "execute_result"
    }
   ],
   "source": [
    "acteur1.get_oid()"
   ]
  },
  {
   "cell_type": "code",
   "execution_count": null,
   "metadata": {},
   "outputs": [
    {
     "data": {
      "text/plain": [
       "False"
      ]
     },
     "execution_count": null,
     "metadata": {},
     "output_type": "execute_result"
    }
   ],
   "source": [
    "acteur1.remove()\n",
    "acteur1.exists()"
   ]
  },
  {
   "cell_type": "code",
   "execution_count": null,
   "metadata": {},
   "outputs": [],
   "source": [
    "acteur1.get_oid()"
   ]
  },
  {
   "cell_type": "markdown",
   "metadata": {},
   "source": [
    "# Editeur"
   ]
  },
  {
   "cell_type": "code",
   "execution_count": null,
   "metadata": {},
   "outputs": [],
   "source": [
    "# |export\n",
    "\n",
    "\n",
    "class Editeur(BaseEntity):\n",
    "    def __init__(self, nom: str):\n",
    "        \"\"\"\n",
    "        Editeur is a class that represents a publisher in the database editeurs.\n",
    "        :param nom: The name of the publisher.\n",
    "        \"\"\"\n",
    "        super().__init__(nom, \"editeurs\")"
   ]
  },
  {
   "cell_type": "code",
   "execution_count": null,
   "metadata": {},
   "outputs": [
    {
     "data": {
      "text/plain": [
       "False"
      ]
     },
     "execution_count": null,
     "metadata": {},
     "output_type": "execute_result"
    }
   ],
   "source": [
    "editeur1 = Editeur(\"Gallimard\")\n",
    "editeur1.exists()"
   ]
  },
  {
   "cell_type": "code",
   "execution_count": null,
   "metadata": {},
   "outputs": [
    {
     "data": {
      "text/plain": [
       "True"
      ]
     },
     "execution_count": null,
     "metadata": {},
     "output_type": "execute_result"
    }
   ],
   "source": [
    "editeur1.keep()\n",
    "editeur1.exists()"
   ]
  },
  {
   "cell_type": "code",
   "execution_count": null,
   "metadata": {},
   "outputs": [
    {
     "data": {
      "text/plain": [
       "ObjectId('677a36762e69c4944df8b0a3')"
      ]
     },
     "execution_count": null,
     "metadata": {},
     "output_type": "execute_result"
    }
   ],
   "source": [
    "editeur1.get_oid()"
   ]
  },
  {
   "cell_type": "code",
   "execution_count": null,
   "metadata": {},
   "outputs": [
    {
     "data": {
      "text/plain": [
       "False"
      ]
     },
     "execution_count": null,
     "metadata": {},
     "output_type": "execute_result"
    }
   ],
   "source": [
    "editeur1.remove()\n",
    "editeur1.exists()"
   ]
  },
  {
   "cell_type": "code",
   "execution_count": null,
   "metadata": {},
   "outputs": [],
   "source": [
    "editeur1.get_oid()"
   ]
  },
  {
   "cell_type": "code",
   "execution_count": null,
   "metadata": {},
   "outputs": [
    {
     "name": "stdout",
     "output_type": "stream",
     "text": [
      "{'_id': ObjectId('677a36782e69c4944df8b0a5'), 'operation': 'delete', 'entite': 'editeurs', 'desc': 'Gallimard', 'date': datetime.datetime(2025, 1, 5, 8, 36, 24, 956000)}\n",
      "{'_id': ObjectId('677a36762e69c4944df8b0a2'), 'operation': 'insert', 'entite': 'editeurs', 'desc': 'Gallimard', 'date': datetime.datetime(2025, 1, 5, 8, 36, 22, 509000)}\n",
      "{'_id': ObjectId('677a36562e69c4944df8b09f'), 'operation': 'delete', 'entite': 'auteurs', 'desc': 'Victor Hugo', 'date': datetime.datetime(2025, 1, 5, 8, 35, 50, 198000)}\n",
      "{'_id': ObjectId('677a36482e69c4944df8b09d'), 'operation': 'update', 'entite': 'auteurs', 'desc': 'Victor Hugo', 'date': datetime.datetime(2025, 1, 5, 8, 35, 36, 332000)}\n",
      "{'_id': ObjectId('677a33c02e69c4944df8b099'), 'operation': 'delete', 'entite': 'editeur', 'desc': 'Gallimard', 'date': datetime.datetime(2025, 1, 5, 8, 24, 48, 796000)}\n"
     ]
    }
   ],
   "source": [
    "print_logs(5)"
   ]
  },
  {
   "cell_type": "code",
   "execution_count": null,
   "metadata": {},
   "outputs": [],
   "source": []
  },
  {
   "cell_type": "markdown",
   "metadata": {},
   "source": [
    "# extract py"
   ]
  },
  {
   "cell_type": "code",
   "execution_count": null,
   "metadata": {},
   "outputs": [],
   "source": [
    "from nbdev.export import nb_export\n",
    "\n",
    "nb_export(\"mongo helper.ipynb\", \".\")"
   ]
  },
  {
   "cell_type": "code",
   "execution_count": null,
   "metadata": {},
   "outputs": [],
   "source": []
  }
 ],
 "metadata": {
  "kernelspec": {
   "display_name": "python3",
   "language": "python",
   "name": "python3"
  }
 },
 "nbformat": 4,
 "nbformat_minor": 2
}
