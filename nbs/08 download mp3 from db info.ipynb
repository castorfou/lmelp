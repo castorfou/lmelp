{
 "cells": [
  {
   "cell_type": "code",
   "execution_count": null,
   "metadata": {},
   "outputs": [],
   "source": [
    "# |default_exp download"
   ]
  },
  {
   "cell_type": "markdown",
   "metadata": {},
   "source": [
    "# Constantes"
   ]
  },
  {
   "cell_type": "code",
   "execution_count": null,
   "metadata": {},
   "outputs": [],
   "source": [
    "# |export\n",
    "\n",
    "AUDIO_PATH = \"audios\""
   ]
  },
  {
   "cell_type": "markdown",
   "metadata": {},
   "source": [
    "# collection"
   ]
  },
  {
   "cell_type": "code",
   "execution_count": null,
   "metadata": {},
   "outputs": [],
   "source": [
    "from connection import get_collection\n",
    "\n",
    "collection = get_collection()"
   ]
  },
  {
   "cell_type": "markdown",
   "metadata": {},
   "source": [
    "# get_audio_path"
   ]
  },
  {
   "cell_type": "code",
   "execution_count": null,
   "metadata": {},
   "outputs": [],
   "source": [
    "# |export\n",
    "\n",
    "import os\n",
    "from git import Repo\n",
    "\n",
    "\n",
    "def get_audio_path(audio_path=AUDIO_PATH):\n",
    "    \"\"\"\n",
    "    return full audio path and create dir if it doesn t exist\n",
    "    \"\"\"\n",
    "\n",
    "    def get_git_root(path):\n",
    "        git_repo = Repo(path, search_parent_directories=True)\n",
    "        return git_repo.git.rev_parse(\"--show-toplevel\")\n",
    "\n",
    "    project_root = get_git_root(os.getcwd())\n",
    "    full_audio_path = os.path.join(project_root, audio_path)\n",
    "\n",
    "    # create dir if it doesn t exist\n",
    "    if not os.path.exists(full_audio_path):\n",
    "        os.makedirs(full_audio_path)\n",
    "\n",
    "    return full_audio_path"
   ]
  },
  {
   "cell_type": "code",
   "execution_count": null,
   "metadata": {},
   "outputs": [
    {
     "data": {
      "text/plain": [
       "'/home/guillaume/git/lmelp/audios'"
      ]
     },
     "execution_count": null,
     "metadata": {},
     "output_type": "execute_result"
    }
   ],
   "source": [
    "get_audio_path()"
   ]
  },
  {
   "cell_type": "code",
   "execution_count": null,
   "metadata": {},
   "outputs": [
    {
     "data": {
      "text/plain": [
       "'/home/guillaume/git/lmelp/audio_temp'"
      ]
     },
     "execution_count": null,
     "metadata": {},
     "output_type": "execute_result"
    }
   ],
   "source": [
    "get_audio_path(\"audio_temp\")"
   ]
  },
  {
   "cell_type": "markdown",
   "metadata": {},
   "source": [
    "# download mp3 livres"
   ]
  },
  {
   "cell_type": "code",
   "execution_count": null,
   "metadata": {},
   "outputs": [],
   "source": [
    "# |export\n",
    "\n",
    "import requests\n",
    "from bson import ObjectId\n",
    "\n",
    "\n",
    "def download_mp3_livres(collection, oid, audio_path=AUDIO_PATH, verbose=False):\n",
    "    \"\"\"\n",
    "    on telecharge le fichier mp3 du document avec l oid specifie\n",
    "    si :\n",
    "    - le champ type vaut livres\n",
    "    - le champ url existe\n",
    "    - le champ duree existe et est superieur a 15 minutes (ajouter un parametrage apres)\n",
    "    - le mp3 n existe pas deja dans audio_path\n",
    "\n",
    "    si on veut forcer le telechargement, il faut manuellement supprimer le fichier mp3 dans audio_path\n",
    "\n",
    "    collection: pymongo collection\n",
    "    oid: str, oid du document\n",
    "    audio_path: str, path to save audio files, default is 'AUDIO_PATH', abreviated, and is created if it doesn t exist\n",
    "    \"\"\"\n",
    "\n",
    "    full_audio_path = get_audio_path(audio_path)\n",
    "    if verbose:\n",
    "        print(f\"audio path: {full_audio_path}\")\n",
    "\n",
    "    # Récupération du document\n",
    "    document_entry = collection.find_one({\"_id\": ObjectId(oid)})\n",
    "\n",
    "    if document_entry is None:\n",
    "        if verbose:\n",
    "            print(f\"Document avec l'oid {oid} non trouvé\")\n",
    "        return\n",
    "\n",
    "    # Vérification si le type est bien \"livres\"\n",
    "    if document_entry.get(\"type\") != \"livres\":\n",
    "        if verbose:\n",
    "            print(f\"Document avec l'oid {oid} n'est pas de type livres\")\n",
    "        return\n",
    "\n",
    "    # verfiication si la duree est > 15 minutes\n",
    "    duree = document_entry.get(\"duree\")\n",
    "    if duree is None or duree < 15:\n",
    "        if verbose:\n",
    "            print(f\"Document avec l'oid {oid} n'est fait moins de 15 minutes\")\n",
    "        return\n",
    "\n",
    "    url = document_entry.get(\"url\")\n",
    "    if url is None:\n",
    "        if verbose:\n",
    "            print(f\"Document avec l'oid {oid} n'a pas d'url\")\n",
    "        return\n",
    "    if verbose:\n",
    "        print(f'{document_entry[\"type\"]} - {document_entry.get(\"description\")} - {url}')\n",
    "\n",
    "    filename = os.path.join(full_audio_path, os.path.basename(url))\n",
    "\n",
    "    # Vérification si le fichier existe déjà\n",
    "    if not os.path.exists(filename):\n",
    "        if verbose:\n",
    "            print(f\"Téléchargement de {url} vers {filename}\")\n",
    "        response = requests.get(url)\n",
    "        with open(filename, \"wb\") as file:\n",
    "            file.write(response.content)\n",
    "    else:\n",
    "        if verbose:\n",
    "            print(f\"Le fichier {filename} existe déjà. Ignoré.\")"
   ]
  },
  {
   "cell_type": "code",
   "execution_count": null,
   "metadata": {},
   "outputs": [
    {
     "name": "stdout",
     "output_type": "stream",
     "text": [
      "audio path: /home/guillaume/git/lmelp/audios\n",
      "Document avec l'oid 6773e32258fc5717f3516ba0 n'est pas de type livres\n"
     ]
    }
   ],
   "source": [
    "download_mp3_livres(collection, \"6773e32258fc5717f3516ba0\", verbose=True)"
   ]
  },
  {
   "cell_type": "markdown",
   "metadata": {},
   "source": [
    "# download all mp3 livres"
   ]
  },
  {
   "cell_type": "code",
   "execution_count": null,
   "metadata": {},
   "outputs": [],
   "source": [
    "# |export\n",
    "\n",
    "import requests\n",
    "\n",
    "\n",
    "def download_all_mp3_livres(collection, audio_path=AUDIO_PATH, verbose=False):\n",
    "    \"\"\"\n",
    "    on boucle dans tous les documents de la collection et telecharge les fichiers mp3\n",
    "    si :\n",
    "    - le champ type vaut livres\n",
    "    - le champ url existe\n",
    "    - le champ duree existe et est superieur a 15 minutes (ajouter un parametrage apres)\n",
    "    - le mp3 n existe pas deja dans audio_path\n",
    "\n",
    "    si on veut forcer le telechargement, il faut manuellement supprimer le fichier mp3 dans audio_path\n",
    "\n",
    "    collection: pymongo collection\n",
    "    audio_path: str, path to save audio files, default is 'AUDIO_PATH', abreviated, and is created if it doesn t exist\n",
    "    \"\"\"\n",
    "\n",
    "    full_audio_path = get_audio_path(audio_path)\n",
    "    if verbose:\n",
    "        print(f\"audio path: {full_audio_path}\")\n",
    "    # Récupération de toutes les entrées dans la collection\n",
    "    entries = collection.find()\n",
    "\n",
    "    for entry in entries:\n",
    "\n",
    "        # get oid\n",
    "        oid = entry[\"_id\"]\n",
    "        if verbose:\n",
    "            print(oid)\n",
    "\n",
    "        download_mp3_livres(collection, oid, audio_path, verbose)"
   ]
  },
  {
   "cell_type": "code",
   "execution_count": null,
   "metadata": {},
   "outputs": [
    {
     "name": "stdout",
     "output_type": "stream",
     "text": [
      "audio path: /home/guillaume/git/lmelp/audios\n",
      "6773e32258fc5717f3516b98\n",
      "audio path: /home/guillaume/git/lmelp/audios\n",
      "Document avec l'oid 6773e32258fc5717f3516b98 n'est pas de type livres\n",
      "6773e32258fc5717f3516b99\n",
      "audio path: /home/guillaume/git/lmelp/audios\n",
      "livres - durée : 00:47:52 - Le Masque et la Plume - par : Rebecca Manzoni - Il est encore temps d'ajouter quelques livres sous le sapin - invités : Raphaelle Leyris, Jean-Marc Proust, Patricia Martin, Laurent CHALUMEAU - Raphaëlle Leyris : Journaliste au Monde, critique littéraire, Jean-Marc Proust : Auteur et critique (Slate), Patricia Martin : Journaliste, critique littéraire et productrice chez France Inter, Laurent Chalumeau : Journaliste rock, scénariste, dialoguiste, romancier - réalisé par : Guillaume Girault - https://rf.proxycast.org/7e653bf4-87a5-42f4-864b-9208e206a295/14007-22.12.2024-ITEMA_23973143-2024F4007S0357-22.mp3\n",
      "Le fichier /home/guillaume/git/lmelp/audios/14007-22.12.2024-ITEMA_23973143-2024F4007S0357-22.mp3 existe déjà. Ignoré.\n",
      "6773e32258fc5717f3516b9a\n",
      "audio path: /home/guillaume/git/lmelp/audios\n",
      "Document avec l'oid 6773e32258fc5717f3516b9a n'est pas de type livres\n",
      "6773e32258fc5717f3516b9b\n",
      "audio path: /home/guillaume/git/lmelp/audios\n",
      "Document avec l'oid 6773e32258fc5717f3516b9b n'est pas de type livres\n",
      "6773e32258fc5717f3516b9c\n",
      "audio path: /home/guillaume/git/lmelp/audios\n",
      "livres - durée : 00:47:17 - Le Masque et la Plume - par : Rebecca Manzoni - \"Récits de certains faits\" de Yasmina Reza, \"Les Enchanteurs\" de James Ellroy, \"Madelaine avant l’aube\" de Sandrine Collette, \"Mythologie du .12\" de Célestin de Meeûs et \"Le bastion des Larmes\" d’Abdellah Taïa sur la table de chevet de nos critiques. Qu'en ont-ils pensé ? - invités : Raphaelle Leyris, Laurent CHALUMEAU, Arnaud Viviant, Elisabeth Philippe - Raphaëlle Leyris : Journaliste au Monde, critique littéraire, Laurent Chalumeau : Journaliste rock, scénariste, dialoguiste, romancier, Arnaud Viviant : Critique littéraire (Revue Regards), Elisabeth Philippe : Critique littéraire (L'Obs) - réalisé par : Guillaume Girault - https://rf.proxycast.org/7502dbc2-c937-4a70-b60d-c5a89f5b5da4/14007-01.12.2024-ITEMA_23942372-2024F4007S0336-22.mp3\n",
      "Le fichier /home/guillaume/git/lmelp/audios/14007-01.12.2024-ITEMA_23942372-2024F4007S0336-22.mp3 existe déjà. Ignoré.\n",
      "6773e32258fc5717f3516b9d\n",
      "audio path: /home/guillaume/git/lmelp/audios\n",
      "Document avec l'oid 6773e32258fc5717f3516b9d n'est pas de type livres\n",
      "6773e32258fc5717f3516b9e\n",
      "audio path: /home/guillaume/git/lmelp/audios\n",
      "Document avec l'oid 6773e32258fc5717f3516b9e n'est pas de type livres\n",
      "6773e32258fc5717f3516b9f\n",
      "audio path: /home/guillaume/git/lmelp/audios\n",
      "livres - durée : 00:46:03 - Le Masque et la Plume - par : Rebecca Manzoni - En direct de la 42ᵉ édition de la Foire du livre de Brive-la-Gaillarde, nos critiques vous disent ce qu'ils ont pensé de \"Mon assassin\" de Daniel Pennac, \"Le rêve du jaguar\" de Miguel Bonnefoy, \"Les guerriers de l’hiver\" d’Olivier Norek, \"La règle du crime\" de Colson Whitehead...\n",
      " - invités : Arnaud Viviant, Elisabeth Philippe, Jean-Marc Proust, Patricia Martin - Arnaud Viviant : Critique littéraire (Revue Regards), Elisabeth Philippe : Critique littéraire (L'Obs), Jean-Marc Proust : Auteur et critique (Slate), Patricia Martin : Journaliste, critique littéraire et productrice chez France Inter - réalisé par : Guillaume Girault - https://rf.proxycast.org/f5779476-9d52-4bfb-a839-bf82751eaebb/14007-10.11.2024-ITEMA_23920569-2024F4007S0315-22.mp3\n",
      "Le fichier /home/guillaume/git/lmelp/audios/14007-10.11.2024-ITEMA_23920569-2024F4007S0315-22.mp3 existe déjà. Ignoré.\n",
      "6773e32258fc5717f3516ba0\n",
      "audio path: /home/guillaume/git/lmelp/audios\n",
      "Document avec l'oid 6773e32258fc5717f3516ba0 n'est pas de type livres\n"
     ]
    }
   ],
   "source": [
    "download_all_mp3_livres(collection, verbose=True)"
   ]
  },
  {
   "cell_type": "markdown",
   "metadata": {},
   "source": [
    "# extract py"
   ]
  },
  {
   "cell_type": "code",
   "execution_count": null,
   "metadata": {},
   "outputs": [],
   "source": [
    "from nbdev.export import nb_export\n",
    "\n",
    "nb_export(\"08 download mp3 from db info.ipynb\", \".\")"
   ]
  },
  {
   "cell_type": "code",
   "execution_count": null,
   "metadata": {},
   "outputs": [],
   "source": []
  }
 ],
 "metadata": {
  "kernelspec": {
   "display_name": "python3",
   "language": "python",
   "name": "python3"
  }
 },
 "nbformat": 4,
 "nbformat_minor": 2
}
