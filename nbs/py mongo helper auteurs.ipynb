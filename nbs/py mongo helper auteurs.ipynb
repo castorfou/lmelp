{
 "cells": [
  {
   "cell_type": "code",
   "execution_count": null,
   "metadata": {},
   "outputs": [],
   "source": [
    "# |default_exp mongo_auteur"
   ]
  },
  {
   "cell_type": "markdown",
   "metadata": {},
   "source": [
    "# Auteur"
   ]
  },
  {
   "cell_type": "code",
   "execution_count": null,
   "metadata": {},
   "outputs": [],
   "source": [
    "# |export\n",
    "\n",
    "from mongo import BaseEntity\n",
    "\n",
    "\n",
    "class Auteur(BaseEntity):\n",
    "    collection = \"auteurs\"\n",
    "\n",
    "    def __init__(self, nom: str):\n",
    "        \"\"\"\n",
    "        Auteur is a class that represents an author in the database auteurs.\n",
    "        :param nom: The name of the author.\n",
    "        \"\"\"\n",
    "        super().__init__(nom, self.collection)"
   ]
  },
  {
   "cell_type": "code",
   "execution_count": null,
   "metadata": {},
   "outputs": [
    {
     "data": {
      "text/plain": [
       "[Marcel Proust]"
      ]
     },
     "execution_count": null,
     "metadata": {},
     "output_type": "execute_result"
    }
   ],
   "source": [
    "# liste les auteurs en base contenant le mot \"marcel\"\n",
    "Auteur.get_entries(\"marcel\")"
   ]
  },
  {
   "cell_type": "code",
   "execution_count": null,
   "metadata": {},
   "outputs": [
    {
     "name": "stdout",
     "output_type": "stream",
     "text": [
      "Est-ce que auteur1 existe ? False\n",
      "et maintenant, st-ce que auteur1 existe ? True\n",
      "et voici l'id de auteur1 : 67a73c579b0cd6b36ced0012\n",
      "après nettoyage, est-ce que auteur1 existe ? False\n",
      "et son oid : None\n"
     ]
    }
   ],
   "source": [
    "auteur1 = Auteur(\"Victor Hugo\")\n",
    "print(f\"Est-ce que auteur1 existe ? {auteur1.exists()}\")\n",
    "\n",
    "auteur1.keep()\n",
    "print(f\"et maintenant, st-ce que auteur1 existe ? {auteur1.exists()}\")\n",
    "print(f\"et voici l'id de auteur1 : {auteur1.get_oid()}\")\n",
    "\n",
    "auteur1.remove()\n",
    "print(f\"après nettoyage, est-ce que auteur1 existe ? {auteur1.exists()}\")\n",
    "print(f\"et son oid : {auteur1.get_oid()}\")"
   ]
  },
  {
   "cell_type": "code",
   "execution_count": null,
   "metadata": {},
   "outputs": [
    {
     "name": "stdout",
     "output_type": "stream",
     "text": [
      "{'_id': ObjectId('67a73c579b0cd6b36ced0014'), 'operation': 'delete', 'entite': 'auteurs', 'desc': 'Victor Hugo', 'date': datetime.datetime(2025, 2, 8, 12, 13, 27, 29000)}\n",
      "{'_id': ObjectId('67a73c579b0cd6b36ced0011'), 'operation': 'insert', 'entite': 'auteurs', 'desc': 'Victor Hugo', 'date': datetime.datetime(2025, 2, 8, 12, 13, 27, 24000)}\n",
      "{'_id': ObjectId('67a73a5da74538047917cf53'), 'operation': 'update', 'entite': 'auteurs', 'desc': 'Neige Sinno', 'date': datetime.datetime(2025, 2, 8, 12, 5, 1, 327000)}\n",
      "{'_id': ObjectId('67a73a0e6de58ba219b27aab'), 'operation': 'delete', 'entite': 'auteurs', 'desc': 'Victor Hugo', 'date': datetime.datetime(2025, 2, 8, 12, 3, 42, 190000)}\n",
      "{'_id': ObjectId('67a73a0e6de58ba219b27aa8'), 'operation': 'insert', 'entite': 'auteurs', 'desc': 'Victor Hugo', 'date': datetime.datetime(2025, 2, 8, 12, 3, 42, 184000)}\n"
     ]
    }
   ],
   "source": [
    "from mongo import print_logs\n",
    "\n",
    "print_logs(5)"
   ]
  },
  {
   "cell_type": "markdown",
   "metadata": {},
   "source": [
    "# AuthorChecker"
   ]
  },
  {
   "cell_type": "code",
   "execution_count": null,
   "metadata": {},
   "outputs": [],
   "source": [
    "# | export\n",
    "\n",
    "from thefuzz import fuzz\n",
    "from thefuzz import process\n",
    "from typing import List, Tuple\n",
    "\n",
    "score_fuzz_threshold = 80\n",
    "\n",
    "\n",
    "class AuthorFuzzMatcher:\n",
    "    def __init__(self, reference_authors: List[str] = None):\n",
    "        \"\"\"Initialize with a list of known author names\"\"\"\n",
    "        self.reference_authors = set(reference_authors) if reference_authors else set()\n",
    "\n",
    "    def add_reference_author(self, author: str) -> None:\n",
    "        \"\"\"Add a new reference author to the set\"\"\"\n",
    "        self.reference_authors.add(author.strip())\n",
    "\n",
    "    def find_best_match(self, name: str, min_score: int = 80) -> Tuple[str, int]:\n",
    "        \"\"\"\n",
    "        Find the best matching reference author for a given name\n",
    "        Returns: (best_match, score)\n",
    "        \"\"\"\n",
    "        if not name or not self.reference_authors:\n",
    "            return None, 0\n",
    "        # Find best match using token set ratio for better partial matching\n",
    "        best_match, score = process.extractOne(\n",
    "            name, self.reference_authors, scorer=fuzz.token_set_ratio\n",
    "        )\n",
    "        if score >= min_score:\n",
    "            return best_match, score\n",
    "        return None, score"
   ]
  },
  {
   "cell_type": "code",
   "execution_count": null,
   "metadata": {},
   "outputs": [],
   "source": [
    "# | export\n",
    "\n",
    "import os\n",
    "from googleapiclient.discovery import build\n",
    "from llm import load_env\n",
    "\n",
    "load_env()\n",
    "api_key = os.getenv(\"GOOGLE_CUSTOM_SEARCH_API_KEY\")\n",
    "cse_id = os.getenv(\"SEARCH_ENGINE_ID\")\n",
    "\n",
    "if not api_key or not cse_id:\n",
    "    raise ValueError(\n",
    "        \"Les variables d'environnement GOOGLE_SEARCH_API_KEY et GOOGLE_CSE_ID doivent être définies.\"\n",
    "    )\n",
    "\n",
    "\n",
    "# Fonction de recherche Google\n",
    "def google_search(query):\n",
    "    try:\n",
    "        service = build(\"customsearch\", \"v1\", developerKey=api_key)\n",
    "        res = service.cse().list(q=query, cx=cse_id).execute()\n",
    "\n",
    "        results = []\n",
    "        for item in res.get(\"items\", []):\n",
    "            title = item.get(\"title\")\n",
    "            snippet = item.get(\"snippet\")\n",
    "            link = item.get(\"link\")\n",
    "            results.append({\"title\": title, \"snippet\": snippet, \"link\": link})\n",
    "        return results\n",
    "    except Exception as e:\n",
    "        print(f\"Erreur lors de la recherche Google: {e}\")\n",
    "        return None"
   ]
  },
  {
   "cell_type": "code",
   "execution_count": null,
   "metadata": {},
   "outputs": [],
   "source": [
    "# | export\n",
    "\n",
    "from mongo_auteur import Auteur\n",
    "from mongo_episode import Episode\n",
    "from llm import get_azure_llm\n",
    "from llama_index.core.llms import ChatMessage\n",
    "import json\n",
    "\n",
    "\n",
    "class AuthorChecker:\n",
    "\n",
    "    def __init__(self, episode: Episode):\n",
    "        self.episode = episode\n",
    "        self.llm_structured_output = get_azure_llm(\"gpt-4o\")\n",
    "        self.authors_titre_description = self._get_authors_from_titre_description()\n",
    "\n",
    "    def _get_authors_from_titre_description(self):\n",
    "        response_schema = {\n",
    "            \"type\": \"json_schema\",\n",
    "            \"json_schema\": {\n",
    "                \"name\": \"AuthorTitreDescriptionList\",\n",
    "                \"schema\": {\n",
    "                    \"type\": \"object\",\n",
    "                    \"properties\": {\n",
    "                        \"Authors_TitreDescription\": {\n",
    "                            \"type\": \"array\",\n",
    "                            \"items\": {\n",
    "                                \"type\": \"string\",\n",
    "                                \"description\": \"A list of names from title and description\",\n",
    "                            },\n",
    "                        }\n",
    "                    },\n",
    "                    \"required\": [\"Authors_TitreDescription\"],\n",
    "                    \"additionalProperties\": False,\n",
    "                },\n",
    "            },\n",
    "        }\n",
    "        response = self.llm_structured_output.chat(\n",
    "            messages=[\n",
    "                ChatMessage(\n",
    "                    role=\"system\",\n",
    "                    content=\"Tu es un assistant utile qui retourne une liste JSON de noms.\",\n",
    "                ),\n",
    "                ChatMessage(\n",
    "                    role=\"user\",\n",
    "                    content=f\"Est-ce que tu peux me lister tous les noms \\\n",
    "                            qui sont cités dans le titre et la description de l'épisode suivant : \\\n",
    "                            {self.episode.titre} {self.episode.description}. \",\n",
    "                ),\n",
    "            ],\n",
    "            response_format=response_schema,\n",
    "        )\n",
    "        try:\n",
    "            json_dict = json.loads(response.message.content)\n",
    "        except json.JSONDecodeError as e:\n",
    "            print(\"Error parsing JSON:\", e)\n",
    "            print(\"Raw response:\", json_dict)\n",
    "        return json_dict[\"Authors_TitreDescription\"]\n",
    "\n",
    "    def _get_authors_from_llm(self, autor) -> List[str]:\n",
    "\n",
    "        response_schema = {\n",
    "            \"type\": \"json_schema\",\n",
    "            \"json_schema\": {\n",
    "                \"name\": \"AuthorList\",\n",
    "                \"schema\": {\n",
    "                    \"type\": \"object\",\n",
    "                    \"properties\": {\n",
    "                        \"Authors_LLM\": {\n",
    "                            \"type\": \"array\",\n",
    "                            \"items\": {\n",
    "                                \"type\": \"string\",\n",
    "                                \"description\": \"A list of authors' names\",\n",
    "                            },\n",
    "                        }\n",
    "                    },\n",
    "                    \"required\": [\"Authors_LLM\"],\n",
    "                    \"additionalProperties\": False,\n",
    "                },\n",
    "            },\n",
    "        }\n",
    "\n",
    "        prompt = (\n",
    "            \"\"\"\n",
    "        Tu es un agent expert en littérature.\n",
    "        Donne moi quelques auteurs dont le nom s'approche de celui-ci : \"\"\"\n",
    "            + autor\n",
    "            + \"\"\"\n",
    "\n",
    "        S'il s'agit deja d'un auteur connu, retourne moi juste son nom. S'il y a une erreur dans le nom que je t'ai donne, corrige moi en me donnant le nom de l'auteur que tu penses que j'ai voulu dire.\n",
    "\n",
    "        Je veux que tu me donnes le prenom puis le nom dans cet ordre. Par exemple \"Marcel Pagnol\" ou \"Victor Hugo\".\n",
    "        Ces auteurs sont susceptibles d'etre discutes dans \"Le Masque et la Plume\".\n",
    "\n",
    "        Si tu me retournes plusieurs auteurs, fais le sous forme de liste par exemple si tu as identifie \"auteur 1\" et \"auteur 2\" alors retourne [\"auteur 1\", \"auteur 2\"]\n",
    "        \"\"\"\n",
    "        )\n",
    "\n",
    "        response = self.llm_structured_output.chat(\n",
    "            messages=[\n",
    "                ChatMessage(\n",
    "                    role=\"system\",\n",
    "                    content=\"Tu es un agent litteraire qui connait parfaitement les auteurs.\",\n",
    "                ),\n",
    "                # ChatMessage(role=\"user\", content=f\"{query}. Please provide the response in JSON format as a list of strings, following this schema: ['author1', 'author2', ...]\")\n",
    "                ChatMessage(role=\"user\", content=f\"{prompt}. \"),\n",
    "            ],\n",
    "            response_format=response_schema,\n",
    "        )\n",
    "\n",
    "        try:\n",
    "            json_dict = json.loads(response.message.content)\n",
    "            # ...\n",
    "        except json.JSONDecodeError as e:\n",
    "            print(\"Error parsing JSON:\", e)\n",
    "            print(\"Raw response:\", response)\n",
    "        return json_dict[\"Authors_LLM\"]\n",
    "\n",
    "    def _get_author_from_web(self, author: str):\n",
    "\n",
    "        result_google = google_search(author)\n",
    "\n",
    "        prompt_incertitude_auteur = f\"\"\"\n",
    "        Voici le resultat d'une requete google concernant un probable auteur inconnu de mon llm : {author}\n",
    "        La requete est au format dict avec du json a l'interieur.\n",
    "        Est-ce que tu peux analyser le contenu de cette requete et me dire si oui ou non {author} est un auteur de livres, \n",
    "        et accompagner ta reponse d'un pourcentage de certitude :\n",
    "        * 100% de certitude signifie que tu es certain que {author} est un auteur de livres\n",
    "        *  50% tu es ni sure ni pas sure que {author} est un auteur de livres\n",
    "        *   0% tu es certain que {author} n'est pas un auteur de livres\n",
    "\n",
    "        Voici le contenu de la requete google : {result_google}\n",
    "\n",
    "        Tu repondras uniquement avec un dictionnaire qui va contenir 3 entrees :\n",
    "\n",
    "        - \"auteur\" : le nom de l'auteur, eventuellement corrige si j'ai oublie des accents ou une faute de frappe\n",
    "        - \"certitude\" : le pourcentage de certitude de 0 à 100, un entier\n",
    "        - \"analyse\" : une analyse de la requete google\n",
    "        \"\"\"\n",
    "        response_schema = {\n",
    "            \"type\": \"json_schema\",\n",
    "            \"json_schema\": {\n",
    "                \"name\": \"AuteurSchema\",\n",
    "                \"schema\": {\n",
    "                    \"type\": \"object\",\n",
    "                    \"properties\": {\n",
    "                        \"auteur\": {\n",
    "                            \"type\": \"string\",\n",
    "                            \"description\": \"Le nom de l'auteur éventuellement corrigé (accents, fautes de frappe).\",\n",
    "                        },\n",
    "                        \"certitude\": {\n",
    "                            \"type\": \"integer\",\n",
    "                            \"description\": \"Pourcentage de certitude (0 à 100).\",\n",
    "                            \"minimum\": 0,\n",
    "                            \"maximum\": 100,\n",
    "                        },\n",
    "                        \"analyse\": {\n",
    "                            \"type\": \"string\",\n",
    "                            \"description\": \"Analyse de la requête Google concernant l'auteur.\",\n",
    "                        },\n",
    "                    },\n",
    "                    \"required\": [\"auteur\", \"certitude\", \"analyse\"],\n",
    "                    \"additionalProperties\": False,\n",
    "                },\n",
    "            },\n",
    "        }\n",
    "\n",
    "        response = self.llm_structured_output.chat(\n",
    "            messages=[\n",
    "                ChatMessage(\n",
    "                    role=\"system\",\n",
    "                    content=\"Tu es un assistant utile qui analyse des requetes Google pour y deceler si un auteur de livre s'y cache.\",\n",
    "                ),\n",
    "                ChatMessage(\n",
    "                    role=\"user\",\n",
    "                    content=prompt_incertitude_auteur,\n",
    "                ),\n",
    "            ],\n",
    "            response_format=response_schema,\n",
    "        )\n",
    "        try:\n",
    "            json_dict = json.loads(response.message.content)\n",
    "        except json.JSONDecodeError as e:\n",
    "            print(\"Error parsing JSON:\", e)\n",
    "            print(\"Raw response:\", json_dict)\n",
    "        return json_dict\n",
    "\n",
    "    def _check_author_source(self, author: str, authors_list: list[str]) -> str | None:\n",
    "        \"\"\"Essaie de faire correspondre 'author' dans 'authors_list' et retourne la meilleure correspondance ou None.\"\"\"\n",
    "        matcher = AuthorFuzzMatcher(authors_list)\n",
    "        best_match, score = matcher.find_best_match(author)\n",
    "        if score >= score_fuzz_threshold:\n",
    "            return best_match\n",
    "        else:\n",
    "            return None\n",
    "\n",
    "    def check_author(\n",
    "        self, author: str, return_details: bool = False, verbose: bool = False\n",
    "    ) -> str | dict | None:\n",
    "        \"\"\"\n",
    "        Vérifie l'auteur en testant différentes sources et retourne soit :\n",
    "          - une chaîne (le nom corrigé) si return_details=False,\n",
    "          - ou un dictionnaire détaillé avec plusieurs informations si return_details=True.\n",
    "\n",
    "        Les étapes testées sont :\n",
    "          - rss:metadata (titre, description)\n",
    "          - mongodb:auteurs (déjà connus)\n",
    "          - llm\n",
    "          - web search\n",
    "        \"\"\"\n",
    "        details = {\"author_original\": author, \"author_corrected\": None, \"source\": None}\n",
    "\n",
    "        # 1. Vérification dans rss:metadata (titre, description)\n",
    "        match = self._check_author_source(author, self.authors_titre_description)\n",
    "        if match:\n",
    "            details[\"author_corrected\"] = match\n",
    "            details[\"source\"] = \"rss:metadata\"\n",
    "            if verbose:\n",
    "                print(f\"Trouvé avec rss:metadata: {match}\")\n",
    "            return details if return_details else match\n",
    "\n",
    "        # 2. Vérification dans la base de données (mongodb:auteurs)\n",
    "        list_db_auteurs = [auteur.nom for auteur in Auteur.get_entries()]\n",
    "        match = self._check_author_source(author, list_db_auteurs)\n",
    "        if match:\n",
    "            details[\"author_corrected\"] = match\n",
    "            details[\"source\"] = \"mongodb:auteurs\"\n",
    "            if verbose:\n",
    "                print(f\"Trouvé avec mongodb:auteurs: {match}\")\n",
    "            return details if return_details else match\n",
    "\n",
    "        # 3. Vérification via llm\n",
    "        list_llm_auteurs = self._get_authors_from_llm(author)\n",
    "        match = self._check_author_source(author, list_llm_auteurs)\n",
    "        if match:\n",
    "            details[\"author_corrected\"] = match\n",
    "            details[\"source\"] = \"llm\"\n",
    "            if verbose:\n",
    "                print(f\"Trouvé avec llm: {match}\")\n",
    "            return details if return_details else match\n",
    "\n",
    "        # 4. Vérification via web search\n",
    "        web_result_dict = self._get_author_from_web(author)\n",
    "        match = web_result_dict.get(\"auteur\")\n",
    "        score = web_result_dict.get(\"certitude\", 0)\n",
    "        # Ajout d'infos web dans le dictionnaire détaillé\n",
    "        details.update(\n",
    "            {\n",
    "                \"author_corrected\": match,\n",
    "                \"score\": score,\n",
    "                \"analyse\": web_result_dict.get(\"analyse\", \"\"),\n",
    "                \"source\": \"web search\",\n",
    "            }\n",
    "        )\n",
    "        if score >= score_fuzz_threshold:\n",
    "            if verbose:\n",
    "                print(f\"Trouvé avec web search: {match}\")\n",
    "            return details if return_details else match\n",
    "        else:\n",
    "            if verbose:\n",
    "                print(\n",
    "                    f\"Score insuffisant {score} avec web search: {web_result_dict.get('analyse', '')}\"\n",
    "                )\n",
    "                # Ajout d'infos web dans le dictionnaire détaillé\n",
    "            details.update(\n",
    "                {\n",
    "                    \"author_corrected\": None,\n",
    "                }\n",
    "            )\n",
    "            return details if return_details else None"
   ]
  },
  {
   "cell_type": "code",
   "execution_count": null,
   "metadata": {},
   "outputs": [
    {
     "name": "stdout",
     "output_type": "stream",
     "text": [
      "Trouvé avec mongodb:auteurs: Jeanne Rivière\n"
     ]
    },
    {
     "data": {
      "text/plain": [
       "'Jeanne Rivière'"
      ]
     },
     "execution_count": null,
     "metadata": {},
     "output_type": "execute_result"
    }
   ],
   "source": [
    "import datetime\n",
    "from mongo_episode import Episode\n",
    "\n",
    "episode_date = datetime.date(2025, 1, 12)\n",
    "ac = AuthorChecker(Episode.from_date(episode_date))\n",
    "ac.check_author(\"Jeanne Riviere\", verbose=True)"
   ]
  },
  {
   "cell_type": "code",
   "execution_count": null,
   "metadata": {},
   "outputs": [
    {
     "data": {
      "text/plain": [
       "{'author_original': 'Jeanne Riviere',\n",
       " 'author_corrected': 'Jeanne Rivière',\n",
       " 'source': 'mongodb:auteurs'}"
      ]
     },
     "execution_count": null,
     "metadata": {},
     "output_type": "execute_result"
    }
   ],
   "source": [
    "ac.check_author(\"Jeanne Riviere\", return_details=True)"
   ]
  },
  {
   "cell_type": "code",
   "execution_count": null,
   "metadata": {},
   "outputs": [
    {
     "name": "stdout",
     "output_type": "stream",
     "text": [
      "Score insuffisant 0 avec web search: La requête Google ne contient aucune information indiquant que Neige Sinault est un auteur de livres. Les résultats mentionnent principalement Philippe Sinault, qui est lié au sport automobile et à l'équipe Signatech-Alpine. Aucun des extraits ne fait référence à Neige Sinault en tant qu'auteur ou à des œuvres littéraires associées à ce nom. Par conséquent, il est très peu probable que Neige Sinault soit un auteur de livres.\n"
     ]
    },
    {
     "data": {
      "text/plain": [
       "{'author_original': 'Neige Sinault',\n",
       " 'author_corrected': None,\n",
       " 'source': 'web search',\n",
       " 'score': 0,\n",
       " 'analyse': \"La requête Google ne contient aucune information indiquant que Neige Sinault est un auteur de livres. Les résultats mentionnent principalement Philippe Sinault, qui est lié au sport automobile et à l'équipe Signatech-Alpine. Aucun des extraits ne fait référence à Neige Sinault en tant qu'auteur ou à des œuvres littéraires associées à ce nom. Par conséquent, il est très peu probable que Neige Sinault soit un auteur de livres.\"}"
      ]
     },
     "execution_count": null,
     "metadata": {},
     "output_type": "execute_result"
    }
   ],
   "source": [
    "ac.check_author(\"Neige Sinault\", return_details=True, verbose=True)"
   ]
  },
  {
   "cell_type": "markdown",
   "metadata": {},
   "source": [
    "# extract py"
   ]
  },
  {
   "cell_type": "code",
   "execution_count": null,
   "metadata": {},
   "outputs": [],
   "source": [
    "from nbdev.export import nb_export\n",
    "\n",
    "nb_export(\"py mongo helper auteurs.ipynb\", \".\")"
   ]
  },
  {
   "cell_type": "code",
   "execution_count": null,
   "metadata": {},
   "outputs": [],
   "source": []
  }
 ],
 "metadata": {
  "kernelspec": {
   "display_name": "python3",
   "language": "python",
   "name": "python3"
  }
 },
 "nbformat": 4,
 "nbformat_minor": 2
}
