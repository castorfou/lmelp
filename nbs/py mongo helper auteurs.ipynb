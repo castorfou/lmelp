{
 "cells": [
  {
   "cell_type": "code",
   "execution_count": null,
   "metadata": {},
   "outputs": [],
   "source": [
    "# |default_exp mongo_auteur"
   ]
  },
  {
   "cell_type": "markdown",
   "metadata": {},
   "source": [
    "# Auteur"
   ]
  },
  {
   "cell_type": "code",
   "execution_count": null,
   "metadata": {},
   "outputs": [],
   "source": [
    "# |export\n",
    "\n",
    "from mongo import BaseEntity\n",
    "\n",
    "\n",
    "class Auteur(BaseEntity):\n",
    "    collection = \"auteurs\"\n",
    "\n",
    "    def __init__(self, nom: str):\n",
    "        \"\"\"\n",
    "        Auteur is a class that represents an author in the database auteurs.\n",
    "        :param nom: The name of the author.\n",
    "        \"\"\"\n",
    "        super().__init__(nom, self.collection)"
   ]
  },
  {
   "cell_type": "code",
   "execution_count": null,
   "metadata": {},
   "outputs": [
    {
     "data": {
      "text/plain": [
       "[Marcel Proust]"
      ]
     },
     "execution_count": null,
     "metadata": {},
     "output_type": "execute_result"
    }
   ],
   "source": [
    "# liste les auteurs en base contenant le mot \"marcel\"\n",
    "Auteur.get_entries(\"marcel\")"
   ]
  },
  {
   "cell_type": "code",
   "execution_count": null,
   "metadata": {},
   "outputs": [
    {
     "name": "stdout",
     "output_type": "stream",
     "text": [
      "Est-ce que auteur1 existe ? False\n",
      "et maintenant, st-ce que auteur1 existe ? True\n",
      "et voici l'id de auteur1 : 67a67e718aa912c61607e86d\n",
      "après nettoyage, est-ce que auteur1 existe ? False\n",
      "et son oid : None\n"
     ]
    }
   ],
   "source": [
    "auteur1 = Auteur(\"Victor Hugo\")\n",
    "print(f\"Est-ce que auteur1 existe ? {auteur1.exists()}\")\n",
    "\n",
    "auteur1.keep()\n",
    "print(f\"et maintenant, st-ce que auteur1 existe ? {auteur1.exists()}\")\n",
    "print(f\"et voici l'id de auteur1 : {auteur1.get_oid()}\")\n",
    "\n",
    "auteur1.remove()\n",
    "print(f\"après nettoyage, est-ce que auteur1 existe ? {auteur1.exists()}\")\n",
    "print(f\"et son oid : {auteur1.get_oid()}\")"
   ]
  },
  {
   "cell_type": "code",
   "execution_count": null,
   "metadata": {},
   "outputs": [
    {
     "name": "stdout",
     "output_type": "stream",
     "text": [
      "{'_id': ObjectId('67a67e718aa912c61607e86f'), 'operation': 'delete', 'entite': 'auteurs', 'desc': 'Victor Hugo', 'date': datetime.datetime(2025, 2, 7, 22, 43, 13, 600000)}\n",
      "{'_id': ObjectId('67a67e718aa912c61607e86c'), 'operation': 'insert', 'entite': 'auteurs', 'desc': 'Victor Hugo', 'date': datetime.datetime(2025, 2, 7, 22, 43, 13, 587000)}\n",
      "{'_id': ObjectId('67a521ec60b4498ed3f32637'), 'operation': 'delete', 'entite': 'critiques', 'desc': 'Patricia Martin', 'date': datetime.datetime(2025, 2, 6, 21, 56, 12, 93000)}\n",
      "{'_id': ObjectId('67a521ec60b4498ed3f32634'), 'operation': 'insert', 'entite': 'critiques', 'desc': 'Patricia Martin', 'date': datetime.datetime(2025, 2, 6, 21, 56, 12, 83000)}\n",
      "{'_id': ObjectId('67a521e460b4498ed3f3262f'), 'operation': 'delete', 'entite': 'editeurs', 'desc': 'Gallimard', 'date': datetime.datetime(2025, 2, 6, 21, 56, 4, 808000)}\n"
     ]
    }
   ],
   "source": [
    "from mongo import print_logs\n",
    "\n",
    "print_logs(5)"
   ]
  },
  {
   "cell_type": "markdown",
   "metadata": {},
   "source": [
    "# extract py"
   ]
  },
  {
   "cell_type": "code",
   "execution_count": null,
   "metadata": {},
   "outputs": [],
   "source": [
    "from nbdev.export import nb_export\n",
    "\n",
    "nb_export(\"py mongo helper auteurs.ipynb\", \".\")"
   ]
  },
  {
   "cell_type": "code",
   "execution_count": null,
   "metadata": {},
   "outputs": [],
   "source": []
  }
 ],
 "metadata": {
  "kernelspec": {
   "display_name": "python3",
   "language": "python",
   "name": "python3"
  }
 },
 "nbformat": 4,
 "nbformat_minor": 2
}
