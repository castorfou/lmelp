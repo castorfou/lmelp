{
 "cells": [
  {
   "cell_type": "code",
   "execution_count": null,
   "metadata": {},
   "outputs": [],
   "source": [
    "from datetime import datetime\n",
    "import locale\n",
    "\n",
    "# Définir la locale en français\n",
    "locale.setlocale(locale.LC_TIME, \"fr_FR.UTF-8\")\n",
    "\n",
    "DATE_FORMAT = \"%d %b %Y\""
   ]
  },
  {
   "cell_type": "code",
   "execution_count": null,
   "metadata": {},
   "outputs": [],
   "source": [
    "from mongo_episode import Episodes\n",
    "import pandas as pd\n",
    "\n",
    "\n",
    "def get_episodes():\n",
    "    episodes = Episodes()\n",
    "    all_episodes = episodes.episodes\n",
    "    episodes_df = pd.DataFrame([episode.to_dict() for episode in all_episodes])\n",
    "    # episodes_df[\"date\"] = episodes_df[\"date\"].dt.strftime(\"%Y/%m/%d\")\n",
    "    episodes_df[\"duree (min)\"] = (episodes_df[\"duree\"] / 60).round(1)\n",
    "    episodes_df.drop(\n",
    "        columns=[\"url_telechargement\", \"audio_rel_filename\", \"type\", \"duree\"],\n",
    "        inplace=True,\n",
    "    )\n",
    "    return episodes_df"
   ]
  },
  {
   "cell_type": "code",
   "execution_count": null,
   "metadata": {},
   "outputs": [],
   "source": [
    "episodes_df = get_episodes()"
   ]
  },
  {
   "cell_type": "markdown",
   "metadata": {},
   "source": [
    "# doublons"
   ]
  },
  {
   "cell_type": "code",
   "execution_count": null,
   "metadata": {},
   "outputs": [
    {
     "data": {
      "text/html": [
       "<div>\n",
       "<style scoped>\n",
       "    .dataframe tbody tr th:only-of-type {\n",
       "        vertical-align: middle;\n",
       "    }\n",
       "\n",
       "    .dataframe tbody tr th {\n",
       "        vertical-align: top;\n",
       "    }\n",
       "\n",
       "    .dataframe thead th {\n",
       "        text-align: right;\n",
       "    }\n",
       "</style>\n",
       "<table border=\"1\" class=\"dataframe\">\n",
       "  <thead>\n",
       "    <tr style=\"text-align: right;\">\n",
       "      <th></th>\n",
       "      <th>date</th>\n",
       "      <th>titre</th>\n",
       "      <th>description</th>\n",
       "      <th>transcription</th>\n",
       "      <th>duree (min)</th>\n",
       "    </tr>\n",
       "  </thead>\n",
       "  <tbody>\n",
       "    <tr>\n",
       "      <th>0</th>\n",
       "      <td>2025-01-26 10:59:39</td>\n",
       "      <td>Les nouveaux romans de Leïla Slimani, Pierre L...</td>\n",
       "      <td>durée : 00:47:56 - Le Masque et la Plume - par...</td>\n",
       "      <td>France Inter Le masque et la plume Le sommair...</td>\n",
       "      <td>47.9</td>\n",
       "    </tr>\n",
       "    <tr>\n",
       "      <th>1</th>\n",
       "      <td>2025-01-12 08:59:39</td>\n",
       "      <td>Les nouvelles pages de Vanessa Springora, Haru...</td>\n",
       "      <td>durée : 00:48:41 - Le Masque et la Plume - par...</td>\n",
       "      <td>France Inter Le masque et la plume Premier ma...</td>\n",
       "      <td>48.7</td>\n",
       "    </tr>\n",
       "    <tr>\n",
       "      <th>2</th>\n",
       "      <td>2024-12-22 09:59:39</td>\n",
       "      <td>Les nouvelles pages de Marc Dugain, Emmanuelle...</td>\n",
       "      <td>durée : 00:47:52 - Le Masque et la Plume - par...</td>\n",
       "      <td>France Inter Le masque et la plume Cinq roman...</td>\n",
       "      <td>47.9</td>\n",
       "    </tr>\n",
       "    <tr>\n",
       "      <th>3</th>\n",
       "      <td>2024-12-01 09:59:39</td>\n",
       "      <td>Les nouvelles pages de James Ellroy, Yasmina R...</td>\n",
       "      <td>durée : 00:47:17 - Le Masque et la Plume - par...</td>\n",
       "      <td>France Inter Le masque et la plume Les nouvea...</td>\n",
       "      <td>47.3</td>\n",
       "    </tr>\n",
       "    <tr>\n",
       "      <th>4</th>\n",
       "      <td>2024-11-10 09:59:39</td>\n",
       "      <td>La foire du livre de Brive : les romans de Dan...</td>\n",
       "      <td>durée : 00:46:03 - Le Masque et la Plume - par...</td>\n",
       "      <td>France Inter Le masque et la plume Bienvenue ...</td>\n",
       "      <td>46.0</td>\n",
       "    </tr>\n",
       "    <tr>\n",
       "      <th>...</th>\n",
       "      <td>...</td>\n",
       "      <td>...</td>\n",
       "      <td>...</td>\n",
       "      <td>...</td>\n",
       "      <td>...</td>\n",
       "    </tr>\n",
       "    <tr>\n",
       "      <th>201</th>\n",
       "      <td>1961-11-16 00:00:00</td>\n",
       "      <td>Le Masque et les Goncourt : \"La Pitié de Dieu\"...</td>\n",
       "      <td>Le\\n journaliste et écrivain Jean Cau répond a...</td>\n",
       "      <td>France Inter Ça a été votre disparition il y ...</td>\n",
       "      <td>9.0</td>\n",
       "    </tr>\n",
       "    <tr>\n",
       "      <th>202</th>\n",
       "      <td>1961-11-16 00:00:00</td>\n",
       "      <td>Le Masque et les Goncourt : \"L'Etat sauvage\" d...</td>\n",
       "      <td>En\\n 1964, les critiques du \"Masque et la plum...</td>\n",
       "      <td>France Inter en effet il y a plusieurs mois e...</td>\n",
       "      <td>5.0</td>\n",
       "    </tr>\n",
       "    <tr>\n",
       "      <th>203</th>\n",
       "      <td>1960-12-15 00:00:00</td>\n",
       "      <td>Le Masque et les Goncourt : \"Dieu est né en ex...</td>\n",
       "      <td>En\\n 1960, le prix Goncourt est attribué à Vin...</td>\n",
       "      <td>France Inter Qu'il s'agit encore une fois de ...</td>\n",
       "      <td>1.0</td>\n",
       "    </tr>\n",
       "    <tr>\n",
       "      <th>204</th>\n",
       "      <td>1959-11-19 00:00:00</td>\n",
       "      <td>Le Masque et les Goncourt : \"Le Dernier des ju...</td>\n",
       "      <td>Un\\n livre extraordinairement émouvant, \"Le De...</td>\n",
       "      <td>France Inter Commençons par le grand cours qu...</td>\n",
       "      <td>8.0</td>\n",
       "    </tr>\n",
       "    <tr>\n",
       "      <th>205</th>\n",
       "      <td>1958-12-18 00:00:00</td>\n",
       "      <td>Le Masque et les Goncourt : \"Saint-Germain ou ...</td>\n",
       "      <td>En\\n 1958, les jurés du Prix Goncourt récompen...</td>\n",
       "      <td>France Inter il est évident que nous l'avons ...</td>\n",
       "      <td>6.0</td>\n",
       "    </tr>\n",
       "  </tbody>\n",
       "</table>\n",
       "<p>206 rows × 5 columns</p>\n",
       "</div>"
      ],
      "text/plain": [
       "                   date                                              titre  \\\n",
       "0   2025-01-26 10:59:39  Les nouveaux romans de Leïla Slimani, Pierre L...   \n",
       "1   2025-01-12 08:59:39  Les nouvelles pages de Vanessa Springora, Haru...   \n",
       "2   2024-12-22 09:59:39  Les nouvelles pages de Marc Dugain, Emmanuelle...   \n",
       "3   2024-12-01 09:59:39  Les nouvelles pages de James Ellroy, Yasmina R...   \n",
       "4   2024-11-10 09:59:39  La foire du livre de Brive : les romans de Dan...   \n",
       "..                  ...                                                ...   \n",
       "201 1961-11-16 00:00:00  Le Masque et les Goncourt : \"La Pitié de Dieu\"...   \n",
       "202 1961-11-16 00:00:00  Le Masque et les Goncourt : \"L'Etat sauvage\" d...   \n",
       "203 1960-12-15 00:00:00  Le Masque et les Goncourt : \"Dieu est né en ex...   \n",
       "204 1959-11-19 00:00:00  Le Masque et les Goncourt : \"Le Dernier des ju...   \n",
       "205 1958-12-18 00:00:00  Le Masque et les Goncourt : \"Saint-Germain ou ...   \n",
       "\n",
       "                                           description  \\\n",
       "0    durée : 00:47:56 - Le Masque et la Plume - par...   \n",
       "1    durée : 00:48:41 - Le Masque et la Plume - par...   \n",
       "2    durée : 00:47:52 - Le Masque et la Plume - par...   \n",
       "3    durée : 00:47:17 - Le Masque et la Plume - par...   \n",
       "4    durée : 00:46:03 - Le Masque et la Plume - par...   \n",
       "..                                                 ...   \n",
       "201  Le\\n journaliste et écrivain Jean Cau répond a...   \n",
       "202  En\\n 1964, les critiques du \"Masque et la plum...   \n",
       "203  En\\n 1960, le prix Goncourt est attribué à Vin...   \n",
       "204  Un\\n livre extraordinairement émouvant, \"Le De...   \n",
       "205  En\\n 1958, les jurés du Prix Goncourt récompen...   \n",
       "\n",
       "                                         transcription  duree (min)  \n",
       "0     France Inter Le masque et la plume Le sommair...         47.9  \n",
       "1     France Inter Le masque et la plume Premier ma...         48.7  \n",
       "2     France Inter Le masque et la plume Cinq roman...         47.9  \n",
       "3     France Inter Le masque et la plume Les nouvea...         47.3  \n",
       "4     France Inter Le masque et la plume Bienvenue ...         46.0  \n",
       "..                                                 ...          ...  \n",
       "201   France Inter Ça a été votre disparition il y ...          9.0  \n",
       "202   France Inter en effet il y a plusieurs mois e...          5.0  \n",
       "203   France Inter Qu'il s'agit encore une fois de ...          1.0  \n",
       "204   France Inter Commençons par le grand cours qu...          8.0  \n",
       "205   France Inter il est évident que nous l'avons ...          6.0  \n",
       "\n",
       "[206 rows x 5 columns]"
      ]
     },
     "execution_count": null,
     "metadata": {},
     "output_type": "execute_result"
    }
   ],
   "source": [
    "episodes_df"
   ]
  },
  {
   "cell_type": "code",
   "execution_count": null,
   "metadata": {},
   "outputs": [
    {
     "data": {
      "text/plain": [
       "date\n",
       "2022-10-02    3\n",
       "2021-11-28    2\n",
       "2018-11-25    2\n",
       "2019-09-15    2\n",
       "2020-11-01    2\n",
       "2017-07-02    2\n",
       "2016-09-11    2\n",
       "1961-11-16    2\n",
       "Name: count, dtype: int64"
      ]
     },
     "execution_count": null,
     "metadata": {},
     "output_type": "execute_result"
    }
   ],
   "source": [
    "# Calculer le nombre d'occurrences de chaque date\n",
    "date_counts = episodes_df[\"date\"].value_counts()\n",
    "\n",
    "# Filtrer les dates qui apparaissent plus d'une fois\n",
    "dates_with_multiple_episodes = date_counts[date_counts > 1]\n",
    "dates_with_multiple_episodes"
   ]
  },
  {
   "cell_type": "code",
   "execution_count": null,
   "metadata": {},
   "outputs": [
    {
     "data": {
      "text/html": [
       "<div>\n",
       "<style scoped>\n",
       "    .dataframe tbody tr th:only-of-type {\n",
       "        vertical-align: middle;\n",
       "    }\n",
       "\n",
       "    .dataframe tbody tr th {\n",
       "        vertical-align: top;\n",
       "    }\n",
       "\n",
       "    .dataframe thead th {\n",
       "        text-align: right;\n",
       "    }\n",
       "</style>\n",
       "<table border=\"1\" class=\"dataframe\">\n",
       "  <thead>\n",
       "    <tr style=\"text-align: right;\">\n",
       "      <th></th>\n",
       "      <th>date</th>\n",
       "      <th>titre</th>\n",
       "      <th>description</th>\n",
       "      <th>transcription</th>\n",
       "      <th>duree (min)</th>\n",
       "    </tr>\n",
       "  </thead>\n",
       "  <tbody>\n",
       "    <tr>\n",
       "      <th>41</th>\n",
       "      <td>2022-10-02</td>\n",
       "      <td>Les nouvelles pages de Jonathan Franzen, Simon...</td>\n",
       "      <td>Les\\n critiques ont-ils apprécié la lecture de...</td>\n",
       "      <td>France Inter Le masque et la plume Bonsoir à ...</td>\n",
       "      <td>54.0</td>\n",
       "    </tr>\n",
       "    <tr>\n",
       "      <th>42</th>\n",
       "      <td>2022-10-02</td>\n",
       "      <td>Le Masque et les Goncourt : \"Veiller sur elle\"...</td>\n",
       "      <td>Trop\\n cliché ou roman populaire de qualité? E...</td>\n",
       "      <td>France Inter. Et on commence avec le lauréat ...</td>\n",
       "      <td>10.0</td>\n",
       "    </tr>\n",
       "    <tr>\n",
       "      <th>43</th>\n",
       "      <td>2022-10-02</td>\n",
       "      <td>Le Masque et les Goncourt : \"Vivre vite\" de Br...</td>\n",
       "      <td>Avec\\n \"Vivre vite\", Brigitte Giraud revient s...</td>\n",
       "      <td>France Inter. Et on commence avec Vivre vite ...</td>\n",
       "      <td>8.0</td>\n",
       "    </tr>\n",
       "    <tr>\n",
       "      <th>58</th>\n",
       "      <td>2021-11-28</td>\n",
       "      <td>Le Masque et les Goncourt : \"La plus secrète m...</td>\n",
       "      <td>Un\\n débat littéraire captivant où les critiqu...</td>\n",
       "      <td>France Inter. Et on commence avec le prix Gon...</td>\n",
       "      <td>10.0</td>\n",
       "    </tr>\n",
       "    <tr>\n",
       "      <th>59</th>\n",
       "      <td>2021-11-28</td>\n",
       "      <td>Que valent les derniers livres de Richard Ford...</td>\n",
       "      <td>Entre\\n \"Rien à déclarer\" de Richard Ford, \"La...</td>\n",
       "      <td>France Inter Le masque et la plume Musique Mu...</td>\n",
       "      <td>54.0</td>\n",
       "    </tr>\n",
       "    <tr>\n",
       "      <th>83</th>\n",
       "      <td>2020-11-01</td>\n",
       "      <td>Livres : les nouveaux opus de Ken Follett, Fat...</td>\n",
       "      <td>Faut-\\nil lire \"Le Crépuscule et l’Aube\", de K...</td>\n",
       "      <td>France Inter Le masque et la plume Bonsoir à ...</td>\n",
       "      <td>52.0</td>\n",
       "    </tr>\n",
       "    <tr>\n",
       "      <th>84</th>\n",
       "      <td>2020-11-01</td>\n",
       "      <td>Le Masque et les Goncourt : \"L'Anomalie\" d'Her...</td>\n",
       "      <td>Dans\\n cette émission, nos intervenants s'atta...</td>\n",
       "      <td>France Inter. Et maintenant le roman qui a dé...</td>\n",
       "      <td>11.0</td>\n",
       "    </tr>\n",
       "    <tr>\n",
       "      <th>102</th>\n",
       "      <td>2019-09-15</td>\n",
       "      <td>Cécile Guilbert, Lionel Duroy, Emma Becker, Je...</td>\n",
       "      <td>\"Ecrits\\n stupéfiants\" de Cécile Guilbert, \"No...</td>\n",
       "      <td>France Inter Le masque et la plume consacré à...</td>\n",
       "      <td>53.0</td>\n",
       "    </tr>\n",
       "    <tr>\n",
       "      <th>103</th>\n",
       "      <td>2019-09-15</td>\n",
       "      <td>Le Masque et les Goncourt : \"Tous les hommes n...</td>\n",
       "      <td>Les\\n critiques ne sont pas d'accord à propos ...</td>\n",
       "      <td>France Inter. la prison de Bordeaux, à Montré...</td>\n",
       "      <td>9.0</td>\n",
       "    </tr>\n",
       "    <tr>\n",
       "      <th>117</th>\n",
       "      <td>2018-11-25</td>\n",
       "      <td>Haruki Murakami, Jane Birkin, Benoît Duteurtre...</td>\n",
       "      <td>Nos\\n critiques aiment-ils “Le Meurtre du Comm...</td>\n",
       "      <td>France Inter Le masque et la plume Bonsoir à ...</td>\n",
       "      <td>54.0</td>\n",
       "    </tr>\n",
       "    <tr>\n",
       "      <th>118</th>\n",
       "      <td>2018-11-25</td>\n",
       "      <td>Le Masque et les Goncourt : \"Leurs enfants apr...</td>\n",
       "      <td>Dans\\n cet extrait du Masque et la plume, nos ...</td>\n",
       "      <td>France Inter roman de 430 pages qui raconte l...</td>\n",
       "      <td>9.0</td>\n",
       "    </tr>\n",
       "    <tr>\n",
       "      <th>142</th>\n",
       "      <td>2017-07-02</td>\n",
       "      <td>Le masque et la plume livres</td>\n",
       "      <td>Vernon\\n Subutex 3, V. Despentes / Les Jours e...</td>\n",
       "      <td>France Inter Le masque et la plume Bonsoir à ...</td>\n",
       "      <td>54.0</td>\n",
       "    </tr>\n",
       "    <tr>\n",
       "      <th>143</th>\n",
       "      <td>2017-07-02</td>\n",
       "      <td>Le Masque et les Goncourt : \"L'Ordre du jour\" ...</td>\n",
       "      <td>Dans\\n l'émission \"Le Masque et la plume\", ani...</td>\n",
       "      <td>France Inter. diplomatiques, plutôt les march...</td>\n",
       "      <td>4.0</td>\n",
       "    </tr>\n",
       "    <tr>\n",
       "      <th>153</th>\n",
       "      <td>2016-09-11</td>\n",
       "      <td>Le masque et la plume à Nancy</td>\n",
       "      <td>«Le\\n Grand jeu», Céline Minard/«Chanson douce...</td>\n",
       "      <td>France Inter Le masque et la plume. Musique B...</td>\n",
       "      <td>54.0</td>\n",
       "    </tr>\n",
       "    <tr>\n",
       "      <th>154</th>\n",
       "      <td>2016-09-11</td>\n",
       "      <td>Le Masque et les Goncourt : \"Chanson douce\" de...</td>\n",
       "      <td>Dans\\n cet extrait du Masque et la Plume, l'éq...</td>\n",
       "      <td>France Inter Une chanson douce chez Gallimard...</td>\n",
       "      <td>8.0</td>\n",
       "    </tr>\n",
       "    <tr>\n",
       "      <th>201</th>\n",
       "      <td>1961-11-16</td>\n",
       "      <td>Le Masque et les Goncourt : \"La Pitié de Dieu\"...</td>\n",
       "      <td>Le\\n journaliste et écrivain Jean Cau répond a...</td>\n",
       "      <td>France Inter Ça a été votre disparition il y ...</td>\n",
       "      <td>9.0</td>\n",
       "    </tr>\n",
       "    <tr>\n",
       "      <th>202</th>\n",
       "      <td>1961-11-16</td>\n",
       "      <td>Le Masque et les Goncourt : \"L'Etat sauvage\" d...</td>\n",
       "      <td>En\\n 1964, les critiques du \"Masque et la plum...</td>\n",
       "      <td>France Inter en effet il y a plusieurs mois e...</td>\n",
       "      <td>5.0</td>\n",
       "    </tr>\n",
       "  </tbody>\n",
       "</table>\n",
       "</div>"
      ],
      "text/plain": [
       "          date                                              titre  \\\n",
       "41  2022-10-02  Les nouvelles pages de Jonathan Franzen, Simon...   \n",
       "42  2022-10-02  Le Masque et les Goncourt : \"Veiller sur elle\"...   \n",
       "43  2022-10-02  Le Masque et les Goncourt : \"Vivre vite\" de Br...   \n",
       "58  2021-11-28  Le Masque et les Goncourt : \"La plus secrète m...   \n",
       "59  2021-11-28  Que valent les derniers livres de Richard Ford...   \n",
       "83  2020-11-01  Livres : les nouveaux opus de Ken Follett, Fat...   \n",
       "84  2020-11-01  Le Masque et les Goncourt : \"L'Anomalie\" d'Her...   \n",
       "102 2019-09-15  Cécile Guilbert, Lionel Duroy, Emma Becker, Je...   \n",
       "103 2019-09-15  Le Masque et les Goncourt : \"Tous les hommes n...   \n",
       "117 2018-11-25  Haruki Murakami, Jane Birkin, Benoît Duteurtre...   \n",
       "118 2018-11-25  Le Masque et les Goncourt : \"Leurs enfants apr...   \n",
       "142 2017-07-02                       Le masque et la plume livres   \n",
       "143 2017-07-02  Le Masque et les Goncourt : \"L'Ordre du jour\" ...   \n",
       "153 2016-09-11                      Le masque et la plume à Nancy   \n",
       "154 2016-09-11  Le Masque et les Goncourt : \"Chanson douce\" de...   \n",
       "201 1961-11-16  Le Masque et les Goncourt : \"La Pitié de Dieu\"...   \n",
       "202 1961-11-16  Le Masque et les Goncourt : \"L'Etat sauvage\" d...   \n",
       "\n",
       "                                           description  \\\n",
       "41   Les\\n critiques ont-ils apprécié la lecture de...   \n",
       "42   Trop\\n cliché ou roman populaire de qualité? E...   \n",
       "43   Avec\\n \"Vivre vite\", Brigitte Giraud revient s...   \n",
       "58   Un\\n débat littéraire captivant où les critiqu...   \n",
       "59   Entre\\n \"Rien à déclarer\" de Richard Ford, \"La...   \n",
       "83   Faut-\\nil lire \"Le Crépuscule et l’Aube\", de K...   \n",
       "84   Dans\\n cette émission, nos intervenants s'atta...   \n",
       "102  \"Ecrits\\n stupéfiants\" de Cécile Guilbert, \"No...   \n",
       "103  Les\\n critiques ne sont pas d'accord à propos ...   \n",
       "117  Nos\\n critiques aiment-ils “Le Meurtre du Comm...   \n",
       "118  Dans\\n cet extrait du Masque et la plume, nos ...   \n",
       "142  Vernon\\n Subutex 3, V. Despentes / Les Jours e...   \n",
       "143  Dans\\n l'émission \"Le Masque et la plume\", ani...   \n",
       "153  «Le\\n Grand jeu», Céline Minard/«Chanson douce...   \n",
       "154  Dans\\n cet extrait du Masque et la Plume, l'éq...   \n",
       "201  Le\\n journaliste et écrivain Jean Cau répond a...   \n",
       "202  En\\n 1964, les critiques du \"Masque et la plum...   \n",
       "\n",
       "                                         transcription  duree (min)  \n",
       "41    France Inter Le masque et la plume Bonsoir à ...         54.0  \n",
       "42    France Inter. Et on commence avec le lauréat ...         10.0  \n",
       "43    France Inter. Et on commence avec Vivre vite ...          8.0  \n",
       "58    France Inter. Et on commence avec le prix Gon...         10.0  \n",
       "59    France Inter Le masque et la plume Musique Mu...         54.0  \n",
       "83    France Inter Le masque et la plume Bonsoir à ...         52.0  \n",
       "84    France Inter. Et maintenant le roman qui a dé...         11.0  \n",
       "102   France Inter Le masque et la plume consacré à...         53.0  \n",
       "103   France Inter. la prison de Bordeaux, à Montré...          9.0  \n",
       "117   France Inter Le masque et la plume Bonsoir à ...         54.0  \n",
       "118   France Inter roman de 430 pages qui raconte l...          9.0  \n",
       "142   France Inter Le masque et la plume Bonsoir à ...         54.0  \n",
       "143   France Inter. diplomatiques, plutôt les march...          4.0  \n",
       "153   France Inter Le masque et la plume. Musique B...         54.0  \n",
       "154   France Inter Une chanson douce chez Gallimard...          8.0  \n",
       "201   France Inter Ça a été votre disparition il y ...          9.0  \n",
       "202   France Inter en effet il y a plusieurs mois e...          5.0  "
      ]
     },
     "execution_count": null,
     "metadata": {},
     "output_type": "execute_result"
    }
   ],
   "source": [
    "episodes_df[episodes_df[\"date\"].isin(dates_with_multiple_episodes.index)]"
   ]
  },
  {
   "cell_type": "code",
   "execution_count": null,
   "metadata": {},
   "outputs": [
    {
     "data": {
      "text/plain": [
       "<DatetimeArray>\n",
       "['2022-10-02 00:00:00', '2021-11-28 00:00:00', '2020-11-01 00:00:00',\n",
       " '2019-09-15 00:00:00', '2018-11-25 00:00:00', '2017-07-02 00:00:00',\n",
       " '2016-09-11 00:00:00', '1961-11-16 00:00:00']\n",
       "Length: 8, dtype: datetime64[ns]"
      ]
     },
     "execution_count": null,
     "metadata": {},
     "output_type": "execute_result"
    }
   ],
   "source": [
    "episodes_df[episodes_df[\"date\"].isin(dates_with_multiple_episodes.index)][\n",
    "    \"date\"\n",
    "].unique()"
   ]
  },
  {
   "cell_type": "code",
   "execution_count": null,
   "metadata": {},
   "outputs": [],
   "source": [
    "def print_ligne(row_num: int, episodes_df=episodes_df):\n",
    "    row = episodes_df.iloc[row_num]\n",
    "    date = row[\"date\"].strftime(DATE_FORMAT)\n",
    "    titre = row[\"titre\"]\n",
    "    duree = row[\"duree (min)\"]\n",
    "    print(f\"[{row_num}] {date} - {titre} ({duree} min)\")"
   ]
  },
  {
   "cell_type": "code",
   "execution_count": null,
   "metadata": {},
   "outputs": [
    {
     "name": "stdout",
     "output_type": "stream",
     "text": [
      "[0] 26 janv. 2025 - Les nouveaux romans de Leïla Slimani, Pierre Lemaître, Jeanne Rivière, Nathalie Azoulai, Milena Agus (47.9 min)\n"
     ]
    }
   ],
   "source": [
    "print_ligne(0)"
   ]
  },
  {
   "cell_type": "code",
   "execution_count": null,
   "metadata": {},
   "outputs": [],
   "source": [
    "def print_ligne_from_date(date: str, episodes_df=episodes_df):\n",
    "    sous_episode_df = episodes_df[episodes_df[\"date\"] == date]\n",
    "    for index in sous_episode_df.index:\n",
    "        print_ligne(index)"
   ]
  },
  {
   "cell_type": "code",
   "execution_count": null,
   "metadata": {},
   "outputs": [
    {
     "name": "stdout",
     "output_type": "stream",
     "text": [
      "[41] 02 oct. 2022 - Les nouvelles pages de Jonathan Franzen, Simon Liberati, Lola Lafon, Brigitte Giraud… (54.0 min)\n",
      "[42] 02 oct. 2022 - Le Masque et les Goncourt : \"Veiller sur elle\" de Jean-Baptiste Andréa, 2023 (10.0 min)\n",
      "[43] 02 oct. 2022 - Le Masque et les Goncourt : \"Vivre vite\" de Brigitte Giraud, 2022 (8.0 min)\n"
     ]
    }
   ],
   "source": [
    "print_ligne_from_date(\"2022-10-02\")"
   ]
  },
  {
   "cell_type": "markdown",
   "metadata": {},
   "source": [
    "## 2022-10-02"
   ]
  },
  {
   "cell_type": "code",
   "execution_count": null,
   "metadata": {},
   "outputs": [
    {
     "name": "stdout",
     "output_type": "stream",
     "text": [
      "[41] 02 oct. 2022 - Les nouvelles pages de Jonathan Franzen, Simon Liberati, Lola Lafon, Brigitte Giraud… (54.0 min)\n",
      "[42] 02 oct. 2022 - Le Masque et les Goncourt : \"Veiller sur elle\" de Jean-Baptiste Andréa, 2023 (10.0 min)\n",
      "[43] 02 oct. 2022 - Le Masque et les Goncourt : \"Vivre vite\" de Brigitte Giraud, 2022 (8.0 min)\n"
     ]
    }
   ],
   "source": [
    "print_ligne_from_date(\"2022-10-02\")"
   ]
  },
  {
   "cell_type": "markdown",
   "metadata": {},
   "source": [
    "[42] erreur de date, je ne connais pas la date de diffusion mais le goncourt a ete decerne le 7 novembre 2023"
   ]
  },
  {
   "cell_type": "markdown",
   "metadata": {},
   "source": [
    "[43] date goncourt - 03 oct. 2022"
   ]
  },
  {
   "cell_type": "markdown",
   "metadata": {},
   "source": [
    "## 2021-11-28"
   ]
  },
  {
   "cell_type": "code",
   "execution_count": null,
   "metadata": {},
   "outputs": [
    {
     "name": "stdout",
     "output_type": "stream",
     "text": [
      "[58] 28 nov. 2021 - Le Masque et les Goncourt : \"La plus secrète mémoire des hommes\" de Mohamed Mbougar Sarr, 2021 (10.0 min)\n",
      "[59] 28 nov. 2021 - Que valent les derniers livres de Richard Ford, Anne Berest, Jean-Christophe Rufin, Mohamed Mbougar Sarr… ? (54.0 min)\n"
     ]
    }
   ],
   "source": [
    "print_ligne_from_date(\"2021-11-28\")"
   ]
  },
  {
   "cell_type": "markdown",
   "metadata": {},
   "source": [
    "[58] 29 nov. 2021"
   ]
  },
  {
   "cell_type": "markdown",
   "metadata": {},
   "source": [
    "\n",
    "## 2020-11-01"
   ]
  },
  {
   "cell_type": "code",
   "execution_count": null,
   "metadata": {},
   "outputs": [
    {
     "name": "stdout",
     "output_type": "stream",
     "text": [
      "[83] 01 nov. 2020 - Livres : les nouveaux opus de Ken Follett, Fatima Daas, Julian Barnes, Hervé Le Tellier, Muriel Barbery (52.0 min)\n",
      "[84] 01 nov. 2020 - Le Masque et les Goncourt : \"L'Anomalie\" d'Hervé Le Tellier, 2020 (11.0 min)\n"
     ]
    }
   ],
   "source": [
    "print_ligne_from_date(\"2020-11-01\")"
   ]
  },
  {
   "cell_type": "markdown",
   "metadata": {},
   "source": [
    "[84] 02 nov. 2020"
   ]
  },
  {
   "cell_type": "markdown",
   "metadata": {},
   "source": [
    "## 2019-09-15"
   ]
  },
  {
   "cell_type": "code",
   "execution_count": null,
   "metadata": {},
   "outputs": [
    {
     "name": "stdout",
     "output_type": "stream",
     "text": [
      "[102] 15 sept. 2019 - Cécile Guilbert, Lionel Duroy, Emma Becker, Jean-Paul Dubois et Jonathan Coe valent-ils la peine d'être lus ? (53.0 min)\n",
      "[103] 15 sept. 2019 - Le Masque et les Goncourt : \"Tous les hommes n'habitent pas le monde de la même façon\" de Jean-Paul Dubois, 2019 (9.0 min)\n"
     ]
    }
   ],
   "source": [
    "print_ligne_from_date(\"2019-09-15\")"
   ]
  },
  {
   "cell_type": "markdown",
   "metadata": {},
   "source": [
    "[103] 16 sept. 2019"
   ]
  },
  {
   "cell_type": "markdown",
   "metadata": {},
   "source": [
    "## 2018-11-25"
   ]
  },
  {
   "cell_type": "code",
   "execution_count": null,
   "metadata": {},
   "outputs": [
    {
     "name": "stdout",
     "output_type": "stream",
     "text": [
      "[117] 25 nov. 2018 - Haruki Murakami, Jane Birkin, Benoît Duteurtre, Nicolas Mathieu… Quels sont les auteurs à ne pas manquer ? (54.0 min)\n",
      "[118] 25 nov. 2018 - Le Masque et les Goncourt : \"Leurs enfants après eux\" de Nicolas Mathieu, 2018 (9.0 min)\n"
     ]
    }
   ],
   "source": [
    "print_ligne_from_date(\"2018-11-25\")"
   ]
  },
  {
   "cell_type": "markdown",
   "metadata": {},
   "source": [
    "[118] - 26 nov. 2018"
   ]
  },
  {
   "cell_type": "markdown",
   "metadata": {},
   "source": [
    "## 2017-07-02"
   ]
  },
  {
   "cell_type": "code",
   "execution_count": null,
   "metadata": {},
   "outputs": [
    {
     "name": "stdout",
     "output_type": "stream",
     "text": [
      "[142] 02 juil. 2017 - Le masque et la plume livres (54.0 min)\n",
      "[143] 02 juil. 2017 - Le Masque et les Goncourt : \"L'Ordre du jour\" d'Eric Vuillard, 2017 (4.0 min)\n"
     ]
    }
   ],
   "source": [
    "print_ligne_from_date(\"2017-07-02\")"
   ]
  },
  {
   "cell_type": "markdown",
   "metadata": {},
   "source": [
    "[143] - 03 juil. 2017"
   ]
  },
  {
   "cell_type": "markdown",
   "metadata": {},
   "source": [
    "## 2016-09-11"
   ]
  },
  {
   "cell_type": "code",
   "execution_count": null,
   "metadata": {},
   "outputs": [
    {
     "name": "stdout",
     "output_type": "stream",
     "text": [
      "[153] 11 sept. 2016 - Le masque et la plume à Nancy (54.0 min)\n",
      "[154] 11 sept. 2016 - Le Masque et les Goncourt : \"Chanson douce\" de Leïla Slimani, 2016 (8.0 min)\n"
     ]
    }
   ],
   "source": [
    "print_ligne_from_date(\"2016-09-11\")"
   ]
  },
  {
   "cell_type": "markdown",
   "metadata": {},
   "source": [
    "[154] - 12 sept. 2016"
   ]
  },
  {
   "cell_type": "markdown",
   "metadata": {},
   "source": [
    "## 1961-11-16"
   ]
  },
  {
   "cell_type": "code",
   "execution_count": null,
   "metadata": {},
   "outputs": [
    {
     "name": "stdout",
     "output_type": "stream",
     "text": [
      "[201] 16 nov. 1961 - Le Masque et les Goncourt : \"La Pitié de Dieu\" de Jean Cau, 1961 (9.0 min)\n",
      "[202] 16 nov. 1961 - Le Masque et les Goncourt : \"L'Etat sauvage\" de Georges Conchon, 1964 (5.0 min)\n"
     ]
    }
   ],
   "source": [
    "print_ligne_from_date(\"1961-11-16\")"
   ]
  },
  {
   "cell_type": "markdown",
   "metadata": {},
   "source": [
    "[202] - date a changer en 18 nov. 1964"
   ]
  },
  {
   "cell_type": "markdown",
   "metadata": {},
   "source": [
    "# actions"
   ]
  },
  {
   "cell_type": "markdown",
   "metadata": {},
   "source": [
    "```text\n",
    "[42] - date a changer en 07 nov. 2023\n",
    "[43] - date a changer en 03 oct. 2022\n",
    "[58] - date a changer en 29 nov. 2021\n",
    "[84] - date a changer en 02 nov. 2020\n",
    "[103] - date a changer en 16 sept. 2019\n",
    "[118] - date a changer en 26 nov. 2018\n",
    "[143] - date a changer en 03 juil. 2017\n",
    "[154] - date a changer en 12 sept. 2016\n",
    "[202] - date a changer en 18 nov. 1964\n",
    "```\n"
   ]
  },
  {
   "cell_type": "markdown",
   "metadata": {},
   "source": [
    "# correction"
   ]
  },
  {
   "cell_type": "markdown",
   "metadata": {},
   "source": [
    "faire une fonction qui prend en entree la ligne et la nouvelle date\n",
    "\n",
    "et qui retrouve l'entree DB avec la ligne en passant date et titre, et modifie la date et sauve en db"
   ]
  },
  {
   "cell_type": "code",
   "execution_count": null,
   "metadata": {},
   "outputs": [
    {
     "name": "stdout",
     "output_type": "stream",
     "text": [
      "[42] 02 oct. 2022 - Le Masque et les Goncourt : \"Veiller sur elle\" de Jean-Baptiste Andréa, 2023 (10.0 min)\n"
     ]
    }
   ],
   "source": [
    "print_ligne(42)"
   ]
  },
  {
   "cell_type": "code",
   "execution_count": null,
   "metadata": {},
   "outputs": [],
   "source": [
    "from mongo_episode import Episode\n",
    "\n",
    "\n",
    "def ajuste_date(row_id, nouvelle_date: str, episodes_df=episodes_df):\n",
    "    \"\"\"\n",
    "    ajuste la date de la ligne row_id à la nouvelle date\n",
    "    la nouvelle date a le format \"%Y-%m-%d\"\n",
    "    l'ajustement ne se fait ssi l'ancienne date a des doublons (cad que date(row_id) est au moins 2 fois dans le dataframe)\n",
    "    \"\"\"\n",
    "    ancienne_date = episodes_df.loc[row_id, \"date\"]\n",
    "    titre = episodes_df.loc[row_id, \"titre\"]\n",
    "    # Calculer le nombre d'occurrences de chaque date\n",
    "    date_counts = episodes_df[\"date\"].value_counts()\n",
    "\n",
    "    # Filtrer les dates qui apparaissent plus d'une fois\n",
    "    dates_with_multiple_episodes = date_counts[date_counts > 1]\n",
    "\n",
    "    if ancienne_date in dates_with_multiple_episodes.index:\n",
    "        date_str = ancienne_date.strftime(\"%Y-%m-%dT%H:%M:%S\")\n",
    "        episode = Episode(date_str, titre)\n",
    "        nouvelle_date_datetime = Episode.get_date_from_string(nouvelle_date, \"%Y-%m-%d\")\n",
    "        episode.update_date(nouvelle_date_datetime)\n",
    "        print(f\"{episode}\")\n",
    "        episodes_df.loc[row_id, \"date\"] = nouvelle_date_datetime\n",
    "        print(f\"Date ajustée de {ancienne_date} à {nouvelle_date}\")\n",
    "    else:\n",
    "        print(\n",
    "            f\"Impossible d'ajuster la date de {ancienne_date} à {nouvelle_date} car la date n'a pas de doublons\"\n",
    "        )"
   ]
  },
  {
   "cell_type": "code",
   "execution_count": null,
   "metadata": {},
   "outputs": [
    {
     "name": "stdout",
     "output_type": "stream",
     "text": [
      "\n",
      "        _oid: 678ccec4a414f2298877813f\n",
      "        Date: 07 nov. 2023 00:00\n",
      "        Titre: Le Masque et les Goncourt : \"Veiller sur elle\" de Jean-Baptiste Andréa, 2023\n",
      "        Description: None\n",
      "        URL de téléchargement: None\n",
      "        Fichier audio: None\n",
      "        Duree: -1 en secondes (-00:00:01)\n",
      "        Transcription: No transcription yet available...\n",
      "        \n",
      "Date ajustée de 2022-10-02 00:00:00 à 2023-11-07\n"
     ]
    }
   ],
   "source": [
    "ajuste_date(42, \"2023-11-07\")"
   ]
  },
  {
   "cell_type": "code",
   "execution_count": null,
   "metadata": {},
   "outputs": [
    {
     "name": "stdout",
     "output_type": "stream",
     "text": [
      "\n",
      "        _oid: 678ccec6a414f22988778143\n",
      "        Date: 03 oct. 2022 00:00\n",
      "        Titre: Le Masque et les Goncourt : \"Vivre vite\" de Brigitte Giraud, 2022\n",
      "        Description: Avec\n",
      " \"Vivre vite\", Brigitte Giraud revient sur la mort de son mari, qui \n",
      "s'est tué à moto sur un boulevard lyonnais. 20 ans après, elle veut \n",
      "croire que l'accident aurait pu être évité. Elle fait la liste des \"si\" \n",
      "qui auraient pu empêcher cette catastrophe.\n",
      "        URL de téléchargement: https://media.radiofrance-podcast.net/podcast09/14007-02.10.2022-ITEMA_23152794-2024F4007E0066-27.m4a\n",
      "        Fichier audio: 2022/14007-02.10.2022-ITEMA_23152794-2024F4007E0066-27.m4a\n",
      "        Duree: 480 en secondes (00:08:00)\n",
      "        Transcription:  France Inter. Et on commence avec Vivre vite de Brigitte Giraud chez Flammarion. Dans ce roman, ell...\n",
      "        \n",
      "Date ajustée de 2022-10-02 00:00:00 à 2022-10-03\n"
     ]
    }
   ],
   "source": [
    "# [43] - date a changer en 03 oct. 2022\n",
    "ajuste_date(43, \"2022-10-03\")"
   ]
  },
  {
   "cell_type": "code",
   "execution_count": null,
   "metadata": {},
   "outputs": [
    {
     "name": "stdout",
     "output_type": "stream",
     "text": [
      "\n",
      "        _oid: 678ccef0a414f22988778183\n",
      "        Date: 29 nov. 2021 00:00\n",
      "        Titre: Le Masque et les Goncourt : \"La plus secrète mémoire des hommes\" de Mohamed Mbougar Sarr, 2021\n",
      "        Description: Un\n",
      " débat littéraire captivant où les critiques, entre sarcasmes et éloges,\n",
      " décortiquent le prix Goncourt 2021 de Mohamed Mbougar Sarr. Ce roman \n",
      "labyrinthique envoûte et divise, dans une ambiance où l'humour côtoie la\n",
      " ferveur littéraire.\n",
      "        URL de téléchargement: https://media.radiofrance-podcast.net/podcast09/14007-28.11.2021-ITEMA_22852995-2024F4007E0067-27.m4a\n",
      "        Fichier audio: 2021/14007-28.11.2021-ITEMA_22852995-2024F4007E0067-27.m4a\n",
      "        Duree: 600 en secondes (00:10:00)\n",
      "        Transcription:  France Inter. Et on commence avec le prix Goncourt 2021, la plus secrète mémoire des hommes, copubl...\n",
      "        \n",
      "Date ajustée de 2021-11-28 00:00:00 à 2021-11-29\n",
      "\n",
      "        _oid: 678ccf2da414f229887781e7\n",
      "        Date: 02 nov. 2020 00:00\n",
      "        Titre: Le Masque et les Goncourt : \"L'Anomalie\" d'Hervé Le Tellier, 2020\n",
      "        Description: Dans\n",
      " cette émission, nos intervenants s'attaquent au mystère littéraire de \n",
      "\"L'Anomalie\", prix Goncourt 2020. Ce roman d'Hervé Le Tellier, à la \n",
      "croisée de la science-fiction et de la réflexion philosophique, a déjoué\n",
      " tous les pronostics pour s'imposer comme un phénomène littéraire \n",
      "mondial.\n",
      "        URL de téléchargement: https://media.radiofrance-podcast.net/podcast09/14007-01.11.2020-ITEMA_22470568-2024F4007E0068-27.m4a\n",
      "        Fichier audio: 2020/14007-01.11.2020-ITEMA_22470568-2024F4007E0068-27.m4a\n",
      "        Duree: 660 en secondes (00:11:00)\n",
      "        Transcription:  France Inter. Et maintenant le roman qui a déjoué tous les pronostics et qui se retrouve sur les li...\n",
      "        \n",
      "Date ajustée de 2020-11-01 00:00:00 à 2020-11-02\n",
      "\n",
      "        _oid: 678ccf5ea414f22988778233\n",
      "        Date: 16 sept. 2019 00:00\n",
      "        Titre: Le Masque et les Goncourt : \"Tous les hommes n'habitent pas le monde de la même façon\" de Jean-Paul Dubois, 2019\n",
      "        Description: Les\n",
      " critiques ne sont pas d'accord à propos du roman de Jean-Paul Dubois \n",
      "\"Tous les hommes n'habitent pas le monde de la même façon\", qui se \n",
      "déroule dans une prison à Montréal. De Lamberterie et Raspiengeas \n",
      "adorent, tandis que Beigbeder et Viviant sont plus que sceptiques.\n",
      "        URL de téléchargement: https://media.radiofrance-podcast.net/podcast09/14007-15.09.2019-ITEMA_22149164-2024F4007E0069-27.m4a\n",
      "        Fichier audio: 2019/14007-15.09.2019-ITEMA_22149164-2024F4007E0069-27.m4a\n",
      "        Duree: 540 en secondes (00:09:00)\n",
      "        Transcription:  France Inter. la prison de Bordeaux, à Montréal, où Paul partage depuis deux ans une cellule avec H...\n",
      "        \n",
      "Date ajustée de 2019-09-15 00:00:00 à 2019-09-16\n",
      "\n",
      "        _oid: 678ccf86a414f2298877826f\n",
      "        Date: 26 nov. 2018 00:00\n",
      "        Titre: Le Masque et les Goncourt : \"Leurs enfants après eux\" de Nicolas Mathieu, 2018\n",
      "        Description: Dans\n",
      " cet extrait du Masque et la plume, nos critiques s'attaquent à \"Leurs \n",
      "enfants après eux\" de Nicolas Mathieu, Goncourt 2018. Entre amour de la \n",
      "langue et critique sociale, découvrez les avis tranchés de chacun. Un \n",
      "débat où l’ennui devient fascinant.\n",
      "        URL de téléchargement: https://media.radiofrance-podcast.net/podcast09/14007-25.11.2018-ITEMA_21902501-2024F4007E0070-27.m4a\n",
      "        Fichier audio: 2018/14007-25.11.2018-ITEMA_21902501-2024F4007E0070-27.m4a\n",
      "        Duree: 540 en secondes (00:09:00)\n",
      "        Transcription:  France Inter roman de 430 pages qui raconte la jeunesse des années 90 en Lorraine, dans la région i...\n",
      "        \n",
      "Date ajustée de 2018-11-25 00:00:00 à 2018-11-26\n",
      "\n",
      "        _oid: 678ccfc7a414f229887782d3\n",
      "        Date: 03 juil. 2017 00:00\n",
      "        Titre: Le Masque et les Goncourt : \"L'Ordre du jour\" d'Eric Vuillard, 2017\n",
      "        Description: Dans\n",
      " l'émission \"Le Masque et la plume\", animée par Jérôme Garcin, les \n",
      "critiques ont unanimement salué \"L'Ordre du jour\" d'Éric Vuillard.\n",
      "        URL de téléchargement: https://media.radiofrance-podcast.net/podcast09/14007-02.07.2017-ITEMA_21376677-2024F4007E0071-27.m4a\n",
      "        Fichier audio: 2017/14007-02.07.2017-ITEMA_21376677-2024F4007E0071-27.m4a\n",
      "        Duree: 240 en secondes (00:04:00)\n",
      "        Transcription:  France Inter. diplomatiques, plutôt les marchandages, une réunion incroyable, secrète d'industriels...\n",
      "        \n",
      "Date ajustée de 2017-07-02 00:00:00 à 2017-07-03\n",
      "\n",
      "        _oid: 678ccfe0a414f229887782ff\n",
      "        Date: 12 sept. 2016 00:00\n",
      "        Titre: Le Masque et les Goncourt : \"Chanson douce\" de Leïla Slimani, 2016\n",
      "        Description: Dans\n",
      " cet extrait du Masque et la Plume, l'équipe débat avec passion du \n",
      "deuxième roman de Leïla Slimani, \"Chanson douce\". Ce thriller domestique\n",
      " implacable divise et fascine par sa tension sociale et littéraire. \n",
      "Découvrez les avis tranchés des critiques.\n",
      "        URL de téléchargement: https://media.radiofrance-podcast.net/podcast09/14007-11.09.2016-ITEMA_21072908-2024F4007E0072-27.m4a\n",
      "        Fichier audio: 2016/14007-11.09.2016-ITEMA_21072908-2024F4007E0072-27.m4a\n",
      "        Duree: 480 en secondes (00:08:00)\n",
      "        Transcription:  France Inter Une chanson douce chez Gallimard, le deuxième roman de la jeune franco-marocaine Leïla...\n",
      "        \n",
      "Date ajustée de 2016-09-11 00:00:00 à 2016-09-12\n",
      "\n",
      "        _oid: 678cd031a414f229887783bf\n",
      "        Date: 18 nov. 1964 00:00\n",
      "        Titre: Le Masque et les Goncourt : \"L'Etat sauvage\" de Georges Conchon, 1964\n",
      "        Description: En\n",
      " 1964, les critiques du \"Masque et la plume\" passent en revue deux \n",
      "romans en lice pour le prix Goncourt, \"Histoire de Georges Guersant\" de \n",
      "Jean Hougron et \"L'Etat sauvage\" de Georges Conchon.\n",
      "        URL de téléchargement: https://media.radiofrance-podcast.net/podcast09/14007-15.11.1964-ITEMA_23788885-2024F4007E0113-27.m4a\n",
      "        Fichier audio: 1961/14007-15.11.1964-ITEMA_23788885-2024F4007E0113-27.m4a\n",
      "        Duree: 300 en secondes (00:05:00)\n",
      "        Transcription:  France Inter en effet il y a plusieurs mois et c'est en effet un gros roman d'une facture très trad...\n",
      "        \n",
      "Date ajustée de 1961-11-16 00:00:00 à 1964-11-18\n"
     ]
    }
   ],
   "source": [
    "# [58] - date a changer en 29 nov. 2021\n",
    "ajuste_date(58, \"2021-11-29\")\n",
    "# [84] - date a changer en 02 nov. 2020\n",
    "ajuste_date(84, \"2020-11-02\")\n",
    "# [103] - date a changer en 16 sept. 2019\n",
    "ajuste_date(103, \"2019-09-16\")\n",
    "# [118] - date a changer en 26 nov. 2018\n",
    "ajuste_date(118, \"2018-11-26\")\n",
    "# [143] - date a changer en 03 juil. 2017\n",
    "ajuste_date(143, \"2017-07-03\")\n",
    "# [154] - date a changer en 12 sept. 2016\n",
    "ajuste_date(154, \"2016-09-12\")\n",
    "# [202] - date a changer en 18 nov. 1964\n",
    "ajuste_date(202, \"1964-11-18\")"
   ]
  },
  {
   "cell_type": "code",
   "execution_count": null,
   "metadata": {},
   "outputs": [],
   "source": []
  }
 ],
 "metadata": {
  "kernelspec": {
   "display_name": "python3",
   "language": "python",
   "name": "python3"
  }
 },
 "nbformat": 4,
 "nbformat_minor": 2
}
