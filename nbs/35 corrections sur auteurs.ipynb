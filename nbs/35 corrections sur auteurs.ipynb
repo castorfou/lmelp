{
 "cells": [
  {
   "cell_type": "markdown",
   "metadata": {},
   "source": [
    "immanquablement des petites corrections a faire quand on traite les auteurs"
   ]
  },
  {
   "cell_type": "markdown",
   "metadata": {},
   "source": [
    "# 1er episode : 26 janv 2025"
   ]
  },
  {
   "cell_type": "markdown",
   "metadata": {},
   "source": [
    "et voir le contenu de `scripts/store_all_auteurs_from_episode.py`"
   ]
  },
  {
   "cell_type": "markdown",
   "metadata": {},
   "source": []
  },
  {
   "cell_type": "code",
   "execution_count": null,
   "metadata": {},
   "outputs": [],
   "source": [
    "from mongo_episode import Episode\n",
    "from mongo_auteur import Auteur, AuthorChecker"
   ]
  },
  {
   "cell_type": "code",
   "execution_count": null,
   "metadata": {},
   "outputs": [],
   "source": [
    "import datetime\n",
    "\n",
    "date = datetime.datetime(2025, 1, 26)"
   ]
  },
  {
   "cell_type": "code",
   "execution_count": null,
   "metadata": {},
   "outputs": [
    {
     "name": "stdout",
     "output_type": "stream",
     "text": [
      "\n",
      "        _oid: 679649e267b093aaae847524\n",
      "        Date: 26 Jan 2025 10:59\n",
      "        Titre: Les nouveaux romans de Leïla Slimani, Pierre Lemaître, Jeanne Rivière, Nathalie Azoulai, Milena Agus\n",
      "        Description: durée : 00:47:56 - Le Masque et la Plume - par : Rebecca Manzoni - Une saga familiale à travers trois générations de femmes, entre le Maroc et la France ; une histoire d'amour et une réflexion sur la judéité ; un roman filial et d'espionnage dans la Guerre Froide ; amitié, désir, musique punk sans les années 90 ; littérature et amour en Sardaigne. - invités : Arnaud Viviant, Laurent CHALUMEAU, Patricia Martin, Elisabeth Philippe - Arnaud Viviant : Critique littéraire (Revue Regards), Laurent Chalumeau : Journaliste rock, scénariste, dialoguiste, romancier, Patricia Martin : Journaliste, critique littéraire et productrice chez France Inter, Elisabeth Philippe : Critique littéraire (L'Obs) - réalisé par : Guillaume Girault\n",
      "        URL de téléchargement: https://rf.proxycast.org/f421bbf9-5e6e-4411-85a6-7c6a318d2073/14007-26.01.2025-ITEMA_24008377-2025F4007S0026-NET_MFI_1EBC23A2-31A4-4066-BC10-C8067ADD259C-22.mp3\n",
      "        Fichier audio: 2025/14007-26.01.2025-ITEMA_24008377-2025F4007S0026-NET_MFI_1EBC23A2-31A4-4066-BC10-C8067ADD259C-22.mp3\n",
      "        Duree: 2876 en secondes (00:47:56)\n",
      "        Transcription:  France Inter Le masque et la plume Le sommaire du jour continue de défricher la copieuse rentrée li...\n",
      "        \n",
      "['Pierre Lemaitre', 'Leila Slimani', 'Nathalie Azoulay', 'Jeanne Rivière', 'Milena Agus', 'Haruki Murakami', 'Constantin Alexandrakis', 'Vanessa Springora', 'Neige Sinault', 'Jean Echenoz']\n",
      "Trouvé avec rss:metadata (titre, description): Pierre Lemaître\n",
      "Pierre Lemaitre -> Pierre Lemaître\n",
      "Est-ce que Pierre Lemaître existait en base ? True\n",
      "Trouvé avec rss:metadata (titre, description): Leïla Slimani\n",
      "Leila Slimani -> Leïla Slimani\n",
      "Est-ce que Leïla Slimani existait en base ? True\n",
      "Trouvé avec rss:metadata (titre, description): Nathalie Azoulai\n",
      "Nathalie Azoulay -> Nathalie Azoulai\n",
      "Est-ce que Nathalie Azoulai existait en base ? True\n",
      "Trouvé avec rss:metadata (titre, description): Jeanne Rivière\n",
      "Jeanne Rivière -> Jeanne Rivière\n",
      "Est-ce que Jeanne Rivière existait en base ? True\n",
      "Trouvé avec rss:metadata (titre, description): Milena Agus\n",
      "Milena Agus -> Milena Agus\n",
      "Est-ce que Milena Agus existait en base ? True\n",
      "Non trouvé avec rss:metadata (titre, description): Haruki Murakami\n",
      "Trouvé avec mongodb:auteurs (deja connus): Haruki Murakami\n",
      "Haruki Murakami -> Haruki Murakami\n",
      "Est-ce que Haruki Murakami existait en base ? True\n",
      "Non trouvé avec rss:metadata (titre, description): Constantin Alexandrakis\n",
      "Trouvé avec mongodb:auteurs (deja connus): Constantin Alexandrakis\n",
      "Constantin Alexandrakis -> Constantin Alexandrakis\n",
      "Est-ce que Constantin Alexandrakis existait en base ? True\n",
      "Non trouvé avec rss:metadata (titre, description): Vanessa Springora\n",
      "Trouvé avec mongodb:auteurs (deja connus): Vanessa Springora\n",
      "Vanessa Springora -> Vanessa Springora\n",
      "Est-ce que Vanessa Springora existait en base ? True\n",
      "Non trouvé avec rss:metadata (titre, description): Neige Sinault\n",
      "Non trouvé avec mongodb:auteurs (deja connus): Neige Sinault\n",
      "Non trouvé avec llm: Neige Sinault\n",
      "Score insuffisant 0 avec web search: La requête Google ne contient aucune information indiquant que Neige Sinault est un auteur de livres. Les résultats mentionnent principalement Philippe Sinault, qui est lié à l'équipe Signatech-Alpine dans le domaine de l'endurance automobile, et Melissa Sinault, associée à un festival de jazz. Aucun des résultats ne fait référence à Neige Sinault en tant qu'auteur ou à des œuvres littéraires. Par conséquent, il est très peu probable que Neige Sinault soit un auteur de livres.\n",
      "Non trouvé avec rss:metadata (titre, description): Jean Echenoz\n",
      "Trouvé avec mongodb:auteurs (deja connus): Jean Echenoz\n",
      "Jean Echenoz -> Jean Echenoz\n",
      "Est-ce que Jean Echenoz existait en base ? True\n"
     ]
    }
   ],
   "source": [
    "import sys\n",
    "\n",
    "episode = Episode.from_date(date=date)\n",
    "if not episode:\n",
    "    print(f\"Episode du {date.strftime('%d/%m/%Y')} n'existe pas\")\n",
    "    # stoppe la cellule mais continue le notebook\n",
    "    # raise RuntimeError(\"Arrêt de l'exécution de la cellule\")\n",
    "    # stoppe le notebook\n",
    "    sys.exit(1)\n",
    "\n",
    "print(episode)\n",
    "\n",
    "auteurs = episode.get_all_auteurs()\n",
    "print(auteurs)\n",
    "\n",
    "ac = AuthorChecker(episode)\n",
    "\n",
    "for auteur in auteurs:\n",
    "    auteur_corrige = ac.check_author(auteur)\n",
    "    if auteur_corrige is not None:\n",
    "        print(f\"{auteur} -> {auteur_corrige}\")\n",
    "        aut = Auteur(auteur_corrige)\n",
    "        print(f\"Est-ce que {aut.nom} existait en base ? {aut.exists()}\")\n",
    "        aut.keep()"
   ]
  },
  {
   "cell_type": "markdown",
   "metadata": {},
   "source": [
    "on va corriger Neige Sinno"
   ]
  },
  {
   "cell_type": "code",
   "execution_count": null,
   "metadata": {},
   "outputs": [],
   "source": [
    "neige = Auteur(\"Neige Sinno\")\n",
    "neige.keep()"
   ]
  },
  {
   "cell_type": "code",
   "execution_count": null,
   "metadata": {},
   "outputs": [],
   "source": []
  }
 ],
 "metadata": {
  "kernelspec": {
   "display_name": "python3",
   "language": "python",
   "name": "python3"
  }
 },
 "nbformat": 4,
 "nbformat_minor": 2
}
