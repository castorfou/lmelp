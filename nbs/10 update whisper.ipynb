{
 "cells": [
  {
   "cell_type": "code",
   "execution_count": null,
   "metadata": {},
   "outputs": [
    {
     "ename": "NameError",
     "evalue": "name 'list_mp3_files' is not defined",
     "output_type": "error",
     "traceback": [
      "\u001b[0;31m---------------------------------------------------------------------------\u001b[0m",
      "\u001b[0;31mNameError\u001b[0m                                 Traceback (most recent call last)",
      "Cell \u001b[0;32mIn[1], line 11\u001b[0m\n\u001b[1;32m      8\u001b[0m download_all_mp3_livres(collection, audio_path\u001b[38;5;241m=\u001b[39mAUDIO_PATH)\n\u001b[1;32m     10\u001b[0m \u001b[38;5;66;03m# on recupere la liste des fichiers mp3\u001b[39;00m\n\u001b[0;32m---> 11\u001b[0m mp3_files \u001b[38;5;241m=\u001b[39m \u001b[43mlist_mp3_files\u001b[49m(audio_path\u001b[38;5;241m=\u001b[39mAUDIO_PATH)\n\u001b[1;32m     13\u001b[0m \u001b[38;5;66;03m# on boucle sur les fichiers mp3\u001b[39;00m\n\u001b[1;32m     14\u001b[0m \u001b[38;5;28;01mfor\u001b[39;00m mp3_file \u001b[38;5;129;01min\u001b[39;00m mp3_files:\n\u001b[1;32m     15\u001b[0m     \u001b[38;5;66;03m# on recupere l'oid\u001b[39;00m\n",
      "\u001b[0;31mNameError\u001b[0m: name 'list_mp3_files' is not defined"
     ]
    }
   ],
   "source": [
    "from download import download_all_mp3_livres, get_oid_from_mp3_filename\n",
    "from connection import get_collection\n",
    "from whisper import extract_whisper, store_whisper_in_db, list_mp3_files\n",
    "\n",
    "DB_HOST = \"localhost\"\n",
    "AUDIO_PATH = \"audios\"\n",
    "collection = get_collection(DB_HOST)\n",
    "\n",
    "# on telecharge les fichiers mp3 manquants\n",
    "download_all_mp3_livres(collection, audio_path=AUDIO_PATH)\n",
    "\n",
    "# on recupere la liste des fichiers mp3\n",
    "mp3_files = list_mp3_files(audio_path=AUDIO_PATH)\n",
    "\n",
    "# on boucle sur les fichiers mp3\n",
    "for mp3_file in mp3_files:\n",
    "    # on recupere l'oid\n",
    "    oid = get_oid_from_mp3_filename(collection, mp3_file)\n",
    "    if oid is None:\n",
    "        print(f\"oid non trouvé pour {mp3_file}\")\n",
    "        continue\n",
    "    if \"whisper\" in collection.find_one({\"_id\": ObjectId(oid)}):\n",
    "        print(f\"whisper déjà stocké pour {oid}\")\n",
    "        continue\n",
    "    # si le whisper n'est pas stocké, on l'extrait et on le stocke\n",
    "    whisper = extract_whisper(mp3_file)\n",
    "    store_whisper_in_db(whisper, collection, oid, force=True, verbose=True)"
   ]
  },
  {
   "cell_type": "code",
   "execution_count": null,
   "metadata": {},
   "outputs": [],
   "source": []
  }
 ],
 "metadata": {
  "kernelspec": {
   "display_name": "python3",
   "language": "python",
   "name": "python3"
  }
 },
 "nbformat": 4,
 "nbformat_minor": 2
}
