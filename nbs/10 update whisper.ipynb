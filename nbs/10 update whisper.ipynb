{
 "cells": [
  {
   "cell_type": "code",
   "execution_count": null,
   "metadata": {},
   "outputs": [
    {
     "name": "stderr",
     "output_type": "stream",
     "text": [
      "Device set to use cpu\n",
      "/usr/share/libdrm/amdgpu.ids: No such file or directory\n",
      "amdgpu: unknown (family_id, chip_external_rev): (148, 10)\n",
      "libGL error: failed to create dri screen\n",
      "libGL error: failed to load driver: radeonsi\n",
      "/home/guillaume/miniforge3/envs/whisper/lib/python3.11/site-packages/transformers/models/whisper/generation_whisper.py:512: FutureWarning: The input name `inputs` is deprecated. Please make sure to use `input_features` instead.\n",
      "  warnings.warn(\n",
      "Due to a bug fix in https://github.com/huggingface/transformers/pull/28687 transcription using a multilingual Whisper will default to language detection followed by transcription instead of translation to English.This might be a breaking change for your use case. If you want to instead always translate your audio to English, make sure to pass `language='en'`.\n",
      "Passing a tuple of `past_key_values` is deprecated and will be removed in Transformers v4.43.0. You should pass an instance of `EncoderDecoderCache` instead, e.g. `past_key_values=EncoderDecoderCache.from_legacy_cache(past_key_values)`.\n"
     ]
    },
    {
     "name": "stdout",
     "output_type": "stream",
     "text": [
      "Whisper stocké pour l'oid 6773e32258fc5717f3516b99\n"
     ]
    },
    {
     "name": "stderr",
     "output_type": "stream",
     "text": [
      "Device set to use cpu\n",
      "/usr/share/libdrm/amdgpu.ids: No such file or directory\n",
      "amdgpu: unknown (family_id, chip_external_rev): (148, 10)\n",
      "libGL error: failed to create dri screen\n",
      "libGL error: failed to load driver: radeonsi\n",
      "/home/guillaume/miniforge3/envs/whisper/lib/python3.11/site-packages/transformers/models/whisper/generation_whisper.py:512: FutureWarning: The input name `inputs` is deprecated. Please make sure to use `input_features` instead.\n",
      "  warnings.warn(\n",
      "Whisper did not predict an ending timestamp, which can happen if audio is cut off in the middle of a word. Also make sure WhisperTimeStampLogitsProcessor was used during generation.\n"
     ]
    },
    {
     "name": "stdout",
     "output_type": "stream",
     "text": [
      "Whisper stocké pour l'oid 6773e32258fc5717f3516b9c\n"
     ]
    },
    {
     "name": "stderr",
     "output_type": "stream",
     "text": [
      "Device set to use cpu\n",
      "/usr/share/libdrm/amdgpu.ids: No such file or directory\n",
      "amdgpu: unknown (family_id, chip_external_rev): (148, 10)\n",
      "libGL error: failed to create dri screen\n",
      "libGL error: failed to load driver: radeonsi\n",
      "/home/guillaume/miniforge3/envs/whisper/lib/python3.11/site-packages/transformers/models/whisper/generation_whisper.py:512: FutureWarning: The input name `inputs` is deprecated. Please make sure to use `input_features` instead.\n",
      "  warnings.warn(\n"
     ]
    },
    {
     "name": "stdout",
     "output_type": "stream",
     "text": [
      "Whisper stocké pour l'oid 6773e32258fc5717f3516b9f\n"
     ]
    }
   ],
   "source": [
    "from download import download_all_mp3_livres, get_oid_from_mp3_filename\n",
    "from connection import get_collection\n",
    "from whisper import extract_whisper, store_whisper_in_db, list_mp3_files\n",
    "from bson import ObjectId\n",
    "\n",
    "DB_HOST = \"localhost\"\n",
    "AUDIO_PATH = \"audios\"\n",
    "collection = get_collection(DB_HOST)\n",
    "\n",
    "# on telecharge les fichiers mp3 manquants\n",
    "download_all_mp3_livres(collection, audio_path=AUDIO_PATH)\n",
    "\n",
    "# on recupere la liste des fichiers mp3\n",
    "mp3_files = list_mp3_files(audio_path=AUDIO_PATH)\n",
    "\n",
    "# on boucle sur les fichiers mp3\n",
    "for mp3_file in mp3_files:\n",
    "    # on recupere l'oid\n",
    "    oid = get_oid_from_mp3_filename(collection, mp3_file)\n",
    "    if oid is None:\n",
    "        print(f\"oid non trouvé pour {mp3_file}\")\n",
    "        continue\n",
    "    if \"whisper\" in collection.find_one({\"_id\": ObjectId(oid)}):\n",
    "        print(f\"whisper déjà stocké pour {oid}\")\n",
    "        continue\n",
    "    # si le whisper n'est pas stocké, on l'extrait et on le stocke\n",
    "    whisper = extract_whisper(mp3_file)\n",
    "    store_whisper_in_db(whisper, collection, oid, force=True, verbose=True)"
   ]
  },
  {
   "cell_type": "code",
   "execution_count": null,
   "metadata": {},
   "outputs": [],
   "source": []
  }
 ],
 "metadata": {
  "kernelspec": {
   "display_name": "python3",
   "language": "python",
   "name": "python3"
  }
 },
 "nbformat": 4,
 "nbformat_minor": 2
}
