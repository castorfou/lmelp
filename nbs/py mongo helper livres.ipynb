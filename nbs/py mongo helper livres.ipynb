{
 "cells": [
  {
   "cell_type": "code",
   "execution_count": null,
   "metadata": {},
   "outputs": [],
   "source": [
    "# |default_exp mongo_livre"
   ]
  },
  {
   "cell_type": "markdown",
   "metadata": {},
   "source": [
    "# Livre"
   ]
  },
  {
   "cell_type": "code",
   "execution_count": null,
   "metadata": {},
   "outputs": [],
   "source": [
    "# |export\n",
    "\n",
    "from mongo import BaseEntity, Editeur\n",
    "from mongo_auteur import Auteur\n",
    "\n",
    "\n",
    "class Livre(BaseEntity):\n",
    "    collection: str = \"livres\"\n",
    "\n",
    "    def __init__(self, titre: str) -> None:\n",
    "        \"\"\"Initialise une instance de livre.\n",
    "\n",
    "        Args:\n",
    "            nom (str): Le titre du livre.\n",
    "        \"\"\"\n",
    "        super().__init__(titre, self.collection)\n",
    "        self.titre = titre  # je le duplique pour la comprehension du concept de livre\n",
    "        self.auteur = None  # on mettra l'oid de l'auteur\n",
    "        self.editeur = None  # on mettra l'oid de l'editeur\n",
    "\n",
    "    def add_auteur(self, auteur: Auteur):\n",
    "        self.auteur = auteur.get_oid()\n",
    "\n",
    "    def add_editeur(self, editeur: Editeur):\n",
    "        self.editeur = editeur.get_oid()\n",
    "\n",
    "    def __str__(self) -> str:\n",
    "        \"\"\"Official string representation of the entity.\n",
    "\n",
    "        Returns:\n",
    "            str: The name of the entity: Titre, Auteur, Editeur.\n",
    "        \"\"\"\n",
    "        return f\"\"\"\n",
    "        Titre: {self.titre}\n",
    "        Auteur: {Auteur.from_oid(self.auteur)}\n",
    "        Editeur: {Editeur.from_oid(self.editeur)}\n",
    "        \"\"\""
   ]
  },
  {
   "cell_type": "code",
   "execution_count": null,
   "metadata": {},
   "outputs": [
    {
     "name": "stdout",
     "output_type": "stream",
     "text": [
      "\n",
      "        Titre: Germinal\n",
      "        Auteur: Émile Zola\n",
      "        Editeur: Le Livre de Poche\n",
      "        \n"
     ]
    }
   ],
   "source": [
    "ez = Auteur(\"Émile Zola\")\n",
    "assert ez.exists()\n",
    "\n",
    "poche = Editeur(\"Le Livre de Poche\")\n",
    "poche.keep()\n",
    "assert poche.exists()\n",
    "\n",
    "l = Livre(\"Germinal\")\n",
    "l.add_auteur(ez)\n",
    "l.add_editeur(poche)\n",
    "l.keep()\n",
    "print(l)"
   ]
  },
  {
   "cell_type": "markdown",
   "metadata": {},
   "source": [
    "# extract py"
   ]
  },
  {
   "cell_type": "code",
   "execution_count": null,
   "metadata": {},
   "outputs": [],
   "source": [
    "from nbdev.export import nb_export\n",
    "\n",
    "nb_export(\"py mongo helper livres.ipynb\", \".\")"
   ]
  },
  {
   "cell_type": "code",
   "execution_count": null,
   "metadata": {},
   "outputs": [],
   "source": []
  }
 ],
 "metadata": {
  "kernelspec": {
   "display_name": "python3",
   "language": "python",
   "name": "python3"
  }
 },
 "nbformat": 4,
 "nbformat_minor": 2
}
