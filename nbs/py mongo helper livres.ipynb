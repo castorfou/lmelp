{
 "cells": [
  {
   "cell_type": "code",
   "execution_count": null,
   "metadata": {},
   "outputs": [],
   "source": [
    "# |default_exp mongo_livre"
   ]
  },
  {
   "cell_type": "markdown",
   "metadata": {},
   "source": [
    "# Livre"
   ]
  },
  {
   "cell_type": "code",
   "execution_count": null,
   "metadata": {},
   "outputs": [],
   "source": [
    "# |export\n",
    "\n",
    "from mongo import BaseEntity, Editeur, get_collection\n",
    "from config import get_DB_VARS\n",
    "from mongo_auteur import Auteur\n",
    "from typing import List, Type, TypeVar\n",
    "from bson import ObjectId\n",
    "\n",
    "\n",
    "T = TypeVar(\"T\", bound=\"Livre\")\n",
    "\n",
    "\n",
    "class Livre(BaseEntity):\n",
    "    collection: str = \"livres\"\n",
    "\n",
    "    def __init__(self, titre: str) -> None:\n",
    "        \"\"\"Initialise une instance de livre.\n",
    "\n",
    "        Args:\n",
    "            nom (str): Le titre du livre.\n",
    "        \"\"\"\n",
    "        super().__init__(titre, self.collection)\n",
    "        self.titre = titre  # je le duplique pour la comprehension du concept de livre\n",
    "        self.auteur = None  # on mettra l'oid de l'auteur\n",
    "        self.editeur = None  # on mettra l'oid de l'editeur\n",
    "\n",
    "    def add_auteur(self, auteur: Auteur):\n",
    "        if auteur is not None:\n",
    "            self.auteur = auteur.get_oid()\n",
    "\n",
    "    def add_editeur(self, editeur: Editeur):\n",
    "        if editeur is not None:\n",
    "            self.editeur = editeur.get_oid()\n",
    "\n",
    "    @classmethod\n",
    "    def with_details(cls, titre: str, auteur: Auteur, editeur: Editeur):\n",
    "        \"\"\"Alternative constructor to instantiate a Livre with title, auteur and editeur.\n",
    "\n",
    "        Args:\n",
    "            titre (str): The title of the book.\n",
    "            auteur (Auteur): Instance of Auteur.\n",
    "            editeur (Editeur): Instance of Editeur.\n",
    "        Returns:\n",
    "            Livre: An instance of Livre.\n",
    "        \"\"\"\n",
    "        instance = cls(titre)\n",
    "        instance.add_auteur(auteur)\n",
    "        instance.add_editeur(editeur)\n",
    "        return instance\n",
    "\n",
    "    @classmethod\n",
    "    def from_oid(cls: Type[T], oid: ObjectId) -> T:\n",
    "        \"\"\"Creates an instance of Livre class from a MongoDB ObjectId.\n",
    "        Returns None if the ObjectId is not found in the database or is None.\n",
    "\n",
    "        Args:\n",
    "            oid (ObjectId): The MongoDB ObjectId.\n",
    "\n",
    "        Returns:\n",
    "            T: An instance of the derived class.\n",
    "        \"\"\"\n",
    "        if oid is None:\n",
    "            return None\n",
    "        DB_HOST, DB_NAME, _ = get_DB_VARS()\n",
    "        collection = get_collection(\n",
    "            target_db=DB_HOST, client_name=DB_NAME, collection_name=cls.collection\n",
    "        )\n",
    "        document = collection.find_one({\"_id\": oid})\n",
    "        if document is None:\n",
    "            return None\n",
    "        inst = cls.with_details(\n",
    "            document.get(\"titre\"),\n",
    "            Auteur.from_oid(document.get(\"auteur\")),\n",
    "            Editeur.from_oid(document.get(\"editeur\")),\n",
    "        )\n",
    "        return inst\n",
    "\n",
    "    def __str__(self) -> str:\n",
    "        \"\"\"Official string representation of the entity.\n",
    "\n",
    "        Returns:\n",
    "            str: The name of the entity: Titre, Auteur, Editeur.\n",
    "        \"\"\"\n",
    "        return f\"\"\"\n",
    "        Titre: {self.titre}\n",
    "        Auteur: {Auteur.from_oid(self.auteur) if self.auteur is not None else None}\n",
    "        Editeur: {Editeur.from_oid(self.editeur) if self.editeur is not None else None}\n",
    "        \"\"\""
   ]
  },
  {
   "cell_type": "code",
   "execution_count": null,
   "metadata": {},
   "outputs": [
    {
     "name": "stdout",
     "output_type": "stream",
     "text": [
      "\n",
      "        Titre: Germinal\n",
      "        Auteur: Émile Zola\n",
      "        Editeur: Le Livre de Poche\n",
      "        \n"
     ]
    }
   ],
   "source": [
    "ez = Auteur(\"Émile Zola\")\n",
    "assert ez.exists()\n",
    "\n",
    "poche = Editeur(\"Le Livre de Poche\")\n",
    "poche.keep()\n",
    "assert poche.exists()\n",
    "\n",
    "l = Livre(\"Germinal\")\n",
    "l.add_auteur(ez)\n",
    "l.add_editeur(poche)\n",
    "l.keep()\n",
    "print(l)"
   ]
  },
  {
   "cell_type": "code",
   "execution_count": null,
   "metadata": {},
   "outputs": [
    {
     "name": "stdout",
     "output_type": "stream",
     "text": [
      "\n",
      "        Titre: Le Rouge et le Noir\n",
      "        Auteur: Stendhal\n",
      "        Editeur: None\n",
      "        \n"
     ]
    }
   ],
   "source": [
    "s = Auteur(\"Stendhal\")\n",
    "assert s.exists()\n",
    "\n",
    "l = Livre(\"Le Rouge et le Noir\")\n",
    "l.add_auteur(s)\n",
    "l.keep()\n",
    "print(l)"
   ]
  },
  {
   "cell_type": "markdown",
   "metadata": {},
   "source": [
    "# extract py"
   ]
  },
  {
   "cell_type": "code",
   "execution_count": null,
   "metadata": {},
   "outputs": [],
   "source": [
    "from nbdev.export import nb_export\n",
    "\n",
    "nb_export(\"py mongo helper livres.ipynb\", \".\")"
   ]
  },
  {
   "cell_type": "code",
   "execution_count": null,
   "metadata": {},
   "outputs": [],
   "source": []
  }
 ],
 "metadata": {
  "kernelspec": {
   "display_name": "python3",
   "language": "python",
   "name": "python3"
  }
 },
 "nbformat": 4,
 "nbformat_minor": 2
}
