{
 "cells": [
  {
   "cell_type": "code",
   "execution_count": null,
   "metadata": {},
   "outputs": [],
   "source": [
    "# |default_exp helper"
   ]
  },
  {
   "cell_type": "code",
   "execution_count": null,
   "metadata": {},
   "outputs": [],
   "source": [
    "# |export\n",
    "\n",
    "from dotenv import load_dotenv, find_dotenv\n",
    "import os\n",
    "\n",
    "\n",
    "def load_env():\n",
    "    _ = load_dotenv(find_dotenv())\n",
    "\n",
    "\n",
    "def get_gemini_api_key():\n",
    "    load_env()\n",
    "    gemini_api_key = os.getenv(\"GEMINI_API_KEY\")\n",
    "    return gemini_api_key\n",
    "\n",
    "\n",
    "def get_openai_api_key():\n",
    "    load_env()\n",
    "    openai_api_key = os.getenv(\"OPENAI_API_KEY\")\n",
    "    return openai_api_key"
   ]
  },
  {
   "cell_type": "code",
   "execution_count": null,
   "metadata": {},
   "outputs": [],
   "source": [
    "gem_key = get_gemini_api_key()"
   ]
  },
  {
   "cell_type": "code",
   "execution_count": null,
   "metadata": {},
   "outputs": [],
   "source": [
    "# |export\n",
    "\n",
    "import google.generativeai as genai\n",
    "\n",
    "\n",
    "def get_gemini_llm(model=\"gemini-1.5-flash\"):\n",
    "    genai.configure(api_key=get_gemini_api_key())\n",
    "    llm = genai.GenerativeModel(model)\n",
    "    return llm"
   ]
  },
  {
   "cell_type": "code",
   "execution_count": null,
   "metadata": {},
   "outputs": [
    {
     "name": "stdout",
     "output_type": "stream",
     "text": [
      "Artificial intelligence (AI) doesn't work in a single, unified way.  Instead, it encompasses a broad\n"
     ]
    }
   ],
   "source": [
    "llm = get_gemini_llm()\n",
    "response = llm.generate_content(\"Explain how AI works\")\n",
    "print(response.text[:100])"
   ]
  },
  {
   "cell_type": "markdown",
   "metadata": {},
   "source": [
    "# get gemini llamaindex llm"
   ]
  },
  {
   "cell_type": "code",
   "execution_count": null,
   "metadata": {},
   "outputs": [],
   "source": [
    "# |export\n",
    "\n",
    "from llama_index.llms.gemini import Gemini\n",
    "from llama_index.core import Settings\n",
    "\n",
    "\n",
    "def get_gemini_llamaindex_llm(model=\"models/gemini-1.5-flash\"):\n",
    "    genai.configure(api_key=get_gemini_api_key())\n",
    "    llm = Gemini(model=model, api_key=get_gemini_api_key())\n",
    "    Settings.llm = llm\n",
    "    return llm"
   ]
  },
  {
   "cell_type": "code",
   "execution_count": null,
   "metadata": {},
   "outputs": [
    {
     "name": "stdout",
     "output_type": "stream",
     "text": [
      "A worn leather back, a canvas so deep,\n",
      "Holds secrets untold, while others do sleep.\n",
      "No ordinary pack, this one holds the key,\n",
      "To wonders unseen, for you and for me.\n",
      "\n",
      "A whisper of starlight, a shimmer of gold,\n",
      "A story unfolds, as its magic's unrolled.\n",
      "A compass that points to a sun-drenched lagoon,\n",
      "A map etched in starlight, beneath the pale moon.\n",
      "\n",
      "A vial of laughter, a tear that's a gem,\n",
      "A feather that floats, a forgotten diadem.\n",
      "A potion of courage, to conquer all fear,\n",
      "A songbird's sweet melody, always held near.\n",
      "\n",
      "It shrinks to a pebble, then bursts into size,\n",
      "A portal it opens, to fantastical skies.\n",
      "With a flick of the wrist, and a magical rhyme,\n",
      "It bends space and time, transcending all clime.\n",
      "\n",
      "So carry it lightly, this treasure you hold,\n",
      "Its stories unwritten, its wonders untold.\n",
      "For the magic backpack, a gift from above,\n",
      "Is a journey of wonder, a testament to love.\n",
      "\n"
     ]
    }
   ],
   "source": [
    "llm = get_gemini_llamaindex_llm()\n",
    "resp = llm.complete(\"Write a poem about a magic backpack\")\n",
    "print(resp)"
   ]
  },
  {
   "cell_type": "code",
   "execution_count": null,
   "metadata": {},
   "outputs": [],
   "source": [
    "from nbdev.export import nb_export\n",
    "\n",
    "nb_export(\"helper.ipynb\", \".\")"
   ]
  },
  {
   "cell_type": "code",
   "execution_count": null,
   "metadata": {},
   "outputs": [],
   "source": []
  }
 ],
 "metadata": {
  "kernelspec": {
   "display_name": "python3",
   "language": "python",
   "name": "python3"
  }
 },
 "nbformat": 4,
 "nbformat_minor": 2
}
