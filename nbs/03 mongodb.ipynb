{
 "cells": [
  {
   "cell_type": "markdown",
   "id": "8bf62179-6236-46a8-a3a9-0435ce0d7dfa",
   "metadata": {},
   "source": [
    "# stocke les episodes"
   ]
  },
  {
   "cell_type": "code",
   "execution_count": null,
   "id": "2f1a2483-e29b-44ad-94cc-89148baff1cd",
   "metadata": {},
   "outputs": [
    {
     "name": "stdout",
     "output_type": "stream",
     "text": [
      "Épisode déjà présent: \"Sarah Bernhardt, la divine\", \"Les Femmes aux balcon\", \"Vingt Dieux\", \"Oh Canada\"... Que voir au cinéma ?\n",
      "Épisode ignoré (durée insuffisante): \"Oh, Canada\" de Paul Schrader\n",
      "Épisode ignoré (durée insuffisante): \"Vingt Dieux\" de Louise Courvoisier : le Masque mi-charmé, mi-irrité\n",
      "Épisode ignoré (durée insuffisante): \"Saint-Ex\" de Pablo Agüero : un film en carton pâte et à la poésie plate pour les critiques du Masque\n",
      "Épisode ignoré (durée insuffisante): \"Les Femmes au balcon\" : Noémie Merlant signe un film féministe audacieux mais trop superficiel\n",
      "Épisode ignoré (durée insuffisante): \"Sarah Bernhardt, la divine\" : Sandrine Kiberlain brille et sauve un film \"trop théâtral et exagéré\"\n",
      "Épisode déjà présent: Les nouvelles pages de Marc Dugain, Emmanuelle Lambert, Emil Ferris, Fabrice Caro et Mathieu Palain\n",
      "Épisode ignoré (durée insuffisante): \"L’Avion, Poutine, l’Amérique... et moi\", de Marc Dugain : le Masque majoritairement assez sévère\n",
      "Épisode ignoré (durée insuffisante): \"Moi ce que j'aime, c'est les monstres\" d'Emil Ferris : BD exceptionnelle ou ennuyeuse ? L'avis du Masque\n",
      "Épisode ignoré (durée insuffisante): \"Fort Alamo\" de Fabrice Caro : \"Un livre parfait par un Houellebecq gentil\", Le Masque unanime\n",
      "Épisode ignoré (durée insuffisante): \"Les Hommes manquent de courage\", de Mathieu Palain : avis un peu tiède du Masque\n",
      "Épisode déjà présent: Au théâtre : \"Les Misérables\", \"La Mouette\", \"Sexe\", \"Marius\", \"La Serva Amorosa\"...\n",
      "Épisode ignoré (durée insuffisante): CRITIQUE - \"Marius\" par Joël Pommerat : qu'en ont pensé les critiques du Masque ?\n",
      "Épisode ignoré (durée insuffisante): \"Les Misérables\" : un spectacle \"inspiré et formidable\" ou \"laid et inconvenant\", selon le Masque\n",
      "Épisode ignoré (durée insuffisante): \"Sexe\" de Bérangère Krief, renouveau réjouissant ou spectacle daté ? Les critiques divisés\n",
      "Épisode déjà présent: Un ticket pour \"Leurs enfants après eux\", \"En Fanfare\", \"Limonov, la ballade\", \"Conclave\"… ?\n",
      "Épisode ignoré (durée insuffisante): \"Limonov, la ballade\" de Kirill Serebrennikov\n",
      "Épisode ignoré (durée insuffisante): \"Leurs enfants après eux\" : le Masque déplore un film \"boursouflé\", \"surchargé\", \"volontairement moche\"...\n",
      "Épisode ignoré (durée insuffisante): \"En fanfare\" d’Emmanuel Courcol : une comédie sociale qui divise le Masque et la Plume\n",
      "Épisode déjà présent: Les nouvelles pages de James Ellroy, Yasmina Reza, Célestin de Meeûs, Sandrine Collette, Abdellah Taïa\n",
      "Épisode ignoré (durée insuffisante): \"Madelaine avant l’aube\" de Sandrine Collette : Un roman virtuose, ou qui prête à rire ? Le Masque divisé\n",
      "Épisode ignoré (durée insuffisante): CRITIQUE - \"Les Enchanteurs\" de James Ellroy : exubérances stylistiques et misogynie, selon le Masque\n",
      "Épisode ignoré (durée insuffisante): CRITIQUE - \"Récits de certains faits\" de Yasmina Reza : \"un livre intelligent mais aussi un peu dégueulasse\"\n",
      "Épisode déjà présent: En salle : \"La plus précieuse des marchandises\", \"Finalement\", \"Gladiator II\", \"La vallée des fous\"…\n",
      "Épisode ignoré (durée insuffisante): CRITIQUE - \"Gladiator II\" de Ridley Scott : \"film pénible, bizarre\" Ou \"Pas si mal\" ? L'avis du Masque\n",
      "Épisode ignoré (durée insuffisante): CINEMA - « Le Royaume » de Julien Colonna : « Un film magnifique », le Masque unanime\n",
      "Épisode ignoré (durée insuffisante): CRITIQUE - « La vallée des fous » de Xavier Beauvois avec Jean-Paul Rouve : le Masque un peu déçu\n",
      "Épisode ignoré (durée insuffisante): CRITIQUE - « Finalement » de Claude Lelouch : Film « poétique»  ou «  consternant » ? L'avis du Masque\n",
      "Épisode ignoré (durée insuffisante): \"La plus précieuse des marchandises\" de Michel Hazanavicius\n",
      "Épisode déjà présent: Les nouveaux films de Clint Eastwood, Coralie Fargeat, Sean Baker, Emmanuel Mouret…\n",
      "Épisode ignoré (durée insuffisante): \"Trois Amies\" : Toujours aussi subtil et touchant, Emmanuel Mouret fidèle à son style selon Le Masque\n",
      "Épisode ignoré (durée insuffisante): \"The Substance\" : un body-horror \"audacieux et jubilatoire\" ou \"complaisant et superficiel\" ? L'avis du Masque\n",
      "Épisode ignoré (durée insuffisante): \"Juré n°2\", de Clint Eastwood : une mise en scène paresseuse à l'écriture classique pour le Masque\n",
      "Épisode ignoré (durée insuffisante): \"Anora\", de Sean Baker, Palme d'or à Cannes : le Masque a adoré… ou franchement détesté !\n",
      "Épisode déjà présent: La foire du livre de Brive : les romans de Daniel Pennac, Colson Whitehead, Olivier Norek, Miguel Bonnefoy...\n",
      "Épisode ignoré (durée insuffisante): \"La Règle du crime\" de Colson Whitehead : \"fresque historique\" ou \"littérature d'antiquaire\" ?\n",
      "Épisode ignoré (durée insuffisante): Les coups de cœur littéraires du Masque 2024 13/13 : CRITIQUE : \"Pour Britney\" de Louise Chennevière : \"un récit haletant et puissant\"\n",
      "Épisode ignoré (durée insuffisante): CRITIQUE - \"Mon assassin\" : le roman de trop de Daniel Pennac dans la saga Malaussène ?\n",
      "Épisode ignoré (durée insuffisante): CRITIQUE : \"Le rêve du jaguar\" de Miguel Bonnefoy, ou quand l'excès nuit au récit\n",
      "Épisode ignoré (durée insuffisante): \"Les guerriers de l’hiver\" d’Olivier Norek : \"Livre incomparable\" ou \"récit redondant\" ? L'avis du Masque\n",
      "Épisode déjà présent: Sur scène : \"La Haine\", \"Le Suicidé\", \"L’Amante Anglaise\", \"La fin du début\"...\n",
      "Épisode ignoré (durée insuffisante): \"L’Amante Anglaise\" de Marguerite Duras : une expérience théâtrale qui divise Le Masque & la Plume\n",
      "Épisode ignoré (durée insuffisante): Kassovitz revisite \"La Haine\" dans une comédie musicale époustouflante : Le Masque a adoré !\n",
      "Épisode ignoré (durée insuffisante): Retrouvez tous les épisodes sur l’appli Radio France\n"
     ]
    }
   ],
   "source": [
    "import pymongo\n",
    "import feedparser\n",
    "from datetime import datetime\n",
    "\n",
    "\n",
    "def stocke_episodes(url_podcast):\n",
    "    # Connexion à la base de données MongoDB\n",
    "    client = pymongo.MongoClient(\"mongodb://localhost:27017/\")\n",
    "    db = client[\"masque_et_la_plume\"]\n",
    "    collection = db[\"episodes\"]\n",
    "\n",
    "    # Récupération du flux RSS\n",
    "    feed = feedparser.parse(url_podcast)\n",
    "\n",
    "    # Parcours des items du flux RSS\n",
    "    for entry in feed.entries:\n",
    "        nom = entry.title\n",
    "        publié = entry.published\n",
    "        duree = entry.itunes_duration if \"itunes_duration\" in entry else None\n",
    "        url = entry.enclosures[0].href if entry.enclosures else None\n",
    "        description = entry.description\n",
    "        auteur = entry.author if \"author\" in entry else None\n",
    "\n",
    "        # Conversion de la date de publication\n",
    "        publié = datetime.strptime(publié, \"%a, %d %b %Y %H:%M:%S %z\")\n",
    "\n",
    "        # Vérification de la durée de l'épisode\n",
    "        if duree:\n",
    "            duree_parts = duree.split(\":\")\n",
    "            if len(duree_parts) == 3:\n",
    "                duree_seconds = (\n",
    "                    int(duree_parts[0]) * 3600\n",
    "                    + int(duree_parts[1]) * 60\n",
    "                    + int(duree_parts[2])\n",
    "                )\n",
    "            elif len(duree_parts) == 2:\n",
    "                duree_seconds = int(duree_parts[0]) * 60 + int(duree_parts[1])\n",
    "            else:\n",
    "                duree_seconds = int(duree_parts[0])\n",
    "        else:\n",
    "            duree_seconds = 0\n",
    "\n",
    "        if duree_seconds > 900:\n",
    "            # Vérification si l'épisode est déjà présent dans la base\n",
    "            if collection.find_one({\"nom\": nom, \"publié\": publié}) is None:\n",
    "                # Création du document pour l'épisode\n",
    "                episode = {\n",
    "                    \"nom\": nom,\n",
    "                    \"publié\": publié,\n",
    "                    \"duree\": duree_seconds,\n",
    "                    \"url\": url,\n",
    "                    \"description\": description,\n",
    "                    \"auteur\": auteur,\n",
    "                }\n",
    "\n",
    "                # Insertion de l'épisode dans la collection\n",
    "                collection.insert_one(episode)\n",
    "                print(f\"Épisode inséré: {nom}\")\n",
    "            else:\n",
    "                print(f\"Épisode déjà présent: {nom}\")\n",
    "        else:\n",
    "            print(f\"Épisode ignoré (durée insuffisante): {nom}\")\n",
    "\n",
    "\n",
    "# Exemple d'utilisation\n",
    "url_podcast = \"https://radiofrance-podcast.net/podcast09/rss_14007.xml\"\n",
    "stocke_episodes(url_podcast)"
   ]
  },
  {
   "cell_type": "markdown",
   "id": "560aed38",
   "metadata": {},
   "source": [
    "# sauve la base"
   ]
  },
  {
   "cell_type": "code",
   "execution_count": null,
   "id": "83aa702c",
   "metadata": {},
   "outputs": [
    {
     "name": "stdout",
     "output_type": "stream",
     "text": [
      "2024-12-30T19:18:28.353+0100\twriting masque_et_la_plume.episodes to /home/guillaume/git/lmelp/db/masque_et_la_plume/episodes.bson\n",
      "2024-12-30T19:18:28.354+0100\tdone dumping masque_et_la_plume.episodes (9 documents)\n"
     ]
    }
   ],
   "source": [
    "!mongodump --db masque_et_la_plume --out /home/guillaume/git/lmelp/db"
   ]
  },
  {
   "cell_type": "markdown",
   "id": "dbaf3c6d",
   "metadata": {},
   "source": []
  }
 ],
 "metadata": {
  "kernelspec": {
   "display_name": "python3",
   "language": "python",
   "name": "python3"
  }
 },
 "nbformat": 4,
 "nbformat_minor": 5
}
