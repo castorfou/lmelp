{
 "cells": [
  {
   "cell_type": "code",
   "execution_count": null,
   "id": "8f5477b5-204a-49ee-b5d0-1a4918084119",
   "metadata": {},
   "outputs": [
    {
     "name": "stdout",
     "output_type": "stream",
     "text": [
      "ID de l'épisode inséré: 6772b289f8b3bb0f56896085\n",
      "Episode trouvé: {'_id': ObjectId('6772b289f8b3bb0f56896085'), 'date': datetime.datetime(2024, 12, 30, 15, 47, 37, 882000), 'nom': 'Episode 1 - Introduction', 'duree': 3600, 'url': 'https://example.com/episode1.mp3'}\n"
     ]
    }
   ],
   "source": [
    "# Importation de la librairie pymongo\n",
    "import pymongo\n",
    "from datetime import datetime\n",
    "\n",
    "# Connexion à la base de données MongoDB\n",
    "client = pymongo.MongoClient(\n",
    "    \"mongodb://localhost:27017/\"\n",
    ")  # Connexion locale par défaut\n",
    "\n",
    "# Sélection de la base de données \"podcasts\" (sera créée si elle n'existe pas)\n",
    "db = client[\"podcasts\"]\n",
    "\n",
    "# Sélection de la collection \"episodes\" (sera créée si elle n'existe pas)\n",
    "collection = db[\"episodes\"]\n",
    "\n",
    "# Exemple de données pour un épisode\n",
    "episode = {\n",
    "    \"date\": datetime.now(),\n",
    "    \"nom\": \"Episode 1 - Introduction\",\n",
    "    \"duree\": 3600,  # Durée en secondes\n",
    "    \"url\": \"https://example.com/episode1.mp3\",\n",
    "}\n",
    "\n",
    "# Insertion de l'épisode dans la collection\n",
    "resultat = collection.insert_one(episode)\n",
    "print(f\"ID de l'épisode inséré: {resultat.inserted_id}\")\n",
    "\n",
    "# Recherche d'un épisode par son nom\n",
    "episode_trouve = collection.find_one({\"nom\": \"Episode 1 - Introduction\"})\n",
    "print(f\"Episode trouvé: {episode_trouve}\")"
   ]
  },
  {
   "cell_type": "code",
   "execution_count": null,
   "id": "687a9ac5-996d-48b5-a55e-d94fca6a718c",
   "metadata": {},
   "outputs": [],
   "source": []
  }
 ],
 "metadata": {
  "kernelspec": {
   "display_name": "conda-env-whisper-py",
   "language": "python",
   "name": "conda-env-whisper-py"
  }
 },
 "nbformat": 4,
 "nbformat_minor": 5
}
