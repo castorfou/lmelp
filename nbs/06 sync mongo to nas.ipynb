{
 "cells": [
  {
   "cell_type": "code",
   "execution_count": null,
   "metadata": {},
   "outputs": [],
   "source": [
    "import pymongo\n",
    "\n",
    "client_local = pymongo.MongoClient(\"mongodb://localhost:27017/\")\n",
    "db_local = client_local[\"masque_et_la_plume\"]\n",
    "collection_local = db_local[\"episodes\"]"
   ]
  },
  {
   "cell_type": "code",
   "execution_count": null,
   "metadata": {},
   "outputs": [],
   "source": [
    "client_nas = pymongo.MongoClient(\"mongodb://nas923:27017/\")\n",
    "db_nas = client_nas[\"masque_et_la_plume\"]\n",
    "collection_nas = db_nas[\"episodes\"]"
   ]
  },
  {
   "cell_type": "code",
   "execution_count": null,
   "metadata": {},
   "outputs": [
    {
     "name": "stdout",
     "output_type": "stream",
     "text": [
      "Entrée ajoutée à collection_nas avec l'ID: 6773e32258fc5717f3516b98\n",
      "Entrée ajoutée à collection_nas avec l'ID: 6773e32258fc5717f3516b99\n",
      "Entrée ajoutée à collection_nas avec l'ID: 6773e32258fc5717f3516b9a\n",
      "Entrée ajoutée à collection_nas avec l'ID: 6773e32258fc5717f3516b9b\n",
      "Entrée ajoutée à collection_nas avec l'ID: 6773e32258fc5717f3516b9c\n",
      "Entrée ajoutée à collection_nas avec l'ID: 6773e32258fc5717f3516b9d\n",
      "Entrée ajoutée à collection_nas avec l'ID: 6773e32258fc5717f3516b9e\n",
      "Entrée ajoutée à collection_nas avec l'ID: 6773e32258fc5717f3516b9f\n",
      "Entrée ajoutée à collection_nas avec l'ID: 6773e32258fc5717f3516ba0\n"
     ]
    }
   ],
   "source": [
    "import pymongo\n",
    "\n",
    "# Parcourir toutes les entrées dans collection_local\n",
    "for local_entry in collection_local.find():\n",
    "    # Vérifier si l'entrée existe déjà dans collection_nas\n",
    "    nas_entry = collection_nas.find_one({\"_id\": local_entry[\"_id\"]})\n",
    "\n",
    "    if nas_entry is None:\n",
    "        # Si l'entrée n'existe pas dans collection_nas, l'ajouter\n",
    "        collection_nas.insert_one(local_entry)\n",
    "        print(f\"Entrée ajoutée à collection_nas avec l'ID: {local_entry['_id']}\")\n",
    "    else:\n",
    "        print(\n",
    "            f\"Entrée déjà présente dans collection_nas avec l'ID: {local_entry['_id']}\"\n",
    "        )"
   ]
  },
  {
   "cell_type": "code",
   "execution_count": null,
   "metadata": {},
   "outputs": [],
   "source": []
  }
 ],
 "metadata": {
  "kernelspec": {
   "display_name": "python3",
   "language": "python",
   "name": "python3"
  }
 },
 "nbformat": 4,
 "nbformat_minor": 2
}
