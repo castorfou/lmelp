{
 "cells": [
  {
   "cell_type": "code",
   "execution_count": null,
   "metadata": {},
   "outputs": [],
   "source": [
    "# |default_exp config"
   ]
  },
  {
   "cell_type": "code",
   "execution_count": null,
   "metadata": {},
   "outputs": [],
   "source": [
    "# |export\n",
    "\n",
    "from dotenv import load_dotenv, find_dotenv\n",
    "import os\n",
    "\n",
    "\n",
    "def load_env() -> None:\n",
    "    \"\"\"\n",
    "    Charge les variables d'environnement à partir d'un fichier .env.\n",
    "    \"\"\"\n",
    "    _ = load_dotenv(find_dotenv())"
   ]
  },
  {
   "cell_type": "markdown",
   "metadata": {},
   "source": [
    "# RSS variable"
   ]
  },
  {
   "cell_type": "code",
   "execution_count": null,
   "metadata": {},
   "outputs": [],
   "source": [
    "# |export\n",
    "\n",
    "\n",
    "def get_RSS_URL() -> str:\n",
    "    \"\"\"\n",
    "    Récupère l'URL du flux RSS à partir des variables d'environnement.\n",
    "\n",
    "    Returns:\n",
    "        str: L'URL du flux RSS. Si la variable d'environnement `RSS_LMELP_URL` n'est pas définie,\n",
    "        retourne une URL par défaut.\n",
    "    \"\"\"\n",
    "    load_env()\n",
    "    RSS_LMELP_URL = os.getenv(\"RSS_LMELP_URL\")\n",
    "    if RSS_LMELP_URL is None:\n",
    "        RSS_LMELP_URL = \"https://radiofrance-podcast.net/podcast09/rss_14007.xml\"\n",
    "    return RSS_LMELP_URL"
   ]
  },
  {
   "cell_type": "code",
   "execution_count": null,
   "metadata": {},
   "outputs": [
    {
     "data": {
      "text/plain": [
       "'https://radiofrance-podcast.net/podcast09/rss_14007.xml'"
      ]
     },
     "execution_count": null,
     "metadata": {},
     "output_type": "execute_result"
    }
   ],
   "source": [
    "get_RSS_URL()"
   ]
  },
  {
   "cell_type": "markdown",
   "metadata": {},
   "source": [
    "# llm"
   ]
  },
  {
   "cell_type": "code",
   "execution_count": null,
   "metadata": {},
   "outputs": [],
   "source": [
    "# | export\n",
    "\n",
    "\n",
    "def get_gemini_api_key() -> str:\n",
    "    \"\"\"\n",
    "    Get the Gemini API key from environment variables.\n",
    "\n",
    "    Returns:\n",
    "        str: The Gemini API key.\n",
    "    \"\"\"\n",
    "    load_env()\n",
    "    gemini_api_key = os.getenv(\"GEMINI_API_KEY\")\n",
    "    return gemini_api_key\n",
    "\n",
    "\n",
    "def get_openai_api_key() -> str:\n",
    "    \"\"\"\n",
    "    Get the OpenAI API key from environment variables.\n",
    "\n",
    "    Returns:\n",
    "        str: The OpenAI API key.\n",
    "    \"\"\"\n",
    "    load_env()\n",
    "    openai_api_key = os.getenv(\"OPENAI_API_KEY\")\n",
    "    return openai_api_key\n",
    "\n",
    "\n",
    "def get_google_projectID() -> str:\n",
    "    \"\"\"\n",
    "    Get the Google Project ID from environment variables.\n",
    "\n",
    "    Returns:\n",
    "        str: The Google Project ID.\n",
    "    \"\"\"\n",
    "    load_env()\n",
    "    google_projectID = os.getenv(\"GOOGLE_PROJECT_ID\")\n",
    "    return google_projectID\n",
    "\n",
    "\n",
    "def get_google_auth_file() -> str:\n",
    "    \"\"\"\n",
    "    Get the Google authentication file path from environment variables.\n",
    "\n",
    "    Returns:\n",
    "        str: The path to the Google authentication file.\n",
    "    \"\"\"\n",
    "    load_env()\n",
    "    google_auth_file = os.getenv(\"GOOGLE_AUTH_FILE\")\n",
    "    return google_auth_file\n",
    "\n",
    "\n",
    "def get_azure_openai_keys() -> tuple[str, str, str]:\n",
    "    \"\"\"\n",
    "    Get the Azure OpenAI keys from environment variables.\n",
    "\n",
    "    Returns:\n",
    "        tuple: A tuple containing the Azure API key, endpoint, and API version.\n",
    "    \"\"\"\n",
    "    load_env()\n",
    "    azure_api_key = os.getenv(\"AZURE_API_KEY\")\n",
    "    azure_endpoint = os.getenv(\"AZURE_ENDPOINT\")\n",
    "    azure_api_version = os.getenv(\"AZURE_API_VERSION\")\n",
    "    return azure_api_key, azure_endpoint, azure_api_version"
   ]
  },
  {
   "cell_type": "markdown",
   "metadata": {},
   "source": [
    "# extract py"
   ]
  },
  {
   "cell_type": "code",
   "execution_count": null,
   "metadata": {},
   "outputs": [],
   "source": [
    "from nbdev.export import nb_export\n",
    "\n",
    "nb_export(\"py config.ipynb\", \".\")"
   ]
  },
  {
   "cell_type": "code",
   "execution_count": null,
   "metadata": {},
   "outputs": [],
   "source": []
  },
  {
   "cell_type": "code",
   "execution_count": null,
   "metadata": {},
   "outputs": [],
   "source": []
  }
 ],
 "metadata": {
  "kernelspec": {
   "display_name": "python3",
   "language": "python",
   "name": "python3"
  }
 },
 "nbformat": 4,
 "nbformat_minor": 2
}
