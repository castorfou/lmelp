{
 "cells": [
  {
   "cell_type": "code",
   "execution_count": null,
   "metadata": {},
   "outputs": [],
   "source": [
    "from datetime import datetime\n",
    "import locale\n",
    "\n",
    "# Définir la locale en français\n",
    "locale.setlocale(locale.LC_TIME, \"fr_FR.UTF-8\")\n",
    "\n",
    "DATE_FORMAT = \"%d %b %Y\""
   ]
  },
  {
   "cell_type": "code",
   "execution_count": null,
   "metadata": {},
   "outputs": [],
   "source": [
    "from mongo_episode import Episodes\n",
    "import pandas as pd\n",
    "\n",
    "\n",
    "def get_episodes():\n",
    "    episodes = Episodes()\n",
    "    all_episodes = episodes.episodes\n",
    "    episodes_df = pd.DataFrame([episode.to_dict() for episode in all_episodes])\n",
    "    # episodes_df[\"date\"] = episodes_df[\"date\"].dt.strftime(\"%Y/%m/%d\")\n",
    "    episodes_df[\"duree (min)\"] = (episodes_df[\"duree\"] / 60).round(1)\n",
    "    episodes_df.drop(\n",
    "        columns=[\"url_telechargement\", \"audio_rel_filename\", \"type\", \"duree\"],\n",
    "        inplace=True,\n",
    "    )\n",
    "    return episodes_df\n",
    "\n",
    "\n",
    "def print_episodes_info(episodes_df):\n",
    "    print(\"### Informations sur les épisodes\")\n",
    "    print(f\"{episodes_df.shape[0]} épisodes\")\n",
    "    print(f\"{episodes_df['date'].min()} - {episodes_df['date'].max()}\")\n",
    "    # Compter les transcriptions disponibles et manquantes\n",
    "    transcriptions_ok = episodes_df[\"transcription\"].notna().sum()\n",
    "    transcriptions_missing = episodes_df[\"transcription\"].isna().sum()\n",
    "\n",
    "    print(f\"Transcriptions OK : {transcriptions_ok}\")\n",
    "    print(f\"Transcriptions manquantes : {transcriptions_missing}\")\n",
    "\n",
    "\n",
    "def afficher_episodes(episodes_df):\n",
    "    print(\"### Épisodes\")\n",
    "    print(\"Liste des épisodes du Masque et la Plume.\")\n",
    "    print_episodes_info(episodes_df)\n",
    "\n",
    "    episodes_df = episodes_df.copy()\n",
    "    episodes_df[\"date\"] = episodes_df[\"date\"].apply(lambda x: x.strftime(DATE_FORMAT))\n",
    "    # Ajoutez ici le code pour afficher les épisodes\n",
    "    return episodes_df"
   ]
  },
  {
   "cell_type": "code",
   "execution_count": null,
   "metadata": {},
   "outputs": [],
   "source": [
    "episodes_df = get_episodes()"
   ]
  },
  {
   "cell_type": "markdown",
   "metadata": {},
   "source": [
    "# afficher episodes"
   ]
  },
  {
   "cell_type": "code",
   "execution_count": null,
   "metadata": {},
   "outputs": [
    {
     "name": "stdout",
     "output_type": "stream",
     "text": [
      "### Épisodes\n",
      "Liste des épisodes du Masque et la Plume.\n",
      "### Informations sur les épisodes\n",
      "206 épisodes\n",
      "1958-12-18 00:00:00 - 2025-01-26 10:59:39\n",
      "Transcriptions OK : 206\n",
      "Transcriptions manquantes : 0\n"
     ]
    },
    {
     "data": {
      "text/html": [
       "<div>\n",
       "<style scoped>\n",
       "    .dataframe tbody tr th:only-of-type {\n",
       "        vertical-align: middle;\n",
       "    }\n",
       "\n",
       "    .dataframe tbody tr th {\n",
       "        vertical-align: top;\n",
       "    }\n",
       "\n",
       "    .dataframe thead th {\n",
       "        text-align: right;\n",
       "    }\n",
       "</style>\n",
       "<table border=\"1\" class=\"dataframe\">\n",
       "  <thead>\n",
       "    <tr style=\"text-align: right;\">\n",
       "      <th></th>\n",
       "      <th>date</th>\n",
       "      <th>titre</th>\n",
       "      <th>description</th>\n",
       "      <th>transcription</th>\n",
       "      <th>duree (min)</th>\n",
       "    </tr>\n",
       "  </thead>\n",
       "  <tbody>\n",
       "    <tr>\n",
       "      <th>0</th>\n",
       "      <td>26 janv. 2025</td>\n",
       "      <td>Les nouveaux romans de Leïla Slimani, Pierre L...</td>\n",
       "      <td>durée : 00:47:56 - Le Masque et la Plume - par...</td>\n",
       "      <td>France Inter Le masque et la plume Le sommair...</td>\n",
       "      <td>47.9</td>\n",
       "    </tr>\n",
       "    <tr>\n",
       "      <th>1</th>\n",
       "      <td>12 janv. 2025</td>\n",
       "      <td>Les nouvelles pages de Vanessa Springora, Haru...</td>\n",
       "      <td>durée : 00:48:41 - Le Masque et la Plume - par...</td>\n",
       "      <td>France Inter Le masque et la plume Premier ma...</td>\n",
       "      <td>48.7</td>\n",
       "    </tr>\n",
       "    <tr>\n",
       "      <th>2</th>\n",
       "      <td>22 déc. 2024</td>\n",
       "      <td>Les nouvelles pages de Marc Dugain, Emmanuelle...</td>\n",
       "      <td>durée : 00:47:52 - Le Masque et la Plume - par...</td>\n",
       "      <td>France Inter Le masque et la plume Cinq roman...</td>\n",
       "      <td>47.9</td>\n",
       "    </tr>\n",
       "    <tr>\n",
       "      <th>3</th>\n",
       "      <td>01 déc. 2024</td>\n",
       "      <td>Les nouvelles pages de James Ellroy, Yasmina R...</td>\n",
       "      <td>durée : 00:47:17 - Le Masque et la Plume - par...</td>\n",
       "      <td>France Inter Le masque et la plume Les nouvea...</td>\n",
       "      <td>47.3</td>\n",
       "    </tr>\n",
       "    <tr>\n",
       "      <th>4</th>\n",
       "      <td>10 nov. 2024</td>\n",
       "      <td>La foire du livre de Brive : les romans de Dan...</td>\n",
       "      <td>durée : 00:46:03 - Le Masque et la Plume - par...</td>\n",
       "      <td>France Inter Le masque et la plume Bienvenue ...</td>\n",
       "      <td>46.0</td>\n",
       "    </tr>\n",
       "    <tr>\n",
       "      <th>...</th>\n",
       "      <td>...</td>\n",
       "      <td>...</td>\n",
       "      <td>...</td>\n",
       "      <td>...</td>\n",
       "      <td>...</td>\n",
       "    </tr>\n",
       "    <tr>\n",
       "      <th>201</th>\n",
       "      <td>16 nov. 1961</td>\n",
       "      <td>Le Masque et les Goncourt : \"La Pitié de Dieu\"...</td>\n",
       "      <td>Le\\n journaliste et écrivain Jean Cau répond a...</td>\n",
       "      <td>France Inter Ça a été votre disparition il y ...</td>\n",
       "      <td>9.0</td>\n",
       "    </tr>\n",
       "    <tr>\n",
       "      <th>202</th>\n",
       "      <td>16 nov. 1961</td>\n",
       "      <td>Le Masque et les Goncourt : \"L'Etat sauvage\" d...</td>\n",
       "      <td>En\\n 1964, les critiques du \"Masque et la plum...</td>\n",
       "      <td>France Inter en effet il y a plusieurs mois e...</td>\n",
       "      <td>5.0</td>\n",
       "    </tr>\n",
       "    <tr>\n",
       "      <th>203</th>\n",
       "      <td>15 déc. 1960</td>\n",
       "      <td>Le Masque et les Goncourt : \"Dieu est né en ex...</td>\n",
       "      <td>En\\n 1960, le prix Goncourt est attribué à Vin...</td>\n",
       "      <td>France Inter Qu'il s'agit encore une fois de ...</td>\n",
       "      <td>1.0</td>\n",
       "    </tr>\n",
       "    <tr>\n",
       "      <th>204</th>\n",
       "      <td>19 nov. 1959</td>\n",
       "      <td>Le Masque et les Goncourt : \"Le Dernier des ju...</td>\n",
       "      <td>Un\\n livre extraordinairement émouvant, \"Le De...</td>\n",
       "      <td>France Inter Commençons par le grand cours qu...</td>\n",
       "      <td>8.0</td>\n",
       "    </tr>\n",
       "    <tr>\n",
       "      <th>205</th>\n",
       "      <td>18 déc. 1958</td>\n",
       "      <td>Le Masque et les Goncourt : \"Saint-Germain ou ...</td>\n",
       "      <td>En\\n 1958, les jurés du Prix Goncourt récompen...</td>\n",
       "      <td>France Inter il est évident que nous l'avons ...</td>\n",
       "      <td>6.0</td>\n",
       "    </tr>\n",
       "  </tbody>\n",
       "</table>\n",
       "<p>206 rows × 5 columns</p>\n",
       "</div>"
      ],
      "text/plain": [
       "              date                                              titre  \\\n",
       "0    26 janv. 2025  Les nouveaux romans de Leïla Slimani, Pierre L...   \n",
       "1    12 janv. 2025  Les nouvelles pages de Vanessa Springora, Haru...   \n",
       "2     22 déc. 2024  Les nouvelles pages de Marc Dugain, Emmanuelle...   \n",
       "3     01 déc. 2024  Les nouvelles pages de James Ellroy, Yasmina R...   \n",
       "4     10 nov. 2024  La foire du livre de Brive : les romans de Dan...   \n",
       "..             ...                                                ...   \n",
       "201   16 nov. 1961  Le Masque et les Goncourt : \"La Pitié de Dieu\"...   \n",
       "202   16 nov. 1961  Le Masque et les Goncourt : \"L'Etat sauvage\" d...   \n",
       "203   15 déc. 1960  Le Masque et les Goncourt : \"Dieu est né en ex...   \n",
       "204   19 nov. 1959  Le Masque et les Goncourt : \"Le Dernier des ju...   \n",
       "205   18 déc. 1958  Le Masque et les Goncourt : \"Saint-Germain ou ...   \n",
       "\n",
       "                                           description  \\\n",
       "0    durée : 00:47:56 - Le Masque et la Plume - par...   \n",
       "1    durée : 00:48:41 - Le Masque et la Plume - par...   \n",
       "2    durée : 00:47:52 - Le Masque et la Plume - par...   \n",
       "3    durée : 00:47:17 - Le Masque et la Plume - par...   \n",
       "4    durée : 00:46:03 - Le Masque et la Plume - par...   \n",
       "..                                                 ...   \n",
       "201  Le\\n journaliste et écrivain Jean Cau répond a...   \n",
       "202  En\\n 1964, les critiques du \"Masque et la plum...   \n",
       "203  En\\n 1960, le prix Goncourt est attribué à Vin...   \n",
       "204  Un\\n livre extraordinairement émouvant, \"Le De...   \n",
       "205  En\\n 1958, les jurés du Prix Goncourt récompen...   \n",
       "\n",
       "                                         transcription  duree (min)  \n",
       "0     France Inter Le masque et la plume Le sommair...         47.9  \n",
       "1     France Inter Le masque et la plume Premier ma...         48.7  \n",
       "2     France Inter Le masque et la plume Cinq roman...         47.9  \n",
       "3     France Inter Le masque et la plume Les nouvea...         47.3  \n",
       "4     France Inter Le masque et la plume Bienvenue ...         46.0  \n",
       "..                                                 ...          ...  \n",
       "201   France Inter Ça a été votre disparition il y ...          9.0  \n",
       "202   France Inter en effet il y a plusieurs mois e...          5.0  \n",
       "203   France Inter Qu'il s'agit encore une fois de ...          1.0  \n",
       "204   France Inter Commençons par le grand cours qu...          8.0  \n",
       "205   France Inter il est évident que nous l'avons ...          6.0  \n",
       "\n",
       "[206 rows x 5 columns]"
      ]
     },
     "execution_count": null,
     "metadata": {},
     "output_type": "execute_result"
    }
   ],
   "source": [
    "afficher_episodes(episodes_df)"
   ]
  },
  {
   "cell_type": "code",
   "execution_count": null,
   "metadata": {},
   "outputs": [
    {
     "data": {
      "text/plain": [
       "'26 janv. 2025'"
      ]
     },
     "execution_count": null,
     "metadata": {},
     "output_type": "execute_result"
    }
   ],
   "source": [
    "episodes[0].to_dict().get(\"date\").strftime(DATE_FORMAT)"
   ]
  },
  {
   "cell_type": "code",
   "execution_count": null,
   "metadata": {},
   "outputs": [
    {
     "data": {
      "text/plain": [
       "'26 janv. 2025'"
      ]
     },
     "execution_count": null,
     "metadata": {},
     "output_type": "execute_result"
    }
   ],
   "source": [
    "selected_date = \"2025/01/26\"\n",
    "# convert to datetime\n",
    "selected_date_dt = datetime.strptime(selected_date, \"%Y/%m/%d\")\n",
    "# convert to string\n",
    "selected_date_str = selected_date_dt.strftime(DATE_FORMAT)\n",
    "\n",
    "selected_date_str"
   ]
  },
  {
   "cell_type": "markdown",
   "metadata": {},
   "source": [
    "# nb mots transcription"
   ]
  },
  {
   "cell_type": "code",
   "execution_count": null,
   "metadata": {},
   "outputs": [],
   "source": [
    "import plotly.express as px\n",
    "\n",
    "\n",
    "def nb_mots_transcription(episodes_df):\n",
    "    print(\"### Nombre de mots par transcription\")\n",
    "    # Compter le nombre de mots dans chaque transcription\n",
    "\n",
    "    episodes_df = episodes_df.copy()\n",
    "    episodes_df[\"date\"] = episodes_df[\"date\"].apply(lambda x: x.strftime(DATE_FORMAT))\n",
    "    # Calculer le nombre de mots par minute\n",
    "    episodes_df[\"mots_par_minute\"] = (\n",
    "        episodes_df[\"transcription\"].apply(lambda x: len(x.split()))\n",
    "        / episodes_df[\"duree (min)\"]\n",
    "    )\n",
    "\n",
    "    # Créer le graphique interactif\n",
    "    fig = px.bar(\n",
    "        episodes_df,\n",
    "        x=\"date\",\n",
    "        y=\"mots_par_minute\",\n",
    "        custom_data=[\"date\", \"titre\", \"mots_par_minute\", \"duree (min)\"],\n",
    "        labels={\"mots_par_minute\": \"Mots par Minute\"},\n",
    "        title=\"Nombre de Mots par Minute par Épisode\",\n",
    "    )\n",
    "\n",
    "    # # Mettre à jour les informations de survol\n",
    "    fig.update_traces(\n",
    "        hovertemplate=\"<b>Date:</b> %{customdata[0]}<br><b>Titre:</b> %{customdata[1]}<br><b>Mots par Minute:</b> %{customdata[2]:.1f}<br><b>Duree en Minute:</b> %{customdata[3]:.1f}\"\n",
    "    )\n",
    "\n",
    "    # Afficher le graphique\n",
    "    fig.show()"
   ]
  },
  {
   "cell_type": "code",
   "execution_count": null,
   "metadata": {},
   "outputs": [
    {
     "name": "stdout",
     "output_type": "stream",
     "text": [
      "### Nombre de mots par transcription\n"
     ]
    },
    {
     "data": {
      "application/vnd.plotly.v1+json": {
       "config": {
        "plotlyServerURL": "https://plot.ly"
       },
       "data": [
        {
         "alignmentgroup": "True",
         "customdata": [
          [
           "26 janv. 2025",
           "Les nouveaux romans de Leïla Slimani, Pierre Lemaître, Jeanne Rivière, Nathalie Azoulai, Milena Agus",
           177.3695198329854,
           47.9
          ],
          [
           "12 janv. 2025",
           "Les nouvelles pages de Vanessa Springora, Haruki Murakami, Jean Echenoz, Amanda Sthers...",
           190.80082135523614,
           48.7
          ],
          [
           "22 déc. 2024",
           "Les nouvelles pages de Marc Dugain, Emmanuelle Lambert, Emil Ferris, Fabrice Caro et Mathieu Palain",
           184.61377870563675,
           47.9
          ],
          [
           "01 déc. 2024",
           "Les nouvelles pages de James Ellroy, Yasmina Reza, Célestin de Meeûs, Sandrine Collette, Abdellah Taïa",
           182.0507399577167,
           47.3
          ],
          [
           "10 nov. 2024",
           "La foire du livre de Brive : les romans de Daniel Pennac, Colson Whitehead, Olivier Norek, Miguel Bonnefoy...",
           194.95652173913044,
           46
          ],
          [
           "20 oct. 2024",
           "\"Bien-être\", \"Le Mal Joli\", \"Les derniers jours du parti socialiste\"... Que lire ?",
           196.9375,
           48
          ],
          [
           "22 sept. 2024",
           "Les nouvelles pages de Gaël Faye, Amélie Nothomb, Abel Quentin, Rebecca Lighieri, Richard Ford…",
           192.93617021276594,
           47
          ],
          [
           "08 sept. 2024",
           "Rentrée littéraire avec Alice Zeniter, Philippe Jaenada, Peter Stamm, Jérôme Ferrari…",
           187.0625,
           48
          ],
          [
           "26 août 2024",
           "Le\n Masque et les Goncourt : \"Houris\" de Kamel Daoud, Goncourt 2024 : le \nMasque salue un texte aussi fragile que courageux et important",
           207.625,
           8
          ],
          [
           "25 août 2024",
           "Les romans de Kamel Daoud, Maylis de Kerangal, Marie Vingtras, Richard Morgiève…",
           180.26,
           50
          ],
          [
           "04 août 2024",
           "Lectures d'été - Philippe Collin, Alain Guiraudie, Joann Sfar, Tiffany McDaniel...",
           195.32,
           50
          ],
          [
           "23 juin 2024",
           "Les nouvelles pages d'Erri de Luca, Laurent Gaudé, Chantal Thomas, Deborah Levy…",
           187.89285714285714,
           56
          ],
          [
           "19 mai 2024",
           "Livres - Stephen King, Olivier Adam, Scholastique Mukasonga, Tanguy Viel, Manu Larcenet",
           185.7608695652174,
           46
          ],
          [
           "05 mai 2024",
           "Les nouvelles pages d'Edouard Louis, Hervé Le Tellier, Salman Rushdie, Alexandre Labruffe…",
           171.53191489361703,
           47
          ],
          [
           "07 avril 2024",
           "Les nouveaux romans de Nancy Huston, Mathieu Belezi, Joël Dicker et Victor Malzac",
           187.80851063829786,
           47
          ],
          [
           "24 mars 2024",
           "Les nouvelles pages de Paul Auster, Jean-Paul Dubois, Jean-Christophe Rufin, Joy Sorman…",
           171.40425531914894,
           47
          ],
          [
           "25 févr. 2024",
           "\"Le ciel ouvert”, “Une existence sans précédent”, “American Mother”, “En Vérité, Alice”... Que lire ?",
           188.2391304347826,
           46
          ],
          [
           "12 févr. 2024",
           "Les\n coups de cœur littéraires du Masque 2024 1/13 : CRITIQUE l Le Masque \nunanime face à la maitrise du dernier roman de Marie Darrieussecq",
           195.8181818181818,
           11
          ],
          [
           "11 févr. 2024",
           "Les nouvelles pages de Marie Darrieussecq, Philippe Besson, Sophie Divry, Ia Genberg",
           186.3913043478261,
           46
          ],
          [
           "14 janv. 2024",
           "Les nouvelles pages de Russell Banks, David Foenkinos, Virginie Linhart et Valérie Zenatti",
           184.89361702127658,
           47
          ],
          [
           "24 déc. 2023",
           "Livres - Harlan Coben, David Lodge, Olivier Liron, Akira Mizubayashi et Paul Newman sous le sapin ?",
           170.07272727272726,
           55
          ],
          [
           "10 déc. 2023",
           "Les nouvelles pages de Jean-Baptiste Andrea, Nathacha Appanah, Dan Franck, Kevin Lambert…",
           175.62962962962962,
           54
          ],
          [
           "12 nov. 2023",
           "Les nouvelles pages de Ian McEwan, Gaspard Koenig, Emilie Frèche, Hippolyte Girardot…",
           183.25925925925927,
           54
          ],
          [
           "29 oct. 2023",
           "Livres - Le Masque a lu Patrick Modiano, Salman Rushdie, Panayotis Pascot, Sorj Chalandon…",
           184.75925925925927,
           54
          ],
          [
           "01 oct. 2023",
           "Lilia Hassaine, Mathias Enard, Laure Murat, ou David Grann... Qui lire cette semaine ?",
           182.7962962962963,
           54
          ],
          [
           "10 sept. 2023",
           "La rentrée littéraire de Pierric Bailly, Jean-Philippe Toussaint, Eva Ionesco, Laurent Binet…",
           174.35185185185185,
           54
          ],
          [
           "27 août 2023",
           "Les livres de la rentrée : \"Western\", \"Sarah, Suzanne et l’écrivain\", \"L’Amour\", \"Le Château des rentiers\"…",
           182.96296296296296,
           54
          ],
          [
           "13 août 2023",
           "Lectures d'été : les nouveaux livres de Chantal Thomas, Ellen J. Levy, William Boyd, Bernard Minier…",
           189.14545454545456,
           55
          ],
          [
           "30 juil. 2023",
           "À lire ou non sur la plage : Don Winslow, Emma Cline, Sophie Marceau, François-Henri Désérable",
           178.18867924528303,
           53
          ],
          [
           "02 juil. 2023",
           "Les nouvelles pages de Nicolas Fargues, John Waters, Jennifer Lesieur, Didier Eribon…",
           180.35185185185185,
           54
          ],
          [
           "04 juin 2023",
           "Les nouveaux livres de Fred Vargas, Douglas Kennedy, Fabrice Humbert, Mélissa Da Costa…",
           173.87037037037038,
           54
          ],
          [
           "14 mai 2023",
           "Les nouvelles pages de Cormac McCarthy, Régine Detambel, Patrick Roegiers, Ovidie et Fritz Zorn",
           185.85185185185185,
           54
          ],
          [
           "16 avril 2023",
           "À lire ou pas ? Marc Dugain, Adeline Dieudonné, Don DeLillo, Pierre Assouline et Lionel Shriver",
           183.2,
           55
          ],
          [
           "02 avril 2023",
           "Les nouveaux livres de Bret E. Ellis, Paul Pavlowitch, Erik Orsenna et Quentin Tarantino…",
           183.05555555555554,
           54
          ],
          [
           "19 mars 2023",
           "Nouvelles lectures de Cormac McCarthy, Elena Ferrante, Constance Debré, Bernhard Schlink…",
           183.44444444444446,
           54
          ],
          [
           "05 févr. 2023",
           "Livres - Hélène Frappat, J.M.G Le Clézio, Lauren Groff, Philippe Claude, Natasha Brown",
           179.55555555555554,
           54
          ],
          [
           "22 janv. 2023",
           "Les nouveaux romans de Colson Whitehead, Aurélien Bellanger, Marie-Hélène Lafon, Véronique Ovaldé",
           182.77777777777777,
           54
          ],
          [
           "08 janv. 2023",
           "Les nouvelles pages de Lydie Salvayre, Daniel Pennac, Mathieu Lindon, Christophe Donner…",
           187.63636363636363,
           55
          ],
          [
           "11 déc. 2022",
           "Livres  - Sylvain Tesson, Jonathan Coe, Salman Rushdie seront-ils au pied du sapin ?",
           190.4181818181818,
           55
          ],
          [
           "13 nov. 2022",
           "Les nouveaux livres de Margaret Atwood, Laurent Gaudé, Sandrine Collette, Grégoire Bouillier…",
           188.27777777777777,
           54
          ],
          [
           "30 oct. 2022",
           "Nouvelles lectures : John Le Carré, Muriel Barbery, Sarah Jollien-Fardel, un inédit de Céline…",
           189.4814814814815,
           54
          ],
          [
           "02 oct. 2022",
           "Les nouvelles pages de Jonathan Franzen, Simon Liberati, Lola Lafon, Brigitte Giraud…",
           185.12962962962962,
           54
          ],
          [
           "02 oct. 2022",
           "Le Masque et les Goncourt : \"Veiller sur elle\" de Jean-Baptiste Andréa, 2023",
           182.4,
           10
          ],
          [
           "02 oct. 2022",
           "Le Masque et les Goncourt : \"Vivre vite\" de Brigitte Giraud, 2022",
           212.875,
           8
          ],
          [
           "11 sept. 2022",
           "Littérature avec Russell Banks, Sally Rooney, Yannick Haenel, Catherine Millet...",
           186.74074074074073,
           54
          ],
          [
           "28 août 2022",
           "Virginie Despentes, Monica Sabolo, Emma Becker… Quels livres pour une rentrée littéraire réussie ?",
           183.9814814814815,
           54
          ],
          [
           "14 août 2022",
           "Littérature estivale avec Fabrice Caro, Diane de Beauvau-Craon, Pierre Assouline, Hillary Clinton…",
           174.94444444444446,
           54
          ],
          [
           "31 juil. 2022",
           "Livres - Faut-il emporter Isabelle Autissier, James Ellroy, Clémentine Autain, John Steinbeck à la plage ?",
           183.6851851851852,
           54
          ],
          [
           "03 juil. 2022",
           "Les nouveaux livres d'Olivia Ruiz, de Douglas Kennedy, d'Olivier Rolin... Que lire ?",
           186.85185185185185,
           54
          ],
          [
           "12 juin 2022",
           "Les nouveaux livres d'Isabelle Carré, Fran Lebowitz, Nick Hornby… et un inédit de Georges Perec",
           184.83333333333334,
           54
          ],
          [
           "08 mai 2022",
           "On a lu, l'inédit de Céline, Chantal Thomas, Annie Ernaux, Javier Cercas et Werner Herzog",
           184.66666666666666,
           54
          ],
          [
           "24 avril 2022",
           "Les nouveaux ouvrages de Joël Dicker, Jean-Philippe Toussaint, Paule Constant, François Truffaut…",
           189.11111111111111,
           54
          ],
          [
           "27 mars 2022",
           "Les nouveaux livres de Jean-Marc Parisis, Tonino Benacquista, Jeanine Cummins, Yann Moix, Nancy Huston",
           196.8148148148148,
           54
          ],
          [
           "13 mars 2022",
           "Les nouveaux romans d'Eva Ionesco, François Bégaudeau, Louise Erdrich, Orhan Pamuk…",
           180.53703703703704,
           54
          ],
          [
           "20 févr. 2022",
           "Que valent les nouveaux livres de Leïla Slimani, Constance Debré, Joy Sorman, Jean-Jacques Schuhl ?",
           190.35185185185185,
           54
          ],
          [
           "30 janv. 2022",
           "Les nouveaux opus d'Edith Bruck, Nathalie Azoulai, Eric Vuillard, Nicolas Mathieu, Pierre Lemaître",
           200.8148148148148,
           54
          ],
          [
           "09 janv. 2022",
           "Michel Houellebecq, Karine Tuil, Julia Deck, Joshua Cohen… Bonnes ou mauvaises résolutions littéraires ?",
           181.88888888888889,
           54
          ],
          [
           "12 déc. 2021",
           "Les livres de Stephen King, Ahmet Altan, Patricia Highsmith, Catherine Sauvat… sous le feu des critiques",
           170.94444444444446,
           54
          ],
          [
           "28 nov. 2021",
           "Le Masque et les Goncourt : \"La plus secrète mémoire des hommes\" de Mohamed Mbougar Sarr, 2021",
           201.6,
           10
          ],
          [
           "28 nov. 2021",
           "Que valent les derniers livres de Richard Ford, Anne Berest, Jean-Christophe Rufin, Mohamed Mbougar Sarr… ?",
           190.72222222222223,
           54
          ],
          [
           "31 oct. 2021",
           "Les nouveaux romans de Patrick Modiano, Elsa Fottorino, Abel Quentin, Nina Bouraoui et Quentin Tarantino",
           182.5,
           54
          ],
          [
           "17 oct. 2021",
           "Faut-il lire les nouveaux livres de Édouard Louis, Christophe Donner, Catherine Cusset, Justine Lévy… ?",
           204.41509433962264,
           53
          ],
          [
           "12 sept. 2021",
           "Les nouveaux livres de Marie Darrieussecq, Kazuo Ishiguro, David Diop, Tanguy Viel, Maria Pourchet",
           182.59259259259258,
           54
          ],
          [
           "29 août 2021",
           "Rentrée littéraire avec Amélie Nothomb, Christine Angot, Marc Dugain, Santiago Amigorena…",
           185.09259259259258,
           54
          ],
          [
           "15 août 2021",
           "Quelques livres à lire, ou pas : Frédéric Boyer, Nicolas Rey, Virginie Grimaldi, Robert Louis Stevenson…",
           188.58490566037736,
           53
          ],
          [
           "01 août 2021",
           "Quelques pavés à lire sur la plage : faut-il lire les livres de David Niven, Patrick Rotman, Nancy Huston... ?",
           177.87272727272727,
           55
          ],
          [
           "04 juil. 2021",
           "Livres - Les nouveaux opus d'Adélaïde de Clermont-Tonnerre, Sanaë Lemoine, Julien Blanc-Gras…",
           181.75925925925927,
           54
          ],
          [
           "20 juin 2021",
           "Faut-il lire \"Canoës\", \"Harvey\", \"Hamnet\", \"Et ces êtres sans pénis !\", \"Correspondances\" ?",
           181.50943396226415,
           53
          ],
          [
           "06 juin 2021",
           "Les nouveaux livres de Claudie Gallay, Anne Révah, Helen Macdonald, Pierre Lemaitre, Pierric Bailly",
           194.8490566037736,
           53
          ],
          [
           "23 mai 2021",
           "À lire ou pas : \"Le Silence\", \"La Beauté dure toujours\", \"James et Nora\", \"Journal amoureux\", \"Komodo\"",
           180.30188679245282,
           53
          ],
          [
           "09 mai 2021",
           "Que valent les nouveaux livres de William Boyd, Adeline Dieudonné, Ariane Chemin, Dominique Bona… ?",
           183.61111111111111,
           54
          ],
          [
           "25 avril 2021",
           "Que valent les derniers livres de Edouard Louis, Alix de Saint-André, Sally Rooney, Joseph Andras… ?",
           197.11320754716982,
           53
          ],
          [
           "11 avril 2021",
           "Les nouveaux livres de Dominique Fernandez, Françoise Chandernagor, Benoît Duteurtre, Jonathan Coe…",
           173.16981132075472,
           53
          ],
          [
           "28 mars 2021",
           "Les nouveaux livres d'Aurélien Bellanger, Olivier Bourdeaut, Milena Agus, Will Self et Jim Carrey",
           189.75925925925927,
           54
          ],
          [
           "14 mars 2021",
           "Les derniers livres de Delphine de Vigan, Philippe Sollers, Joy Sorman, Leïla Slimani…",
           186.75471698113208,
           53
          ],
          [
           "28 févr. 2021",
           "Faut-il lire les nouveaux livres de Jean-Marie Rouart, Régis Jauffret, Goliarda Sapienza… ?",
           191.33962264150944,
           53
          ],
          [
           "14 févr. 2021",
           "Que valent les derniers livres de Florence Aubenas, Chantal Thomas, Olivier Adam, Graham Swift… ?",
           189.72727272727272,
           55
          ],
          [
           "31 janv. 2021",
           "Que valent les nouveaux livres de Eric Fottorino, Anne Plantagenet, Philippe Delerm, Sandro Veronesi… ?",
           186.11320754716982,
           53
          ],
          [
           "17 janv. 2021",
           "Livres : que valent les derniers de Judith Perrignon, Mathieu Lindon, Louise Erdrich, Ivan Jablonka… ?",
           185.90740740740742,
           54
          ],
          [
           "03 janv. 2021",
           "Les nouveaux livres de Marie NDiaye, Marien Defalvard, Patrick Grainville, Yasmina Reza et Martin Amis",
           186.87272727272727,
           55
          ],
          [
           "13 déc. 2020",
           "Livres : les derniers de Pauline Dreyfus, Thibault de Montaigu, Serge Joncour, Philippe Labro…",
           184.9056603773585,
           53
          ],
          [
           "29 nov. 2020",
           "En librairie : \"L’Ami impossible\", \"Crénom, Baudelaire !\", \"Royan. La professeure de français\"…",
           184.30188679245282,
           53
          ],
          [
           "15 nov. 2020",
           "Ces auteurs à retrouver en librairie : Michel Houellebecq, Patti Smith, Simone de Beauvoir…",
           197.2962962962963,
           54
          ],
          [
           "01 nov. 2020",
           "Livres : les nouveaux opus de Ken Follett, Fatima Daas, Julian Barnes, Hervé Le Tellier, Muriel Barbery",
           188.42307692307693,
           52
          ],
          [
           "01 nov. 2020",
           "Le Masque et les Goncourt : \"L'Anomalie\" d'Hervé Le Tellier, 2020",
           219.27272727272728,
           11
          ],
          [
           "04 oct. 2020",
           "Les nouveaux livres de Laurent Mauvignier, Irène Frain, Philippe Djian, Colson Whitehead…",
           190.41509433962264,
           53
          ],
          [
           "13 sept. 2020",
           "Les derniers livres d'Emmanuel Carrère, François Bégaudeau, Amélie Nothomb, Raphaël Enthoven…",
           188.57692307692307,
           52
          ],
          [
           "30 août 2020",
           "Lola Lafon, Camille Laurens, Alice Zeniter, Grégoire Delacourt et Erri de Luca font leur rentrée littéraire",
           187.1509433962264,
           53
          ],
          [
           "15 août 2020",
           "Rentrée littéraire avec Sarah Chiche, Éric Reinhardt, Isabelle Carré, Simon Liberati, Éric Laurrent",
           188.0943396226415,
           53
          ],
          [
           "01 août 2020",
           "Guillaume Musso, Rudyard Kipling, Ian McEwan, Anne Serre… Quels sont ceux à ne pas manquer cet été ?",
           192.51923076923077,
           52
          ],
          [
           "21 juin 2020",
           "Lire ou relire Joseph Kessel, Nick Hornby, Olivia Ruiz, Asli Erdogan ou Joël Dicker ?",
           177.71698113207546,
           53
          ],
          [
           "07 juin 2020",
           "Quelques livres à lire (ou pas) : \"Retour de service\", \"La vie mensongère des adultes\", \"Française\", etc.",
           196.9433962264151,
           53
          ],
          [
           "10 mai 2020",
           "Lire ou relire \"La ferme aux animaux\" de George Orwell et découvrir Julie Wolkenstein, Mary Gaitskill...",
           176.39622641509433,
           53
          ],
          [
           "26 avril 2020",
           "Lire et relire : \"Le Hussard sur le toit\", \"La Nuit atlantique\", \"La Sentence\", \"L'Espion inattendu\"…",
           177.40740740740742,
           54
          ],
          [
           "12 avril 2020",
           "Des auteurs à lire en confinement : Alain Fournier, Anna Hope, Clovis Goux, Dany Laferrière, Rebecca Lighieri",
           181.45283018867926,
           53
          ],
          [
           "29 mars 2020",
           "Albert Camus, Cristina Comencini, Stephen King... Des livres en temps de confinement",
           179.33333333333334,
           54
          ],
          [
           "08 mars 2020",
           "Les derniers livres de Leila Slimani, legor Gran, Blandine de Caunes, Ian McEwan et Gary Shteyngart",
           188.1320754716981,
           53
          ],
          [
           "26 janv. 2020",
           "Pierre Lemaitre, Daniel Pennac, Constance Debré... Quels livres rajouter dans votre bibliothèque ?",
           189.73584905660377,
           53
          ],
          [
           "12 janv. 2020",
           "Les nouveaux livres d'Erik Orsenna, Nina Bouraoui, Vanessa Springora, Jean Echenoz et Régis Jauffret",
           194.62264150943398,
           53
          ],
          [
           "29 déc. 2019",
           "Les derniers livres de Sylvain Tesson, Marcel Proust, Amélie Nothomb, Siri Hustvedt, Haruki Murakami",
           186.22641509433961,
           53
          ],
          [
           "17 nov. 2019",
           "Faut-il lire les nouveaux romans de Margaret Atwood, Sarah Weinman, Edna O’Brien, Romain Puértolas... ?",
           180.9814814814815,
           54
          ],
          [
           "20 oct. 2019",
           "Faut-il lire Françoise Sagan, Patrick Modiano, Leonora Miano, Santiago Amigorena et Monica Sabolo ?",
           180,
           53
          ],
          [
           "15 sept. 2019",
           "Cécile Guilbert, Lionel Duroy, Emma Becker, Jean-Paul Dubois et Jonathan Coe valent-ils la peine d'être lus ?",
           186.33962264150944,
           53
          ],
          [
           "15 sept. 2019",
           "Le Masque et les Goncourt : \"Tous les hommes n'habitent pas le monde de la même façon\" de Jean-Paul Dubois, 2019",
           208.22222222222223,
           9
          ],
          [
           "08 sept. 2019",
           "Olivier Adam, Aurélien Bellanger, Cécile Coulon, Claire Berest, J-P Toussaint, pour une rentrée livresque !",
           182.8679245283019,
           53
          ],
          [
           "25 août 2019",
           "Yann Moix, Laurent Binet, Karine Tuil et Ottessa Moshfegh... Quels livres pour une bonne rentrée ?",
           196,
           54
          ],
          [
           "11 août 2019",
           "Philip Roth, Paul Morand, E.L. James, James Baldwin, Robert Cottard… Quels livres dévorer sous votre parasol ?",
           197.03703703703704,
           54
          ],
          [
           "28 juil. 2019",
           "Ces livres estivaux à lire ou à éviter",
           193.28301886792454,
           53
          ],
          [
           "30 juin 2019",
           "Livres : « La cage dorée », « Les impatients », « Plaisir et nécessité »… Méritent-ils d'être lus ?",
           189.35185185185185,
           54
          ],
          [
           "16 juin 2019",
           "Livres : «Les Furtifs», «Les Victorieuses», «East Village Blues», «Proust, prix Goncourt» : à lire ou pas ?",
           188.03773584905662,
           53
          ],
          [
           "12 mai 2019",
           "Livres : doit-on lire les nouveaux Bret Easton Ellis, Marc Dugain, Lolita Pille, Orhan Pamuk, Viv Albertine ?",
           177.66666666666666,
           54
          ],
          [
           "28 avril 2019",
           "Le nouveau Philippe Sollers, Chloé Delaume, Guillaume Musso… que lire en ce moment ?",
           195.52830188679246,
           53
          ],
          [
           "31 mars 2019",
           "Livres - Stephen King, Delphine de Vigan, Eric Vuillard… Que lire en ce moment ?",
           184.60377358490567,
           53
          ],
          [
           "03 mars 2019",
           "Dai Sijie, Andreï Makine, Rosella Postorino, Melissa Broder ou David Foenkinos : auteurs à lire ou pas ?",
           186.90740740740742,
           54
          ],
          [
           "20 janv. 2019",
           "Les nouveaux livres de Patrick Rambaud, Tristan Garcia, Céline Minard, Atiq Rahimi, Muriel Barbery… Que lire ?",
           188.32075471698113,
           53
          ],
          [
           "06 janv. 2019",
           "Les nouveaux livres de Michel Houellebecq, Simon Liberati, Gilles Leroy, Jean Rouaud, Elena Ferrante",
           202.54716981132074,
           53
          ],
          [
           "23 déc. 2018",
           "Les nouveaux livres de Patti Smith, Sophie des Déserts, Linn Ullmann, Pascal Bruckner, Alain Mabanckou...",
           202.69811320754718,
           53
          ],
          [
           "25 nov. 2018",
           "Haruki Murakami, Jane Birkin, Benoît Duteurtre, Nicolas Mathieu… Quels sont les auteurs à ne pas manquer ?",
           193.05555555555554,
           54
          ],
          [
           "25 nov. 2018",
           "Le Masque et les Goncourt : \"Leurs enfants après eux\" de Nicolas Mathieu, 2018",
           195.77777777777777,
           9
          ],
          [
           "28 oct. 2018",
           "Nos critiques nous conseillent-ils les nouveaux livres de Salman Rushdie, Adeline Dieudonné, Eric Fottorino ?",
           189.80769230769232,
           52
          ],
          [
           "14 oct. 2018",
           "Zadie Smith, Roberto Saviano, Adrien Bosc, Serge Joncour et Emmanuelle Bayamack : doit-on lire leurs livres ?",
           199.1509433962264,
           53
          ],
          [
           "09 sept. 2018",
           "Les nouveaux livres de Christine Angot, Boualem Sansal, Julian Barnes… que lire en cette rentrée littéraire ?",
           189.45283018867926,
           53
          ],
          [
           "26 août 2018",
           "Les nouveaux livres de Maylis de Kerangal, Samuel Benchetrit, Jérôme Ferrari… Que lire en cette rentrée ?",
           198.58490566037736,
           53
          ],
          [
           "12 août 2018",
           "Les nouveaux livres de Yann Queffélec, Bill Bryson, Maragaret Atwood… que lire en ce moment ?",
           197.2037037037037,
           54
          ],
          [
           "29 juil. 2018",
           "Sous le feu des critiques : la bio de Leonard Cohen, celle de Lenny Bruce, les Nouvelles aventures du fakir…",
           189.16666666666666,
           54
          ],
          [
           "01 juil. 2018",
           "Yann Moix, Alessandro Baricco , Guillaume Musso… Les livres de l'été",
           196.7037037037037,
           54
          ],
          [
           "17 juin 2018",
           "La folle autobiographie d'Hedy Lamarr, les nouveaux Rufin et Dan Franck… Critiques des livres dont on parle",
           180.09259259259258,
           54
          ],
          [
           "13 mai 2018",
           "Armistead Maupin, Joël Dicker, David Foenkinos… Quels livres méritent une place sur nos étagères ?",
           191.63636363636363,
           55
          ],
          [
           "15 avril 2018",
           "Que valent les livres de Philippe Lançon, Stephen & Owen King, Ludmila Oulitskaïa, Sarah Bakewell, Grégoire Delacourt ?",
           189.03773584905662,
           53
          ],
          [
           "01 avril 2018",
           "Les nouveaux livres de Le Clézio, Littell, Fargues, La Ferrière ou Le Carré sont-ils à conseiller ?",
           183.71698113207546,
           53
          ],
          [
           "11 mars 2018",
           "Jonathan Franzen, Kate Tempest, Philippe Claudel… Doit-on se précipiter sur leur nouveau livre ?",
           196.5,
           54
          ],
          [
           "18 févr. 2018",
           "Le nouveau Paul Auster, le livre posthume de Jean d'Ormesson… quels ouvrages lire ?",
           175.5,
           54
          ],
          [
           "21 janv. 2018",
           "Elena Ferrante, Delphine de Vigan, Régis Jauffret… que lire cette semaine ?",
           193.73584905660377,
           53
          ],
          [
           "07 janv. 2018",
           "\"Couleurs de l’incendie\", \"Chanson de la ville silencieuse\", \"Falaise des fous\"... Que lire en ce début d'année ?",
           188.20754716981133,
           53
          ],
          [
           "24 déc. 2017",
           "\"Questions de caractère\", \"Me voici\", \"Lettres à Véra\"… Que lire (ou mettre au pied du sapin) ?",
           200.8148148148148,
           54
          ],
          [
           "26 nov. 2017",
           "Sollers, Modiano, Dan Brown... Que lire cet automne ?",
           189.2037037037037,
           54
          ],
          [
           "29 oct. 2017",
           "Le masque et la plume livres",
           190.37037037037038,
           54
          ],
          [
           "01 oct. 2017",
           "Le masque et la plume livres",
           191.94444444444446,
           54
          ],
          [
           "10 sept. 2017",
           "Le masque et la plume livres à Nancy",
           181.03703703703704,
           54
          ],
          [
           "27 août 2017",
           "Le masque et la plume livres",
           184.25925925925927,
           54
          ],
          [
           "13 août 2017",
           "Le masque et la plume livres",
           193.72222222222223,
           54
          ],
          [
           "30 juil. 2017",
           "Le masque et la plume livres",
           183.88888888888889,
           54
          ],
          [
           "02 juil. 2017",
           "Le masque et la plume livres",
           192.85185185185185,
           54
          ],
          [
           "02 juil. 2017",
           "Le Masque et les Goncourt : \"L'Ordre du jour\" d'Eric Vuillard, 2017",
           221.75,
           4
          ],
          [
           "21 mai 2017",
           "Le masque et la plume livres",
           185.53703703703704,
           54
          ],
          [
           "09 avril 2017",
           "Le masque et la plume livres",
           182.1851851851852,
           54
          ],
          [
           "12 mars 2017",
           "Le masque et la plume livres",
           186.69811320754718,
           53
          ],
          [
           "12 févr. 2017",
           "Le masque et la plume littérature",
           183.9811320754717,
           53
          ],
          [
           "15 janv. 2017",
           "Le masque et la plume Livres",
           197.38888888888889,
           54
          ],
          [
           "01 janv. 2017",
           "Le masque et la plume Livres",
           183.92592592592592,
           54
          ],
          [
           "27 nov. 2016",
           "Que lire ? les critiques du Masque et la Plume",
           215.34883720930233,
           43
          ],
          [
           "13 nov. 2016",
           "Le masque et la plume livres",
           189.25925925925927,
           54
          ],
          [
           "16 oct. 2016",
           "Le masque et la plume livres",
           177.9814814814815,
           54
          ],
          [
           "11 sept. 2016",
           "Le masque et la plume à Nancy",
           177.77777777777777,
           54
          ],
          [
           "11 sept. 2016",
           "Le Masque et les Goncourt : \"Chanson douce\" de Leïla Slimani, 2016",
           208.875,
           8
          ],
          [
           "28 août 2016",
           "Le masque et la plume Livres",
           174.5,
           54
          ],
          [
           "14 août 2016",
           "Le masque et la plume livres",
           191.14814814814815,
           54
          ],
          [
           "31 juil. 2016",
           "Le masque et la plume Livres",
           180.43396226415095,
           53
          ],
          [
           "03 juil. 2016",
           "Le masque et la plume livres",
           172.74074074074073,
           54
          ],
          [
           "27 mars 2016",
           "Les livres à lire ou pas",
           172.55555555555554,
           54
          ],
          [
           "01 nov. 2015",
           "Le Masque et les Goncourt : \"Boussole\" de Mathias Enard, 2015",
           185,
           6
          ],
          [
           "30 août 2015",
           "Les livres de la rentrée",
           191.75925925925927,
           54
          ],
          [
           "18 janv. 2015",
           "Les livres à lire (ou pas)",
           177,
           54
          ],
          [
           "23 nov. 2014",
           "Le Masque et les Goncourt : \"Pas pleurer\" de Lydie Salvayre, 2014",
           215.44444444444446,
           9
          ],
          [
           "28 sept. 2014",
           "Les livres à lire",
           179.37037037037038,
           54
          ],
          [
           "27 oct. 2013",
           "Le Masque et les Goncourt : \"Au revoir là-haut\" de Pierre Lemaître, 2013",
           211,
           8
          ],
          [
           "30 sept. 2012",
           "Le Masque et les Goncourt : \"Le Sermon sur la chute de Rome\" de Jérôme Ferrari, 2012",
           209,
           8
          ],
          [
           "11 sept. 2011",
           "Le Masque et les Goncourt : \"L'Art français de la guerre\" d'Alexis Jenni, 2011",
           199.1818181818182,
           11
          ],
          [
           "12 sept. 2010",
           "Le Masque et les Goncourt : \"La Carte et le Territoire\" de Michel Houellebecq, 2010",
           189.72727272727272,
           11
          ],
          [
           "30 août 2009",
           "Le Masque et les Goncourt : \"Trois femmes puissantes\" de Marie Ndiaye, 2009",
           193.77777777777777,
           9
          ],
          [
           "23 nov. 2008",
           "Le Masque et les Goncourt : \"Syngué sabour. Pierre de patience\" d'Atiq Rahimi, 2008",
           216.625,
           8
          ],
          [
           "17 sept. 2006",
           "Le Masque et les Goncourt : \"Les Bienveillantes\" de Jonathan Littell, 2006",
           203.1818181818182,
           11
          ],
          [
           "09 nov. 2003",
           "Le Masque et les Goncourt : \"La Maîtresse de Brecht\" de Jacques-Pierre Amette, 2003",
           193.14285714285714,
           7
          ],
          [
           "02 déc. 2001",
           "Le Masque et les Goncourt : \"Rouge Brésil\" de Jean-Christophe Rufin, 2001",
           169,
           5
          ],
          [
           "01 oct. 2000",
           "Le Masque et les Goncourt : \"Ingrid Caven\" de Jean-Jacques Schuhl, 2000",
           194.375,
           8
          ],
          [
           "12 sept. 1999",
           "Le Masque et les Goncourt : \"Je m'en vais\" de Jean Echenoz, 1999",
           195.6,
           5
          ],
          [
           "06 déc. 1998",
           "Le Masque et les Goncourt : \"Confidence pour confidence\" de Paule Constant, 1998",
           182.66666666666666,
           3
          ],
          [
           "21 sept. 1997",
           "Le Masque et les Goncourt : \"La Bataille\" de Patrick Rambaud, 1997",
           196.125,
           8
          ],
          [
           "08 déc. 1996",
           "Le Masque et les Goncourt : \"Le Chasseur Zéro\" de Pascale Roze, 1996",
           209,
           2
          ],
          [
           "03 déc. 1995",
           "Le Masque et les Goncourt : \"Le Testament français\" d'Andreï Makine, 1995",
           238.33333333333334,
           3
          ],
          [
           "11 déc. 1994",
           "Le Masque et les Goncourt : \"Un aller simple\" de Didier van Cauwelaert, 1994",
           212,
           7
          ],
          [
           "28 nov. 1993",
           "Le Masque et les Goncourt : \"Le Rocher de Tanios\" d'Amin Maalouf, 1993",
           207.92307692307693,
           13
          ],
          [
           "27 sept. 1992",
           "Le Masque et les Goncourt : \"Texaco\" de Patrick Chamoiseau, 1992",
           208,
           1
          ],
          [
           "15 sept. 1991",
           "Le Masque et les Goncourt : \"Les Filles du Calvaire\" de Pierre Combescot, 1991",
           194.71428571428572,
           7
          ],
          [
           "02 déc. 1990",
           "Le Masque et les Goncourt : \"Les Champs d'honneur\" de Jean Rouaud, 1990",
           221.25,
           8
          ],
          [
           "10 sept. 1989",
           "Le Masque et les Goncourt : \"Un grand pas vers le Bon Dieu\" de Jean Vautrin, 1989",
           221.66666666666666,
           6
          ],
          [
           "11 sept. 1988",
           "Le Masque et les Goncourt : \"L'Exposition coloniale\" d'Erik Orsenna, prix Goncourt 1988",
           195.375,
           8
          ],
          [
           "22 nov. 1987",
           "Le Masque et les Goncourt : \"La Nuit sacrée\" de Tahar Ben Jelloun, 1987",
           185.25,
           8
          ],
          [
           "09 nov. 1986",
           "Le Masque et les Goncourt : \"Valet de nuit\" de Michel Host, 1986",
           205,
           3
          ],
          [
           "11 nov. 1984",
           "Le Masque et les Goncourt : \"L'Amant\" de Marguerite Duras, 1984",
           323,
           1
          ],
          [
           "08 janv. 1984",
           "Le Masque et les Goncourt : \"Les Égarés\" de  Frédérick Tristan, 1983",
           208,
           10
          ],
          [
           "14 nov. 1982",
           "Le Masque et les Goncourt : \"Dans la main de l'Ange\" de Dominique Fernandez, 1982",
           196,
           4
          ],
          [
           "03 févr. 1980",
           "Le Masque et \"Le Seigneur des Anneaux\" : \"Le Seigneur des Anneaux\" de Ralph Bakshi, 1980",
           148.5,
           4
          ],
          [
           "20 nov. 1977",
           "Le Masque et les Goncourt : \"John l'Enfer\" de Didier Decoin, 1977",
           178.83333333333334,
           18
          ],
          [
           "18 oct. 1975",
           "Le Masque et les Goncourt : \"La Vie devant soi\", d'Émile Ajar (Romain Gary), 1975",
           202.66666666666666,
           3
          ],
          [
           "26 nov. 1972",
           "Le Masque et les Goncourt : \"L'Épervier de Maheux\" de Jean Carrière, 1972",
           168.5,
           10
          ],
          [
           "30 nov. 1969",
           "Le Masque et les Goncourt : \"Creezy\" de Félicien Marceau, 1969",
           213.5,
           2
          ],
          [
           "10 déc. 1967",
           "Le Masque et les Goncourt : \"La Marge\" d'André Pieyre de Mandiargues, 1967",
           198.5,
           8
          ],
          [
           "20 nov. 1966",
           "Le Masque et les Goncourt : Edmonde Charles-Roux pour \"Oublier Palerme\", 1966",
           177,
           9
          ],
          [
           "21 nov. 1965",
           "Le Masque et les Goncourt : \"L'Adoration\" de Jacques Borel, 1965",
           195.45454545454547,
           11
          ],
          [
           "29 nov. 1962",
           "Le Masque et les Goncourt : \"Les Bagages de sable\" d'Anna Langfus, 1962",
           154,
           5
          ],
          [
           "16 nov. 1961",
           "Le Masque et les Goncourt : \"La Pitié de Dieu\" de Jean Cau, 1961",
           223,
           9
          ],
          [
           "16 nov. 1961",
           "Le Masque et les Goncourt : \"L'Etat sauvage\" de Georges Conchon, 1964",
           189.6,
           5
          ],
          [
           "15 déc. 1960",
           "Le Masque et les Goncourt : \"Dieu est né en exil\" de Vintila Horia, attribué, mais non décerné, 1960",
           211,
           1
          ],
          [
           "19 nov. 1959",
           "Le Masque et les Goncourt : \"Le Dernier des justes\" d'André Schwarz-Bart, 1959",
           212,
           8
          ],
          [
           "18 déc. 1958",
           "Le Masque et les Goncourt : \"Saint-Germain ou la Négociation\" de Francis Walder, 1958",
           200.83333333333334,
           6
          ]
         ],
         "hovertemplate": "<b>Date:</b> %{customdata[0]}<br><b>Titre:</b> %{customdata[1]}<br><b>Mots par Minute:</b> %{customdata[2]:.1f}<br><b>Duree en Minute:</b> %{customdata[3]:.1f}",
         "legendgroup": "",
         "marker": {
          "color": "#636efa",
          "pattern": {
           "shape": ""
          }
         },
         "name": "",
         "offsetgroup": "",
         "orientation": "v",
         "showlegend": false,
         "textposition": "auto",
         "type": "bar",
         "x": [
          "26 janv. 2025",
          "12 janv. 2025",
          "22 déc. 2024",
          "01 déc. 2024",
          "10 nov. 2024",
          "20 oct. 2024",
          "22 sept. 2024",
          "08 sept. 2024",
          "26 août 2024",
          "25 août 2024",
          "04 août 2024",
          "23 juin 2024",
          "19 mai 2024",
          "05 mai 2024",
          "07 avril 2024",
          "24 mars 2024",
          "25 févr. 2024",
          "12 févr. 2024",
          "11 févr. 2024",
          "14 janv. 2024",
          "24 déc. 2023",
          "10 déc. 2023",
          "12 nov. 2023",
          "29 oct. 2023",
          "01 oct. 2023",
          "10 sept. 2023",
          "27 août 2023",
          "13 août 2023",
          "30 juil. 2023",
          "02 juil. 2023",
          "04 juin 2023",
          "14 mai 2023",
          "16 avril 2023",
          "02 avril 2023",
          "19 mars 2023",
          "05 févr. 2023",
          "22 janv. 2023",
          "08 janv. 2023",
          "11 déc. 2022",
          "13 nov. 2022",
          "30 oct. 2022",
          "02 oct. 2022",
          "02 oct. 2022",
          "02 oct. 2022",
          "11 sept. 2022",
          "28 août 2022",
          "14 août 2022",
          "31 juil. 2022",
          "03 juil. 2022",
          "12 juin 2022",
          "08 mai 2022",
          "24 avril 2022",
          "27 mars 2022",
          "13 mars 2022",
          "20 févr. 2022",
          "30 janv. 2022",
          "09 janv. 2022",
          "12 déc. 2021",
          "28 nov. 2021",
          "28 nov. 2021",
          "31 oct. 2021",
          "17 oct. 2021",
          "12 sept. 2021",
          "29 août 2021",
          "15 août 2021",
          "01 août 2021",
          "04 juil. 2021",
          "20 juin 2021",
          "06 juin 2021",
          "23 mai 2021",
          "09 mai 2021",
          "25 avril 2021",
          "11 avril 2021",
          "28 mars 2021",
          "14 mars 2021",
          "28 févr. 2021",
          "14 févr. 2021",
          "31 janv. 2021",
          "17 janv. 2021",
          "03 janv. 2021",
          "13 déc. 2020",
          "29 nov. 2020",
          "15 nov. 2020",
          "01 nov. 2020",
          "01 nov. 2020",
          "04 oct. 2020",
          "13 sept. 2020",
          "30 août 2020",
          "15 août 2020",
          "01 août 2020",
          "21 juin 2020",
          "07 juin 2020",
          "10 mai 2020",
          "26 avril 2020",
          "12 avril 2020",
          "29 mars 2020",
          "08 mars 2020",
          "26 janv. 2020",
          "12 janv. 2020",
          "29 déc. 2019",
          "17 nov. 2019",
          "20 oct. 2019",
          "15 sept. 2019",
          "15 sept. 2019",
          "08 sept. 2019",
          "25 août 2019",
          "11 août 2019",
          "28 juil. 2019",
          "30 juin 2019",
          "16 juin 2019",
          "12 mai 2019",
          "28 avril 2019",
          "31 mars 2019",
          "03 mars 2019",
          "20 janv. 2019",
          "06 janv. 2019",
          "23 déc. 2018",
          "25 nov. 2018",
          "25 nov. 2018",
          "28 oct. 2018",
          "14 oct. 2018",
          "09 sept. 2018",
          "26 août 2018",
          "12 août 2018",
          "29 juil. 2018",
          "01 juil. 2018",
          "17 juin 2018",
          "13 mai 2018",
          "15 avril 2018",
          "01 avril 2018",
          "11 mars 2018",
          "18 févr. 2018",
          "21 janv. 2018",
          "07 janv. 2018",
          "24 déc. 2017",
          "26 nov. 2017",
          "29 oct. 2017",
          "01 oct. 2017",
          "10 sept. 2017",
          "27 août 2017",
          "13 août 2017",
          "30 juil. 2017",
          "02 juil. 2017",
          "02 juil. 2017",
          "21 mai 2017",
          "09 avril 2017",
          "12 mars 2017",
          "12 févr. 2017",
          "15 janv. 2017",
          "01 janv. 2017",
          "27 nov. 2016",
          "13 nov. 2016",
          "16 oct. 2016",
          "11 sept. 2016",
          "11 sept. 2016",
          "28 août 2016",
          "14 août 2016",
          "31 juil. 2016",
          "03 juil. 2016",
          "27 mars 2016",
          "01 nov. 2015",
          "30 août 2015",
          "18 janv. 2015",
          "23 nov. 2014",
          "28 sept. 2014",
          "27 oct. 2013",
          "30 sept. 2012",
          "11 sept. 2011",
          "12 sept. 2010",
          "30 août 2009",
          "23 nov. 2008",
          "17 sept. 2006",
          "09 nov. 2003",
          "02 déc. 2001",
          "01 oct. 2000",
          "12 sept. 1999",
          "06 déc. 1998",
          "21 sept. 1997",
          "08 déc. 1996",
          "03 déc. 1995",
          "11 déc. 1994",
          "28 nov. 1993",
          "27 sept. 1992",
          "15 sept. 1991",
          "02 déc. 1990",
          "10 sept. 1989",
          "11 sept. 1988",
          "22 nov. 1987",
          "09 nov. 1986",
          "11 nov. 1984",
          "08 janv. 1984",
          "14 nov. 1982",
          "03 févr. 1980",
          "20 nov. 1977",
          "18 oct. 1975",
          "26 nov. 1972",
          "30 nov. 1969",
          "10 déc. 1967",
          "20 nov. 1966",
          "21 nov. 1965",
          "29 nov. 1962",
          "16 nov. 1961",
          "16 nov. 1961",
          "15 déc. 1960",
          "19 nov. 1959",
          "18 déc. 1958"
         ],
         "xaxis": "x",
         "y": [
          177.3695198329854,
          190.80082135523614,
          184.61377870563675,
          182.0507399577167,
          194.95652173913044,
          196.9375,
          192.93617021276594,
          187.0625,
          207.625,
          180.26,
          195.32,
          187.89285714285714,
          185.7608695652174,
          171.53191489361703,
          187.80851063829786,
          171.40425531914894,
          188.2391304347826,
          195.8181818181818,
          186.3913043478261,
          184.89361702127658,
          170.07272727272726,
          175.62962962962962,
          183.25925925925927,
          184.75925925925927,
          182.7962962962963,
          174.35185185185185,
          182.96296296296296,
          189.14545454545456,
          178.18867924528303,
          180.35185185185185,
          173.87037037037038,
          185.85185185185185,
          183.2,
          183.05555555555554,
          183.44444444444446,
          179.55555555555554,
          182.77777777777777,
          187.63636363636363,
          190.4181818181818,
          188.27777777777777,
          189.4814814814815,
          185.12962962962962,
          182.4,
          212.875,
          186.74074074074073,
          183.9814814814815,
          174.94444444444446,
          183.6851851851852,
          186.85185185185185,
          184.83333333333334,
          184.66666666666666,
          189.11111111111111,
          196.8148148148148,
          180.53703703703704,
          190.35185185185185,
          200.8148148148148,
          181.88888888888889,
          170.94444444444446,
          201.6,
          190.72222222222223,
          182.5,
          204.41509433962264,
          182.59259259259258,
          185.09259259259258,
          188.58490566037736,
          177.87272727272727,
          181.75925925925927,
          181.50943396226415,
          194.8490566037736,
          180.30188679245282,
          183.61111111111111,
          197.11320754716982,
          173.16981132075472,
          189.75925925925927,
          186.75471698113208,
          191.33962264150944,
          189.72727272727272,
          186.11320754716982,
          185.90740740740742,
          186.87272727272727,
          184.9056603773585,
          184.30188679245282,
          197.2962962962963,
          188.42307692307693,
          219.27272727272728,
          190.41509433962264,
          188.57692307692307,
          187.1509433962264,
          188.0943396226415,
          192.51923076923077,
          177.71698113207546,
          196.9433962264151,
          176.39622641509433,
          177.40740740740742,
          181.45283018867926,
          179.33333333333334,
          188.1320754716981,
          189.73584905660377,
          194.62264150943398,
          186.22641509433961,
          180.9814814814815,
          180,
          186.33962264150944,
          208.22222222222223,
          182.8679245283019,
          196,
          197.03703703703704,
          193.28301886792454,
          189.35185185185185,
          188.03773584905662,
          177.66666666666666,
          195.52830188679246,
          184.60377358490567,
          186.90740740740742,
          188.32075471698113,
          202.54716981132074,
          202.69811320754718,
          193.05555555555554,
          195.77777777777777,
          189.80769230769232,
          199.1509433962264,
          189.45283018867926,
          198.58490566037736,
          197.2037037037037,
          189.16666666666666,
          196.7037037037037,
          180.09259259259258,
          191.63636363636363,
          189.03773584905662,
          183.71698113207546,
          196.5,
          175.5,
          193.73584905660377,
          188.20754716981133,
          200.8148148148148,
          189.2037037037037,
          190.37037037037038,
          191.94444444444446,
          181.03703703703704,
          184.25925925925927,
          193.72222222222223,
          183.88888888888889,
          192.85185185185185,
          221.75,
          185.53703703703704,
          182.1851851851852,
          186.69811320754718,
          183.9811320754717,
          197.38888888888889,
          183.92592592592592,
          215.34883720930233,
          189.25925925925927,
          177.9814814814815,
          177.77777777777777,
          208.875,
          174.5,
          191.14814814814815,
          180.43396226415095,
          172.74074074074073,
          172.55555555555554,
          185,
          191.75925925925927,
          177,
          215.44444444444446,
          179.37037037037038,
          211,
          209,
          199.1818181818182,
          189.72727272727272,
          193.77777777777777,
          216.625,
          203.1818181818182,
          193.14285714285714,
          169,
          194.375,
          195.6,
          182.66666666666666,
          196.125,
          209,
          238.33333333333334,
          212,
          207.92307692307693,
          208,
          194.71428571428572,
          221.25,
          221.66666666666666,
          195.375,
          185.25,
          205,
          323,
          208,
          196,
          148.5,
          178.83333333333334,
          202.66666666666666,
          168.5,
          213.5,
          198.5,
          177,
          195.45454545454547,
          154,
          223,
          189.6,
          211,
          212,
          200.83333333333334
         ],
         "yaxis": "y"
        }
       ],
       "layout": {
        "barmode": "relative",
        "legend": {
         "tracegroupgap": 0
        },
        "template": {
         "data": {
          "bar": [
           {
            "error_x": {
             "color": "#2a3f5f"
            },
            "error_y": {
             "color": "#2a3f5f"
            },
            "marker": {
             "line": {
              "color": "#E5ECF6",
              "width": 0.5
             },
             "pattern": {
              "fillmode": "overlay",
              "size": 10,
              "solidity": 0.2
             }
            },
            "type": "bar"
           }
          ],
          "barpolar": [
           {
            "marker": {
             "line": {
              "color": "#E5ECF6",
              "width": 0.5
             },
             "pattern": {
              "fillmode": "overlay",
              "size": 10,
              "solidity": 0.2
             }
            },
            "type": "barpolar"
           }
          ],
          "carpet": [
           {
            "aaxis": {
             "endlinecolor": "#2a3f5f",
             "gridcolor": "white",
             "linecolor": "white",
             "minorgridcolor": "white",
             "startlinecolor": "#2a3f5f"
            },
            "baxis": {
             "endlinecolor": "#2a3f5f",
             "gridcolor": "white",
             "linecolor": "white",
             "minorgridcolor": "white",
             "startlinecolor": "#2a3f5f"
            },
            "type": "carpet"
           }
          ],
          "choropleth": [
           {
            "colorbar": {
             "outlinewidth": 0,
             "ticks": ""
            },
            "type": "choropleth"
           }
          ],
          "contour": [
           {
            "colorbar": {
             "outlinewidth": 0,
             "ticks": ""
            },
            "colorscale": [
             [
              0,
              "#0d0887"
             ],
             [
              0.1111111111111111,
              "#46039f"
             ],
             [
              0.2222222222222222,
              "#7201a8"
             ],
             [
              0.3333333333333333,
              "#9c179e"
             ],
             [
              0.4444444444444444,
              "#bd3786"
             ],
             [
              0.5555555555555556,
              "#d8576b"
             ],
             [
              0.6666666666666666,
              "#ed7953"
             ],
             [
              0.7777777777777778,
              "#fb9f3a"
             ],
             [
              0.8888888888888888,
              "#fdca26"
             ],
             [
              1,
              "#f0f921"
             ]
            ],
            "type": "contour"
           }
          ],
          "contourcarpet": [
           {
            "colorbar": {
             "outlinewidth": 0,
             "ticks": ""
            },
            "type": "contourcarpet"
           }
          ],
          "heatmap": [
           {
            "colorbar": {
             "outlinewidth": 0,
             "ticks": ""
            },
            "colorscale": [
             [
              0,
              "#0d0887"
             ],
             [
              0.1111111111111111,
              "#46039f"
             ],
             [
              0.2222222222222222,
              "#7201a8"
             ],
             [
              0.3333333333333333,
              "#9c179e"
             ],
             [
              0.4444444444444444,
              "#bd3786"
             ],
             [
              0.5555555555555556,
              "#d8576b"
             ],
             [
              0.6666666666666666,
              "#ed7953"
             ],
             [
              0.7777777777777778,
              "#fb9f3a"
             ],
             [
              0.8888888888888888,
              "#fdca26"
             ],
             [
              1,
              "#f0f921"
             ]
            ],
            "type": "heatmap"
           }
          ],
          "heatmapgl": [
           {
            "colorbar": {
             "outlinewidth": 0,
             "ticks": ""
            },
            "colorscale": [
             [
              0,
              "#0d0887"
             ],
             [
              0.1111111111111111,
              "#46039f"
             ],
             [
              0.2222222222222222,
              "#7201a8"
             ],
             [
              0.3333333333333333,
              "#9c179e"
             ],
             [
              0.4444444444444444,
              "#bd3786"
             ],
             [
              0.5555555555555556,
              "#d8576b"
             ],
             [
              0.6666666666666666,
              "#ed7953"
             ],
             [
              0.7777777777777778,
              "#fb9f3a"
             ],
             [
              0.8888888888888888,
              "#fdca26"
             ],
             [
              1,
              "#f0f921"
             ]
            ],
            "type": "heatmapgl"
           }
          ],
          "histogram": [
           {
            "marker": {
             "pattern": {
              "fillmode": "overlay",
              "size": 10,
              "solidity": 0.2
             }
            },
            "type": "histogram"
           }
          ],
          "histogram2d": [
           {
            "colorbar": {
             "outlinewidth": 0,
             "ticks": ""
            },
            "colorscale": [
             [
              0,
              "#0d0887"
             ],
             [
              0.1111111111111111,
              "#46039f"
             ],
             [
              0.2222222222222222,
              "#7201a8"
             ],
             [
              0.3333333333333333,
              "#9c179e"
             ],
             [
              0.4444444444444444,
              "#bd3786"
             ],
             [
              0.5555555555555556,
              "#d8576b"
             ],
             [
              0.6666666666666666,
              "#ed7953"
             ],
             [
              0.7777777777777778,
              "#fb9f3a"
             ],
             [
              0.8888888888888888,
              "#fdca26"
             ],
             [
              1,
              "#f0f921"
             ]
            ],
            "type": "histogram2d"
           }
          ],
          "histogram2dcontour": [
           {
            "colorbar": {
             "outlinewidth": 0,
             "ticks": ""
            },
            "colorscale": [
             [
              0,
              "#0d0887"
             ],
             [
              0.1111111111111111,
              "#46039f"
             ],
             [
              0.2222222222222222,
              "#7201a8"
             ],
             [
              0.3333333333333333,
              "#9c179e"
             ],
             [
              0.4444444444444444,
              "#bd3786"
             ],
             [
              0.5555555555555556,
              "#d8576b"
             ],
             [
              0.6666666666666666,
              "#ed7953"
             ],
             [
              0.7777777777777778,
              "#fb9f3a"
             ],
             [
              0.8888888888888888,
              "#fdca26"
             ],
             [
              1,
              "#f0f921"
             ]
            ],
            "type": "histogram2dcontour"
           }
          ],
          "mesh3d": [
           {
            "colorbar": {
             "outlinewidth": 0,
             "ticks": ""
            },
            "type": "mesh3d"
           }
          ],
          "parcoords": [
           {
            "line": {
             "colorbar": {
              "outlinewidth": 0,
              "ticks": ""
             }
            },
            "type": "parcoords"
           }
          ],
          "pie": [
           {
            "automargin": true,
            "type": "pie"
           }
          ],
          "scatter": [
           {
            "fillpattern": {
             "fillmode": "overlay",
             "size": 10,
             "solidity": 0.2
            },
            "type": "scatter"
           }
          ],
          "scatter3d": [
           {
            "line": {
             "colorbar": {
              "outlinewidth": 0,
              "ticks": ""
             }
            },
            "marker": {
             "colorbar": {
              "outlinewidth": 0,
              "ticks": ""
             }
            },
            "type": "scatter3d"
           }
          ],
          "scattercarpet": [
           {
            "marker": {
             "colorbar": {
              "outlinewidth": 0,
              "ticks": ""
             }
            },
            "type": "scattercarpet"
           }
          ],
          "scattergeo": [
           {
            "marker": {
             "colorbar": {
              "outlinewidth": 0,
              "ticks": ""
             }
            },
            "type": "scattergeo"
           }
          ],
          "scattergl": [
           {
            "marker": {
             "colorbar": {
              "outlinewidth": 0,
              "ticks": ""
             }
            },
            "type": "scattergl"
           }
          ],
          "scattermapbox": [
           {
            "marker": {
             "colorbar": {
              "outlinewidth": 0,
              "ticks": ""
             }
            },
            "type": "scattermapbox"
           }
          ],
          "scatterpolar": [
           {
            "marker": {
             "colorbar": {
              "outlinewidth": 0,
              "ticks": ""
             }
            },
            "type": "scatterpolar"
           }
          ],
          "scatterpolargl": [
           {
            "marker": {
             "colorbar": {
              "outlinewidth": 0,
              "ticks": ""
             }
            },
            "type": "scatterpolargl"
           }
          ],
          "scatterternary": [
           {
            "marker": {
             "colorbar": {
              "outlinewidth": 0,
              "ticks": ""
             }
            },
            "type": "scatterternary"
           }
          ],
          "surface": [
           {
            "colorbar": {
             "outlinewidth": 0,
             "ticks": ""
            },
            "colorscale": [
             [
              0,
              "#0d0887"
             ],
             [
              0.1111111111111111,
              "#46039f"
             ],
             [
              0.2222222222222222,
              "#7201a8"
             ],
             [
              0.3333333333333333,
              "#9c179e"
             ],
             [
              0.4444444444444444,
              "#bd3786"
             ],
             [
              0.5555555555555556,
              "#d8576b"
             ],
             [
              0.6666666666666666,
              "#ed7953"
             ],
             [
              0.7777777777777778,
              "#fb9f3a"
             ],
             [
              0.8888888888888888,
              "#fdca26"
             ],
             [
              1,
              "#f0f921"
             ]
            ],
            "type": "surface"
           }
          ],
          "table": [
           {
            "cells": {
             "fill": {
              "color": "#EBF0F8"
             },
             "line": {
              "color": "white"
             }
            },
            "header": {
             "fill": {
              "color": "#C8D4E3"
             },
             "line": {
              "color": "white"
             }
            },
            "type": "table"
           }
          ]
         },
         "layout": {
          "annotationdefaults": {
           "arrowcolor": "#2a3f5f",
           "arrowhead": 0,
           "arrowwidth": 1
          },
          "autotypenumbers": "strict",
          "coloraxis": {
           "colorbar": {
            "outlinewidth": 0,
            "ticks": ""
           }
          },
          "colorscale": {
           "diverging": [
            [
             0,
             "#8e0152"
            ],
            [
             0.1,
             "#c51b7d"
            ],
            [
             0.2,
             "#de77ae"
            ],
            [
             0.3,
             "#f1b6da"
            ],
            [
             0.4,
             "#fde0ef"
            ],
            [
             0.5,
             "#f7f7f7"
            ],
            [
             0.6,
             "#e6f5d0"
            ],
            [
             0.7,
             "#b8e186"
            ],
            [
             0.8,
             "#7fbc41"
            ],
            [
             0.9,
             "#4d9221"
            ],
            [
             1,
             "#276419"
            ]
           ],
           "sequential": [
            [
             0,
             "#0d0887"
            ],
            [
             0.1111111111111111,
             "#46039f"
            ],
            [
             0.2222222222222222,
             "#7201a8"
            ],
            [
             0.3333333333333333,
             "#9c179e"
            ],
            [
             0.4444444444444444,
             "#bd3786"
            ],
            [
             0.5555555555555556,
             "#d8576b"
            ],
            [
             0.6666666666666666,
             "#ed7953"
            ],
            [
             0.7777777777777778,
             "#fb9f3a"
            ],
            [
             0.8888888888888888,
             "#fdca26"
            ],
            [
             1,
             "#f0f921"
            ]
           ],
           "sequentialminus": [
            [
             0,
             "#0d0887"
            ],
            [
             0.1111111111111111,
             "#46039f"
            ],
            [
             0.2222222222222222,
             "#7201a8"
            ],
            [
             0.3333333333333333,
             "#9c179e"
            ],
            [
             0.4444444444444444,
             "#bd3786"
            ],
            [
             0.5555555555555556,
             "#d8576b"
            ],
            [
             0.6666666666666666,
             "#ed7953"
            ],
            [
             0.7777777777777778,
             "#fb9f3a"
            ],
            [
             0.8888888888888888,
             "#fdca26"
            ],
            [
             1,
             "#f0f921"
            ]
           ]
          },
          "colorway": [
           "#636efa",
           "#EF553B",
           "#00cc96",
           "#ab63fa",
           "#FFA15A",
           "#19d3f3",
           "#FF6692",
           "#B6E880",
           "#FF97FF",
           "#FECB52"
          ],
          "font": {
           "color": "#2a3f5f"
          },
          "geo": {
           "bgcolor": "white",
           "lakecolor": "white",
           "landcolor": "#E5ECF6",
           "showlakes": true,
           "showland": true,
           "subunitcolor": "white"
          },
          "hoverlabel": {
           "align": "left"
          },
          "hovermode": "closest",
          "mapbox": {
           "style": "light"
          },
          "paper_bgcolor": "white",
          "plot_bgcolor": "#E5ECF6",
          "polar": {
           "angularaxis": {
            "gridcolor": "white",
            "linecolor": "white",
            "ticks": ""
           },
           "bgcolor": "#E5ECF6",
           "radialaxis": {
            "gridcolor": "white",
            "linecolor": "white",
            "ticks": ""
           }
          },
          "scene": {
           "xaxis": {
            "backgroundcolor": "#E5ECF6",
            "gridcolor": "white",
            "gridwidth": 2,
            "linecolor": "white",
            "showbackground": true,
            "ticks": "",
            "zerolinecolor": "white"
           },
           "yaxis": {
            "backgroundcolor": "#E5ECF6",
            "gridcolor": "white",
            "gridwidth": 2,
            "linecolor": "white",
            "showbackground": true,
            "ticks": "",
            "zerolinecolor": "white"
           },
           "zaxis": {
            "backgroundcolor": "#E5ECF6",
            "gridcolor": "white",
            "gridwidth": 2,
            "linecolor": "white",
            "showbackground": true,
            "ticks": "",
            "zerolinecolor": "white"
           }
          },
          "shapedefaults": {
           "line": {
            "color": "#2a3f5f"
           }
          },
          "ternary": {
           "aaxis": {
            "gridcolor": "white",
            "linecolor": "white",
            "ticks": ""
           },
           "baxis": {
            "gridcolor": "white",
            "linecolor": "white",
            "ticks": ""
           },
           "bgcolor": "#E5ECF6",
           "caxis": {
            "gridcolor": "white",
            "linecolor": "white",
            "ticks": ""
           }
          },
          "title": {
           "x": 0.05
          },
          "xaxis": {
           "automargin": true,
           "gridcolor": "white",
           "linecolor": "white",
           "ticks": "",
           "title": {
            "standoff": 15
           },
           "zerolinecolor": "white",
           "zerolinewidth": 2
          },
          "yaxis": {
           "automargin": true,
           "gridcolor": "white",
           "linecolor": "white",
           "ticks": "",
           "title": {
            "standoff": 15
           },
           "zerolinecolor": "white",
           "zerolinewidth": 2
          }
         }
        },
        "title": {
         "text": "Nombre de Mots par Minute par Épisode"
        },
        "xaxis": {
         "anchor": "y",
         "domain": [
          0,
          1
         ],
         "title": {
          "text": "date"
         }
        },
        "yaxis": {
         "anchor": "x",
         "domain": [
          0,
          1
         ],
         "title": {
          "text": "Mots par Minute"
         }
        }
       }
      }
     },
     "metadata": {},
     "output_type": "display_data"
    }
   ],
   "source": [
    "nb_mots_transcription(episodes_df)"
   ]
  },
  {
   "cell_type": "markdown",
   "metadata": {},
   "source": [
    "# doublons"
   ]
  },
  {
   "cell_type": "code",
   "execution_count": null,
   "metadata": {},
   "outputs": [
    {
     "data": {
      "text/html": [
       "<div>\n",
       "<style scoped>\n",
       "    .dataframe tbody tr th:only-of-type {\n",
       "        vertical-align: middle;\n",
       "    }\n",
       "\n",
       "    .dataframe tbody tr th {\n",
       "        vertical-align: top;\n",
       "    }\n",
       "\n",
       "    .dataframe thead th {\n",
       "        text-align: right;\n",
       "    }\n",
       "</style>\n",
       "<table border=\"1\" class=\"dataframe\">\n",
       "  <thead>\n",
       "    <tr style=\"text-align: right;\">\n",
       "      <th></th>\n",
       "      <th>date</th>\n",
       "      <th>titre</th>\n",
       "      <th>description</th>\n",
       "      <th>transcription</th>\n",
       "      <th>duree (min)</th>\n",
       "    </tr>\n",
       "  </thead>\n",
       "  <tbody>\n",
       "    <tr>\n",
       "      <th>0</th>\n",
       "      <td>2025-01-26 10:59:39</td>\n",
       "      <td>Les nouveaux romans de Leïla Slimani, Pierre L...</td>\n",
       "      <td>durée : 00:47:56 - Le Masque et la Plume - par...</td>\n",
       "      <td>France Inter Le masque et la plume Le sommair...</td>\n",
       "      <td>47.9</td>\n",
       "    </tr>\n",
       "    <tr>\n",
       "      <th>1</th>\n",
       "      <td>2025-01-12 10:59:39</td>\n",
       "      <td>Les nouvelles pages de Vanessa Springora, Haru...</td>\n",
       "      <td>durée : 00:48:41 - Le Masque et la Plume - par...</td>\n",
       "      <td>France Inter Le masque et la plume Premier ma...</td>\n",
       "      <td>48.7</td>\n",
       "    </tr>\n",
       "    <tr>\n",
       "      <th>2</th>\n",
       "      <td>2024-12-22 09:59:39</td>\n",
       "      <td>Les nouvelles pages de Marc Dugain, Emmanuelle...</td>\n",
       "      <td>durée : 00:47:52 - Le Masque et la Plume - par...</td>\n",
       "      <td>France Inter Le masque et la plume Cinq roman...</td>\n",
       "      <td>47.9</td>\n",
       "    </tr>\n",
       "    <tr>\n",
       "      <th>3</th>\n",
       "      <td>2024-12-01 09:59:39</td>\n",
       "      <td>Les nouvelles pages de James Ellroy, Yasmina R...</td>\n",
       "      <td>durée : 00:47:17 - Le Masque et la Plume - par...</td>\n",
       "      <td>France Inter Le masque et la plume Les nouvea...</td>\n",
       "      <td>47.3</td>\n",
       "    </tr>\n",
       "    <tr>\n",
       "      <th>4</th>\n",
       "      <td>2024-11-10 09:59:39</td>\n",
       "      <td>La foire du livre de Brive : les romans de Dan...</td>\n",
       "      <td>durée : 00:46:03 - Le Masque et la Plume - par...</td>\n",
       "      <td>France Inter Le masque et la plume Bienvenue ...</td>\n",
       "      <td>46.0</td>\n",
       "    </tr>\n",
       "    <tr>\n",
       "      <th>...</th>\n",
       "      <td>...</td>\n",
       "      <td>...</td>\n",
       "      <td>...</td>\n",
       "      <td>...</td>\n",
       "      <td>...</td>\n",
       "    </tr>\n",
       "    <tr>\n",
       "      <th>201</th>\n",
       "      <td>1961-11-16 00:00:00</td>\n",
       "      <td>Le Masque et les Goncourt : \"La Pitié de Dieu\"...</td>\n",
       "      <td>Le\\n journaliste et écrivain Jean Cau répond a...</td>\n",
       "      <td>France Inter Ça a été votre disparition il y ...</td>\n",
       "      <td>9.0</td>\n",
       "    </tr>\n",
       "    <tr>\n",
       "      <th>202</th>\n",
       "      <td>1961-11-16 00:00:00</td>\n",
       "      <td>Le Masque et les Goncourt : \"L'Etat sauvage\" d...</td>\n",
       "      <td>En\\n 1964, les critiques du \"Masque et la plum...</td>\n",
       "      <td>France Inter en effet il y a plusieurs mois e...</td>\n",
       "      <td>5.0</td>\n",
       "    </tr>\n",
       "    <tr>\n",
       "      <th>203</th>\n",
       "      <td>1960-12-15 00:00:00</td>\n",
       "      <td>Le Masque et les Goncourt : \"Dieu est né en ex...</td>\n",
       "      <td>En\\n 1960, le prix Goncourt est attribué à Vin...</td>\n",
       "      <td>France Inter Qu'il s'agit encore une fois de ...</td>\n",
       "      <td>1.0</td>\n",
       "    </tr>\n",
       "    <tr>\n",
       "      <th>204</th>\n",
       "      <td>1959-11-19 00:00:00</td>\n",
       "      <td>Le Masque et les Goncourt : \"Le Dernier des ju...</td>\n",
       "      <td>Un\\n livre extraordinairement émouvant, \"Le De...</td>\n",
       "      <td>France Inter Commençons par le grand cours qu...</td>\n",
       "      <td>8.0</td>\n",
       "    </tr>\n",
       "    <tr>\n",
       "      <th>205</th>\n",
       "      <td>1958-12-18 00:00:00</td>\n",
       "      <td>Le Masque et les Goncourt : \"Saint-Germain ou ...</td>\n",
       "      <td>En\\n 1958, les jurés du Prix Goncourt récompen...</td>\n",
       "      <td>France Inter il est évident que nous l'avons ...</td>\n",
       "      <td>6.0</td>\n",
       "    </tr>\n",
       "  </tbody>\n",
       "</table>\n",
       "<p>206 rows × 5 columns</p>\n",
       "</div>"
      ],
      "text/plain": [
       "                   date                                              titre  \\\n",
       "0   2025-01-26 10:59:39  Les nouveaux romans de Leïla Slimani, Pierre L...   \n",
       "1   2025-01-12 10:59:39  Les nouvelles pages de Vanessa Springora, Haru...   \n",
       "2   2024-12-22 09:59:39  Les nouvelles pages de Marc Dugain, Emmanuelle...   \n",
       "3   2024-12-01 09:59:39  Les nouvelles pages de James Ellroy, Yasmina R...   \n",
       "4   2024-11-10 09:59:39  La foire du livre de Brive : les romans de Dan...   \n",
       "..                  ...                                                ...   \n",
       "201 1961-11-16 00:00:00  Le Masque et les Goncourt : \"La Pitié de Dieu\"...   \n",
       "202 1961-11-16 00:00:00  Le Masque et les Goncourt : \"L'Etat sauvage\" d...   \n",
       "203 1960-12-15 00:00:00  Le Masque et les Goncourt : \"Dieu est né en ex...   \n",
       "204 1959-11-19 00:00:00  Le Masque et les Goncourt : \"Le Dernier des ju...   \n",
       "205 1958-12-18 00:00:00  Le Masque et les Goncourt : \"Saint-Germain ou ...   \n",
       "\n",
       "                                           description  \\\n",
       "0    durée : 00:47:56 - Le Masque et la Plume - par...   \n",
       "1    durée : 00:48:41 - Le Masque et la Plume - par...   \n",
       "2    durée : 00:47:52 - Le Masque et la Plume - par...   \n",
       "3    durée : 00:47:17 - Le Masque et la Plume - par...   \n",
       "4    durée : 00:46:03 - Le Masque et la Plume - par...   \n",
       "..                                                 ...   \n",
       "201  Le\\n journaliste et écrivain Jean Cau répond a...   \n",
       "202  En\\n 1964, les critiques du \"Masque et la plum...   \n",
       "203  En\\n 1960, le prix Goncourt est attribué à Vin...   \n",
       "204  Un\\n livre extraordinairement émouvant, \"Le De...   \n",
       "205  En\\n 1958, les jurés du Prix Goncourt récompen...   \n",
       "\n",
       "                                         transcription  duree (min)  \n",
       "0     France Inter Le masque et la plume Le sommair...         47.9  \n",
       "1     France Inter Le masque et la plume Premier ma...         48.7  \n",
       "2     France Inter Le masque et la plume Cinq roman...         47.9  \n",
       "3     France Inter Le masque et la plume Les nouvea...         47.3  \n",
       "4     France Inter Le masque et la plume Bienvenue ...         46.0  \n",
       "..                                                 ...          ...  \n",
       "201   France Inter Ça a été votre disparition il y ...          9.0  \n",
       "202   France Inter en effet il y a plusieurs mois e...          5.0  \n",
       "203   France Inter Qu'il s'agit encore une fois de ...          1.0  \n",
       "204   France Inter Commençons par le grand cours qu...          8.0  \n",
       "205   France Inter il est évident que nous l'avons ...          6.0  \n",
       "\n",
       "[206 rows x 5 columns]"
      ]
     },
     "execution_count": null,
     "metadata": {},
     "output_type": "execute_result"
    }
   ],
   "source": [
    "episodes_df"
   ]
  },
  {
   "cell_type": "code",
   "execution_count": null,
   "metadata": {},
   "outputs": [
    {
     "data": {
      "text/plain": [
       "date\n",
       "2022-10-02    3\n",
       "2021-11-28    2\n",
       "2018-11-25    2\n",
       "2019-09-15    2\n",
       "2020-11-01    2\n",
       "2017-07-02    2\n",
       "2016-09-11    2\n",
       "1961-11-16    2\n",
       "Name: count, dtype: int64"
      ]
     },
     "execution_count": null,
     "metadata": {},
     "output_type": "execute_result"
    }
   ],
   "source": [
    "# Calculer le nombre d'occurrences de chaque date\n",
    "date_counts = episodes_df[\"date\"].value_counts()\n",
    "\n",
    "# Filtrer les dates qui apparaissent plus d'une fois\n",
    "dates_with_multiple_episodes = date_counts[date_counts > 1]\n",
    "dates_with_multiple_episodes"
   ]
  },
  {
   "cell_type": "code",
   "execution_count": null,
   "metadata": {},
   "outputs": [],
   "source": []
  }
 ],
 "metadata": {
  "kernelspec": {
   "display_name": "python3",
   "language": "python",
   "name": "python3"
  }
 },
 "nbformat": 4,
 "nbformat_minor": 2
}
