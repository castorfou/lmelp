{
 "cells": [
  {
   "cell_type": "code",
   "execution_count": null,
   "metadata": {},
   "outputs": [],
   "source": [
    "from mongo_episode import Episodes\n",
    "import pandas as pd\n",
    "\n",
    "\n",
    "def get_episodes():\n",
    "    episodes = Episodes()\n",
    "    all_episodes = episodes.episodes\n",
    "    episodes_df = pd.DataFrame([episode.to_dict() for episode in all_episodes])\n",
    "    episodes_df[\"date\"] = episodes_df[\"date\"].dt.strftime(\"%Y/%m/%d\")\n",
    "    episodes_df[\"duree (min)\"] = (episodes_df[\"duree\"] / 60).round(1)\n",
    "    episodes_df.drop(\n",
    "        columns=[\"url_telechargement\", \"audio_rel_filename\", \"type\", \"duree\"],\n",
    "        inplace=True,\n",
    "    )\n",
    "    return episodes_df\n",
    "\n",
    "\n",
    "def print_episodes_info(episodes_df):\n",
    "    print(\"### Informations sur les épisodes\")\n",
    "    print(f\"{episodes_df.shape[0]} épisodes\")\n",
    "    print(f\"{episodes_df['date'].min()} - {episodes_df['date'].max()}\")\n",
    "    # Compter les transcriptions disponibles et manquantes\n",
    "    transcriptions_ok = episodes_df[\"transcription\"].notna().sum()\n",
    "    transcriptions_missing = episodes_df[\"transcription\"].isna().sum()\n",
    "\n",
    "    print(f\"Transcriptions OK : {transcriptions_ok}\")\n",
    "    print(f\"Transcriptions manquantes : {transcriptions_missing}\")\n",
    "\n",
    "\n",
    "def afficher_episodes():\n",
    "    print(\"### Épisodes\")\n",
    "    print(\"Liste des épisodes du Masque et la Plume.\")\n",
    "    episodes_df = get_episodes()\n",
    "    print_episodes_info(episodes_df)\n",
    "    # Ajoutez ici le code pour afficher les épisodes\n",
    "    return episodes_df"
   ]
  },
  {
   "cell_type": "code",
   "execution_count": null,
   "metadata": {},
   "outputs": [],
   "source": [
    "episodes = Episodes()"
   ]
  },
  {
   "cell_type": "code",
   "execution_count": null,
   "metadata": {},
   "outputs": [
    {
     "name": "stdout",
     "output_type": "stream",
     "text": [
      "### Épisodes\n",
      "Liste des épisodes du Masque et la Plume.\n",
      "### Informations sur les épisodes\n",
      "206 épisodes\n",
      "1958/12/18 - 2025/01/26\n",
      "Transcriptions OK : 206\n",
      "Transcriptions manquantes : 0\n"
     ]
    },
    {
     "data": {
      "text/html": [
       "<div>\n",
       "<style scoped>\n",
       "    .dataframe tbody tr th:only-of-type {\n",
       "        vertical-align: middle;\n",
       "    }\n",
       "\n",
       "    .dataframe tbody tr th {\n",
       "        vertical-align: top;\n",
       "    }\n",
       "\n",
       "    .dataframe thead th {\n",
       "        text-align: right;\n",
       "    }\n",
       "</style>\n",
       "<table border=\"1\" class=\"dataframe\">\n",
       "  <thead>\n",
       "    <tr style=\"text-align: right;\">\n",
       "      <th></th>\n",
       "      <th>date</th>\n",
       "      <th>titre</th>\n",
       "      <th>description</th>\n",
       "      <th>transcription</th>\n",
       "      <th>duree (min)</th>\n",
       "    </tr>\n",
       "  </thead>\n",
       "  <tbody>\n",
       "    <tr>\n",
       "      <th>0</th>\n",
       "      <td>2025/01/26</td>\n",
       "      <td>Les nouveaux romans de Leïla Slimani, Pierre L...</td>\n",
       "      <td>durée : 00:47:56 - Le Masque et la Plume - par...</td>\n",
       "      <td>France Inter Le masque et la plume Le sommair...</td>\n",
       "      <td>47.9</td>\n",
       "    </tr>\n",
       "    <tr>\n",
       "      <th>1</th>\n",
       "      <td>2025/01/12</td>\n",
       "      <td>Les nouvelles pages de Vanessa Springora, Haru...</td>\n",
       "      <td>durée : 00:48:41 - Le Masque et la Plume - par...</td>\n",
       "      <td>France Inter Le masque et la plume Premier ma...</td>\n",
       "      <td>48.7</td>\n",
       "    </tr>\n",
       "    <tr>\n",
       "      <th>2</th>\n",
       "      <td>2024/12/22</td>\n",
       "      <td>Les nouvelles pages de Marc Dugain, Emmanuelle...</td>\n",
       "      <td>durée : 00:47:52 - Le Masque et la Plume - par...</td>\n",
       "      <td>France Inter Le masque et la plume Cinq roman...</td>\n",
       "      <td>47.9</td>\n",
       "    </tr>\n",
       "    <tr>\n",
       "      <th>3</th>\n",
       "      <td>2024/12/01</td>\n",
       "      <td>Les nouvelles pages de James Ellroy, Yasmina R...</td>\n",
       "      <td>durée : 00:47:17 - Le Masque et la Plume - par...</td>\n",
       "      <td>France Inter Le masque et la plume Les nouvea...</td>\n",
       "      <td>47.3</td>\n",
       "    </tr>\n",
       "    <tr>\n",
       "      <th>4</th>\n",
       "      <td>2024/11/10</td>\n",
       "      <td>La foire du livre de Brive : les romans de Dan...</td>\n",
       "      <td>durée : 00:46:03 - Le Masque et la Plume - par...</td>\n",
       "      <td>France Inter Le masque et la plume Bienvenue ...</td>\n",
       "      <td>46.0</td>\n",
       "    </tr>\n",
       "    <tr>\n",
       "      <th>...</th>\n",
       "      <td>...</td>\n",
       "      <td>...</td>\n",
       "      <td>...</td>\n",
       "      <td>...</td>\n",
       "      <td>...</td>\n",
       "    </tr>\n",
       "    <tr>\n",
       "      <th>201</th>\n",
       "      <td>1961/11/16</td>\n",
       "      <td>Le Masque et les Goncourt : \"La Pitié de Dieu\"...</td>\n",
       "      <td>Le\\n journaliste et écrivain Jean Cau répond a...</td>\n",
       "      <td>France Inter Ça a été votre disparition il y ...</td>\n",
       "      <td>9.0</td>\n",
       "    </tr>\n",
       "    <tr>\n",
       "      <th>202</th>\n",
       "      <td>1961/11/16</td>\n",
       "      <td>Le Masque et les Goncourt : \"L'Etat sauvage\" d...</td>\n",
       "      <td>En\\n 1964, les critiques du \"Masque et la plum...</td>\n",
       "      <td>France Inter en effet il y a plusieurs mois e...</td>\n",
       "      <td>5.0</td>\n",
       "    </tr>\n",
       "    <tr>\n",
       "      <th>203</th>\n",
       "      <td>1960/12/15</td>\n",
       "      <td>Le Masque et les Goncourt : \"Dieu est né en ex...</td>\n",
       "      <td>En\\n 1960, le prix Goncourt est attribué à Vin...</td>\n",
       "      <td>France Inter Qu'il s'agit encore une fois de ...</td>\n",
       "      <td>1.0</td>\n",
       "    </tr>\n",
       "    <tr>\n",
       "      <th>204</th>\n",
       "      <td>1959/11/19</td>\n",
       "      <td>Le Masque et les Goncourt : \"Le Dernier des ju...</td>\n",
       "      <td>Un\\n livre extraordinairement émouvant, \"Le De...</td>\n",
       "      <td>France Inter Commençons par le grand cours qu...</td>\n",
       "      <td>8.0</td>\n",
       "    </tr>\n",
       "    <tr>\n",
       "      <th>205</th>\n",
       "      <td>1958/12/18</td>\n",
       "      <td>Le Masque et les Goncourt : \"Saint-Germain ou ...</td>\n",
       "      <td>En\\n 1958, les jurés du Prix Goncourt récompen...</td>\n",
       "      <td>France Inter il est évident que nous l'avons ...</td>\n",
       "      <td>6.0</td>\n",
       "    </tr>\n",
       "  </tbody>\n",
       "</table>\n",
       "<p>206 rows × 5 columns</p>\n",
       "</div>"
      ],
      "text/plain": [
       "           date                                              titre  \\\n",
       "0    2025/01/26  Les nouveaux romans de Leïla Slimani, Pierre L...   \n",
       "1    2025/01/12  Les nouvelles pages de Vanessa Springora, Haru...   \n",
       "2    2024/12/22  Les nouvelles pages de Marc Dugain, Emmanuelle...   \n",
       "3    2024/12/01  Les nouvelles pages de James Ellroy, Yasmina R...   \n",
       "4    2024/11/10  La foire du livre de Brive : les romans de Dan...   \n",
       "..          ...                                                ...   \n",
       "201  1961/11/16  Le Masque et les Goncourt : \"La Pitié de Dieu\"...   \n",
       "202  1961/11/16  Le Masque et les Goncourt : \"L'Etat sauvage\" d...   \n",
       "203  1960/12/15  Le Masque et les Goncourt : \"Dieu est né en ex...   \n",
       "204  1959/11/19  Le Masque et les Goncourt : \"Le Dernier des ju...   \n",
       "205  1958/12/18  Le Masque et les Goncourt : \"Saint-Germain ou ...   \n",
       "\n",
       "                                           description  \\\n",
       "0    durée : 00:47:56 - Le Masque et la Plume - par...   \n",
       "1    durée : 00:48:41 - Le Masque et la Plume - par...   \n",
       "2    durée : 00:47:52 - Le Masque et la Plume - par...   \n",
       "3    durée : 00:47:17 - Le Masque et la Plume - par...   \n",
       "4    durée : 00:46:03 - Le Masque et la Plume - par...   \n",
       "..                                                 ...   \n",
       "201  Le\\n journaliste et écrivain Jean Cau répond a...   \n",
       "202  En\\n 1964, les critiques du \"Masque et la plum...   \n",
       "203  En\\n 1960, le prix Goncourt est attribué à Vin...   \n",
       "204  Un\\n livre extraordinairement émouvant, \"Le De...   \n",
       "205  En\\n 1958, les jurés du Prix Goncourt récompen...   \n",
       "\n",
       "                                         transcription  duree (min)  \n",
       "0     France Inter Le masque et la plume Le sommair...         47.9  \n",
       "1     France Inter Le masque et la plume Premier ma...         48.7  \n",
       "2     France Inter Le masque et la plume Cinq roman...         47.9  \n",
       "3     France Inter Le masque et la plume Les nouvea...         47.3  \n",
       "4     France Inter Le masque et la plume Bienvenue ...         46.0  \n",
       "..                                                 ...          ...  \n",
       "201   France Inter Ça a été votre disparition il y ...          9.0  \n",
       "202   France Inter en effet il y a plusieurs mois e...          5.0  \n",
       "203   France Inter Qu'il s'agit encore une fois de ...          1.0  \n",
       "204   France Inter Commençons par le grand cours qu...          8.0  \n",
       "205   France Inter il est évident que nous l'avons ...          6.0  \n",
       "\n",
       "[206 rows x 5 columns]"
      ]
     },
     "execution_count": null,
     "metadata": {},
     "output_type": "execute_result"
    }
   ],
   "source": [
    "afficher_episodes()"
   ]
  },
  {
   "cell_type": "code",
   "execution_count": null,
   "metadata": {},
   "outputs": [
    {
     "data": {
      "text/plain": [
       "'26 janv. 2025'"
      ]
     },
     "execution_count": null,
     "metadata": {},
     "output_type": "execute_result"
    }
   ],
   "source": [
    "from datetime import datetime\n",
    "import locale\n",
    "\n",
    "# Définir la locale en français\n",
    "locale.setlocale(locale.LC_TIME, \"fr_FR.UTF-8\")\n",
    "\n",
    "DATE_FORMAT = \"%d %b %Y\"\n",
    "episodes[0].to_dict().get(\"date\").strftime(DATE_FORMAT)"
   ]
  },
  {
   "cell_type": "code",
   "execution_count": null,
   "metadata": {},
   "outputs": [
    {
     "data": {
      "text/plain": [
       "'26 janv. 2025'"
      ]
     },
     "execution_count": null,
     "metadata": {},
     "output_type": "execute_result"
    }
   ],
   "source": [
    "selected_date = \"2025/01/26\"\n",
    "# convert to datetime\n",
    "selected_date_dt = datetime.strptime(selected_date, \"%Y/%m/%d\")\n",
    "# convert to string\n",
    "selected_date_str = selected_date_dt.strftime(DATE_FORMAT)\n",
    "\n",
    "selected_date_str"
   ]
  },
  {
   "cell_type": "code",
   "execution_count": null,
   "metadata": {},
   "outputs": [],
   "source": [
    "import plotly.express as px\n",
    "\n",
    "\n",
    "def nb_mots_transcription(episodes_df):\n",
    "    print(\"### Nombre de mots par transcription\")\n",
    "    # Compter le nombre de mots dans chaque transcription\n",
    "\n",
    "    episodes_df = episodes_df.copy()\n",
    "\n",
    "    # Calculer le nombre de mots par minute\n",
    "    episodes_df[\"mots_par_minute\"] = (\n",
    "        episodes_df[\"transcription\"].apply(lambda x: len(x.split()))\n",
    "        / episodes_df[\"duree (min)\"]\n",
    "    )\n",
    "\n",
    "    # Transformer la date en format dd/mm/yyyy\n",
    "    episodes_df[\"date_formatted\"] = episodes_df[\"date\"].apply(\n",
    "        lambda x: datetime.strptime(x, \"%Y/%m/%d\")\n",
    "    )\n",
    "    episodes_df[\"date_formatted\"] = episodes_df[\"date_formatted\"].apply(\n",
    "        lambda x: x.strftime(\"%d/%m/%Y\")\n",
    "    )\n",
    "\n",
    "    # Trier les données par nombre de mots par minute décroissant\n",
    "    episodes_df = episodes_df.sort_values(by=\"mots_par_minute\", ascending=False)\n",
    "\n",
    "    # Créer le graphique interactif\n",
    "    fig = px.bar(\n",
    "        episodes_df,\n",
    "        x=\"date_formatted\",\n",
    "        y=\"mots_par_minute\",\n",
    "        custom_data=[\"date_formatted\", \"titre\", \"mots_par_minute\", \"duree (min)\"],\n",
    "        labels={\"mots_par_minute\": \"Mots par Minute\"},\n",
    "        title=\"Nombre de Mots par Minute par Épisode\",\n",
    "    )\n",
    "\n",
    "    # # Mettre à jour les informations de survol\n",
    "    fig.update_traces(\n",
    "        hovertemplate=\"<b>Date:</b> %{customdata[0]}<br><b>Titre:</b> %{customdata[1]}<br><b>Mots par Minute:</b> %{customdata[2]:.1f}<br><b>Duree en Minute:</b> %{customdata[3]:.1f}\"\n",
    "    )\n",
    "\n",
    "    # Afficher le graphique\n",
    "    fig.show()"
   ]
  },
  {
   "cell_type": "code",
   "execution_count": null,
   "metadata": {},
   "outputs": [
    {
     "name": "stdout",
     "output_type": "stream",
     "text": [
      "### Nombre de mots par transcription\n"
     ]
    },
    {
     "data": {
      "application/vnd.plotly.v1+json": {
       "config": {
        "plotlyServerURL": "https://plot.ly"
       },
       "data": [
        {
         "alignmentgroup": "True",
         "customdata": [
          [
           "11/11/1984",
           "Le Masque et les Goncourt : \"L'Amant\" de Marguerite Duras, 1984",
           323,
           1
          ],
          [
           "03/12/1995",
           "Le Masque et les Goncourt : \"Le Testament français\" d'Andreï Makine, 1995",
           238.33333333333334,
           3
          ],
          [
           "16/11/1961",
           "Le Masque et les Goncourt : \"La Pitié de Dieu\" de Jean Cau, 1961",
           223,
           9
          ],
          [
           "02/07/2017",
           "Le Masque et les Goncourt : \"L'Ordre du jour\" d'Eric Vuillard, 2017",
           221.75,
           4
          ],
          [
           "10/09/1989",
           "Le Masque et les Goncourt : \"Un grand pas vers le Bon Dieu\" de Jean Vautrin, 1989",
           221.66666666666666,
           6
          ],
          [
           "02/12/1990",
           "Le Masque et les Goncourt : \"Les Champs d'honneur\" de Jean Rouaud, 1990",
           221.25,
           8
          ],
          [
           "01/11/2020",
           "Le Masque et les Goncourt : \"L'Anomalie\" d'Hervé Le Tellier, 2020",
           219.27272727272728,
           11
          ],
          [
           "23/11/2008",
           "Le Masque et les Goncourt : \"Syngué sabour. Pierre de patience\" d'Atiq Rahimi, 2008",
           216.625,
           8
          ],
          [
           "23/11/2014",
           "Le Masque et les Goncourt : \"Pas pleurer\" de Lydie Salvayre, 2014",
           215.44444444444446,
           9
          ],
          [
           "27/11/2016",
           "Que lire ? les critiques du Masque et la Plume",
           215.34883720930233,
           43
          ],
          [
           "30/11/1969",
           "Le Masque et les Goncourt : \"Creezy\" de Félicien Marceau, 1969",
           213.5,
           2
          ],
          [
           "02/10/2022",
           "Le Masque et les Goncourt : \"Vivre vite\" de Brigitte Giraud, 2022",
           212.875,
           8
          ],
          [
           "19/11/1959",
           "Le Masque et les Goncourt : \"Le Dernier des justes\" d'André Schwarz-Bart, 1959",
           212,
           8
          ],
          [
           "11/12/1994",
           "Le Masque et les Goncourt : \"Un aller simple\" de Didier van Cauwelaert, 1994",
           212,
           7
          ],
          [
           "27/10/2013",
           "Le Masque et les Goncourt : \"Au revoir là-haut\" de Pierre Lemaître, 2013",
           211,
           8
          ],
          [
           "15/12/1960",
           "Le Masque et les Goncourt : \"Dieu est né en exil\" de Vintila Horia, attribué, mais non décerné, 1960",
           211,
           1
          ],
          [
           "08/12/1996",
           "Le Masque et les Goncourt : \"Le Chasseur Zéro\" de Pascale Roze, 1996",
           209,
           2
          ],
          [
           "30/09/2012",
           "Le Masque et les Goncourt : \"Le Sermon sur la chute de Rome\" de Jérôme Ferrari, 2012",
           209,
           8
          ],
          [
           "11/09/2016",
           "Le Masque et les Goncourt : \"Chanson douce\" de Leïla Slimani, 2016",
           208.875,
           8
          ],
          [
           "15/09/2019",
           "Le Masque et les Goncourt : \"Tous les hommes n'habitent pas le monde de la même façon\" de Jean-Paul Dubois, 2019",
           208.22222222222223,
           9
          ],
          [
           "27/09/1992",
           "Le Masque et les Goncourt : \"Texaco\" de Patrick Chamoiseau, 1992",
           208,
           1
          ],
          [
           "08/01/1984",
           "Le Masque et les Goncourt : \"Les Égarés\" de  Frédérick Tristan, 1983",
           208,
           10
          ],
          [
           "28/11/1993",
           "Le Masque et les Goncourt : \"Le Rocher de Tanios\" d'Amin Maalouf, 1993",
           207.92307692307693,
           13
          ],
          [
           "26/08/2024",
           "Le\n Masque et les Goncourt : \"Houris\" de Kamel Daoud, Goncourt 2024 : le \nMasque salue un texte aussi fragile que courageux et important",
           207.625,
           8
          ],
          [
           "09/11/1986",
           "Le Masque et les Goncourt : \"Valet de nuit\" de Michel Host, 1986",
           205,
           3
          ],
          [
           "17/10/2021",
           "Faut-il lire les nouveaux livres de Édouard Louis, Christophe Donner, Catherine Cusset, Justine Lévy… ?",
           204.41509433962264,
           53
          ],
          [
           "17/09/2006",
           "Le Masque et les Goncourt : \"Les Bienveillantes\" de Jonathan Littell, 2006",
           203.1818181818182,
           11
          ],
          [
           "23/12/2018",
           "Les nouveaux livres de Patti Smith, Sophie des Déserts, Linn Ullmann, Pascal Bruckner, Alain Mabanckou...",
           202.69811320754718,
           53
          ],
          [
           "18/10/1975",
           "Le Masque et les Goncourt : \"La Vie devant soi\", d'Émile Ajar (Romain Gary), 1975",
           202.66666666666666,
           3
          ],
          [
           "06/01/2019",
           "Les nouveaux livres de Michel Houellebecq, Simon Liberati, Gilles Leroy, Jean Rouaud, Elena Ferrante",
           202.54716981132074,
           53
          ],
          [
           "28/11/2021",
           "Le Masque et les Goncourt : \"La plus secrète mémoire des hommes\" de Mohamed Mbougar Sarr, 2021",
           201.6,
           10
          ],
          [
           "18/12/1958",
           "Le Masque et les Goncourt : \"Saint-Germain ou la Négociation\" de Francis Walder, 1958",
           200.83333333333334,
           6
          ],
          [
           "30/01/2022",
           "Les nouveaux opus d'Edith Bruck, Nathalie Azoulai, Eric Vuillard, Nicolas Mathieu, Pierre Lemaître",
           200.8148148148148,
           54
          ],
          [
           "24/12/2017",
           "\"Questions de caractère\", \"Me voici\", \"Lettres à Véra\"… Que lire (ou mettre au pied du sapin) ?",
           200.8148148148148,
           54
          ],
          [
           "11/09/2011",
           "Le Masque et les Goncourt : \"L'Art français de la guerre\" d'Alexis Jenni, 2011",
           199.1818181818182,
           11
          ],
          [
           "14/10/2018",
           "Zadie Smith, Roberto Saviano, Adrien Bosc, Serge Joncour et Emmanuelle Bayamack : doit-on lire leurs livres ?",
           199.1509433962264,
           53
          ],
          [
           "26/08/2018",
           "Les nouveaux livres de Maylis de Kerangal, Samuel Benchetrit, Jérôme Ferrari… Que lire en cette rentrée ?",
           198.58490566037736,
           53
          ],
          [
           "10/12/1967",
           "Le Masque et les Goncourt : \"La Marge\" d'André Pieyre de Mandiargues, 1967",
           198.5,
           8
          ],
          [
           "15/01/2017",
           "Le masque et la plume Livres",
           197.38888888888889,
           54
          ],
          [
           "15/11/2020",
           "Ces auteurs à retrouver en librairie : Michel Houellebecq, Patti Smith, Simone de Beauvoir…",
           197.2962962962963,
           54
          ],
          [
           "12/08/2018",
           "Les nouveaux livres de Yann Queffélec, Bill Bryson, Maragaret Atwood… que lire en ce moment ?",
           197.2037037037037,
           54
          ],
          [
           "25/04/2021",
           "Que valent les derniers livres de Edouard Louis, Alix de Saint-André, Sally Rooney, Joseph Andras… ?",
           197.11320754716982,
           53
          ],
          [
           "11/08/2019",
           "Philip Roth, Paul Morand, E.L. James, James Baldwin, Robert Cottard… Quels livres dévorer sous votre parasol ?",
           197.03703703703704,
           54
          ],
          [
           "07/06/2020",
           "Quelques livres à lire (ou pas) : \"Retour de service\", \"La vie mensongère des adultes\", \"Française\", etc.",
           196.9433962264151,
           53
          ],
          [
           "20/10/2024",
           "\"Bien-être\", \"Le Mal Joli\", \"Les derniers jours du parti socialiste\"... Que lire ?",
           196.9375,
           48
          ],
          [
           "27/03/2022",
           "Les nouveaux livres de Jean-Marc Parisis, Tonino Benacquista, Jeanine Cummins, Yann Moix, Nancy Huston",
           196.8148148148148,
           54
          ],
          [
           "01/07/2018",
           "Yann Moix, Alessandro Baricco , Guillaume Musso… Les livres de l'été",
           196.7037037037037,
           54
          ],
          [
           "11/03/2018",
           "Jonathan Franzen, Kate Tempest, Philippe Claudel… Doit-on se précipiter sur leur nouveau livre ?",
           196.5,
           54
          ],
          [
           "21/09/1997",
           "Le Masque et les Goncourt : \"La Bataille\" de Patrick Rambaud, 1997",
           196.125,
           8
          ],
          [
           "25/08/2019",
           "Yann Moix, Laurent Binet, Karine Tuil et Ottessa Moshfegh... Quels livres pour une bonne rentrée ?",
           196,
           54
          ],
          [
           "14/11/1982",
           "Le Masque et les Goncourt : \"Dans la main de l'Ange\" de Dominique Fernandez, 1982",
           196,
           4
          ],
          [
           "12/02/2024",
           "Les\n coups de cœur littéraires du Masque 2024 1/13 : CRITIQUE l Le Masque \nunanime face à la maitrise du dernier roman de Marie Darrieussecq",
           195.8181818181818,
           11
          ],
          [
           "25/11/2018",
           "Le Masque et les Goncourt : \"Leurs enfants après eux\" de Nicolas Mathieu, 2018",
           195.77777777777777,
           9
          ],
          [
           "12/09/1999",
           "Le Masque et les Goncourt : \"Je m'en vais\" de Jean Echenoz, 1999",
           195.6,
           5
          ],
          [
           "28/04/2019",
           "Le nouveau Philippe Sollers, Chloé Delaume, Guillaume Musso… que lire en ce moment ?",
           195.52830188679246,
           53
          ],
          [
           "21/11/1965",
           "Le Masque et les Goncourt : \"L'Adoration\" de Jacques Borel, 1965",
           195.45454545454547,
           11
          ],
          [
           "11/09/1988",
           "Le Masque et les Goncourt : \"L'Exposition coloniale\" d'Erik Orsenna, prix Goncourt 1988",
           195.375,
           8
          ],
          [
           "04/08/2024",
           "Lectures d'été - Philippe Collin, Alain Guiraudie, Joann Sfar, Tiffany McDaniel...",
           195.32,
           50
          ],
          [
           "10/11/2024",
           "La foire du livre de Brive : les romans de Daniel Pennac, Colson Whitehead, Olivier Norek, Miguel Bonnefoy...",
           194.95652173913044,
           46
          ],
          [
           "06/06/2021",
           "Les nouveaux livres de Claudie Gallay, Anne Révah, Helen Macdonald, Pierre Lemaitre, Pierric Bailly",
           194.8490566037736,
           53
          ],
          [
           "15/09/1991",
           "Le Masque et les Goncourt : \"Les Filles du Calvaire\" de Pierre Combescot, 1991",
           194.71428571428572,
           7
          ],
          [
           "12/01/2020",
           "Les nouveaux livres d'Erik Orsenna, Nina Bouraoui, Vanessa Springora, Jean Echenoz et Régis Jauffret",
           194.62264150943398,
           53
          ],
          [
           "01/10/2000",
           "Le Masque et les Goncourt : \"Ingrid Caven\" de Jean-Jacques Schuhl, 2000",
           194.375,
           8
          ],
          [
           "30/08/2009",
           "Le Masque et les Goncourt : \"Trois femmes puissantes\" de Marie Ndiaye, 2009",
           193.77777777777777,
           9
          ],
          [
           "21/01/2018",
           "Elena Ferrante, Delphine de Vigan, Régis Jauffret… que lire cette semaine ?",
           193.73584905660377,
           53
          ],
          [
           "13/08/2017",
           "Le masque et la plume livres",
           193.72222222222223,
           54
          ],
          [
           "28/07/2019",
           "Ces livres estivaux à lire ou à éviter",
           193.28301886792454,
           53
          ],
          [
           "09/11/2003",
           "Le Masque et les Goncourt : \"La Maîtresse de Brecht\" de Jacques-Pierre Amette, 2003",
           193.14285714285714,
           7
          ],
          [
           "25/11/2018",
           "Haruki Murakami, Jane Birkin, Benoît Duteurtre, Nicolas Mathieu… Quels sont les auteurs à ne pas manquer ?",
           193.05555555555554,
           54
          ],
          [
           "22/09/2024",
           "Les nouvelles pages de Gaël Faye, Amélie Nothomb, Abel Quentin, Rebecca Lighieri, Richard Ford…",
           192.93617021276594,
           47
          ],
          [
           "02/07/2017",
           "Le masque et la plume livres",
           192.85185185185185,
           54
          ],
          [
           "01/08/2020",
           "Guillaume Musso, Rudyard Kipling, Ian McEwan, Anne Serre… Quels sont ceux à ne pas manquer cet été ?",
           192.51923076923077,
           52
          ],
          [
           "01/10/2017",
           "Le masque et la plume livres",
           191.94444444444446,
           54
          ],
          [
           "30/08/2015",
           "Les livres de la rentrée",
           191.75925925925927,
           54
          ],
          [
           "13/05/2018",
           "Armistead Maupin, Joël Dicker, David Foenkinos… Quels livres méritent une place sur nos étagères ?",
           191.63636363636363,
           55
          ],
          [
           "28/02/2021",
           "Faut-il lire les nouveaux livres de Jean-Marie Rouart, Régis Jauffret, Goliarda Sapienza… ?",
           191.33962264150944,
           53
          ],
          [
           "14/08/2016",
           "Le masque et la plume livres",
           191.14814814814815,
           54
          ],
          [
           "12/01/2025",
           "Les nouvelles pages de Vanessa Springora, Haruki Murakami, Jean Echenoz, Amanda Sthers...",
           190.80082135523614,
           48.7
          ],
          [
           "28/11/2021",
           "Que valent les derniers livres de Richard Ford, Anne Berest, Jean-Christophe Rufin, Mohamed Mbougar Sarr… ?",
           190.72222222222223,
           54
          ],
          [
           "11/12/2022",
           "Livres  - Sylvain Tesson, Jonathan Coe, Salman Rushdie seront-ils au pied du sapin ?",
           190.4181818181818,
           55
          ],
          [
           "04/10/2020",
           "Les nouveaux livres de Laurent Mauvignier, Irène Frain, Philippe Djian, Colson Whitehead…",
           190.41509433962264,
           53
          ],
          [
           "29/10/2017",
           "Le masque et la plume livres",
           190.37037037037038,
           54
          ],
          [
           "20/02/2022",
           "Que valent les nouveaux livres de Leïla Slimani, Constance Debré, Joy Sorman, Jean-Jacques Schuhl ?",
           190.35185185185185,
           54
          ],
          [
           "28/10/2018",
           "Nos critiques nous conseillent-ils les nouveaux livres de Salman Rushdie, Adeline Dieudonné, Eric Fottorino ?",
           189.80769230769232,
           52
          ],
          [
           "28/03/2021",
           "Les nouveaux livres d'Aurélien Bellanger, Olivier Bourdeaut, Milena Agus, Will Self et Jim Carrey",
           189.75925925925927,
           54
          ],
          [
           "26/01/2020",
           "Pierre Lemaitre, Daniel Pennac, Constance Debré... Quels livres rajouter dans votre bibliothèque ?",
           189.73584905660377,
           53
          ],
          [
           "14/02/2021",
           "Que valent les derniers livres de Florence Aubenas, Chantal Thomas, Olivier Adam, Graham Swift… ?",
           189.72727272727272,
           55
          ],
          [
           "12/09/2010",
           "Le Masque et les Goncourt : \"La Carte et le Territoire\" de Michel Houellebecq, 2010",
           189.72727272727272,
           11
          ],
          [
           "16/11/1961",
           "Le Masque et les Goncourt : \"L'Etat sauvage\" de Georges Conchon, 1964",
           189.6,
           5
          ],
          [
           "30/10/2022",
           "Nouvelles lectures : John Le Carré, Muriel Barbery, Sarah Jollien-Fardel, un inédit de Céline…",
           189.4814814814815,
           54
          ],
          [
           "09/09/2018",
           "Les nouveaux livres de Christine Angot, Boualem Sansal, Julian Barnes… que lire en cette rentrée littéraire ?",
           189.45283018867926,
           53
          ],
          [
           "30/06/2019",
           "Livres : « La cage dorée », « Les impatients », « Plaisir et nécessité »… Méritent-ils d'être lus ?",
           189.35185185185185,
           54
          ],
          [
           "13/11/2016",
           "Le masque et la plume livres",
           189.25925925925927,
           54
          ],
          [
           "26/11/2017",
           "Sollers, Modiano, Dan Brown... Que lire cet automne ?",
           189.2037037037037,
           54
          ],
          [
           "29/07/2018",
           "Sous le feu des critiques : la bio de Leonard Cohen, celle de Lenny Bruce, les Nouvelles aventures du fakir…",
           189.16666666666666,
           54
          ],
          [
           "13/08/2023",
           "Lectures d'été : les nouveaux livres de Chantal Thomas, Ellen J. Levy, William Boyd, Bernard Minier…",
           189.14545454545456,
           55
          ],
          [
           "24/04/2022",
           "Les nouveaux ouvrages de Joël Dicker, Jean-Philippe Toussaint, Paule Constant, François Truffaut…",
           189.11111111111111,
           54
          ],
          [
           "15/04/2018",
           "Que valent les livres de Philippe Lançon, Stephen & Owen King, Ludmila Oulitskaïa, Sarah Bakewell, Grégoire Delacourt ?",
           189.03773584905662,
           53
          ],
          [
           "15/08/2021",
           "Quelques livres à lire, ou pas : Frédéric Boyer, Nicolas Rey, Virginie Grimaldi, Robert Louis Stevenson…",
           188.58490566037736,
           53
          ],
          [
           "13/09/2020",
           "Les derniers livres d'Emmanuel Carrère, François Bégaudeau, Amélie Nothomb, Raphaël Enthoven…",
           188.57692307692307,
           52
          ],
          [
           "01/11/2020",
           "Livres : les nouveaux opus de Ken Follett, Fatima Daas, Julian Barnes, Hervé Le Tellier, Muriel Barbery",
           188.42307692307693,
           52
          ],
          [
           "20/01/2019",
           "Les nouveaux livres de Patrick Rambaud, Tristan Garcia, Céline Minard, Atiq Rahimi, Muriel Barbery… Que lire ?",
           188.32075471698113,
           53
          ],
          [
           "13/11/2022",
           "Les nouveaux livres de Margaret Atwood, Laurent Gaudé, Sandrine Collette, Grégoire Bouillier…",
           188.27777777777777,
           54
          ],
          [
           "25/02/2024",
           "\"Le ciel ouvert”, “Une existence sans précédent”, “American Mother”, “En Vérité, Alice”... Que lire ?",
           188.2391304347826,
           46
          ],
          [
           "07/01/2018",
           "\"Couleurs de l’incendie\", \"Chanson de la ville silencieuse\", \"Falaise des fous\"... Que lire en ce début d'année ?",
           188.20754716981133,
           53
          ],
          [
           "08/03/2020",
           "Les derniers livres de Leila Slimani, legor Gran, Blandine de Caunes, Ian McEwan et Gary Shteyngart",
           188.1320754716981,
           53
          ],
          [
           "15/08/2020",
           "Rentrée littéraire avec Sarah Chiche, Éric Reinhardt, Isabelle Carré, Simon Liberati, Éric Laurrent",
           188.0943396226415,
           53
          ],
          [
           "16/06/2019",
           "Livres : «Les Furtifs», «Les Victorieuses», «East Village Blues», «Proust, prix Goncourt» : à lire ou pas ?",
           188.03773584905662,
           53
          ],
          [
           "23/06/2024",
           "Les nouvelles pages d'Erri de Luca, Laurent Gaudé, Chantal Thomas, Deborah Levy…",
           187.89285714285714,
           56
          ],
          [
           "07/04/2024",
           "Les nouveaux romans de Nancy Huston, Mathieu Belezi, Joël Dicker et Victor Malzac",
           187.80851063829786,
           47
          ],
          [
           "08/01/2023",
           "Les nouvelles pages de Lydie Salvayre, Daniel Pennac, Mathieu Lindon, Christophe Donner…",
           187.63636363636363,
           55
          ],
          [
           "30/08/2020",
           "Lola Lafon, Camille Laurens, Alice Zeniter, Grégoire Delacourt et Erri de Luca font leur rentrée littéraire",
           187.1509433962264,
           53
          ],
          [
           "08/09/2024",
           "Rentrée littéraire avec Alice Zeniter, Philippe Jaenada, Peter Stamm, Jérôme Ferrari…",
           187.0625,
           48
          ],
          [
           "03/03/2019",
           "Dai Sijie, Andreï Makine, Rosella Postorino, Melissa Broder ou David Foenkinos : auteurs à lire ou pas ?",
           186.90740740740742,
           54
          ],
          [
           "03/01/2021",
           "Les nouveaux livres de Marie NDiaye, Marien Defalvard, Patrick Grainville, Yasmina Reza et Martin Amis",
           186.87272727272727,
           55
          ],
          [
           "03/07/2022",
           "Les nouveaux livres d'Olivia Ruiz, de Douglas Kennedy, d'Olivier Rolin... Que lire ?",
           186.85185185185185,
           54
          ],
          [
           "14/03/2021",
           "Les derniers livres de Delphine de Vigan, Philippe Sollers, Joy Sorman, Leïla Slimani…",
           186.75471698113208,
           53
          ],
          [
           "11/09/2022",
           "Littérature avec Russell Banks, Sally Rooney, Yannick Haenel, Catherine Millet...",
           186.74074074074073,
           54
          ],
          [
           "12/03/2017",
           "Le masque et la plume livres",
           186.69811320754718,
           53
          ],
          [
           "11/02/2024",
           "Les nouvelles pages de Marie Darrieussecq, Philippe Besson, Sophie Divry, Ia Genberg",
           186.3913043478261,
           46
          ],
          [
           "15/09/2019",
           "Cécile Guilbert, Lionel Duroy, Emma Becker, Jean-Paul Dubois et Jonathan Coe valent-ils la peine d'être lus ?",
           186.33962264150944,
           53
          ],
          [
           "29/12/2019",
           "Les derniers livres de Sylvain Tesson, Marcel Proust, Amélie Nothomb, Siri Hustvedt, Haruki Murakami",
           186.22641509433961,
           53
          ],
          [
           "31/01/2021",
           "Que valent les nouveaux livres de Eric Fottorino, Anne Plantagenet, Philippe Delerm, Sandro Veronesi… ?",
           186.11320754716982,
           53
          ],
          [
           "17/01/2021",
           "Livres : que valent les derniers de Judith Perrignon, Mathieu Lindon, Louise Erdrich, Ivan Jablonka… ?",
           185.90740740740742,
           54
          ],
          [
           "14/05/2023",
           "Les nouvelles pages de Cormac McCarthy, Régine Detambel, Patrick Roegiers, Ovidie et Fritz Zorn",
           185.85185185185185,
           54
          ],
          [
           "19/05/2024",
           "Livres - Stephen King, Olivier Adam, Scholastique Mukasonga, Tanguy Viel, Manu Larcenet",
           185.7608695652174,
           46
          ],
          [
           "21/05/2017",
           "Le masque et la plume livres",
           185.53703703703704,
           54
          ],
          [
           "22/11/1987",
           "Le Masque et les Goncourt : \"La Nuit sacrée\" de Tahar Ben Jelloun, 1987",
           185.25,
           8
          ],
          [
           "02/10/2022",
           "Les nouvelles pages de Jonathan Franzen, Simon Liberati, Lola Lafon, Brigitte Giraud…",
           185.12962962962962,
           54
          ],
          [
           "29/08/2021",
           "Rentrée littéraire avec Amélie Nothomb, Christine Angot, Marc Dugain, Santiago Amigorena…",
           185.09259259259258,
           54
          ],
          [
           "01/11/2015",
           "Le Masque et les Goncourt : \"Boussole\" de Mathias Enard, 2015",
           185,
           6
          ],
          [
           "13/12/2020",
           "Livres : les derniers de Pauline Dreyfus, Thibault de Montaigu, Serge Joncour, Philippe Labro…",
           184.9056603773585,
           53
          ],
          [
           "14/01/2024",
           "Les nouvelles pages de Russell Banks, David Foenkinos, Virginie Linhart et Valérie Zenatti",
           184.89361702127658,
           47
          ],
          [
           "12/06/2022",
           "Les nouveaux livres d'Isabelle Carré, Fran Lebowitz, Nick Hornby… et un inédit de Georges Perec",
           184.83333333333334,
           54
          ],
          [
           "29/10/2023",
           "Livres - Le Masque a lu Patrick Modiano, Salman Rushdie, Panayotis Pascot, Sorj Chalandon…",
           184.75925925925927,
           54
          ],
          [
           "08/05/2022",
           "On a lu, l'inédit de Céline, Chantal Thomas, Annie Ernaux, Javier Cercas et Werner Herzog",
           184.66666666666666,
           54
          ],
          [
           "22/12/2024",
           "Les nouvelles pages de Marc Dugain, Emmanuelle Lambert, Emil Ferris, Fabrice Caro et Mathieu Palain",
           184.61377870563675,
           47.9
          ],
          [
           "31/03/2019",
           "Livres - Stephen King, Delphine de Vigan, Eric Vuillard… Que lire en ce moment ?",
           184.60377358490567,
           53
          ],
          [
           "29/11/2020",
           "En librairie : \"L’Ami impossible\", \"Crénom, Baudelaire !\", \"Royan. La professeure de français\"…",
           184.30188679245282,
           53
          ],
          [
           "27/08/2017",
           "Le masque et la plume livres",
           184.25925925925927,
           54
          ],
          [
           "28/08/2022",
           "Virginie Despentes, Monica Sabolo, Emma Becker… Quels livres pour une rentrée littéraire réussie ?",
           183.9814814814815,
           54
          ],
          [
           "12/02/2017",
           "Le masque et la plume littérature",
           183.9811320754717,
           53
          ],
          [
           "01/01/2017",
           "Le masque et la plume Livres",
           183.92592592592592,
           54
          ],
          [
           "30/07/2017",
           "Le masque et la plume livres",
           183.88888888888889,
           54
          ],
          [
           "01/04/2018",
           "Les nouveaux livres de Le Clézio, Littell, Fargues, La Ferrière ou Le Carré sont-ils à conseiller ?",
           183.71698113207546,
           53
          ],
          [
           "31/07/2022",
           "Livres - Faut-il emporter Isabelle Autissier, James Ellroy, Clémentine Autain, John Steinbeck à la plage ?",
           183.6851851851852,
           54
          ],
          [
           "09/05/2021",
           "Que valent les nouveaux livres de William Boyd, Adeline Dieudonné, Ariane Chemin, Dominique Bona… ?",
           183.61111111111111,
           54
          ],
          [
           "19/03/2023",
           "Nouvelles lectures de Cormac McCarthy, Elena Ferrante, Constance Debré, Bernhard Schlink…",
           183.44444444444446,
           54
          ],
          [
           "12/11/2023",
           "Les nouvelles pages de Ian McEwan, Gaspard Koenig, Emilie Frèche, Hippolyte Girardot…",
           183.25925925925927,
           54
          ],
          [
           "16/04/2023",
           "À lire ou pas ? Marc Dugain, Adeline Dieudonné, Don DeLillo, Pierre Assouline et Lionel Shriver",
           183.2,
           55
          ],
          [
           "02/04/2023",
           "Les nouveaux livres de Bret E. Ellis, Paul Pavlowitch, Erik Orsenna et Quentin Tarantino…",
           183.05555555555554,
           54
          ],
          [
           "27/08/2023",
           "Les livres de la rentrée : \"Western\", \"Sarah, Suzanne et l’écrivain\", \"L’Amour\", \"Le Château des rentiers\"…",
           182.96296296296296,
           54
          ],
          [
           "08/09/2019",
           "Olivier Adam, Aurélien Bellanger, Cécile Coulon, Claire Berest, J-P Toussaint, pour une rentrée livresque !",
           182.8679245283019,
           53
          ],
          [
           "01/10/2023",
           "Lilia Hassaine, Mathias Enard, Laure Murat, ou David Grann... Qui lire cette semaine ?",
           182.7962962962963,
           54
          ],
          [
           "22/01/2023",
           "Les nouveaux romans de Colson Whitehead, Aurélien Bellanger, Marie-Hélène Lafon, Véronique Ovaldé",
           182.77777777777777,
           54
          ],
          [
           "06/12/1998",
           "Le Masque et les Goncourt : \"Confidence pour confidence\" de Paule Constant, 1998",
           182.66666666666666,
           3
          ],
          [
           "12/09/2021",
           "Les nouveaux livres de Marie Darrieussecq, Kazuo Ishiguro, David Diop, Tanguy Viel, Maria Pourchet",
           182.59259259259258,
           54
          ],
          [
           "31/10/2021",
           "Les nouveaux romans de Patrick Modiano, Elsa Fottorino, Abel Quentin, Nina Bouraoui et Quentin Tarantino",
           182.5,
           54
          ],
          [
           "02/10/2022",
           "Le Masque et les Goncourt : \"Veiller sur elle\" de Jean-Baptiste Andréa, 2023",
           182.4,
           10
          ],
          [
           "09/04/2017",
           "Le masque et la plume livres",
           182.1851851851852,
           54
          ],
          [
           "01/12/2024",
           "Les nouvelles pages de James Ellroy, Yasmina Reza, Célestin de Meeûs, Sandrine Collette, Abdellah Taïa",
           182.0507399577167,
           47.3
          ],
          [
           "09/01/2022",
           "Michel Houellebecq, Karine Tuil, Julia Deck, Joshua Cohen… Bonnes ou mauvaises résolutions littéraires ?",
           181.88888888888889,
           54
          ],
          [
           "04/07/2021",
           "Livres - Les nouveaux opus d'Adélaïde de Clermont-Tonnerre, Sanaë Lemoine, Julien Blanc-Gras…",
           181.75925925925927,
           54
          ],
          [
           "20/06/2021",
           "Faut-il lire \"Canoës\", \"Harvey\", \"Hamnet\", \"Et ces êtres sans pénis !\", \"Correspondances\" ?",
           181.50943396226415,
           53
          ],
          [
           "12/04/2020",
           "Des auteurs à lire en confinement : Alain Fournier, Anna Hope, Clovis Goux, Dany Laferrière, Rebecca Lighieri",
           181.45283018867926,
           53
          ],
          [
           "10/09/2017",
           "Le masque et la plume livres à Nancy",
           181.03703703703704,
           54
          ],
          [
           "17/11/2019",
           "Faut-il lire les nouveaux romans de Margaret Atwood, Sarah Weinman, Edna O’Brien, Romain Puértolas... ?",
           180.9814814814815,
           54
          ],
          [
           "13/03/2022",
           "Les nouveaux romans d'Eva Ionesco, François Bégaudeau, Louise Erdrich, Orhan Pamuk…",
           180.53703703703704,
           54
          ],
          [
           "31/07/2016",
           "Le masque et la plume Livres",
           180.43396226415095,
           53
          ],
          [
           "02/07/2023",
           "Les nouvelles pages de Nicolas Fargues, John Waters, Jennifer Lesieur, Didier Eribon…",
           180.35185185185185,
           54
          ],
          [
           "23/05/2021",
           "À lire ou pas : \"Le Silence\", \"La Beauté dure toujours\", \"James et Nora\", \"Journal amoureux\", \"Komodo\"",
           180.30188679245282,
           53
          ],
          [
           "25/08/2024",
           "Les romans de Kamel Daoud, Maylis de Kerangal, Marie Vingtras, Richard Morgiève…",
           180.26,
           50
          ],
          [
           "17/06/2018",
           "La folle autobiographie d'Hedy Lamarr, les nouveaux Rufin et Dan Franck… Critiques des livres dont on parle",
           180.09259259259258,
           54
          ],
          [
           "20/10/2019",
           "Faut-il lire Françoise Sagan, Patrick Modiano, Leonora Miano, Santiago Amigorena et Monica Sabolo ?",
           180,
           53
          ],
          [
           "05/02/2023",
           "Livres - Hélène Frappat, J.M.G Le Clézio, Lauren Groff, Philippe Claude, Natasha Brown",
           179.55555555555554,
           54
          ],
          [
           "28/09/2014",
           "Les livres à lire",
           179.37037037037038,
           54
          ],
          [
           "29/03/2020",
           "Albert Camus, Cristina Comencini, Stephen King... Des livres en temps de confinement",
           179.33333333333334,
           54
          ],
          [
           "20/11/1977",
           "Le Masque et les Goncourt : \"John l'Enfer\" de Didier Decoin, 1977",
           178.83333333333334,
           18
          ],
          [
           "30/07/2023",
           "À lire ou non sur la plage : Don Winslow, Emma Cline, Sophie Marceau, François-Henri Désérable",
           178.18867924528303,
           53
          ],
          [
           "16/10/2016",
           "Le masque et la plume livres",
           177.9814814814815,
           54
          ],
          [
           "01/08/2021",
           "Quelques pavés à lire sur la plage : faut-il lire les livres de David Niven, Patrick Rotman, Nancy Huston... ?",
           177.87272727272727,
           55
          ],
          [
           "11/09/2016",
           "Le masque et la plume à Nancy",
           177.77777777777777,
           54
          ],
          [
           "21/06/2020",
           "Lire ou relire Joseph Kessel, Nick Hornby, Olivia Ruiz, Asli Erdogan ou Joël Dicker ?",
           177.71698113207546,
           53
          ],
          [
           "12/05/2019",
           "Livres : doit-on lire les nouveaux Bret Easton Ellis, Marc Dugain, Lolita Pille, Orhan Pamuk, Viv Albertine ?",
           177.66666666666666,
           54
          ],
          [
           "26/04/2020",
           "Lire et relire : \"Le Hussard sur le toit\", \"La Nuit atlantique\", \"La Sentence\", \"L'Espion inattendu\"…",
           177.40740740740742,
           54
          ],
          [
           "26/01/2025",
           "Les nouveaux romans de Leïla Slimani, Pierre Lemaître, Jeanne Rivière, Nathalie Azoulai, Milena Agus",
           177.3695198329854,
           47.9
          ],
          [
           "20/11/1966",
           "Le Masque et les Goncourt : Edmonde Charles-Roux pour \"Oublier Palerme\", 1966",
           177,
           9
          ],
          [
           "18/01/2015",
           "Les livres à lire (ou pas)",
           177,
           54
          ],
          [
           "10/05/2020",
           "Lire ou relire \"La ferme aux animaux\" de George Orwell et découvrir Julie Wolkenstein, Mary Gaitskill...",
           176.39622641509433,
           53
          ],
          [
           "10/12/2023",
           "Les nouvelles pages de Jean-Baptiste Andrea, Nathacha Appanah, Dan Franck, Kevin Lambert…",
           175.62962962962962,
           54
          ],
          [
           "18/02/2018",
           "Le nouveau Paul Auster, le livre posthume de Jean d'Ormesson… quels ouvrages lire ?",
           175.5,
           54
          ],
          [
           "14/08/2022",
           "Littérature estivale avec Fabrice Caro, Diane de Beauvau-Craon, Pierre Assouline, Hillary Clinton…",
           174.94444444444446,
           54
          ],
          [
           "28/08/2016",
           "Le masque et la plume Livres",
           174.5,
           54
          ],
          [
           "10/09/2023",
           "La rentrée littéraire de Pierric Bailly, Jean-Philippe Toussaint, Eva Ionesco, Laurent Binet…",
           174.35185185185185,
           54
          ],
          [
           "04/06/2023",
           "Les nouveaux livres de Fred Vargas, Douglas Kennedy, Fabrice Humbert, Mélissa Da Costa…",
           173.87037037037038,
           54
          ],
          [
           "11/04/2021",
           "Les nouveaux livres de Dominique Fernandez, Françoise Chandernagor, Benoît Duteurtre, Jonathan Coe…",
           173.16981132075472,
           53
          ],
          [
           "03/07/2016",
           "Le masque et la plume livres",
           172.74074074074073,
           54
          ],
          [
           "27/03/2016",
           "Les livres à lire ou pas",
           172.55555555555554,
           54
          ],
          [
           "05/05/2024",
           "Les nouvelles pages d'Edouard Louis, Hervé Le Tellier, Salman Rushdie, Alexandre Labruffe…",
           171.53191489361703,
           47
          ],
          [
           "24/03/2024",
           "Les nouvelles pages de Paul Auster, Jean-Paul Dubois, Jean-Christophe Rufin, Joy Sorman…",
           171.40425531914894,
           47
          ],
          [
           "12/12/2021",
           "Les livres de Stephen King, Ahmet Altan, Patricia Highsmith, Catherine Sauvat… sous le feu des critiques",
           170.94444444444446,
           54
          ],
          [
           "24/12/2023",
           "Livres - Harlan Coben, David Lodge, Olivier Liron, Akira Mizubayashi et Paul Newman sous le sapin ?",
           170.07272727272726,
           55
          ],
          [
           "02/12/2001",
           "Le Masque et les Goncourt : \"Rouge Brésil\" de Jean-Christophe Rufin, 2001",
           169,
           5
          ],
          [
           "26/11/1972",
           "Le Masque et les Goncourt : \"L'Épervier de Maheux\" de Jean Carrière, 1972",
           168.5,
           10
          ],
          [
           "29/11/1962",
           "Le Masque et les Goncourt : \"Les Bagages de sable\" d'Anna Langfus, 1962",
           154,
           5
          ],
          [
           "03/02/1980",
           "Le Masque et \"Le Seigneur des Anneaux\" : \"Le Seigneur des Anneaux\" de Ralph Bakshi, 1980",
           148.5,
           4
          ]
         ],
         "hovertemplate": "<b>Date:</b> %{customdata[0]}<br><b>Titre:</b> %{customdata[1]}<br><b>Mots par Minute:</b> %{customdata[2]:.1f}<br><b>Duree en Minute:</b> %{customdata[3]:.1f}",
         "legendgroup": "",
         "marker": {
          "color": "#636efa",
          "pattern": {
           "shape": ""
          }
         },
         "name": "",
         "offsetgroup": "",
         "orientation": "v",
         "showlegend": false,
         "textposition": "auto",
         "type": "bar",
         "x": [
          "11/11/1984",
          "03/12/1995",
          "16/11/1961",
          "02/07/2017",
          "10/09/1989",
          "02/12/1990",
          "01/11/2020",
          "23/11/2008",
          "23/11/2014",
          "27/11/2016",
          "30/11/1969",
          "02/10/2022",
          "19/11/1959",
          "11/12/1994",
          "27/10/2013",
          "15/12/1960",
          "08/12/1996",
          "30/09/2012",
          "11/09/2016",
          "15/09/2019",
          "27/09/1992",
          "08/01/1984",
          "28/11/1993",
          "26/08/2024",
          "09/11/1986",
          "17/10/2021",
          "17/09/2006",
          "23/12/2018",
          "18/10/1975",
          "06/01/2019",
          "28/11/2021",
          "18/12/1958",
          "30/01/2022",
          "24/12/2017",
          "11/09/2011",
          "14/10/2018",
          "26/08/2018",
          "10/12/1967",
          "15/01/2017",
          "15/11/2020",
          "12/08/2018",
          "25/04/2021",
          "11/08/2019",
          "07/06/2020",
          "20/10/2024",
          "27/03/2022",
          "01/07/2018",
          "11/03/2018",
          "21/09/1997",
          "25/08/2019",
          "14/11/1982",
          "12/02/2024",
          "25/11/2018",
          "12/09/1999",
          "28/04/2019",
          "21/11/1965",
          "11/09/1988",
          "04/08/2024",
          "10/11/2024",
          "06/06/2021",
          "15/09/1991",
          "12/01/2020",
          "01/10/2000",
          "30/08/2009",
          "21/01/2018",
          "13/08/2017",
          "28/07/2019",
          "09/11/2003",
          "25/11/2018",
          "22/09/2024",
          "02/07/2017",
          "01/08/2020",
          "01/10/2017",
          "30/08/2015",
          "13/05/2018",
          "28/02/2021",
          "14/08/2016",
          "12/01/2025",
          "28/11/2021",
          "11/12/2022",
          "04/10/2020",
          "29/10/2017",
          "20/02/2022",
          "28/10/2018",
          "28/03/2021",
          "26/01/2020",
          "14/02/2021",
          "12/09/2010",
          "16/11/1961",
          "30/10/2022",
          "09/09/2018",
          "30/06/2019",
          "13/11/2016",
          "26/11/2017",
          "29/07/2018",
          "13/08/2023",
          "24/04/2022",
          "15/04/2018",
          "15/08/2021",
          "13/09/2020",
          "01/11/2020",
          "20/01/2019",
          "13/11/2022",
          "25/02/2024",
          "07/01/2018",
          "08/03/2020",
          "15/08/2020",
          "16/06/2019",
          "23/06/2024",
          "07/04/2024",
          "08/01/2023",
          "30/08/2020",
          "08/09/2024",
          "03/03/2019",
          "03/01/2021",
          "03/07/2022",
          "14/03/2021",
          "11/09/2022",
          "12/03/2017",
          "11/02/2024",
          "15/09/2019",
          "29/12/2019",
          "31/01/2021",
          "17/01/2021",
          "14/05/2023",
          "19/05/2024",
          "21/05/2017",
          "22/11/1987",
          "02/10/2022",
          "29/08/2021",
          "01/11/2015",
          "13/12/2020",
          "14/01/2024",
          "12/06/2022",
          "29/10/2023",
          "08/05/2022",
          "22/12/2024",
          "31/03/2019",
          "29/11/2020",
          "27/08/2017",
          "28/08/2022",
          "12/02/2017",
          "01/01/2017",
          "30/07/2017",
          "01/04/2018",
          "31/07/2022",
          "09/05/2021",
          "19/03/2023",
          "12/11/2023",
          "16/04/2023",
          "02/04/2023",
          "27/08/2023",
          "08/09/2019",
          "01/10/2023",
          "22/01/2023",
          "06/12/1998",
          "12/09/2021",
          "31/10/2021",
          "02/10/2022",
          "09/04/2017",
          "01/12/2024",
          "09/01/2022",
          "04/07/2021",
          "20/06/2021",
          "12/04/2020",
          "10/09/2017",
          "17/11/2019",
          "13/03/2022",
          "31/07/2016",
          "02/07/2023",
          "23/05/2021",
          "25/08/2024",
          "17/06/2018",
          "20/10/2019",
          "05/02/2023",
          "28/09/2014",
          "29/03/2020",
          "20/11/1977",
          "30/07/2023",
          "16/10/2016",
          "01/08/2021",
          "11/09/2016",
          "21/06/2020",
          "12/05/2019",
          "26/04/2020",
          "26/01/2025",
          "20/11/1966",
          "18/01/2015",
          "10/05/2020",
          "10/12/2023",
          "18/02/2018",
          "14/08/2022",
          "28/08/2016",
          "10/09/2023",
          "04/06/2023",
          "11/04/2021",
          "03/07/2016",
          "27/03/2016",
          "05/05/2024",
          "24/03/2024",
          "12/12/2021",
          "24/12/2023",
          "02/12/2001",
          "26/11/1972",
          "29/11/1962",
          "03/02/1980"
         ],
         "xaxis": "x",
         "y": [
          323,
          238.33333333333334,
          223,
          221.75,
          221.66666666666666,
          221.25,
          219.27272727272728,
          216.625,
          215.44444444444446,
          215.34883720930233,
          213.5,
          212.875,
          212,
          212,
          211,
          211,
          209,
          209,
          208.875,
          208.22222222222223,
          208,
          208,
          207.92307692307693,
          207.625,
          205,
          204.41509433962264,
          203.1818181818182,
          202.69811320754718,
          202.66666666666666,
          202.54716981132074,
          201.6,
          200.83333333333334,
          200.8148148148148,
          200.8148148148148,
          199.1818181818182,
          199.1509433962264,
          198.58490566037736,
          198.5,
          197.38888888888889,
          197.2962962962963,
          197.2037037037037,
          197.11320754716982,
          197.03703703703704,
          196.9433962264151,
          196.9375,
          196.8148148148148,
          196.7037037037037,
          196.5,
          196.125,
          196,
          196,
          195.8181818181818,
          195.77777777777777,
          195.6,
          195.52830188679246,
          195.45454545454547,
          195.375,
          195.32,
          194.95652173913044,
          194.8490566037736,
          194.71428571428572,
          194.62264150943398,
          194.375,
          193.77777777777777,
          193.73584905660377,
          193.72222222222223,
          193.28301886792454,
          193.14285714285714,
          193.05555555555554,
          192.93617021276594,
          192.85185185185185,
          192.51923076923077,
          191.94444444444446,
          191.75925925925927,
          191.63636363636363,
          191.33962264150944,
          191.14814814814815,
          190.80082135523614,
          190.72222222222223,
          190.4181818181818,
          190.41509433962264,
          190.37037037037038,
          190.35185185185185,
          189.80769230769232,
          189.75925925925927,
          189.73584905660377,
          189.72727272727272,
          189.72727272727272,
          189.6,
          189.4814814814815,
          189.45283018867926,
          189.35185185185185,
          189.25925925925927,
          189.2037037037037,
          189.16666666666666,
          189.14545454545456,
          189.11111111111111,
          189.03773584905662,
          188.58490566037736,
          188.57692307692307,
          188.42307692307693,
          188.32075471698113,
          188.27777777777777,
          188.2391304347826,
          188.20754716981133,
          188.1320754716981,
          188.0943396226415,
          188.03773584905662,
          187.89285714285714,
          187.80851063829786,
          187.63636363636363,
          187.1509433962264,
          187.0625,
          186.90740740740742,
          186.87272727272727,
          186.85185185185185,
          186.75471698113208,
          186.74074074074073,
          186.69811320754718,
          186.3913043478261,
          186.33962264150944,
          186.22641509433961,
          186.11320754716982,
          185.90740740740742,
          185.85185185185185,
          185.7608695652174,
          185.53703703703704,
          185.25,
          185.12962962962962,
          185.09259259259258,
          185,
          184.9056603773585,
          184.89361702127658,
          184.83333333333334,
          184.75925925925927,
          184.66666666666666,
          184.61377870563675,
          184.60377358490567,
          184.30188679245282,
          184.25925925925927,
          183.9814814814815,
          183.9811320754717,
          183.92592592592592,
          183.88888888888889,
          183.71698113207546,
          183.6851851851852,
          183.61111111111111,
          183.44444444444446,
          183.25925925925927,
          183.2,
          183.05555555555554,
          182.96296296296296,
          182.8679245283019,
          182.7962962962963,
          182.77777777777777,
          182.66666666666666,
          182.59259259259258,
          182.5,
          182.4,
          182.1851851851852,
          182.0507399577167,
          181.88888888888889,
          181.75925925925927,
          181.50943396226415,
          181.45283018867926,
          181.03703703703704,
          180.9814814814815,
          180.53703703703704,
          180.43396226415095,
          180.35185185185185,
          180.30188679245282,
          180.26,
          180.09259259259258,
          180,
          179.55555555555554,
          179.37037037037038,
          179.33333333333334,
          178.83333333333334,
          178.18867924528303,
          177.9814814814815,
          177.87272727272727,
          177.77777777777777,
          177.71698113207546,
          177.66666666666666,
          177.40740740740742,
          177.3695198329854,
          177,
          177,
          176.39622641509433,
          175.62962962962962,
          175.5,
          174.94444444444446,
          174.5,
          174.35185185185185,
          173.87037037037038,
          173.16981132075472,
          172.74074074074073,
          172.55555555555554,
          171.53191489361703,
          171.40425531914894,
          170.94444444444446,
          170.07272727272726,
          169,
          168.5,
          154,
          148.5
         ],
         "yaxis": "y"
        }
       ],
       "layout": {
        "barmode": "relative",
        "legend": {
         "tracegroupgap": 0
        },
        "template": {
         "data": {
          "bar": [
           {
            "error_x": {
             "color": "#2a3f5f"
            },
            "error_y": {
             "color": "#2a3f5f"
            },
            "marker": {
             "line": {
              "color": "#E5ECF6",
              "width": 0.5
             },
             "pattern": {
              "fillmode": "overlay",
              "size": 10,
              "solidity": 0.2
             }
            },
            "type": "bar"
           }
          ],
          "barpolar": [
           {
            "marker": {
             "line": {
              "color": "#E5ECF6",
              "width": 0.5
             },
             "pattern": {
              "fillmode": "overlay",
              "size": 10,
              "solidity": 0.2
             }
            },
            "type": "barpolar"
           }
          ],
          "carpet": [
           {
            "aaxis": {
             "endlinecolor": "#2a3f5f",
             "gridcolor": "white",
             "linecolor": "white",
             "minorgridcolor": "white",
             "startlinecolor": "#2a3f5f"
            },
            "baxis": {
             "endlinecolor": "#2a3f5f",
             "gridcolor": "white",
             "linecolor": "white",
             "minorgridcolor": "white",
             "startlinecolor": "#2a3f5f"
            },
            "type": "carpet"
           }
          ],
          "choropleth": [
           {
            "colorbar": {
             "outlinewidth": 0,
             "ticks": ""
            },
            "type": "choropleth"
           }
          ],
          "contour": [
           {
            "colorbar": {
             "outlinewidth": 0,
             "ticks": ""
            },
            "colorscale": [
             [
              0,
              "#0d0887"
             ],
             [
              0.1111111111111111,
              "#46039f"
             ],
             [
              0.2222222222222222,
              "#7201a8"
             ],
             [
              0.3333333333333333,
              "#9c179e"
             ],
             [
              0.4444444444444444,
              "#bd3786"
             ],
             [
              0.5555555555555556,
              "#d8576b"
             ],
             [
              0.6666666666666666,
              "#ed7953"
             ],
             [
              0.7777777777777778,
              "#fb9f3a"
             ],
             [
              0.8888888888888888,
              "#fdca26"
             ],
             [
              1,
              "#f0f921"
             ]
            ],
            "type": "contour"
           }
          ],
          "contourcarpet": [
           {
            "colorbar": {
             "outlinewidth": 0,
             "ticks": ""
            },
            "type": "contourcarpet"
           }
          ],
          "heatmap": [
           {
            "colorbar": {
             "outlinewidth": 0,
             "ticks": ""
            },
            "colorscale": [
             [
              0,
              "#0d0887"
             ],
             [
              0.1111111111111111,
              "#46039f"
             ],
             [
              0.2222222222222222,
              "#7201a8"
             ],
             [
              0.3333333333333333,
              "#9c179e"
             ],
             [
              0.4444444444444444,
              "#bd3786"
             ],
             [
              0.5555555555555556,
              "#d8576b"
             ],
             [
              0.6666666666666666,
              "#ed7953"
             ],
             [
              0.7777777777777778,
              "#fb9f3a"
             ],
             [
              0.8888888888888888,
              "#fdca26"
             ],
             [
              1,
              "#f0f921"
             ]
            ],
            "type": "heatmap"
           }
          ],
          "heatmapgl": [
           {
            "colorbar": {
             "outlinewidth": 0,
             "ticks": ""
            },
            "colorscale": [
             [
              0,
              "#0d0887"
             ],
             [
              0.1111111111111111,
              "#46039f"
             ],
             [
              0.2222222222222222,
              "#7201a8"
             ],
             [
              0.3333333333333333,
              "#9c179e"
             ],
             [
              0.4444444444444444,
              "#bd3786"
             ],
             [
              0.5555555555555556,
              "#d8576b"
             ],
             [
              0.6666666666666666,
              "#ed7953"
             ],
             [
              0.7777777777777778,
              "#fb9f3a"
             ],
             [
              0.8888888888888888,
              "#fdca26"
             ],
             [
              1,
              "#f0f921"
             ]
            ],
            "type": "heatmapgl"
           }
          ],
          "histogram": [
           {
            "marker": {
             "pattern": {
              "fillmode": "overlay",
              "size": 10,
              "solidity": 0.2
             }
            },
            "type": "histogram"
           }
          ],
          "histogram2d": [
           {
            "colorbar": {
             "outlinewidth": 0,
             "ticks": ""
            },
            "colorscale": [
             [
              0,
              "#0d0887"
             ],
             [
              0.1111111111111111,
              "#46039f"
             ],
             [
              0.2222222222222222,
              "#7201a8"
             ],
             [
              0.3333333333333333,
              "#9c179e"
             ],
             [
              0.4444444444444444,
              "#bd3786"
             ],
             [
              0.5555555555555556,
              "#d8576b"
             ],
             [
              0.6666666666666666,
              "#ed7953"
             ],
             [
              0.7777777777777778,
              "#fb9f3a"
             ],
             [
              0.8888888888888888,
              "#fdca26"
             ],
             [
              1,
              "#f0f921"
             ]
            ],
            "type": "histogram2d"
           }
          ],
          "histogram2dcontour": [
           {
            "colorbar": {
             "outlinewidth": 0,
             "ticks": ""
            },
            "colorscale": [
             [
              0,
              "#0d0887"
             ],
             [
              0.1111111111111111,
              "#46039f"
             ],
             [
              0.2222222222222222,
              "#7201a8"
             ],
             [
              0.3333333333333333,
              "#9c179e"
             ],
             [
              0.4444444444444444,
              "#bd3786"
             ],
             [
              0.5555555555555556,
              "#d8576b"
             ],
             [
              0.6666666666666666,
              "#ed7953"
             ],
             [
              0.7777777777777778,
              "#fb9f3a"
             ],
             [
              0.8888888888888888,
              "#fdca26"
             ],
             [
              1,
              "#f0f921"
             ]
            ],
            "type": "histogram2dcontour"
           }
          ],
          "mesh3d": [
           {
            "colorbar": {
             "outlinewidth": 0,
             "ticks": ""
            },
            "type": "mesh3d"
           }
          ],
          "parcoords": [
           {
            "line": {
             "colorbar": {
              "outlinewidth": 0,
              "ticks": ""
             }
            },
            "type": "parcoords"
           }
          ],
          "pie": [
           {
            "automargin": true,
            "type": "pie"
           }
          ],
          "scatter": [
           {
            "fillpattern": {
             "fillmode": "overlay",
             "size": 10,
             "solidity": 0.2
            },
            "type": "scatter"
           }
          ],
          "scatter3d": [
           {
            "line": {
             "colorbar": {
              "outlinewidth": 0,
              "ticks": ""
             }
            },
            "marker": {
             "colorbar": {
              "outlinewidth": 0,
              "ticks": ""
             }
            },
            "type": "scatter3d"
           }
          ],
          "scattercarpet": [
           {
            "marker": {
             "colorbar": {
              "outlinewidth": 0,
              "ticks": ""
             }
            },
            "type": "scattercarpet"
           }
          ],
          "scattergeo": [
           {
            "marker": {
             "colorbar": {
              "outlinewidth": 0,
              "ticks": ""
             }
            },
            "type": "scattergeo"
           }
          ],
          "scattergl": [
           {
            "marker": {
             "colorbar": {
              "outlinewidth": 0,
              "ticks": ""
             }
            },
            "type": "scattergl"
           }
          ],
          "scattermapbox": [
           {
            "marker": {
             "colorbar": {
              "outlinewidth": 0,
              "ticks": ""
             }
            },
            "type": "scattermapbox"
           }
          ],
          "scatterpolar": [
           {
            "marker": {
             "colorbar": {
              "outlinewidth": 0,
              "ticks": ""
             }
            },
            "type": "scatterpolar"
           }
          ],
          "scatterpolargl": [
           {
            "marker": {
             "colorbar": {
              "outlinewidth": 0,
              "ticks": ""
             }
            },
            "type": "scatterpolargl"
           }
          ],
          "scatterternary": [
           {
            "marker": {
             "colorbar": {
              "outlinewidth": 0,
              "ticks": ""
             }
            },
            "type": "scatterternary"
           }
          ],
          "surface": [
           {
            "colorbar": {
             "outlinewidth": 0,
             "ticks": ""
            },
            "colorscale": [
             [
              0,
              "#0d0887"
             ],
             [
              0.1111111111111111,
              "#46039f"
             ],
             [
              0.2222222222222222,
              "#7201a8"
             ],
             [
              0.3333333333333333,
              "#9c179e"
             ],
             [
              0.4444444444444444,
              "#bd3786"
             ],
             [
              0.5555555555555556,
              "#d8576b"
             ],
             [
              0.6666666666666666,
              "#ed7953"
             ],
             [
              0.7777777777777778,
              "#fb9f3a"
             ],
             [
              0.8888888888888888,
              "#fdca26"
             ],
             [
              1,
              "#f0f921"
             ]
            ],
            "type": "surface"
           }
          ],
          "table": [
           {
            "cells": {
             "fill": {
              "color": "#EBF0F8"
             },
             "line": {
              "color": "white"
             }
            },
            "header": {
             "fill": {
              "color": "#C8D4E3"
             },
             "line": {
              "color": "white"
             }
            },
            "type": "table"
           }
          ]
         },
         "layout": {
          "annotationdefaults": {
           "arrowcolor": "#2a3f5f",
           "arrowhead": 0,
           "arrowwidth": 1
          },
          "autotypenumbers": "strict",
          "coloraxis": {
           "colorbar": {
            "outlinewidth": 0,
            "ticks": ""
           }
          },
          "colorscale": {
           "diverging": [
            [
             0,
             "#8e0152"
            ],
            [
             0.1,
             "#c51b7d"
            ],
            [
             0.2,
             "#de77ae"
            ],
            [
             0.3,
             "#f1b6da"
            ],
            [
             0.4,
             "#fde0ef"
            ],
            [
             0.5,
             "#f7f7f7"
            ],
            [
             0.6,
             "#e6f5d0"
            ],
            [
             0.7,
             "#b8e186"
            ],
            [
             0.8,
             "#7fbc41"
            ],
            [
             0.9,
             "#4d9221"
            ],
            [
             1,
             "#276419"
            ]
           ],
           "sequential": [
            [
             0,
             "#0d0887"
            ],
            [
             0.1111111111111111,
             "#46039f"
            ],
            [
             0.2222222222222222,
             "#7201a8"
            ],
            [
             0.3333333333333333,
             "#9c179e"
            ],
            [
             0.4444444444444444,
             "#bd3786"
            ],
            [
             0.5555555555555556,
             "#d8576b"
            ],
            [
             0.6666666666666666,
             "#ed7953"
            ],
            [
             0.7777777777777778,
             "#fb9f3a"
            ],
            [
             0.8888888888888888,
             "#fdca26"
            ],
            [
             1,
             "#f0f921"
            ]
           ],
           "sequentialminus": [
            [
             0,
             "#0d0887"
            ],
            [
             0.1111111111111111,
             "#46039f"
            ],
            [
             0.2222222222222222,
             "#7201a8"
            ],
            [
             0.3333333333333333,
             "#9c179e"
            ],
            [
             0.4444444444444444,
             "#bd3786"
            ],
            [
             0.5555555555555556,
             "#d8576b"
            ],
            [
             0.6666666666666666,
             "#ed7953"
            ],
            [
             0.7777777777777778,
             "#fb9f3a"
            ],
            [
             0.8888888888888888,
             "#fdca26"
            ],
            [
             1,
             "#f0f921"
            ]
           ]
          },
          "colorway": [
           "#636efa",
           "#EF553B",
           "#00cc96",
           "#ab63fa",
           "#FFA15A",
           "#19d3f3",
           "#FF6692",
           "#B6E880",
           "#FF97FF",
           "#FECB52"
          ],
          "font": {
           "color": "#2a3f5f"
          },
          "geo": {
           "bgcolor": "white",
           "lakecolor": "white",
           "landcolor": "#E5ECF6",
           "showlakes": true,
           "showland": true,
           "subunitcolor": "white"
          },
          "hoverlabel": {
           "align": "left"
          },
          "hovermode": "closest",
          "mapbox": {
           "style": "light"
          },
          "paper_bgcolor": "white",
          "plot_bgcolor": "#E5ECF6",
          "polar": {
           "angularaxis": {
            "gridcolor": "white",
            "linecolor": "white",
            "ticks": ""
           },
           "bgcolor": "#E5ECF6",
           "radialaxis": {
            "gridcolor": "white",
            "linecolor": "white",
            "ticks": ""
           }
          },
          "scene": {
           "xaxis": {
            "backgroundcolor": "#E5ECF6",
            "gridcolor": "white",
            "gridwidth": 2,
            "linecolor": "white",
            "showbackground": true,
            "ticks": "",
            "zerolinecolor": "white"
           },
           "yaxis": {
            "backgroundcolor": "#E5ECF6",
            "gridcolor": "white",
            "gridwidth": 2,
            "linecolor": "white",
            "showbackground": true,
            "ticks": "",
            "zerolinecolor": "white"
           },
           "zaxis": {
            "backgroundcolor": "#E5ECF6",
            "gridcolor": "white",
            "gridwidth": 2,
            "linecolor": "white",
            "showbackground": true,
            "ticks": "",
            "zerolinecolor": "white"
           }
          },
          "shapedefaults": {
           "line": {
            "color": "#2a3f5f"
           }
          },
          "ternary": {
           "aaxis": {
            "gridcolor": "white",
            "linecolor": "white",
            "ticks": ""
           },
           "baxis": {
            "gridcolor": "white",
            "linecolor": "white",
            "ticks": ""
           },
           "bgcolor": "#E5ECF6",
           "caxis": {
            "gridcolor": "white",
            "linecolor": "white",
            "ticks": ""
           }
          },
          "title": {
           "x": 0.05
          },
          "xaxis": {
           "automargin": true,
           "gridcolor": "white",
           "linecolor": "white",
           "ticks": "",
           "title": {
            "standoff": 15
           },
           "zerolinecolor": "white",
           "zerolinewidth": 2
          },
          "yaxis": {
           "automargin": true,
           "gridcolor": "white",
           "linecolor": "white",
           "ticks": "",
           "title": {
            "standoff": 15
           },
           "zerolinecolor": "white",
           "zerolinewidth": 2
          }
         }
        },
        "title": {
         "text": "Nombre de Mots par Minute par Épisode"
        },
        "xaxis": {
         "anchor": "y",
         "domain": [
          0,
          1
         ],
         "title": {
          "text": "date_formatted"
         }
        },
        "yaxis": {
         "anchor": "x",
         "domain": [
          0,
          1
         ],
         "title": {
          "text": "Mots par Minute"
         }
        }
       }
      }
     },
     "metadata": {},
     "output_type": "display_data"
    }
   ],
   "source": [
    "episodes_df = get_episodes()\n",
    "\n",
    "nb_mots_transcription(episodes_df)"
   ]
  },
  {
   "cell_type": "code",
   "execution_count": null,
   "metadata": {},
   "outputs": [],
   "source": []
  }
 ],
 "metadata": {
  "kernelspec": {
   "display_name": "python3",
   "language": "python",
   "name": "python3"
  }
 },
 "nbformat": 4,
 "nbformat_minor": 2
}
